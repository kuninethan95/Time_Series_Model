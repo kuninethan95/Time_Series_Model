{
 "cells": [
  {
   "cell_type": "markdown",
   "metadata": {},
   "source": [
    "# Mod 4 Project - Starter Notebook\n",
    "\n",
    "This notebook has been provided to you so that you can make use of the following starter code to help with the trickier parts of preprocessing the Zillow dataset. \n",
    "\n",
    "The notebook contains a rough outline the general order you'll likely want to take in this project. You'll notice that most of the areas are left blank. This is so that it's more obvious exactly when you should make use of the starter code provided for preprocessing. \n",
    "\n",
    "**_NOTE:_** The number of empty cells are not meant to infer how much or how little code should be involved in any given step--we've just provided a few for your convenience. Add, delete, and change things around in this notebook as needed!\n",
    "\n",
    "# Some Notes Before Starting\n",
    "\n",
    "This project will be one of the more challenging projects you complete in this program. This is because working with Time Series data is a bit different than working with regular datasets. In order to make this a bit less frustrating and help you understand what you need to do (and when you need to do it), we'll quickly review the dataset formats that you'll encounter in this project. \n",
    "\n",
    "## Wide Format vs Long Format\n",
    "\n",
    "If you take a look at the format of the data in `zillow_data.csv`, you'll notice that the actual Time Series values are stored as separate columns. Here's a sample: \n",
    "\n",
    "<img src='https://raw.githubusercontent.com/learn-co-students/dsc-mod-4-project-seattle-ds-102819/master/images/df_head.png'>\n",
    "\n",
    "You'll notice that the first seven columns look like any other dataset you're used to working with. However, column 8 refers to the median housing sales values for April 1996, column 9 for May 1996, and so on. This This is called **_Wide Format_**, and it makes the dataframe intuitive and easy to read. However, there are problems with this format when it comes to actually learning from the data, because the data only makes sense if you know the name of the column that the data can be found it. Since column names are metadata, our algorithms will miss out on what dates each value is for. This means that before we pass this data to our ARIMA model, we'll need to reshape our dataset to **_Long Format_**. Reshaped into long format, the dataframe above would now look like:\n",
    "\n",
    "<img src='https://raw.githubusercontent.com/learn-co-students/dsc-mod-4-project-seattle-ds-102819/master/images/melted1.png'>\n",
    "\n",
    "There are now many more rows in this dataset--one for each unique time and zipcode combination in the data! Once our dataset is in this format, we'll be able to train an ARIMA model on it. The method used to convert from Wide to Long is `pd.melt()`, and it is common to refer to our dataset as 'melted' after the transition to denote that it is in long format. \n",
    "\n",
    "# Helper Functions Provided\n",
    "\n",
    "Melting a dataset can be tricky if you've never done it before, so you'll see that we have provided a sample function, `melt_data()`, to help you with this step below. Also provided is:\n",
    "\n",
    "* `get_datetimes()`, a function to deal with converting the column values for datetimes as a pandas series of datetime objects\n",
    "* Some good parameters for matplotlib to help make your visualizations more readable. \n",
    "\n",
    "Good luck!\n",
    "\n",
    "\n",
    "# Step 1: Load the Data/Filtering for Chosen Zipcodes"
   ]
  },
  {
   "cell_type": "code",
   "execution_count": 1,
   "metadata": {
    "ExecuteTime": {
     "end_time": "2021-06-12T23:43:32.009489Z",
     "start_time": "2021-06-12T23:43:28.061130Z"
    }
   },
   "outputs": [],
   "source": [
    "import pandas as pd\n",
    "import numpy as np"
   ]
  },
  {
   "cell_type": "code",
   "execution_count": 2,
   "metadata": {
    "ExecuteTime": {
     "end_time": "2021-06-12T23:43:32.337256Z",
     "start_time": "2021-06-12T23:43:32.010640Z"
    }
   },
   "outputs": [],
   "source": [
    "df = pd.read_csv('zillow_data.csv')"
   ]
  },
  {
   "cell_type": "code",
   "execution_count": 3,
   "metadata": {
    "ExecuteTime": {
     "end_time": "2021-06-12T23:43:32.368409Z",
     "start_time": "2021-06-12T23:43:32.340256Z"
    }
   },
   "outputs": [
    {
     "data": {
      "text/html": [
       "<div>\n",
       "<style scoped>\n",
       "    .dataframe tbody tr th:only-of-type {\n",
       "        vertical-align: middle;\n",
       "    }\n",
       "\n",
       "    .dataframe tbody tr th {\n",
       "        vertical-align: top;\n",
       "    }\n",
       "\n",
       "    .dataframe thead th {\n",
       "        text-align: right;\n",
       "    }\n",
       "</style>\n",
       "<table border=\"1\" class=\"dataframe\">\n",
       "  <thead>\n",
       "    <tr style=\"text-align: right;\">\n",
       "      <th></th>\n",
       "      <th>RegionID</th>\n",
       "      <th>RegionName</th>\n",
       "      <th>City</th>\n",
       "      <th>State</th>\n",
       "      <th>Metro</th>\n",
       "      <th>CountyName</th>\n",
       "      <th>SizeRank</th>\n",
       "      <th>1996-04</th>\n",
       "      <th>1996-05</th>\n",
       "      <th>1996-06</th>\n",
       "      <th>...</th>\n",
       "      <th>2017-07</th>\n",
       "      <th>2017-08</th>\n",
       "      <th>2017-09</th>\n",
       "      <th>2017-10</th>\n",
       "      <th>2017-11</th>\n",
       "      <th>2017-12</th>\n",
       "      <th>2018-01</th>\n",
       "      <th>2018-02</th>\n",
       "      <th>2018-03</th>\n",
       "      <th>2018-04</th>\n",
       "    </tr>\n",
       "  </thead>\n",
       "  <tbody>\n",
       "    <tr>\n",
       "      <th>0</th>\n",
       "      <td>84654</td>\n",
       "      <td>60657</td>\n",
       "      <td>Chicago</td>\n",
       "      <td>IL</td>\n",
       "      <td>Chicago</td>\n",
       "      <td>Cook</td>\n",
       "      <td>1</td>\n",
       "      <td>334200.0</td>\n",
       "      <td>335400.0</td>\n",
       "      <td>336500.0</td>\n",
       "      <td>...</td>\n",
       "      <td>1005500</td>\n",
       "      <td>1007500</td>\n",
       "      <td>1007800</td>\n",
       "      <td>1009600</td>\n",
       "      <td>1013300</td>\n",
       "      <td>1018700</td>\n",
       "      <td>1024400</td>\n",
       "      <td>1030700</td>\n",
       "      <td>1033800</td>\n",
       "      <td>1030600</td>\n",
       "    </tr>\n",
       "    <tr>\n",
       "      <th>1</th>\n",
       "      <td>90668</td>\n",
       "      <td>75070</td>\n",
       "      <td>McKinney</td>\n",
       "      <td>TX</td>\n",
       "      <td>Dallas-Fort Worth</td>\n",
       "      <td>Collin</td>\n",
       "      <td>2</td>\n",
       "      <td>235700.0</td>\n",
       "      <td>236900.0</td>\n",
       "      <td>236700.0</td>\n",
       "      <td>...</td>\n",
       "      <td>308000</td>\n",
       "      <td>310000</td>\n",
       "      <td>312500</td>\n",
       "      <td>314100</td>\n",
       "      <td>315000</td>\n",
       "      <td>316600</td>\n",
       "      <td>318100</td>\n",
       "      <td>319600</td>\n",
       "      <td>321100</td>\n",
       "      <td>321800</td>\n",
       "    </tr>\n",
       "    <tr>\n",
       "      <th>2</th>\n",
       "      <td>91982</td>\n",
       "      <td>77494</td>\n",
       "      <td>Katy</td>\n",
       "      <td>TX</td>\n",
       "      <td>Houston</td>\n",
       "      <td>Harris</td>\n",
       "      <td>3</td>\n",
       "      <td>210400.0</td>\n",
       "      <td>212200.0</td>\n",
       "      <td>212200.0</td>\n",
       "      <td>...</td>\n",
       "      <td>321000</td>\n",
       "      <td>320600</td>\n",
       "      <td>320200</td>\n",
       "      <td>320400</td>\n",
       "      <td>320800</td>\n",
       "      <td>321200</td>\n",
       "      <td>321200</td>\n",
       "      <td>323000</td>\n",
       "      <td>326900</td>\n",
       "      <td>329900</td>\n",
       "    </tr>\n",
       "    <tr>\n",
       "      <th>3</th>\n",
       "      <td>84616</td>\n",
       "      <td>60614</td>\n",
       "      <td>Chicago</td>\n",
       "      <td>IL</td>\n",
       "      <td>Chicago</td>\n",
       "      <td>Cook</td>\n",
       "      <td>4</td>\n",
       "      <td>498100.0</td>\n",
       "      <td>500900.0</td>\n",
       "      <td>503100.0</td>\n",
       "      <td>...</td>\n",
       "      <td>1289800</td>\n",
       "      <td>1287700</td>\n",
       "      <td>1287400</td>\n",
       "      <td>1291500</td>\n",
       "      <td>1296600</td>\n",
       "      <td>1299000</td>\n",
       "      <td>1302700</td>\n",
       "      <td>1306400</td>\n",
       "      <td>1308500</td>\n",
       "      <td>1307000</td>\n",
       "    </tr>\n",
       "    <tr>\n",
       "      <th>4</th>\n",
       "      <td>93144</td>\n",
       "      <td>79936</td>\n",
       "      <td>El Paso</td>\n",
       "      <td>TX</td>\n",
       "      <td>El Paso</td>\n",
       "      <td>El Paso</td>\n",
       "      <td>5</td>\n",
       "      <td>77300.0</td>\n",
       "      <td>77300.0</td>\n",
       "      <td>77300.0</td>\n",
       "      <td>...</td>\n",
       "      <td>119100</td>\n",
       "      <td>119400</td>\n",
       "      <td>120000</td>\n",
       "      <td>120300</td>\n",
       "      <td>120300</td>\n",
       "      <td>120300</td>\n",
       "      <td>120300</td>\n",
       "      <td>120500</td>\n",
       "      <td>121000</td>\n",
       "      <td>121500</td>\n",
       "    </tr>\n",
       "    <tr>\n",
       "      <th>...</th>\n",
       "      <td>...</td>\n",
       "      <td>...</td>\n",
       "      <td>...</td>\n",
       "      <td>...</td>\n",
       "      <td>...</td>\n",
       "      <td>...</td>\n",
       "      <td>...</td>\n",
       "      <td>...</td>\n",
       "      <td>...</td>\n",
       "      <td>...</td>\n",
       "      <td>...</td>\n",
       "      <td>...</td>\n",
       "      <td>...</td>\n",
       "      <td>...</td>\n",
       "      <td>...</td>\n",
       "      <td>...</td>\n",
       "      <td>...</td>\n",
       "      <td>...</td>\n",
       "      <td>...</td>\n",
       "      <td>...</td>\n",
       "      <td>...</td>\n",
       "    </tr>\n",
       "    <tr>\n",
       "      <th>14718</th>\n",
       "      <td>58333</td>\n",
       "      <td>1338</td>\n",
       "      <td>Ashfield</td>\n",
       "      <td>MA</td>\n",
       "      <td>Greenfield Town</td>\n",
       "      <td>Franklin</td>\n",
       "      <td>14719</td>\n",
       "      <td>94600.0</td>\n",
       "      <td>94300.0</td>\n",
       "      <td>94000.0</td>\n",
       "      <td>...</td>\n",
       "      <td>216800</td>\n",
       "      <td>217700</td>\n",
       "      <td>218600</td>\n",
       "      <td>218500</td>\n",
       "      <td>218100</td>\n",
       "      <td>216400</td>\n",
       "      <td>213100</td>\n",
       "      <td>209800</td>\n",
       "      <td>209200</td>\n",
       "      <td>209300</td>\n",
       "    </tr>\n",
       "    <tr>\n",
       "      <th>14719</th>\n",
       "      <td>59107</td>\n",
       "      <td>3293</td>\n",
       "      <td>Woodstock</td>\n",
       "      <td>NH</td>\n",
       "      <td>Claremont</td>\n",
       "      <td>Grafton</td>\n",
       "      <td>14720</td>\n",
       "      <td>92700.0</td>\n",
       "      <td>92500.0</td>\n",
       "      <td>92400.0</td>\n",
       "      <td>...</td>\n",
       "      <td>202100</td>\n",
       "      <td>208400</td>\n",
       "      <td>212200</td>\n",
       "      <td>215200</td>\n",
       "      <td>214300</td>\n",
       "      <td>213100</td>\n",
       "      <td>213700</td>\n",
       "      <td>218300</td>\n",
       "      <td>222700</td>\n",
       "      <td>225800</td>\n",
       "    </tr>\n",
       "    <tr>\n",
       "      <th>14720</th>\n",
       "      <td>75672</td>\n",
       "      <td>40404</td>\n",
       "      <td>Berea</td>\n",
       "      <td>KY</td>\n",
       "      <td>Richmond</td>\n",
       "      <td>Madison</td>\n",
       "      <td>14721</td>\n",
       "      <td>57100.0</td>\n",
       "      <td>57300.0</td>\n",
       "      <td>57500.0</td>\n",
       "      <td>...</td>\n",
       "      <td>121800</td>\n",
       "      <td>122800</td>\n",
       "      <td>124600</td>\n",
       "      <td>126700</td>\n",
       "      <td>128800</td>\n",
       "      <td>130600</td>\n",
       "      <td>131700</td>\n",
       "      <td>132500</td>\n",
       "      <td>133000</td>\n",
       "      <td>133400</td>\n",
       "    </tr>\n",
       "    <tr>\n",
       "      <th>14721</th>\n",
       "      <td>93733</td>\n",
       "      <td>81225</td>\n",
       "      <td>Mount Crested Butte</td>\n",
       "      <td>CO</td>\n",
       "      <td>NaN</td>\n",
       "      <td>Gunnison</td>\n",
       "      <td>14722</td>\n",
       "      <td>191100.0</td>\n",
       "      <td>192400.0</td>\n",
       "      <td>193700.0</td>\n",
       "      <td>...</td>\n",
       "      <td>662800</td>\n",
       "      <td>671200</td>\n",
       "      <td>682400</td>\n",
       "      <td>695600</td>\n",
       "      <td>695500</td>\n",
       "      <td>694700</td>\n",
       "      <td>706400</td>\n",
       "      <td>705300</td>\n",
       "      <td>681500</td>\n",
       "      <td>664400</td>\n",
       "    </tr>\n",
       "    <tr>\n",
       "      <th>14722</th>\n",
       "      <td>95851</td>\n",
       "      <td>89155</td>\n",
       "      <td>Mesquite</td>\n",
       "      <td>NV</td>\n",
       "      <td>Las Vegas</td>\n",
       "      <td>Clark</td>\n",
       "      <td>14723</td>\n",
       "      <td>176400.0</td>\n",
       "      <td>176300.0</td>\n",
       "      <td>176100.0</td>\n",
       "      <td>...</td>\n",
       "      <td>333800</td>\n",
       "      <td>336400</td>\n",
       "      <td>339700</td>\n",
       "      <td>343800</td>\n",
       "      <td>346800</td>\n",
       "      <td>348900</td>\n",
       "      <td>350400</td>\n",
       "      <td>353000</td>\n",
       "      <td>356000</td>\n",
       "      <td>357200</td>\n",
       "    </tr>\n",
       "  </tbody>\n",
       "</table>\n",
       "<p>14723 rows × 272 columns</p>\n",
       "</div>"
      ],
      "text/plain": [
       "       RegionID  RegionName                 City State              Metro  \\\n",
       "0         84654       60657              Chicago    IL            Chicago   \n",
       "1         90668       75070             McKinney    TX  Dallas-Fort Worth   \n",
       "2         91982       77494                 Katy    TX            Houston   \n",
       "3         84616       60614              Chicago    IL            Chicago   \n",
       "4         93144       79936              El Paso    TX            El Paso   \n",
       "...         ...         ...                  ...   ...                ...   \n",
       "14718     58333        1338             Ashfield    MA    Greenfield Town   \n",
       "14719     59107        3293            Woodstock    NH          Claremont   \n",
       "14720     75672       40404                Berea    KY           Richmond   \n",
       "14721     93733       81225  Mount Crested Butte    CO                NaN   \n",
       "14722     95851       89155             Mesquite    NV          Las Vegas   \n",
       "\n",
       "      CountyName  SizeRank   1996-04   1996-05   1996-06  ...  2017-07  \\\n",
       "0           Cook         1  334200.0  335400.0  336500.0  ...  1005500   \n",
       "1         Collin         2  235700.0  236900.0  236700.0  ...   308000   \n",
       "2         Harris         3  210400.0  212200.0  212200.0  ...   321000   \n",
       "3           Cook         4  498100.0  500900.0  503100.0  ...  1289800   \n",
       "4        El Paso         5   77300.0   77300.0   77300.0  ...   119100   \n",
       "...          ...       ...       ...       ...       ...  ...      ...   \n",
       "14718   Franklin     14719   94600.0   94300.0   94000.0  ...   216800   \n",
       "14719    Grafton     14720   92700.0   92500.0   92400.0  ...   202100   \n",
       "14720    Madison     14721   57100.0   57300.0   57500.0  ...   121800   \n",
       "14721   Gunnison     14722  191100.0  192400.0  193700.0  ...   662800   \n",
       "14722      Clark     14723  176400.0  176300.0  176100.0  ...   333800   \n",
       "\n",
       "       2017-08  2017-09  2017-10  2017-11  2017-12  2018-01  2018-02  2018-03  \\\n",
       "0      1007500  1007800  1009600  1013300  1018700  1024400  1030700  1033800   \n",
       "1       310000   312500   314100   315000   316600   318100   319600   321100   \n",
       "2       320600   320200   320400   320800   321200   321200   323000   326900   \n",
       "3      1287700  1287400  1291500  1296600  1299000  1302700  1306400  1308500   \n",
       "4       119400   120000   120300   120300   120300   120300   120500   121000   \n",
       "...        ...      ...      ...      ...      ...      ...      ...      ...   \n",
       "14718   217700   218600   218500   218100   216400   213100   209800   209200   \n",
       "14719   208400   212200   215200   214300   213100   213700   218300   222700   \n",
       "14720   122800   124600   126700   128800   130600   131700   132500   133000   \n",
       "14721   671200   682400   695600   695500   694700   706400   705300   681500   \n",
       "14722   336400   339700   343800   346800   348900   350400   353000   356000   \n",
       "\n",
       "       2018-04  \n",
       "0      1030600  \n",
       "1       321800  \n",
       "2       329900  \n",
       "3      1307000  \n",
       "4       121500  \n",
       "...        ...  \n",
       "14718   209300  \n",
       "14719   225800  \n",
       "14720   133400  \n",
       "14721   664400  \n",
       "14722   357200  \n",
       "\n",
       "[14723 rows x 272 columns]"
      ]
     },
     "execution_count": 3,
     "metadata": {},
     "output_type": "execute_result"
    }
   ],
   "source": [
    "df"
   ]
  },
  {
   "cell_type": "markdown",
   "metadata": {},
   "source": [
    "# Step 2: Data Preprocessing"
   ]
  },
  {
   "cell_type": "code",
   "execution_count": 4,
   "metadata": {
    "ExecuteTime": {
     "end_time": "2021-06-12T23:43:32.371024Z",
     "start_time": "2021-06-12T23:43:32.369289Z"
    }
   },
   "outputs": [],
   "source": [
    "def get_datetimes(df):\n",
    "    return pd.to_datetime(df.columns.values[1:], format='%Y-%m')"
   ]
  },
  {
   "cell_type": "code",
   "execution_count": 5,
   "metadata": {
    "ExecuteTime": {
     "end_time": "2021-06-12T23:43:32.374039Z",
     "start_time": "2021-06-12T23:43:32.371874Z"
    }
   },
   "outputs": [],
   "source": [
    "def melt_data(df):\n",
    "    melted = pd.melt(df, id_vars=['RegionName', 'City', 'State', 'Metro', 'CountyName'], var_name='time')\n",
    "    melted['time'] = pd.to_datetime(melted['time'], infer_datetime_format=True)\n",
    "    melted = melted.dropna(subset=['value'])\n",
    "    return melted#melted.groupby('time').aggregate({'value':'mean'})"
   ]
  },
  {
   "cell_type": "code",
   "execution_count": 6,
   "metadata": {
    "ExecuteTime": {
     "end_time": "2021-06-12T23:43:32.393642Z",
     "start_time": "2021-06-12T23:43:32.374887Z"
    }
   },
   "outputs": [],
   "source": [
    "df.drop(columns=['RegionID','SizeRank'], axis=1, inplace=True)"
   ]
  },
  {
   "cell_type": "code",
   "execution_count": 7,
   "metadata": {
    "ExecuteTime": {
     "end_time": "2021-06-12T23:43:33.628782Z",
     "start_time": "2021-06-12T23:43:32.396400Z"
    }
   },
   "outputs": [],
   "source": [
    "df_melted = melt_data(df)"
   ]
  },
  {
   "cell_type": "code",
   "execution_count": 8,
   "metadata": {
    "ExecuteTime": {
     "end_time": "2021-06-12T23:43:33.853589Z",
     "start_time": "2021-06-12T23:43:33.630640Z"
    }
   },
   "outputs": [],
   "source": [
    "df_texas = df_melted[df_melted['State']=='TX']"
   ]
  },
  {
   "cell_type": "code",
   "execution_count": 9,
   "metadata": {
    "ExecuteTime": {
     "end_time": "2021-06-12T23:43:33.857088Z",
     "start_time": "2021-06-12T23:43:33.854698Z"
    }
   },
   "outputs": [],
   "source": [
    "df_texas.set_index('time', inplace=True)"
   ]
  },
  {
   "cell_type": "code",
   "execution_count": 10,
   "metadata": {
    "ExecuteTime": {
     "end_time": "2021-06-12T23:43:33.870436Z",
     "start_time": "2021-06-12T23:43:33.858056Z"
    }
   },
   "outputs": [],
   "source": [
    "df_texas.index = pd.to_datetime(df_texas.index)"
   ]
  },
  {
   "cell_type": "markdown",
   "metadata": {},
   "source": [
    "## Organize Travis County"
   ]
  },
  {
   "cell_type": "code",
   "execution_count": 11,
   "metadata": {
    "ExecuteTime": {
     "end_time": "2021-06-12T23:43:33.890840Z",
     "start_time": "2021-06-12T23:43:33.871373Z"
    }
   },
   "outputs": [],
   "source": [
    "df_harris = df_texas[df_texas['CountyName']=='Harris'].copy()"
   ]
  },
  {
   "cell_type": "code",
   "execution_count": 12,
   "metadata": {
    "ExecuteTime": {
     "end_time": "2021-06-12T23:43:33.894969Z",
     "start_time": "2021-06-12T23:43:33.891886Z"
    }
   },
   "outputs": [
    {
     "data": {
      "text/plain": [
       "121"
      ]
     },
     "execution_count": 12,
     "metadata": {},
     "output_type": "execute_result"
    }
   ],
   "source": [
    "df_harris['RegionName'].nunique()"
   ]
  },
  {
   "cell_type": "code",
   "execution_count": 13,
   "metadata": {
    "ExecuteTime": {
     "end_time": "2021-06-12T23:43:33.898849Z",
     "start_time": "2021-06-12T23:43:33.896778Z"
    }
   },
   "outputs": [],
   "source": [
    "## Figure out how to make a dataframe that shows each RegionName 2/5/10 yr growth pct changes and then\n",
    "## narrow it down. Narrow it down based on top short/mid/long term prospects and recovery speed/std/interest rate\n",
    "## correlation"
   ]
  },
  {
   "cell_type": "code",
   "execution_count": 14,
   "metadata": {
    "ExecuteTime": {
     "end_time": "2021-06-12T23:43:33.902599Z",
     "start_time": "2021-06-12T23:43:33.899913Z"
    }
   },
   "outputs": [],
   "source": [
    "df_harris.drop(columns=['City', 'State', 'Metro', 'CountyName'], axis=1, inplace=True)"
   ]
  },
  {
   "cell_type": "code",
   "execution_count": 15,
   "metadata": {
    "ExecuteTime": {
     "end_time": "2021-06-12T23:43:33.909541Z",
     "start_time": "2021-06-12T23:43:33.903532Z"
    }
   },
   "outputs": [
    {
     "data": {
      "text/html": [
       "<div>\n",
       "<style scoped>\n",
       "    .dataframe tbody tr th:only-of-type {\n",
       "        vertical-align: middle;\n",
       "    }\n",
       "\n",
       "    .dataframe tbody tr th {\n",
       "        vertical-align: top;\n",
       "    }\n",
       "\n",
       "    .dataframe thead th {\n",
       "        text-align: right;\n",
       "    }\n",
       "</style>\n",
       "<table border=\"1\" class=\"dataframe\">\n",
       "  <thead>\n",
       "    <tr style=\"text-align: right;\">\n",
       "      <th></th>\n",
       "      <th>RegionName</th>\n",
       "      <th>value</th>\n",
       "    </tr>\n",
       "    <tr>\n",
       "      <th>time</th>\n",
       "      <th></th>\n",
       "      <th></th>\n",
       "    </tr>\n",
       "  </thead>\n",
       "  <tbody>\n",
       "    <tr>\n",
       "      <th>1996-04-01</th>\n",
       "      <td>77494</td>\n",
       "      <td>210400.0</td>\n",
       "    </tr>\n",
       "    <tr>\n",
       "      <th>1996-04-01</th>\n",
       "      <td>77084</td>\n",
       "      <td>95000.0</td>\n",
       "    </tr>\n",
       "    <tr>\n",
       "      <th>1996-04-01</th>\n",
       "      <td>77449</td>\n",
       "      <td>95400.0</td>\n",
       "    </tr>\n",
       "    <tr>\n",
       "      <th>1996-04-01</th>\n",
       "      <td>77429</td>\n",
       "      <td>149600.0</td>\n",
       "    </tr>\n",
       "    <tr>\n",
       "      <th>1996-04-01</th>\n",
       "      <td>77036</td>\n",
       "      <td>120400.0</td>\n",
       "    </tr>\n",
       "    <tr>\n",
       "      <th>...</th>\n",
       "      <td>...</td>\n",
       "      <td>...</td>\n",
       "    </tr>\n",
       "    <tr>\n",
       "      <th>2018-04-01</th>\n",
       "      <td>77562</td>\n",
       "      <td>148400.0</td>\n",
       "    </tr>\n",
       "    <tr>\n",
       "      <th>2018-04-01</th>\n",
       "      <td>77032</td>\n",
       "      <td>119200.0</td>\n",
       "    </tr>\n",
       "    <tr>\n",
       "      <th>2018-04-01</th>\n",
       "      <td>77094</td>\n",
       "      <td>373900.0</td>\n",
       "    </tr>\n",
       "    <tr>\n",
       "      <th>2018-04-01</th>\n",
       "      <td>77547</td>\n",
       "      <td>83300.0</td>\n",
       "    </tr>\n",
       "    <tr>\n",
       "      <th>2018-04-01</th>\n",
       "      <td>77050</td>\n",
       "      <td>115200.0</td>\n",
       "    </tr>\n",
       "  </tbody>\n",
       "</table>\n",
       "<p>32065 rows × 2 columns</p>\n",
       "</div>"
      ],
      "text/plain": [
       "            RegionName     value\n",
       "time                            \n",
       "1996-04-01       77494  210400.0\n",
       "1996-04-01       77084   95000.0\n",
       "1996-04-01       77449   95400.0\n",
       "1996-04-01       77429  149600.0\n",
       "1996-04-01       77036  120400.0\n",
       "...                ...       ...\n",
       "2018-04-01       77562  148400.0\n",
       "2018-04-01       77032  119200.0\n",
       "2018-04-01       77094  373900.0\n",
       "2018-04-01       77547   83300.0\n",
       "2018-04-01       77050  115200.0\n",
       "\n",
       "[32065 rows x 2 columns]"
      ]
     },
     "execution_count": 15,
     "metadata": {},
     "output_type": "execute_result"
    }
   ],
   "source": [
    "df_harris"
   ]
  },
  {
   "cell_type": "code",
   "execution_count": 16,
   "metadata": {
    "ExecuteTime": {
     "end_time": "2021-06-12T23:43:33.913374Z",
     "start_time": "2021-06-12T23:43:33.910480Z"
    }
   },
   "outputs": [],
   "source": [
    "harris_zips=list(df_harris['RegionName'].unique())"
   ]
  },
  {
   "cell_type": "code",
   "execution_count": 17,
   "metadata": {
    "ExecuteTime": {
     "end_time": "2021-06-12T23:43:33.917068Z",
     "start_time": "2021-06-12T23:43:33.914546Z"
    }
   },
   "outputs": [
    {
     "data": {
      "text/plain": [
       "121"
      ]
     },
     "execution_count": 17,
     "metadata": {},
     "output_type": "execute_result"
    }
   ],
   "source": [
    "len(harris_zips)"
   ]
  },
  {
   "cell_type": "code",
   "execution_count": 18,
   "metadata": {
    "ExecuteTime": {
     "end_time": "2021-06-12T23:43:33.950843Z",
     "start_time": "2021-06-12T23:43:33.917998Z"
    }
   },
   "outputs": [],
   "source": [
    "harris_dict_full = {}\n",
    "for zip_ in harris_zips:\n",
    "    harris_dict_full[zip_] = df_harris[df_harris['RegionName']==zip_]"
   ]
  },
  {
   "cell_type": "code",
   "execution_count": 19,
   "metadata": {
    "ExecuteTime": {
     "end_time": "2021-06-12T23:43:34.471496Z",
     "start_time": "2021-06-12T23:43:33.951821Z"
    }
   },
   "outputs": [],
   "source": [
    "harris_dict_annual = {}\n",
    "for zip_ in harris_zips:\n",
    "    harris_dict_annual[zip_] = df_harris[df_harris['RegionName']==zip_].resample(rule='A').mean()\n",
    "    harris_dict_annual[zip_]['year_2'] = harris_dict_annual[zip_]['value'].pct_change(periods=2)\n",
    "    harris_dict_annual[zip_]['year_5'] = harris_dict_annual[zip_]['value'].pct_change(periods=5)\n",
    "    harris_dict_annual[zip_]['year_10'] = harris_dict_annual[zip_]['value'].pct_change(periods=10)\n",
    "    harris_dict_annual[zip_]['std'] = harris_dict_annual[zip_]['value'].std()"
   ]
  },
  {
   "cell_type": "code",
   "execution_count": 20,
   "metadata": {
    "ExecuteTime": {
     "end_time": "2021-06-12T23:43:34.477570Z",
     "start_time": "2021-06-12T23:43:34.472482Z"
    }
   },
   "outputs": [
    {
     "data": {
      "text/html": [
       "<div>\n",
       "<style scoped>\n",
       "    .dataframe tbody tr th:only-of-type {\n",
       "        vertical-align: middle;\n",
       "    }\n",
       "\n",
       "    .dataframe tbody tr th {\n",
       "        vertical-align: top;\n",
       "    }\n",
       "\n",
       "    .dataframe thead th {\n",
       "        text-align: right;\n",
       "    }\n",
       "</style>\n",
       "<table border=\"1\" class=\"dataframe\">\n",
       "  <thead>\n",
       "    <tr style=\"text-align: right;\">\n",
       "      <th></th>\n",
       "      <th>RegionName</th>\n",
       "      <th>value</th>\n",
       "      <th>year_2</th>\n",
       "      <th>year_5</th>\n",
       "      <th>year_10</th>\n",
       "      <th>std</th>\n",
       "    </tr>\n",
       "    <tr>\n",
       "      <th>time</th>\n",
       "      <th></th>\n",
       "      <th></th>\n",
       "      <th></th>\n",
       "      <th></th>\n",
       "      <th></th>\n",
       "      <th></th>\n",
       "    </tr>\n",
       "  </thead>\n",
       "  <tbody>\n",
       "    <tr>\n",
       "      <th>2017-12-31</th>\n",
       "      <td>77547</td>\n",
       "      <td>83766.666667</td>\n",
       "      <td>0.228400</td>\n",
       "      <td>0.321414</td>\n",
       "      <td>0.071185</td>\n",
       "      <td>12179.944151</td>\n",
       "    </tr>\n",
       "    <tr>\n",
       "      <th>2018-12-31</th>\n",
       "      <td>77547</td>\n",
       "      <td>81450.000000</td>\n",
       "      <td>0.008669</td>\n",
       "      <td>0.215218</td>\n",
       "      <td>0.097462</td>\n",
       "      <td>12179.944151</td>\n",
       "    </tr>\n",
       "  </tbody>\n",
       "</table>\n",
       "</div>"
      ],
      "text/plain": [
       "            RegionName         value    year_2    year_5   year_10  \\\n",
       "time                                                                 \n",
       "2017-12-31       77547  83766.666667  0.228400  0.321414  0.071185   \n",
       "2018-12-31       77547  81450.000000  0.008669  0.215218  0.097462   \n",
       "\n",
       "                     std  \n",
       "time                      \n",
       "2017-12-31  12179.944151  \n",
       "2018-12-31  12179.944151  "
      ]
     },
     "execution_count": 20,
     "metadata": {},
     "output_type": "execute_result"
    }
   ],
   "source": [
    "harris_dict_annual[77547].tail(2)"
   ]
  },
  {
   "cell_type": "code",
   "execution_count": 21,
   "metadata": {
    "ExecuteTime": {
     "end_time": "2021-06-12T23:43:35.428076Z",
     "start_time": "2021-06-12T23:43:34.478689Z"
    }
   },
   "outputs": [],
   "source": [
    "harris_comparison = {}\n",
    "for zip_ in harris_zips:\n",
    "    for zip_, vals in harris_dict_annual.items():\n",
    "        harris_comparison[zip_] = harris_dict_annual[zip_].iloc[-1]   "
   ]
  },
  {
   "cell_type": "code",
   "execution_count": 22,
   "metadata": {
    "ExecuteTime": {
     "end_time": "2021-06-12T23:43:35.442325Z",
     "start_time": "2021-06-12T23:43:35.432681Z"
    }
   },
   "outputs": [],
   "source": [
    "df_harris_pct = pd.DataFrame(harris_comparison).T"
   ]
  },
  {
   "cell_type": "code",
   "execution_count": 23,
   "metadata": {
    "ExecuteTime": {
     "end_time": "2021-06-12T23:43:35.448662Z",
     "start_time": "2021-06-12T23:43:35.445982Z"
    }
   },
   "outputs": [],
   "source": [
    "df_harris_pct.drop(columns=['RegionName'], axis=1, inplace=True)"
   ]
  },
  {
   "cell_type": "code",
   "execution_count": 24,
   "metadata": {
    "ExecuteTime": {
     "end_time": "2021-06-12T23:43:35.456406Z",
     "start_time": "2021-06-12T23:43:35.449853Z"
    }
   },
   "outputs": [
    {
     "data": {
      "text/html": [
       "<div>\n",
       "<style scoped>\n",
       "    .dataframe tbody tr th:only-of-type {\n",
       "        vertical-align: middle;\n",
       "    }\n",
       "\n",
       "    .dataframe tbody tr th {\n",
       "        vertical-align: top;\n",
       "    }\n",
       "\n",
       "    .dataframe thead th {\n",
       "        text-align: right;\n",
       "    }\n",
       "</style>\n",
       "<table border=\"1\" class=\"dataframe\">\n",
       "  <thead>\n",
       "    <tr style=\"text-align: right;\">\n",
       "      <th></th>\n",
       "      <th>value</th>\n",
       "      <th>year_2</th>\n",
       "      <th>year_5</th>\n",
       "      <th>year_10</th>\n",
       "      <th>std</th>\n",
       "    </tr>\n",
       "  </thead>\n",
       "  <tbody>\n",
       "    <tr>\n",
       "      <th>77087</th>\n",
       "      <td>128050.0</td>\n",
       "      <td>0.364048</td>\n",
       "      <td>0.577456</td>\n",
       "      <td>0.391470</td>\n",
       "      <td>18023.531817</td>\n",
       "    </tr>\n",
       "    <tr>\n",
       "      <th>77021</th>\n",
       "      <td>121825.0</td>\n",
       "      <td>0.345761</td>\n",
       "      <td>0.671889</td>\n",
       "      <td>0.429032</td>\n",
       "      <td>17555.780514</td>\n",
       "    </tr>\n",
       "    <tr>\n",
       "      <th>77020</th>\n",
       "      <td>100500.0</td>\n",
       "      <td>0.300550</td>\n",
       "      <td>0.501868</td>\n",
       "      <td>0.413005</td>\n",
       "      <td>12807.817599</td>\n",
       "    </tr>\n",
       "    <tr>\n",
       "      <th>77016</th>\n",
       "      <td>98525.0</td>\n",
       "      <td>0.295813</td>\n",
       "      <td>0.510927</td>\n",
       "      <td>0.345510</td>\n",
       "      <td>13768.180076</td>\n",
       "    </tr>\n",
       "    <tr>\n",
       "      <th>77039</th>\n",
       "      <td>120600.0</td>\n",
       "      <td>0.275853</td>\n",
       "      <td>0.520328</td>\n",
       "      <td>0.263378</td>\n",
       "      <td>16677.544605</td>\n",
       "    </tr>\n",
       "    <tr>\n",
       "      <th>...</th>\n",
       "      <td>...</td>\n",
       "      <td>...</td>\n",
       "      <td>...</td>\n",
       "      <td>...</td>\n",
       "      <td>...</td>\n",
       "    </tr>\n",
       "    <tr>\n",
       "      <th>77096</th>\n",
       "      <td>364250.0</td>\n",
       "      <td>0.002086</td>\n",
       "      <td>0.289495</td>\n",
       "      <td>0.440862</td>\n",
       "      <td>49879.126698</td>\n",
       "    </tr>\n",
       "    <tr>\n",
       "      <th>77494</th>\n",
       "      <td>325250.0</td>\n",
       "      <td>-0.006365</td>\n",
       "      <td>0.232669</td>\n",
       "      <td>0.305569</td>\n",
       "      <td>39115.814995</td>\n",
       "    </tr>\n",
       "    <tr>\n",
       "      <th>77054</th>\n",
       "      <td>273675.0</td>\n",
       "      <td>-0.023113</td>\n",
       "      <td>0.244119</td>\n",
       "      <td>0.248565</td>\n",
       "      <td>28073.759730</td>\n",
       "    </tr>\n",
       "    <tr>\n",
       "      <th>77094</th>\n",
       "      <td>373425.0</td>\n",
       "      <td>-0.037234</td>\n",
       "      <td>0.234599</td>\n",
       "      <td>0.431341</td>\n",
       "      <td>49965.352986</td>\n",
       "    </tr>\n",
       "    <tr>\n",
       "      <th>77057</th>\n",
       "      <td>554650.0</td>\n",
       "      <td>-0.051056</td>\n",
       "      <td>0.213256</td>\n",
       "      <td>0.145734</td>\n",
       "      <td>55363.410606</td>\n",
       "    </tr>\n",
       "  </tbody>\n",
       "</table>\n",
       "<p>121 rows × 5 columns</p>\n",
       "</div>"
      ],
      "text/plain": [
       "          value    year_2    year_5   year_10           std\n",
       "77087  128050.0  0.364048  0.577456  0.391470  18023.531817\n",
       "77021  121825.0  0.345761  0.671889  0.429032  17555.780514\n",
       "77020  100500.0  0.300550  0.501868  0.413005  12807.817599\n",
       "77016   98525.0  0.295813  0.510927  0.345510  13768.180076\n",
       "77039  120600.0  0.275853  0.520328  0.263378  16677.544605\n",
       "...         ...       ...       ...       ...           ...\n",
       "77096  364250.0  0.002086  0.289495  0.440862  49879.126698\n",
       "77494  325250.0 -0.006365  0.232669  0.305569  39115.814995\n",
       "77054  273675.0 -0.023113  0.244119  0.248565  28073.759730\n",
       "77094  373425.0 -0.037234  0.234599  0.431341  49965.352986\n",
       "77057  554650.0 -0.051056  0.213256  0.145734  55363.410606\n",
       "\n",
       "[121 rows x 5 columns]"
      ]
     },
     "execution_count": 24,
     "metadata": {},
     "output_type": "execute_result"
    }
   ],
   "source": [
    "df_harris_pct.sort_values('year_2', ascending=False)"
   ]
  },
  {
   "cell_type": "code",
   "execution_count": 25,
   "metadata": {
    "ExecuteTime": {
     "end_time": "2021-06-12T23:43:35.459505Z",
     "start_time": "2021-06-12T23:43:35.457240Z"
    }
   },
   "outputs": [],
   "source": [
    "# Formula for assessing growth rate ranking as follows: 40% - 2, 35% - 5, 25% - 10"
   ]
  },
  {
   "cell_type": "code",
   "execution_count": 26,
   "metadata": {
    "ExecuteTime": {
     "end_time": "2021-06-12T23:43:35.463756Z",
     "start_time": "2021-06-12T23:43:35.460473Z"
    }
   },
   "outputs": [],
   "source": [
    "df_harris_pct['total'] = df_harris_pct['year_2']*(0.4)+df_harris_pct['year_5']*(0.35)+df_harris_pct['year_10']*(0.25)"
   ]
  },
  {
   "cell_type": "code",
   "execution_count": 27,
   "metadata": {
    "ExecuteTime": {
     "end_time": "2021-06-12T23:43:35.468263Z",
     "start_time": "2021-06-12T23:43:35.464785Z"
    }
   },
   "outputs": [],
   "source": [
    "harris_top10 = list(df_harris_pct.sort_values(by='total', ascending=False).nlargest(columns='total',n=10).index)"
   ]
  },
  {
   "cell_type": "code",
   "execution_count": 28,
   "metadata": {
    "ExecuteTime": {
     "end_time": "2021-06-12T23:43:36.026899Z",
     "start_time": "2021-06-12T23:43:35.469194Z"
    }
   },
   "outputs": [
    {
     "data": {
      "text/plain": [
       "<AxesSubplot:xlabel='time'>"
      ]
     },
     "execution_count": 28,
     "metadata": {},
     "output_type": "execute_result"
    },
    {
     "data": {
      "image/png": "[encoded data removed]",
      "text/plain": [
       "<Figure size 432x288 with 1 Axes>"
      ]
     },
     "metadata": {
      "needs_background": "light"
     },
     "output_type": "display_data"
    }
   ],
   "source": [
    "harris_dict_full[77494]['value'].plot()"
   ]
  },
  {
   "cell_type": "code",
   "execution_count": 32,
   "metadata": {
    "ExecuteTime": {
     "end_time": "2021-06-12T23:44:06.583821Z",
     "start_time": "2021-06-12T23:44:06.467443Z"
    }
   },
   "outputs": [
    {
     "data": {
      "text/plain": [
       "[<matplotlib.lines.Line2D at 0x7f9ce9cba940>,\n",
       " <matplotlib.lines.Line2D at 0x7f9cfabb3f40>]"
      ]
     },
     "execution_count": 32,
     "metadata": {},
     "output_type": "execute_result"
    },
    {
     "data": {
      "image/png": "[encoded data removed]",
      "text/plain": [
       "<Figure size 864x360 with 1 Axes>"
      ]
     },
     "metadata": {
      "needs_background": "light"
     },
     "output_type": "display_data"
    }
   ],
   "source": [
    "import matplotlib.pyplot as plt\n",
    "fig, ax = plt.subplots(figsize=(12,5))\n",
    "ax.plot(harris_dict_full[77494])"
   ]
  },
  {
   "cell_type": "markdown",
   "metadata": {},
   "source": [
    "Housing prices seem very resiliant through 2008"
   ]
  },
  {
   "cell_type": "code",
   "execution_count": 33,
   "metadata": {
    "ExecuteTime": {
     "end_time": "2021-06-12T23:44:09.827559Z",
     "start_time": "2021-06-12T23:44:09.818886Z"
    }
   },
   "outputs": [
    {
     "data": {
      "text/plain": [
       "[77092, 77021, 77043, 77080, 77087, 77530, 77020, 77016, 77506, 77074]"
      ]
     },
     "execution_count": 33,
     "metadata": {},
     "output_type": "execute_result"
    }
   ],
   "source": [
    "harris_top10"
   ]
  },
  {
   "cell_type": "code",
   "execution_count": 34,
   "metadata": {
    "ExecuteTime": {
     "end_time": "2021-06-12T23:44:12.126779Z",
     "start_time": "2021-06-12T23:44:11.914708Z"
    }
   },
   "outputs": [
    {
     "data": {
      "image/png": "[encoded data removed]",
      "text/plain": [
       "<Figure size 864x504 with 1 Axes>"
      ]
     },
     "metadata": {
      "needs_background": "light"
     },
     "output_type": "display_data"
    }
   ],
   "source": [
    "import matplotlib.pyplot as plt\n",
    "fig, ax = plt.subplots(figsize=(12,7))\n",
    "for code in harris_top10:\n",
    "    ax.plot(harris_dict_full[code]['value'], label=code)\n",
    "    ax.legend()"
   ]
  },
  {
   "cell_type": "markdown",
   "metadata": {},
   "source": [
    "- Measure how quick each zip recovered from tech boom\n",
    "- Measure how quick each zip recovered from 08 bust"
   ]
  },
  {
   "cell_type": "markdown",
   "metadata": {},
   "source": [
    "## Tech Bust Finder"
   ]
  },
  {
   "cell_type": "markdown",
   "metadata": {},
   "source": [
    "Classifying dotcom bust as 1999 to June 2001"
   ]
  },
  {
   "cell_type": "code",
   "execution_count": 35,
   "metadata": {
    "ExecuteTime": {
     "end_time": "2021-06-12T23:44:16.403926Z",
     "start_time": "2021-06-12T23:44:16.400366Z"
    }
   },
   "outputs": [],
   "source": [
    "df_77092 = harris_dict_full[77092].copy()"
   ]
  },
  {
   "cell_type": "code",
   "execution_count": 54,
   "metadata": {
    "ExecuteTime": {
     "end_time": "2021-06-12T23:47:04.969065Z",
     "start_time": "2021-06-12T23:47:04.953825Z"
    }
   },
   "outputs": [
    {
     "name": "stdout",
     "output_type": "stream",
     "text": [
      "1999-09-01 00:00:00\n"
     ]
    },
    {
     "data": {
      "text/plain": [
       "112500.0"
      ]
     },
     "execution_count": 54,
     "metadata": {},
     "output_type": "execute_result"
    }
   ],
   "source": [
    "print(df_77092['1999-01-01':'2001-06-01']['value'].idxmin())\n",
    "df_77092['1999-01-01':'2001-06-01']['value'].min()"
   ]
  },
  {
   "cell_type": "code",
   "execution_count": 55,
   "metadata": {
    "ExecuteTime": {
     "end_time": "2021-06-12T23:47:05.452380Z",
     "start_time": "2021-06-12T23:47:05.443133Z"
    }
   },
   "outputs": [
    {
     "data": {
      "text/plain": [
       "63100.0"
      ]
     },
     "execution_count": 55,
     "metadata": {},
     "output_type": "execute_result"
    }
   ],
   "source": [
    "# min_val_idx =harris_dict_full[77021]['1999-01-01':'2001-01-01']['value'].idxmin()\n",
    "min_value = harris_dict_full[77032]['1999-01-01':'2001-06-01']['value'].min()\n",
    "min_value"
   ]
  },
  {
   "cell_type": "code",
   "execution_count": 56,
   "metadata": {
    "ExecuteTime": {
     "end_time": "2021-06-12T23:47:07.945036Z",
     "start_time": "2021-06-12T23:47:07.784175Z"
    }
   },
   "outputs": [
    {
     "data": {
      "text/plain": [
       "<AxesSubplot:xlabel='time'>"
      ]
     },
     "execution_count": 56,
     "metadata": {},
     "output_type": "execute_result"
    },
    {
     "data": {
      "image/png": "[encoded data removed]",
      "text/plain": [
       "<Figure size 432x288 with 1 Axes>"
      ]
     },
     "metadata": {
      "needs_background": "light"
     },
     "output_type": "display_data"
    }
   ],
   "source": [
    "harris_dict_full[77032]['value']['1996-01-01':'2005-01-01'].plot()"
   ]
  },
  {
   "cell_type": "code",
   "execution_count": 57,
   "metadata": {
    "ExecuteTime": {
     "end_time": "2021-06-12T23:47:09.630282Z",
     "start_time": "2021-06-12T23:47:09.618619Z"
    }
   },
   "outputs": [
    {
     "data": {
      "text/plain": [
       "Timestamp('2001-06-01 00:00:00')"
      ]
     },
     "execution_count": 57,
     "metadata": {},
     "output_type": "execute_result"
    }
   ],
   "source": [
    "min_value_after=(harris_dict_full[77021]['2001-06-01':]['value']>=min_value).idxmin()\n",
    "min_value_after"
   ]
  },
  {
   "cell_type": "code",
   "execution_count": 58,
   "metadata": {
    "ExecuteTime": {
     "end_time": "2021-06-12T23:47:10.372401Z",
     "start_time": "2021-06-12T23:47:10.352631Z"
    }
   },
   "outputs": [
    {
     "ename": "NameError",
     "evalue": "name 'min_val_idx' is not defined",
     "output_type": "error",
     "traceback": [
      "\u001b[0;31m---------------------------------------------------------------------------\u001b[0m",
      "\u001b[0;31mNameError\u001b[0m                                 Traceback (most recent call last)",
      "\u001b[0;32m<ipython-input-58-30e7feb8c539>\u001b[0m in \u001b[0;36m<module>\u001b[0;34m\u001b[0m\n\u001b[1;32m      1\u001b[0m \u001b[0;31m# Took 212 days to recover\u001b[0m\u001b[0;34m\u001b[0m\u001b[0;34m\u001b[0m\u001b[0;34m\u001b[0m\u001b[0m\n\u001b[0;32m----> 2\u001b[0;31m \u001b[0mtd\u001b[0m \u001b[0;34m=\u001b[0m \u001b[0mmin_value_after\u001b[0m\u001b[0;34m-\u001b[0m\u001b[0mmin_val_idx\u001b[0m\u001b[0;34m\u001b[0m\u001b[0;34m\u001b[0m\u001b[0m\n\u001b[0m\u001b[1;32m      3\u001b[0m \u001b[0mtd\u001b[0m\u001b[0;34m.\u001b[0m\u001b[0mdays\u001b[0m\u001b[0;34m\u001b[0m\u001b[0;34m\u001b[0m\u001b[0m\n",
      "\u001b[0;31mNameError\u001b[0m: name 'min_val_idx' is not defined"
     ]
    }
   ],
   "source": [
    "# Took 212 days to recover\n",
    "td = min_value_after-min_val_idx\n",
    "td.days"
   ]
  },
  {
   "cell_type": "markdown",
   "metadata": {},
   "source": [
    "Fix to match housing bust boom graph"
   ]
  },
  {
   "cell_type": "code",
   "execution_count": 41,
   "metadata": {
    "ExecuteTime": {
     "end_time": "2021-06-12T23:44:49.713549Z",
     "start_time": "2021-06-12T23:44:25.613298Z"
    }
   },
   "outputs": [],
   "source": [
    "harris_recover_dotcom = {}\n",
    "for zip_ in harris_zips:\n",
    "    for zip_, vals in harris_dict_full.items():\n",
    "        idx_max_pre = harris_dict_full[zip_]['1999-01-01':'2001-06-01']['value'].idxmax()\n",
    "        val_max_pre = harris_dict_full[zip_]['2000-01-01':'2001-06-01']['value'].max()\n",
    "        idx_max_post=(harris_dict_full[zip_]['2001-06-01':]['value']>=val_max_pre).idxmax()\n",
    "        td = idx_max_post - idx_max_pre\n",
    "        days = td.days\n",
    "        harris_recover_dotcom[zip_]=days"
   ]
  },
  {
   "cell_type": "code",
   "execution_count": 42,
   "metadata": {
    "ExecuteTime": {
     "end_time": "2021-06-12T23:44:53.409086Z",
     "start_time": "2021-06-12T23:44:53.401887Z"
    }
   },
   "outputs": [],
   "source": [
    "test=pd.Series(data=harris_recover_dotcom, index=harris_recover_dotcom.keys()).sort_values()"
   ]
  },
  {
   "cell_type": "code",
   "execution_count": 47,
   "metadata": {
    "ExecuteTime": {
     "end_time": "2021-06-12T23:45:46.764246Z",
     "start_time": "2021-06-12T23:45:46.751116Z"
    }
   },
   "outputs": [
    {
     "data": {
      "text/plain": [
       "0       40\n",
       "912      3\n",
       "1461     3\n",
       "1279     2\n",
       "273      2\n",
       "        ..\n",
       "1339     1\n",
       "4536     1\n",
       "1644     1\n",
       "5814     1\n",
       "700      1\n",
       "Name: 0, Length: 65, dtype: int64"
      ]
     },
     "execution_count": 47,
     "metadata": {},
     "output_type": "execute_result"
    }
   ],
   "source": [
    "test =pd.DataFrame(test)\n",
    "test[0].value_counts()"
   ]
  },
  {
   "cell_type": "code",
   "execution_count": 59,
   "metadata": {
    "ExecuteTime": {
     "end_time": "2021-06-12T23:47:25.471181Z",
     "start_time": "2021-06-12T23:47:25.463948Z"
    }
   },
   "outputs": [],
   "source": [
    "harris_recover_dotcom_counts={}\n",
    "for k, v in harris_recover_dotcom.items():\n",
    "    if v in harris_recover_dotcom_counts.keys():\n",
    "        harris_recover_dotcom_counts[v] +=1\n",
    "    else:\n",
    "        harris_recover_dotcom_counts[v] = 1"
   ]
  },
  {
   "cell_type": "code",
   "execution_count": 69,
   "metadata": {
    "ExecuteTime": {
     "end_time": "2021-06-12T23:48:23.090131Z",
     "start_time": "2021-06-12T23:48:23.082899Z"
    }
   },
   "outputs": [],
   "source": [
    "dotcom_recovery = pd.Series(harris_recover_dotcom_counts).sort_index(ascending=True)"
   ]
  },
  {
   "cell_type": "code",
   "execution_count": 73,
   "metadata": {
    "ExecuteTime": {
     "end_time": "2021-06-12T23:49:08.831851Z",
     "start_time": "2021-06-12T23:49:08.288895Z"
    }
   },
   "outputs": [
    {
     "data": {
      "text/plain": [
       "<AxesSubplot:>"
      ]
     },
     "execution_count": 73,
     "metadata": {},
     "output_type": "execute_result"
    },
    {
     "data": {
      "image/png": "[encoded data removed]",
      "text/plain": [
       "<Figure size 864x360 with 1 Axes>"
      ]
     },
     "metadata": {
      "needs_background": "light"
     },
     "output_type": "display_data"
    }
   ],
   "source": [
    "dotcom_recovery.plot(kind='bar', figsize=(12,5))\n"
   ]
  },
  {
   "cell_type": "markdown",
   "metadata": {},
   "source": [
    "## Housing Bust Finder"
   ]
  },
  {
   "cell_type": "markdown",
   "metadata": {
    "ExecuteTime": {
     "end_time": "2021-06-12T23:43:36.121276Z",
     "start_time": "2021-06-12T23:43:28.122Z"
    }
   },
   "source": [
    "Look into correlation of results between two different bust cycles as % change values"
   ]
  },
  {
   "cell_type": "code",
   "execution_count": 116,
   "metadata": {
    "ExecuteTime": {
     "end_time": "2021-06-13T00:07:06.644126Z",
     "start_time": "2021-06-13T00:06:42.484978Z"
    }
   },
   "outputs": [],
   "source": [
    "\n",
    "harris_recover_housing = {}\n",
    "for zip_ in harris_zips:\n",
    "    for zip_, vals in harris_dict_full.items():\n",
    "        idx_max_pre = harris_dict_full[zip_]['2005-01-01':'2008-12-31']['value'].idxmax()\n",
    "        val_max_pre = harris_dict_full[zip_]['2005-01-01':'2008-12-31']['value'].max()\n",
    "        idx_max_post=(harris_dict_full[zip_]['2008-12-30':]['value']>=val_max_pre).idxmax()\n",
    "        td = idx_max_post - idx_max_pre\n",
    "        days = td.days\n",
    "        harris_recover_housing[zip_]=days"
   ]
  },
  {
   "cell_type": "code",
   "execution_count": 138,
   "metadata": {
    "ExecuteTime": {
     "end_time": "2021-06-13T00:20:58.575351Z",
     "start_time": "2021-06-13T00:20:58.560428Z"
    }
   },
   "outputs": [],
   "source": [
    "def housing_bust_finder(df, dict_full):\n",
    "    \n",
    "    zips=list(df['RegionName'].unique())\n",
    "    \n",
    "    recover_housing = {}\n",
    "    for zip_ in zips:\n",
    "        for zip_, vals in dict_full.items():\n",
    "            idx_max_pre = dict_full[zip_]['2005-01-01':'2008-12-31']['value'].idxmax()\n",
    "            val_max_pre = dict_full[zip_]['2005-01-01':'2008-12-31']['value'].max()\n",
    "            idx_max_post=(dict_full[zip_]['2008-12-30':]['value']>=val_max_pre).idxmax()\n",
    "            td = idx_max_post - idx_max_pre\n",
    "            days = td.days\n",
    "            recover_housing[zip_]=days\n",
    "    \n",
    "    recover_housing_counts={}\n",
    "    for k, v in recover_housing.items():\n",
    "        if v in recover_housing_counts.keys():\n",
    "            recover_housing_counts[v] +=1\n",
    "        else:\n",
    "            recover_housing_counts[v] = 1\n",
    "    \n",
    "    housing_recover=pd.Series(recover_housing_counts)\n",
    "    housing_recover=pd.Series(housing_recover.index.values, index=housing_recover)\n",
    "    housing_recover=pd.DataFrame(housing_recover)\n",
    "    housing_recover.rename(columns={0:'Days_Until_Recovery'}, inplace=True)\n",
    "    housing_recover.sort_values(by='Days_Until_Recovery', ascending=True, inplace=True)\n",
    "    return housing_recover"
   ]
  },
  {
   "cell_type": "code",
   "execution_count": 158,
   "metadata": {
    "ExecuteTime": {
     "end_time": "2021-06-13T00:29:49.818418Z",
     "start_time": "2021-06-13T00:29:49.770102Z"
    }
   },
   "outputs": [
    {
     "data": {
      "text/html": [
       "<div>\n",
       "<style scoped>\n",
       "    .dataframe tbody tr th:only-of-type {\n",
       "        vertical-align: middle;\n",
       "    }\n",
       "\n",
       "    .dataframe tbody tr th {\n",
       "        vertical-align: top;\n",
       "    }\n",
       "\n",
       "    .dataframe thead th {\n",
       "        text-align: right;\n",
       "    }\n",
       "</style>\n",
       "<table border=\"1\" class=\"dataframe\">\n",
       "  <thead>\n",
       "    <tr style=\"text-align: right;\">\n",
       "      <th></th>\n",
       "      <th>RegionName</th>\n",
       "      <th>City</th>\n",
       "      <th>State</th>\n",
       "      <th>Metro</th>\n",
       "      <th>CountyName</th>\n",
       "      <th>value</th>\n",
       "    </tr>\n",
       "    <tr>\n",
       "      <th>time</th>\n",
       "      <th></th>\n",
       "      <th></th>\n",
       "      <th></th>\n",
       "      <th></th>\n",
       "      <th></th>\n",
       "      <th></th>\n",
       "    </tr>\n",
       "  </thead>\n",
       "  <tbody>\n",
       "    <tr>\n",
       "      <th>1996-04-01</th>\n",
       "      <td>78660</td>\n",
       "      <td>Pflugerville</td>\n",
       "      <td>TX</td>\n",
       "      <td>Austin</td>\n",
       "      <td>Travis</td>\n",
       "      <td>138900.0</td>\n",
       "    </tr>\n",
       "    <tr>\n",
       "      <th>1996-04-01</th>\n",
       "      <td>78704</td>\n",
       "      <td>Austin</td>\n",
       "      <td>TX</td>\n",
       "      <td>Austin</td>\n",
       "      <td>Travis</td>\n",
       "      <td>221300.0</td>\n",
       "    </tr>\n",
       "    <tr>\n",
       "      <th>1996-04-01</th>\n",
       "      <td>78745</td>\n",
       "      <td>Austin</td>\n",
       "      <td>TX</td>\n",
       "      <td>Austin</td>\n",
       "      <td>Travis</td>\n",
       "      <td>135000.0</td>\n",
       "    </tr>\n",
       "    <tr>\n",
       "      <th>1996-04-01</th>\n",
       "      <td>78758</td>\n",
       "      <td>Austin</td>\n",
       "      <td>TX</td>\n",
       "      <td>Austin</td>\n",
       "      <td>Travis</td>\n",
       "      <td>129000.0</td>\n",
       "    </tr>\n",
       "    <tr>\n",
       "      <th>1996-04-01</th>\n",
       "      <td>78741</td>\n",
       "      <td>Austin</td>\n",
       "      <td>TX</td>\n",
       "      <td>Austin</td>\n",
       "      <td>Travis</td>\n",
       "      <td>93800.0</td>\n",
       "    </tr>\n",
       "    <tr>\n",
       "      <th>...</th>\n",
       "      <td>...</td>\n",
       "      <td>...</td>\n",
       "      <td>...</td>\n",
       "      <td>...</td>\n",
       "      <td>...</td>\n",
       "      <td>...</td>\n",
       "    </tr>\n",
       "    <tr>\n",
       "      <th>2018-04-01</th>\n",
       "      <td>78736</td>\n",
       "      <td>Austin</td>\n",
       "      <td>TX</td>\n",
       "      <td>Austin</td>\n",
       "      <td>Travis</td>\n",
       "      <td>344900.0</td>\n",
       "    </tr>\n",
       "    <tr>\n",
       "      <th>2018-04-01</th>\n",
       "      <td>78733</td>\n",
       "      <td>Austin</td>\n",
       "      <td>TX</td>\n",
       "      <td>Austin</td>\n",
       "      <td>Travis</td>\n",
       "      <td>615600.0</td>\n",
       "    </tr>\n",
       "    <tr>\n",
       "      <th>2018-04-01</th>\n",
       "      <td>78722</td>\n",
       "      <td>Austin</td>\n",
       "      <td>TX</td>\n",
       "      <td>Austin</td>\n",
       "      <td>Travis</td>\n",
       "      <td>417500.0</td>\n",
       "    </tr>\n",
       "    <tr>\n",
       "      <th>2018-04-01</th>\n",
       "      <td>78725</td>\n",
       "      <td>Austin</td>\n",
       "      <td>TX</td>\n",
       "      <td>Austin</td>\n",
       "      <td>Travis</td>\n",
       "      <td>188200.0</td>\n",
       "    </tr>\n",
       "    <tr>\n",
       "      <th>2018-04-01</th>\n",
       "      <td>78652</td>\n",
       "      <td>San Leanna</td>\n",
       "      <td>TX</td>\n",
       "      <td>Austin</td>\n",
       "      <td>Travis</td>\n",
       "      <td>310800.0</td>\n",
       "    </tr>\n",
       "  </tbody>\n",
       "</table>\n",
       "<p>11925 rows × 6 columns</p>\n",
       "</div>"
      ],
      "text/plain": [
       "            RegionName          City State   Metro CountyName     value\n",
       "time                                                                   \n",
       "1996-04-01       78660  Pflugerville    TX  Austin     Travis  138900.0\n",
       "1996-04-01       78704        Austin    TX  Austin     Travis  221300.0\n",
       "1996-04-01       78745        Austin    TX  Austin     Travis  135000.0\n",
       "1996-04-01       78758        Austin    TX  Austin     Travis  129000.0\n",
       "1996-04-01       78741        Austin    TX  Austin     Travis   93800.0\n",
       "...                ...           ...   ...     ...        ...       ...\n",
       "2018-04-01       78736        Austin    TX  Austin     Travis  344900.0\n",
       "2018-04-01       78733        Austin    TX  Austin     Travis  615600.0\n",
       "2018-04-01       78722        Austin    TX  Austin     Travis  417500.0\n",
       "2018-04-01       78725        Austin    TX  Austin     Travis  188200.0\n",
       "2018-04-01       78652    San Leanna    TX  Austin     Travis  310800.0\n",
       "\n",
       "[11925 rows x 6 columns]"
      ]
     },
     "execution_count": 158,
     "metadata": {},
     "output_type": "execute_result"
    }
   ],
   "source": [
    "df_travis = df_texas[df_texas['CountyName']=='Travis'].copy()\n",
    "df_travis"
   ]
  },
  {
   "cell_type": "code",
   "execution_count": 121,
   "metadata": {
    "ExecuteTime": {
     "end_time": "2021-06-13T00:14:44.012870Z",
     "start_time": "2021-06-13T00:14:44.004041Z"
    }
   },
   "outputs": [
    {
     "data": {
      "text/plain": [
       "45"
      ]
     },
     "execution_count": 121,
     "metadata": {},
     "output_type": "execute_result"
    }
   ],
   "source": [
    "df_travis['RegionName'].nunique()"
   ]
  },
  {
   "cell_type": "code",
   "execution_count": 122,
   "metadata": {
    "ExecuteTime": {
     "end_time": "2021-06-13T00:15:12.963919Z",
     "start_time": "2021-06-13T00:15:12.956644Z"
    }
   },
   "outputs": [],
   "source": [
    "df_travis.drop(columns=['City', 'State', 'Metro', 'CountyName'], axis=1, inplace=True)"
   ]
  },
  {
   "cell_type": "code",
   "execution_count": 123,
   "metadata": {
    "ExecuteTime": {
     "end_time": "2021-06-13T00:15:16.090622Z",
     "start_time": "2021-06-13T00:15:16.072012Z"
    }
   },
   "outputs": [
    {
     "data": {
      "text/html": [
       "<div>\n",
       "<style scoped>\n",
       "    .dataframe tbody tr th:only-of-type {\n",
       "        vertical-align: middle;\n",
       "    }\n",
       "\n",
       "    .dataframe tbody tr th {\n",
       "        vertical-align: top;\n",
       "    }\n",
       "\n",
       "    .dataframe thead th {\n",
       "        text-align: right;\n",
       "    }\n",
       "</style>\n",
       "<table border=\"1\" class=\"dataframe\">\n",
       "  <thead>\n",
       "    <tr style=\"text-align: right;\">\n",
       "      <th></th>\n",
       "      <th>RegionName</th>\n",
       "      <th>value</th>\n",
       "    </tr>\n",
       "    <tr>\n",
       "      <th>time</th>\n",
       "      <th></th>\n",
       "      <th></th>\n",
       "    </tr>\n",
       "  </thead>\n",
       "  <tbody>\n",
       "    <tr>\n",
       "      <th>1996-04-01</th>\n",
       "      <td>78660</td>\n",
       "      <td>138900.0</td>\n",
       "    </tr>\n",
       "    <tr>\n",
       "      <th>1996-04-01</th>\n",
       "      <td>78704</td>\n",
       "      <td>221300.0</td>\n",
       "    </tr>\n",
       "    <tr>\n",
       "      <th>1996-04-01</th>\n",
       "      <td>78745</td>\n",
       "      <td>135000.0</td>\n",
       "    </tr>\n",
       "    <tr>\n",
       "      <th>1996-04-01</th>\n",
       "      <td>78758</td>\n",
       "      <td>129000.0</td>\n",
       "    </tr>\n",
       "    <tr>\n",
       "      <th>1996-04-01</th>\n",
       "      <td>78741</td>\n",
       "      <td>93800.0</td>\n",
       "    </tr>\n",
       "    <tr>\n",
       "      <th>...</th>\n",
       "      <td>...</td>\n",
       "      <td>...</td>\n",
       "    </tr>\n",
       "    <tr>\n",
       "      <th>2018-04-01</th>\n",
       "      <td>78736</td>\n",
       "      <td>344900.0</td>\n",
       "    </tr>\n",
       "    <tr>\n",
       "      <th>2018-04-01</th>\n",
       "      <td>78733</td>\n",
       "      <td>615600.0</td>\n",
       "    </tr>\n",
       "    <tr>\n",
       "      <th>2018-04-01</th>\n",
       "      <td>78722</td>\n",
       "      <td>417500.0</td>\n",
       "    </tr>\n",
       "    <tr>\n",
       "      <th>2018-04-01</th>\n",
       "      <td>78725</td>\n",
       "      <td>188200.0</td>\n",
       "    </tr>\n",
       "    <tr>\n",
       "      <th>2018-04-01</th>\n",
       "      <td>78652</td>\n",
       "      <td>310800.0</td>\n",
       "    </tr>\n",
       "  </tbody>\n",
       "</table>\n",
       "<p>11925 rows × 2 columns</p>\n",
       "</div>"
      ],
      "text/plain": [
       "            RegionName     value\n",
       "time                            \n",
       "1996-04-01       78660  138900.0\n",
       "1996-04-01       78704  221300.0\n",
       "1996-04-01       78745  135000.0\n",
       "1996-04-01       78758  129000.0\n",
       "1996-04-01       78741   93800.0\n",
       "...                ...       ...\n",
       "2018-04-01       78736  344900.0\n",
       "2018-04-01       78733  615600.0\n",
       "2018-04-01       78722  417500.0\n",
       "2018-04-01       78725  188200.0\n",
       "2018-04-01       78652  310800.0\n",
       "\n",
       "[11925 rows x 2 columns]"
      ]
     },
     "execution_count": 123,
     "metadata": {},
     "output_type": "execute_result"
    }
   ],
   "source": [
    "df_travis"
   ]
  },
  {
   "cell_type": "code",
   "execution_count": 124,
   "metadata": {
    "ExecuteTime": {
     "end_time": "2021-06-13T00:15:57.420819Z",
     "start_time": "2021-06-13T00:15:57.414766Z"
    }
   },
   "outputs": [],
   "source": [
    "travis_zips=list(df_travis['RegionName'].unique())"
   ]
  },
  {
   "cell_type": "code",
   "execution_count": 128,
   "metadata": {
    "ExecuteTime": {
     "end_time": "2021-06-13T00:17:27.615329Z",
     "start_time": "2021-06-13T00:17:27.582444Z"
    }
   },
   "outputs": [],
   "source": [
    "travis_dict_full = {}\n",
    "for zip_ in travis_zips:\n",
    "    travis_dict_full[zip_] = df_travis[df_travis['RegionName']==zip_]"
   ]
  },
  {
   "cell_type": "code",
   "execution_count": 139,
   "metadata": {
    "ExecuteTime": {
     "end_time": "2021-06-13T00:21:04.988766Z",
     "start_time": "2021-06-13T00:21:01.648953Z"
    }
   },
   "outputs": [
    {
     "data": {
      "text/html": [
       "<div>\n",
       "<style scoped>\n",
       "    .dataframe tbody tr th:only-of-type {\n",
       "        vertical-align: middle;\n",
       "    }\n",
       "\n",
       "    .dataframe tbody tr th {\n",
       "        vertical-align: top;\n",
       "    }\n",
       "\n",
       "    .dataframe thead th {\n",
       "        text-align: right;\n",
       "    }\n",
       "</style>\n",
       "<table border=\"1\" class=\"dataframe\">\n",
       "  <thead>\n",
       "    <tr style=\"text-align: right;\">\n",
       "      <th></th>\n",
       "      <th>Days_Until_Recovery</th>\n",
       "    </tr>\n",
       "  </thead>\n",
       "  <tbody>\n",
       "    <tr>\n",
       "      <th>1</th>\n",
       "      <td>31</td>\n",
       "    </tr>\n",
       "    <tr>\n",
       "      <th>1</th>\n",
       "      <td>215</td>\n",
       "    </tr>\n",
       "    <tr>\n",
       "      <th>1</th>\n",
       "      <td>609</td>\n",
       "    </tr>\n",
       "    <tr>\n",
       "      <th>1</th>\n",
       "      <td>610</td>\n",
       "    </tr>\n",
       "    <tr>\n",
       "      <th>1</th>\n",
       "      <td>639</td>\n",
       "    </tr>\n",
       "    <tr>\n",
       "      <th>1</th>\n",
       "      <td>730</td>\n",
       "    </tr>\n",
       "    <tr>\n",
       "      <th>1</th>\n",
       "      <td>912</td>\n",
       "    </tr>\n",
       "    <tr>\n",
       "      <th>1</th>\n",
       "      <td>1341</td>\n",
       "    </tr>\n",
       "    <tr>\n",
       "      <th>1</th>\n",
       "      <td>1492</td>\n",
       "    </tr>\n",
       "    <tr>\n",
       "      <th>1</th>\n",
       "      <td>1705</td>\n",
       "    </tr>\n",
       "    <tr>\n",
       "      <th>1</th>\n",
       "      <td>1737</td>\n",
       "    </tr>\n",
       "    <tr>\n",
       "      <th>2</th>\n",
       "      <td>1796</td>\n",
       "    </tr>\n",
       "    <tr>\n",
       "      <th>1</th>\n",
       "      <td>1797</td>\n",
       "    </tr>\n",
       "    <tr>\n",
       "      <th>1</th>\n",
       "      <td>1827</td>\n",
       "    </tr>\n",
       "    <tr>\n",
       "      <th>1</th>\n",
       "      <td>1855</td>\n",
       "    </tr>\n",
       "    <tr>\n",
       "      <th>1</th>\n",
       "      <td>1858</td>\n",
       "    </tr>\n",
       "    <tr>\n",
       "      <th>1</th>\n",
       "      <td>1887</td>\n",
       "    </tr>\n",
       "    <tr>\n",
       "      <th>1</th>\n",
       "      <td>1917</td>\n",
       "    </tr>\n",
       "    <tr>\n",
       "      <th>1</th>\n",
       "      <td>1918</td>\n",
       "    </tr>\n",
       "    <tr>\n",
       "      <th>2</th>\n",
       "      <td>1947</td>\n",
       "    </tr>\n",
       "    <tr>\n",
       "      <th>2</th>\n",
       "      <td>1948</td>\n",
       "    </tr>\n",
       "    <tr>\n",
       "      <th>1</th>\n",
       "      <td>1977</td>\n",
       "    </tr>\n",
       "    <tr>\n",
       "      <th>1</th>\n",
       "      <td>2009</td>\n",
       "    </tr>\n",
       "    <tr>\n",
       "      <th>1</th>\n",
       "      <td>2070</td>\n",
       "    </tr>\n",
       "    <tr>\n",
       "      <th>1</th>\n",
       "      <td>2100</td>\n",
       "    </tr>\n",
       "    <tr>\n",
       "      <th>1</th>\n",
       "      <td>2131</td>\n",
       "    </tr>\n",
       "    <tr>\n",
       "      <th>1</th>\n",
       "      <td>2163</td>\n",
       "    </tr>\n",
       "    <tr>\n",
       "      <th>1</th>\n",
       "      <td>2191</td>\n",
       "    </tr>\n",
       "    <tr>\n",
       "      <th>1</th>\n",
       "      <td>2281</td>\n",
       "    </tr>\n",
       "    <tr>\n",
       "      <th>1</th>\n",
       "      <td>2374</td>\n",
       "    </tr>\n",
       "    <tr>\n",
       "      <th>2</th>\n",
       "      <td>2435</td>\n",
       "    </tr>\n",
       "    <tr>\n",
       "      <th>3</th>\n",
       "      <td>2465</td>\n",
       "    </tr>\n",
       "    <tr>\n",
       "      <th>1</th>\n",
       "      <td>2526</td>\n",
       "    </tr>\n",
       "    <tr>\n",
       "      <th>1</th>\n",
       "      <td>2647</td>\n",
       "    </tr>\n",
       "    <tr>\n",
       "      <th>1</th>\n",
       "      <td>2679</td>\n",
       "    </tr>\n",
       "    <tr>\n",
       "      <th>1</th>\n",
       "      <td>2710</td>\n",
       "    </tr>\n",
       "    <tr>\n",
       "      <th>1</th>\n",
       "      <td>2800</td>\n",
       "    </tr>\n",
       "    <tr>\n",
       "      <th>1</th>\n",
       "      <td>3137</td>\n",
       "    </tr>\n",
       "    <tr>\n",
       "      <th>1</th>\n",
       "      <td>3835</td>\n",
       "    </tr>\n",
       "  </tbody>\n",
       "</table>\n",
       "</div>"
      ],
      "text/plain": [
       "   Days_Until_Recovery\n",
       "1                   31\n",
       "1                  215\n",
       "1                  609\n",
       "1                  610\n",
       "1                  639\n",
       "1                  730\n",
       "1                  912\n",
       "1                 1341\n",
       "1                 1492\n",
       "1                 1705\n",
       "1                 1737\n",
       "2                 1796\n",
       "1                 1797\n",
       "1                 1827\n",
       "1                 1855\n",
       "1                 1858\n",
       "1                 1887\n",
       "1                 1917\n",
       "1                 1918\n",
       "2                 1947\n",
       "2                 1948\n",
       "1                 1977\n",
       "1                 2009\n",
       "1                 2070\n",
       "1                 2100\n",
       "1                 2131\n",
       "1                 2163\n",
       "1                 2191\n",
       "1                 2281\n",
       "1                 2374\n",
       "2                 2435\n",
       "3                 2465\n",
       "1                 2526\n",
       "1                 2647\n",
       "1                 2679\n",
       "1                 2710\n",
       "1                 2800\n",
       "1                 3137\n",
       "1                 3835"
      ]
     },
     "execution_count": 139,
     "metadata": {},
     "output_type": "execute_result"
    }
   ],
   "source": [
    "travis_recovery_time = housing_bust_finder(df_travis, travis_dict_full)"
   ]
  },
  {
   "cell_type": "code",
   "execution_count": null,
   "metadata": {},
   "outputs": [],
   "source": [
    "def df_maker(df, county):\n",
    "    df = df_texas[df_texas['CountyName']==county].copy()"
   ]
  },
  {
   "cell_type": "code",
   "execution_count": 155,
   "metadata": {
    "ExecuteTime": {
     "end_time": "2021-06-13T00:29:33.816916Z",
     "start_time": "2021-06-13T00:29:33.809609Z"
    }
   },
   "outputs": [],
   "source": [
    "def county_dict_maker(df):\n",
    "    df.drop(columns=['City', 'State', 'Metro', 'CountyName'], axis=1, inplace=True)\n",
    "    zips=list(df['RegionName'].unique())\n",
    "    dict_full = {}\n",
    "    for zip_ in zips:\n",
    "        dict_full[zip_] = df[df['RegionName']==zip_]\n",
    "    return dict_full"
   ]
  },
  {
   "cell_type": "code",
   "execution_count": 159,
   "metadata": {
    "ExecuteTime": {
     "end_time": "2021-06-13T00:29:55.637431Z",
     "start_time": "2021-06-13T00:29:55.600116Z"
    }
   },
   "outputs": [],
   "source": [
    "travis_dict = county_maker(df_travis)"
   ]
  },
  {
   "cell_type": "code",
   "execution_count": 161,
   "metadata": {
    "ExecuteTime": {
     "end_time": "2021-06-13T00:30:04.143832Z",
     "start_time": "2021-06-13T00:30:04.124511Z"
    }
   },
   "outputs": [
    {
     "data": {
      "text/html": [
       "<div>\n",
       "<style scoped>\n",
       "    .dataframe tbody tr th:only-of-type {\n",
       "        vertical-align: middle;\n",
       "    }\n",
       "\n",
       "    .dataframe tbody tr th {\n",
       "        vertical-align: top;\n",
       "    }\n",
       "\n",
       "    .dataframe thead th {\n",
       "        text-align: right;\n",
       "    }\n",
       "</style>\n",
       "<table border=\"1\" class=\"dataframe\">\n",
       "  <thead>\n",
       "    <tr style=\"text-align: right;\">\n",
       "      <th></th>\n",
       "      <th>RegionName</th>\n",
       "      <th>value</th>\n",
       "    </tr>\n",
       "    <tr>\n",
       "      <th>time</th>\n",
       "      <th></th>\n",
       "      <th></th>\n",
       "    </tr>\n",
       "  </thead>\n",
       "  <tbody>\n",
       "    <tr>\n",
       "      <th>1996-04-01</th>\n",
       "      <td>78722</td>\n",
       "      <td>76200.0</td>\n",
       "    </tr>\n",
       "    <tr>\n",
       "      <th>1996-05-01</th>\n",
       "      <td>78722</td>\n",
       "      <td>76400.0</td>\n",
       "    </tr>\n",
       "    <tr>\n",
       "      <th>1996-06-01</th>\n",
       "      <td>78722</td>\n",
       "      <td>76500.0</td>\n",
       "    </tr>\n",
       "    <tr>\n",
       "      <th>1996-07-01</th>\n",
       "      <td>78722</td>\n",
       "      <td>76700.0</td>\n",
       "    </tr>\n",
       "    <tr>\n",
       "      <th>1996-08-01</th>\n",
       "      <td>78722</td>\n",
       "      <td>77000.0</td>\n",
       "    </tr>\n",
       "    <tr>\n",
       "      <th>...</th>\n",
       "      <td>...</td>\n",
       "      <td>...</td>\n",
       "    </tr>\n",
       "    <tr>\n",
       "      <th>2017-12-01</th>\n",
       "      <td>78722</td>\n",
       "      <td>403300.0</td>\n",
       "    </tr>\n",
       "    <tr>\n",
       "      <th>2018-01-01</th>\n",
       "      <td>78722</td>\n",
       "      <td>405200.0</td>\n",
       "    </tr>\n",
       "    <tr>\n",
       "      <th>2018-02-01</th>\n",
       "      <td>78722</td>\n",
       "      <td>408400.0</td>\n",
       "    </tr>\n",
       "    <tr>\n",
       "      <th>2018-03-01</th>\n",
       "      <td>78722</td>\n",
       "      <td>413900.0</td>\n",
       "    </tr>\n",
       "    <tr>\n",
       "      <th>2018-04-01</th>\n",
       "      <td>78722</td>\n",
       "      <td>417500.0</td>\n",
       "    </tr>\n",
       "  </tbody>\n",
       "</table>\n",
       "<p>265 rows × 2 columns</p>\n",
       "</div>"
      ],
      "text/plain": [
       "            RegionName     value\n",
       "time                            \n",
       "1996-04-01       78722   76200.0\n",
       "1996-05-01       78722   76400.0\n",
       "1996-06-01       78722   76500.0\n",
       "1996-07-01       78722   76700.0\n",
       "1996-08-01       78722   77000.0\n",
       "...                ...       ...\n",
       "2017-12-01       78722  403300.0\n",
       "2018-01-01       78722  405200.0\n",
       "2018-02-01       78722  408400.0\n",
       "2018-03-01       78722  413900.0\n",
       "2018-04-01       78722  417500.0\n",
       "\n",
       "[265 rows x 2 columns]"
      ]
     },
     "execution_count": 161,
     "metadata": {},
     "output_type": "execute_result"
    }
   ],
   "source": [
    "travis_dict[78722]"
   ]
  },
  {
   "cell_type": "code",
   "execution_count": null,
   "metadata": {},
   "outputs": [],
   "source": []
  },
  {
   "cell_type": "code",
   "execution_count": null,
   "metadata": {},
   "outputs": [],
   "source": []
  },
  {
   "cell_type": "code",
   "execution_count": 77,
   "metadata": {
    "ExecuteTime": {
     "end_time": "2021-06-12T23:51:40.014678Z",
     "start_time": "2021-06-12T23:51:40.001359Z"
    }
   },
   "outputs": [
    {
     "data": {
      "text/plain": [
       "77006      31\n",
       "77035      31\n",
       "77021      31\n",
       "77018      31\n",
       "77030     517\n",
       "         ... \n",
       "77587    3349\n",
       "77020    3379\n",
       "77028    3410\n",
       "77547    3561\n",
       "77060    3622\n",
       "Length: 121, dtype: int64"
      ]
     },
     "execution_count": 77,
     "metadata": {},
     "output_type": "execute_result"
    }
   ],
   "source": [
    "housing_recover=pd.Series(harris_recover_housing).sort_values()"
   ]
  },
  {
   "cell_type": "code",
   "execution_count": 85,
   "metadata": {
    "ExecuteTime": {
     "end_time": "2021-06-12T23:53:20.991272Z",
     "start_time": "2021-06-12T23:53:20.983991Z"
    }
   },
   "outputs": [],
   "source": [
    "harris_recover_housing_counts={}\n",
    "for k, v in harris_recover_housing.items():\n",
    "    if v in harris_recover_housing_counts.keys():\n",
    "        harris_recover_housing_counts[v] +=1\n",
    "    else:\n",
    "        harris_recover_housing_counts[v] = 1"
   ]
  },
  {
   "cell_type": "code",
   "execution_count": 100,
   "metadata": {
    "ExecuteTime": {
     "end_time": "2021-06-12T23:55:44.268168Z",
     "start_time": "2021-06-12T23:55:44.259236Z"
    }
   },
   "outputs": [
    {
     "data": {
      "text/plain": [
       "1797    1\n",
       "2526    2\n",
       "2312    2\n",
       "2496    2\n",
       "2039    4\n",
       "       ..\n",
       "3166    1\n",
       "2161    1\n",
       "3319    1\n",
       "2374    1\n",
       "3561    1\n",
       "Length: 80, dtype: int64"
      ]
     },
     "execution_count": 100,
     "metadata": {},
     "output_type": "execute_result"
    }
   ],
   "source": [
    "housing_recover=pd.Series(harris_recover_housing_counts)\n",
    "housing_recover"
   ]
  },
  {
   "cell_type": "code",
   "execution_count": 103,
   "metadata": {
    "ExecuteTime": {
     "end_time": "2021-06-12T23:56:29.899394Z",
     "start_time": "2021-06-12T23:56:29.894401Z"
    }
   },
   "outputs": [],
   "source": [
    "housing_recover=pd.Series(housing_recover.index.values, index=housing_recover )"
   ]
  },
  {
   "cell_type": "markdown",
   "metadata": {},
   "source": [
    "Analyzing: DFW, Houston, San Antonio, Austin, McAllen"
   ]
  },
  {
   "cell_type": "code",
   "execution_count": null,
   "metadata": {},
   "outputs": [],
   "source": []
  },
  {
   "cell_type": "code",
   "execution_count": 104,
   "metadata": {
    "ExecuteTime": {
     "end_time": "2021-06-12T23:56:32.026610Z",
     "start_time": "2021-06-12T23:56:32.022981Z"
    }
   },
   "outputs": [],
   "source": [
    "housing_recover=pd.DataFrame(housing_recover)"
   ]
  },
  {
   "cell_type": "code",
   "execution_count": 113,
   "metadata": {
    "ExecuteTime": {
     "end_time": "2021-06-13T00:01:17.998252Z",
     "start_time": "2021-06-13T00:01:17.868087Z"
    }
   },
   "outputs": [
    {
     "data": {
      "text/plain": [
       "<matplotlib.legend.Legend at 0x7f9cfad4fe50>"
      ]
     },
     "execution_count": 113,
     "metadata": {},
     "output_type": "execute_result"
    },
    {
     "data": {
      "image/png": "[encoded data removed]",
      "text/plain": [
       "<Figure size 864x360 with 1 Axes>"
      ]
     },
     "metadata": {
      "needs_background": "light"
     },
     "output_type": "display_data"
    }
   ],
   "source": [
    "import seaborn as sns\n",
    "fig, ax = plt.subplots(figsize=(12,5))\n",
    "sns.kdeplot(data=housing_recover, ax=ax, label='Harris')\n",
    "ax.set_xlim(left=0)\n",
    "ax.legend()"
   ]
  },
  {
   "cell_type": "code",
   "execution_count": 98,
   "metadata": {
    "ExecuteTime": {
     "end_time": "2021-06-12T23:55:25.322980Z",
     "start_time": "2021-06-12T23:55:25.309242Z"
    }
   },
   "outputs": [
    {
     "data": {
      "text/plain": [
       "{1797: 1,\n",
       " 2526: 2,\n",
       " 2312: 2,\n",
       " 2496: 2,\n",
       " 2039: 4,\n",
       " 1155: 1,\n",
       " 2162: 2,\n",
       " 2100: 2,\n",
       " 2861: 1,\n",
       " 2435: 1,\n",
       " 2070: 2,\n",
       " 2708: 2,\n",
       " 2192: 1,\n",
       " 2373: 1,\n",
       " 2434: 2,\n",
       " 2738: 3,\n",
       " 1947: 1,\n",
       " 2557: 5,\n",
       " 1978: 4,\n",
       " 2069: 1,\n",
       " 3135: 2,\n",
       " 2983: 4,\n",
       " 3073: 1,\n",
       " 2740: 1,\n",
       " 2739: 2,\n",
       " 2952: 1,\n",
       " 2953: 1,\n",
       " 2677: 2,\n",
       " 2343: 2,\n",
       " 2680: 1,\n",
       " 670: 2,\n",
       " 1827: 1,\n",
       " 3134: 1,\n",
       " 3622: 1,\n",
       " 2769: 2,\n",
       " 640: 1,\n",
       " 31: 4,\n",
       " 1613: 1,\n",
       " 2922: 1,\n",
       " 3258: 1,\n",
       " 2223: 1,\n",
       " 3043: 1,\n",
       " 731: 2,\n",
       " 2527: 1,\n",
       " 2618: 1,\n",
       " 3074: 2,\n",
       " 701: 1,\n",
       " 3105: 1,\n",
       " 2101: 1,\n",
       " 3288: 1,\n",
       " 3014: 2,\n",
       " 3257: 2,\n",
       " 3349: 2,\n",
       " 3318: 3,\n",
       " 3226: 2,\n",
       " 548: 1,\n",
       " 2131: 1,\n",
       " 1127: 1,\n",
       " 3104: 1,\n",
       " 672: 1,\n",
       " 2800: 1,\n",
       " 3196: 1,\n",
       " 3379: 1,\n",
       " 2830: 1,\n",
       " 700: 1,\n",
       " 2284: 1,\n",
       " 1889: 1,\n",
       " 2648: 1,\n",
       " 517: 1,\n",
       " 3075: 1,\n",
       " 3410: 1,\n",
       " 3227: 2,\n",
       " 3044: 1,\n",
       " 3165: 1,\n",
       " 2981: 1,\n",
       " 3166: 1,\n",
       " 2161: 1,\n",
       " 3319: 1,\n",
       " 2374: 1,\n",
       " 3561: 1}"
      ]
     },
     "execution_count": 98,
     "metadata": {},
     "output_type": "execute_result"
    }
   ],
   "source": [
    "harris_recover_housing_counts"
   ]
  },
  {
   "cell_type": "code",
   "execution_count": null,
   "metadata": {},
   "outputs": [],
   "source": []
  },
  {
   "cell_type": "code",
   "execution_count": null,
   "metadata": {},
   "outputs": [],
   "source": []
  },
  {
   "cell_type": "code",
   "execution_count": null,
   "metadata": {},
   "outputs": [],
   "source": []
  },
  {
   "cell_type": "code",
   "execution_count": null,
   "metadata": {},
   "outputs": [],
   "source": []
  },
  {
   "cell_type": "code",
   "execution_count": null,
   "metadata": {},
   "outputs": [],
   "source": []
  },
  {
   "cell_type": "code",
   "execution_count": null,
   "metadata": {},
   "outputs": [],
   "source": []
  },
  {
   "cell_type": "code",
   "execution_count": null,
   "metadata": {},
   "outputs": [],
   "source": []
  },
  {
   "cell_type": "code",
   "execution_count": null,
   "metadata": {},
   "outputs": [],
   "source": []
  },
  {
   "cell_type": "code",
   "execution_count": null,
   "metadata": {
    "ExecuteTime": {
     "end_time": "2021-06-12T23:43:36.129503Z",
     "start_time": "2021-06-12T23:43:28.139Z"
    }
   },
   "outputs": [],
   "source": [
    "import seaborn as sns\n",
    "fig, ax = plt.subplots(figsize=(12,5))\n",
    "sns.barplot(data=df_77092,x=df_77092.index.year, \n",
    "            y=df_77092['value'], ax=ax)\n",
    "# ax1 = ax.twinx()\n",
    "# sns.lineplot(data=df_77092, x=df_77092.index,\n",
    "#              y=df_77092['value'],sort=False,ax=ax1)\n",
    "ax.plot(df_77092['value'])\n",
    "# sns.lineplot(data=harris_dict_annual[77092], x=harris_dict_annual[77092].index\n",
    "#              y=harris_dict_annual[77092]['value'],sort=False,ax=ax1)"
   ]
  },
  {
   "cell_type": "code",
   "execution_count": null,
   "metadata": {
    "ExecuteTime": {
     "end_time": "2021-06-12T23:43:36.130028Z",
     "start_time": "2021-06-12T23:43:28.140Z"
    }
   },
   "outputs": [],
   "source": [
    "harris_dict_annual[77092].index"
   ]
  },
  {
   "cell_type": "code",
   "execution_count": null,
   "metadata": {},
   "outputs": [],
   "source": []
  },
  {
   "cell_type": "code",
   "execution_count": null,
   "metadata": {},
   "outputs": [],
   "source": []
  },
  {
   "cell_type": "code",
   "execution_count": null,
   "metadata": {
    "ExecuteTime": {
     "end_time": "2021-06-12T23:43:36.130613Z",
     "start_time": "2021-06-12T23:43:28.143Z"
    }
   },
   "outputs": [],
   "source": [
    "harris_dict_annual[77547]['test'] = harris_dict_annual[77547]['value'].pct_change(periods=1)"
   ]
  },
  {
   "cell_type": "code",
   "execution_count": null,
   "metadata": {
    "ExecuteTime": {
     "end_time": "2021-06-12T23:43:36.131190Z",
     "start_time": "2021-06-12T23:43:28.144Z"
    }
   },
   "outputs": [],
   "source": [
    "harris_dict_annual[77547]"
   ]
  },
  {
   "cell_type": "code",
   "execution_count": null,
   "metadata": {},
   "outputs": [],
   "source": []
  },
  {
   "cell_type": "code",
   "execution_count": null,
   "metadata": {},
   "outputs": [],
   "source": []
  },
  {
   "cell_type": "code",
   "execution_count": null,
   "metadata": {
    "ExecuteTime": {
     "end_time": "2021-06-12T23:43:36.141356Z",
     "start_time": "2021-06-12T23:43:28.162Z"
    }
   },
   "outputs": [],
   "source": [
    "ax =df_yearly['test']['2010-01-01':].plot(figsize=(12,5))\n",
    "from matplotlib import dates\n",
    "\n",
    "# ax.xaxis.set_minor_locator(dates.MonthLocator())\n",
    "# ax.xaxis.set_minor_formatter(dates.DateFormatter('\\n\\n%b'))\n",
    "ax.xaxis.set_minor_locator(dates.MonthLocator())\n",
    "# ax.xaxis.set_minor_formatter(dates.DateFormatter('\\n\\n%b'))\n",
    "ax.xaxis.set_minor_formatter(dates.DateFormatter(fmt=\"%Q\"))"
   ]
  },
  {
   "cell_type": "code",
   "execution_count": null,
   "metadata": {
    "ExecuteTime": {
     "end_time": "2021-06-12T23:43:36.142172Z",
     "start_time": "2021-06-12T23:43:28.163Z"
    }
   },
   "outputs": [],
   "source": [
    "df_austinlong.columns"
   ]
  },
  {
   "cell_type": "code",
   "execution_count": null,
   "metadata": {
    "ExecuteTime": {
     "end_time": "2021-06-12T23:43:36.143062Z",
     "start_time": "2021-06-12T23:43:28.165Z"
    }
   },
   "outputs": [],
   "source": [
    "df_austinlong['RegionName'].value_counts(1)"
   ]
  },
  {
   "cell_type": "code",
   "execution_count": null,
   "metadata": {
    "ExecuteTime": {
     "end_time": "2021-06-12T23:43:36.144461Z",
     "start_time": "2021-06-12T23:43:28.165Z"
    }
   },
   "outputs": [],
   "source": [
    "regions = list(df_austinlong['RegionName'].values)"
   ]
  },
  {
   "cell_type": "code",
   "execution_count": null,
   "metadata": {
    "ExecuteTime": {
     "end_time": "2021-06-12T23:43:36.145937Z",
     "start_time": "2021-06-12T23:43:28.166Z"
    }
   },
   "outputs": [],
   "source": [
    "df_austinlong.columns"
   ]
  },
  {
   "cell_type": "code",
   "execution_count": null,
   "metadata": {
    "ExecuteTime": {
     "end_time": "2021-06-12T23:43:36.147180Z",
     "start_time": "2021-06-12T23:43:28.167Z"
    }
   },
   "outputs": [],
   "source": [
    "df_austinlong"
   ]
  },
  {
   "cell_type": "code",
   "execution_count": null,
   "metadata": {
    "ExecuteTime": {
     "end_time": "2021-06-12T23:43:36.149258Z",
     "start_time": "2021-06-12T23:43:28.168Z"
    }
   },
   "outputs": [],
   "source": [
    "df_austinlong.index = pd.to_datetime(df_austinlong.index)"
   ]
  },
  {
   "cell_type": "code",
   "execution_count": null,
   "metadata": {
    "ExecuteTime": {
     "end_time": "2021-06-12T23:43:36.150363Z",
     "start_time": "2021-06-12T23:43:28.169Z"
    }
   },
   "outputs": [],
   "source": [
    "df_austinlong.sort_index()"
   ]
  },
  {
   "cell_type": "code",
   "execution_count": null,
   "metadata": {
    "ExecuteTime": {
     "end_time": "2021-06-12T23:43:36.151082Z",
     "start_time": "2021-06-12T23:43:28.170Z"
    }
   },
   "outputs": [],
   "source": [
    "some_dict = {}\n",
    "for i in regions:\n",
    "    some_dict[i] = df_austinlong[df_austinlong['RegionName']==i]"
   ]
  },
  {
   "cell_type": "code",
   "execution_count": null,
   "metadata": {
    "ExecuteTime": {
     "end_time": "2021-06-12T23:43:36.151623Z",
     "start_time": "2021-06-12T23:43:28.171Z"
    }
   },
   "outputs": [],
   "source": [
    "some_dict.keys()"
   ]
  },
  {
   "cell_type": "code",
   "execution_count": null,
   "metadata": {
    "ExecuteTime": {
     "end_time": "2021-06-12T23:43:36.152156Z",
     "start_time": "2021-06-12T23:43:28.172Z"
    }
   },
   "outputs": [],
   "source": [
    "for k, v in some_dict.items():\n",
    "    some_dict[k].drop(columns=['RegionName', 'City', 'State', 'Metro', 'CountyName'], axis=1,inplace=True)\n",
    "    some_dict[k].sort_index(inplace=True)"
   ]
  },
  {
   "cell_type": "code",
   "execution_count": null,
   "metadata": {
    "ExecuteTime": {
     "end_time": "2021-06-12T23:43:36.152771Z",
     "start_time": "2021-06-12T23:43:28.173Z"
    }
   },
   "outputs": [],
   "source": [
    "\n",
    "plt.plot(some_dict[78746])\n",
    "plt.plot(some_dict[78747])"
   ]
  },
  {
   "cell_type": "code",
   "execution_count": null,
   "metadata": {
    "ExecuteTime": {
     "end_time": "2021-06-12T23:43:36.153376Z",
     "start_time": "2021-06-12T23:43:28.174Z"
    }
   },
   "outputs": [],
   "source": [
    "%matplotlib inline\n",
    "fig, ax = plt.subplots(figsize=(12,5))\n",
    "ax.plot(some_dict[78746], label='78747')\n",
    "ax.plot(some_dict[78747])\n",
    "ax.legend()"
   ]
  },
  {
   "cell_type": "code",
   "execution_count": null,
   "metadata": {},
   "outputs": [],
   "source": []
  },
  {
   "cell_type": "code",
   "execution_count": null,
   "metadata": {},
   "outputs": [],
   "source": []
  },
  {
   "cell_type": "code",
   "execution_count": null,
   "metadata": {},
   "outputs": [],
   "source": []
  },
  {
   "cell_type": "code",
   "execution_count": null,
   "metadata": {
    "ExecuteTime": {
     "end_time": "2021-06-12T23:43:36.153882Z",
     "start_time": "2021-06-12T23:43:28.176Z"
    },
    "scrolled": true
   },
   "outputs": [],
   "source": [
    "df_78722=df_austinlong.loc[df_austinlong['RegionName']==78722]"
   ]
  },
  {
   "cell_type": "code",
   "execution_count": null,
   "metadata": {
    "ExecuteTime": {
     "end_time": "2021-06-12T23:43:36.154440Z",
     "start_time": "2021-06-12T23:43:28.177Z"
    }
   },
   "outputs": [],
   "source": [
    "df_78722 = df_78722.sort_index()"
   ]
  },
  {
   "cell_type": "code",
   "execution_count": null,
   "metadata": {
    "ExecuteTime": {
     "end_time": "2021-06-12T23:43:36.155012Z",
     "start_time": "2021-06-12T23:43:28.178Z"
    }
   },
   "outputs": [],
   "source": [
    "df_78722.drop(columns='pct_change', axis=1, inplace=True)"
   ]
  },
  {
   "cell_type": "code",
   "execution_count": null,
   "metadata": {
    "ExecuteTime": {
     "end_time": "2021-06-12T23:43:36.155540Z",
     "start_time": "2021-06-12T23:43:28.179Z"
    }
   },
   "outputs": [],
   "source": [
    "df_78722_annual =df_78722.resample('Y').mean()"
   ]
  },
  {
   "cell_type": "code",
   "execution_count": null,
   "metadata": {
    "ExecuteTime": {
     "end_time": "2021-06-12T23:43:36.156099Z",
     "start_time": "2021-06-12T23:43:28.180Z"
    }
   },
   "outputs": [],
   "source": [
    "df_78722_annual['year_5'] = df_78722_annual.pct_change(periods=5)"
   ]
  },
  {
   "cell_type": "code",
   "execution_count": null,
   "metadata": {
    "ExecuteTime": {
     "end_time": "2021-06-12T23:43:36.156674Z",
     "start_time": "2021-06-12T23:43:28.181Z"
    }
   },
   "outputs": [],
   "source": [
    "df_78722_annual['year_2'] = df_78722_annual['value'].pct_change(periods=2)"
   ]
  },
  {
   "cell_type": "code",
   "execution_count": null,
   "metadata": {
    "ExecuteTime": {
     "end_time": "2021-06-12T23:43:36.157268Z",
     "start_time": "2021-06-12T23:43:28.182Z"
    }
   },
   "outputs": [],
   "source": [
    "df_78722_annual['year_10'] = df_78722_annual['value'].pct_change(periods=10)"
   ]
  },
  {
   "cell_type": "code",
   "execution_count": null,
   "metadata": {
    "ExecuteTime": {
     "end_time": "2021-06-12T23:43:36.157880Z",
     "start_time": "2021-06-12T23:43:28.183Z"
    }
   },
   "outputs": [],
   "source": [
    "df_78722_annual.drop(columns='test', axis=1, inplace=True)"
   ]
  },
  {
   "cell_type": "code",
   "execution_count": null,
   "metadata": {
    "ExecuteTime": {
     "end_time": "2021-06-12T23:43:36.158478Z",
     "start_time": "2021-06-12T23:43:28.184Z"
    }
   },
   "outputs": [],
   "source": [
    "df_78722_annual.iloc[-1:,:]"
   ]
  },
  {
   "cell_type": "code",
   "execution_count": null,
   "metadata": {
    "ExecuteTime": {
     "end_time": "2021-06-12T14:03:00.290470Z",
     "start_time": "2021-06-12T14:03:00.268076Z"
    }
   },
   "outputs": [],
   "source": []
  },
  {
   "cell_type": "code",
   "execution_count": null,
   "metadata": {
    "ExecuteTime": {
     "end_time": "2021-06-12T23:43:36.159025Z",
     "start_time": "2021-06-12T23:43:28.185Z"
    }
   },
   "outputs": [],
   "source": [
    "some_dict[78702].drop('RegionName', axis=1, inplace=True)"
   ]
  },
  {
   "cell_type": "code",
   "execution_count": null,
   "metadata": {
    "ExecuteTime": {
     "end_time": "2021-06-12T23:43:36.159588Z",
     "start_time": "2021-06-12T23:43:28.186Z"
    }
   },
   "outputs": [],
   "source": [
    "some_dict[78703].columns"
   ]
  },
  {
   "cell_type": "code",
   "execution_count": null,
   "metadata": {},
   "outputs": [],
   "source": []
  },
  {
   "cell_type": "code",
   "execution_count": null,
   "metadata": {},
   "outputs": [],
   "source": []
  },
  {
   "cell_type": "code",
   "execution_count": null,
   "metadata": {},
   "outputs": [],
   "source": []
  },
  {
   "cell_type": "code",
   "execution_count": null,
   "metadata": {},
   "outputs": [],
   "source": []
  },
  {
   "cell_type": "code",
   "execution_count": null,
   "metadata": {},
   "outputs": [],
   "source": []
  },
  {
   "cell_type": "code",
   "execution_count": null,
   "metadata": {},
   "outputs": [],
   "source": []
  },
  {
   "cell_type": "code",
   "execution_count": null,
   "metadata": {},
   "outputs": [],
   "source": []
  },
  {
   "cell_type": "code",
   "execution_count": null,
   "metadata": {},
   "outputs": [],
   "source": []
  },
  {
   "cell_type": "markdown",
   "metadata": {},
   "source": [
    "# Step 3: EDA and Visualization"
   ]
  },
  {
   "cell_type": "code",
   "execution_count": null,
   "metadata": {
    "ExecuteTime": {
     "end_time": "2021-06-12T23:43:36.160183Z",
     "start_time": "2021-06-12T23:43:28.192Z"
    }
   },
   "outputs": [],
   "source": [
    "font = {'family' : 'normal',\n",
    "        'weight' : 'bold',\n",
    "        'size'   : 22}\n",
    "\n",
    "matplotlib.rc('font', **font)\n",
    "\n",
    "# NOTE: if you visualizations are too cluttered to read, try calling 'plt.gcf().autofmt_xdate()'!"
   ]
  },
  {
   "cell_type": "code",
   "execution_count": null,
   "metadata": {},
   "outputs": [],
   "source": []
  },
  {
   "cell_type": "code",
   "execution_count": null,
   "metadata": {},
   "outputs": [],
   "source": []
  },
  {
   "cell_type": "code",
   "execution_count": null,
   "metadata": {},
   "outputs": [],
   "source": []
  },
  {
   "cell_type": "markdown",
   "metadata": {},
   "source": [
    "# Step 4: Reshape from Wide to Long Format"
   ]
  },
  {
   "cell_type": "code",
   "execution_count": null,
   "metadata": {
    "ExecuteTime": {
     "end_time": "2021-06-12T23:43:36.160883Z",
     "start_time": "2021-06-12T23:43:28.195Z"
    }
   },
   "outputs": [],
   "source": [
    "def melt_data(df):\n",
    "    melted = pd.melt(df, id_vars=['RegionName', 'City', 'State', 'Metro', 'CountyName'], var_name='time')\n",
    "    melted['time'] = pd.to_datetime(melted['time'], infer_datetime_format=True)\n",
    "    melted = melted.dropna(subset=['value'])\n",
    "    return melted.groupby('time').aggregate({'value':'mean'})"
   ]
  },
  {
   "cell_type": "code",
   "execution_count": null,
   "metadata": {},
   "outputs": [],
   "source": []
  },
  {
   "cell_type": "code",
   "execution_count": null,
   "metadata": {},
   "outputs": [],
   "source": []
  },
  {
   "cell_type": "code",
   "execution_count": null,
   "metadata": {},
   "outputs": [],
   "source": []
  },
  {
   "cell_type": "code",
   "execution_count": null,
   "metadata": {},
   "outputs": [],
   "source": []
  },
  {
   "cell_type": "markdown",
   "metadata": {},
   "source": [
    "# Step 5: ARIMA Modeling"
   ]
  },
  {
   "cell_type": "code",
   "execution_count": null,
   "metadata": {},
   "outputs": [],
   "source": []
  },
  {
   "cell_type": "code",
   "execution_count": null,
   "metadata": {},
   "outputs": [],
   "source": []
  },
  {
   "cell_type": "code",
   "execution_count": null,
   "metadata": {},
   "outputs": [],
   "source": []
  },
  {
   "cell_type": "code",
   "execution_count": null,
   "metadata": {},
   "outputs": [],
   "source": []
  },
  {
   "cell_type": "code",
   "execution_count": null,
   "metadata": {},
   "outputs": [],
   "source": []
  },
  {
   "cell_type": "code",
   "execution_count": null,
   "metadata": {},
   "outputs": [],
   "source": []
  },
  {
   "cell_type": "markdown",
   "metadata": {},
   "source": [
    "# Step 6: Interpreting Results"
   ]
  },
  {
   "cell_type": "code",
   "execution_count": null,
   "metadata": {},
   "outputs": [],
   "source": []
  },
  {
   "cell_type": "code",
   "execution_count": null,
   "metadata": {},
   "outputs": [],
   "source": []
  },
  {
   "cell_type": "code",
   "execution_count": null,
   "metadata": {},
   "outputs": [],
   "source": []
  }
 ],
 "metadata": {
  "kernelspec": {
   "display_name": "learn-env",
   "language": "python",
   "name": "learn-env"
  },
  "language_info": {
   "codemirror_mode": {
    "name": "ipython",
    "version": 3
   },
   "file_extension": ".py",
   "mimetype": "text/x-python",
   "name": "python",
   "nbconvert_exporter": "python",
   "pygments_lexer": "ipython3",
   "version": "3.8.5"
  },
  "toc": {
   "base_numbering": 1,
   "nav_menu": {},
   "number_sections": true,
   "sideBar": true,
   "skip_h1_title": false,
   "title_cell": "Table of Contents",
   "title_sidebar": "Contents",
   "toc_cell": false,
   "toc_position": {},
   "toc_section_display": true,
   "toc_window_display": true
  }
 },
 "nbformat": 4,
 "nbformat_minor": 2
}

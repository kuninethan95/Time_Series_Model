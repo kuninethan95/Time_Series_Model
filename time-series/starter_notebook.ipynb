{
 "cells": [
  {
   "cell_type": "markdown",
   "metadata": {},
   "source": [
    "# Mod 4 Project - Starter Notebook\n",
    "\n",
    "This notebook has been provided to you so that you can make use of the following starter code to help with the trickier parts of preprocessing the Zillow dataset. \n",
    "\n",
    "The notebook contains a rough outline the general order you'll likely want to take in this project. You'll notice that most of the areas are left blank. This is so that it's more obvious exactly when you should make use of the starter code provided for preprocessing. \n",
    "\n",
    "**_NOTE:_** The number of empty cells are not meant to infer how much or how little code should be involved in any given step--we've just provided a few for your convenience. Add, delete, and change things around in this notebook as needed!\n",
    "\n",
    "# Some Notes Before Starting\n",
    "\n",
    "This project will be one of the more challenging projects you complete in this program. This is because working with Time Series data is a bit different than working with regular datasets. In order to make this a bit less frustrating and help you understand what you need to do (and when you need to do it), we'll quickly review the dataset formats that you'll encounter in this project. \n",
    "\n",
    "## Wide Format vs Long Format\n",
    "\n",
    "If you take a look at the format of the data in `zillow_data.csv`, you'll notice that the actual Time Series values are stored as separate columns. Here's a sample: \n",
    "\n",
    "<img src='https://raw.githubusercontent.com/learn-co-students/dsc-mod-4-project-seattle-ds-102819/master/images/df_head.png'>\n",
    "\n",
    "You'll notice that the first seven columns look like any other dataset you're used to working with. However, column 8 refers to the median housing sales values for April 1996, column 9 for May 1996, and so on. This This is called **_Wide Format_**, and it makes the dataframe intuitive and easy to read. However, there are problems with this format when it comes to actually learning from the data, because the data only makes sense if you know the name of the column that the data can be found it. Since column names are metadata, our algorithms will miss out on what dates each value is for. This means that before we pass this data to our ARIMA model, we'll need to reshape our dataset to **_Long Format_**. Reshaped into long format, the dataframe above would now look like:\n",
    "\n",
    "<img src='https://raw.githubusercontent.com/learn-co-students/dsc-mod-4-project-seattle-ds-102819/master/images/melted1.png'>\n",
    "\n",
    "There are now many more rows in this dataset--one for each unique time and zipcode combination in the data! Once our dataset is in this format, we'll be able to train an ARIMA model on it. The method used to convert from Wide to Long is `pd.melt()`, and it is common to refer to our dataset as 'melted' after the transition to denote that it is in long format. \n",
    "\n",
    "# Helper Functions Provided\n",
    "\n",
    "Melting a dataset can be tricky if you've never done it before, so you'll see that we have provided a sample function, `melt_data()`, to help you with this step below. Also provided is:\n",
    "\n",
    "* `get_datetimes()`, a function to deal with converting the column values for datetimes as a pandas series of datetime objects\n",
    "* Some good parameters for matplotlib to help make your visualizations more readable. \n",
    "\n",
    "Good luck!\n",
    "\n",
    "\n",
    "# Step 1: Load the Data/Filtering for Chosen Zipcodes"
   ]
  },
  {
   "cell_type": "code",
   "execution_count": 1,
   "metadata": {
    "ExecuteTime": {
     "end_time": "2021-06-12T23:43:32.009489Z",
     "start_time": "2021-06-12T23:43:28.061130Z"
    }
   },
   "outputs": [],
   "source": [
    "import pandas as pd\n",
    "import numpy as np"
   ]
  },
  {
   "cell_type": "code",
   "execution_count": 2,
   "metadata": {
    "ExecuteTime": {
     "end_time": "2021-06-12T23:43:32.337256Z",
     "start_time": "2021-06-12T23:43:32.010640Z"
    }
   },
   "outputs": [],
   "source": [
    "df = pd.read_csv('zillow_data.csv')"
   ]
  },
  {
   "cell_type": "code",
   "execution_count": 242,
   "metadata": {
    "ExecuteTime": {
     "end_time": "2021-06-13T22:51:20.148099Z",
     "start_time": "2021-06-13T22:51:20.003821Z"
    }
   },
   "outputs": [
    {
     "data": {
      "text/html": [
       "<div>\n",
       "<style scoped>\n",
       "    .dataframe tbody tr th:only-of-type {\n",
       "        vertical-align: middle;\n",
       "    }\n",
       "\n",
       "    .dataframe tbody tr th {\n",
       "        vertical-align: top;\n",
       "    }\n",
       "\n",
       "    .dataframe thead th {\n",
       "        text-align: right;\n",
       "    }\n",
       "</style>\n",
       "<table border=\"1\" class=\"dataframe\">\n",
       "  <thead>\n",
       "    <tr style=\"text-align: right;\">\n",
       "      <th></th>\n",
       "      <th>RegionName</th>\n",
       "      <th>City</th>\n",
       "      <th>State</th>\n",
       "      <th>Metro</th>\n",
       "      <th>CountyName</th>\n",
       "      <th>1996-04</th>\n",
       "      <th>1996-05</th>\n",
       "      <th>1996-06</th>\n",
       "      <th>1996-07</th>\n",
       "      <th>1996-08</th>\n",
       "      <th>...</th>\n",
       "      <th>2017-07</th>\n",
       "      <th>2017-08</th>\n",
       "      <th>2017-09</th>\n",
       "      <th>2017-10</th>\n",
       "      <th>2017-11</th>\n",
       "      <th>2017-12</th>\n",
       "      <th>2018-01</th>\n",
       "      <th>2018-02</th>\n",
       "      <th>2018-03</th>\n",
       "      <th>2018-04</th>\n",
       "    </tr>\n",
       "  </thead>\n",
       "  <tbody>\n",
       "    <tr>\n",
       "      <th>0</th>\n",
       "      <td>60657</td>\n",
       "      <td>Chicago</td>\n",
       "      <td>IL</td>\n",
       "      <td>Chicago</td>\n",
       "      <td>Cook</td>\n",
       "      <td>334200.0</td>\n",
       "      <td>335400.0</td>\n",
       "      <td>336500.0</td>\n",
       "      <td>337600.0</td>\n",
       "      <td>338500.0</td>\n",
       "      <td>...</td>\n",
       "      <td>1005500</td>\n",
       "      <td>1007500</td>\n",
       "      <td>1007800</td>\n",
       "      <td>1009600</td>\n",
       "      <td>1013300</td>\n",
       "      <td>1018700</td>\n",
       "      <td>1024400</td>\n",
       "      <td>1030700</td>\n",
       "      <td>1033800</td>\n",
       "      <td>1030600</td>\n",
       "    </tr>\n",
       "    <tr>\n",
       "      <th>1</th>\n",
       "      <td>75070</td>\n",
       "      <td>McKinney</td>\n",
       "      <td>TX</td>\n",
       "      <td>Dallas-Fort Worth</td>\n",
       "      <td>Collin</td>\n",
       "      <td>235700.0</td>\n",
       "      <td>236900.0</td>\n",
       "      <td>236700.0</td>\n",
       "      <td>235400.0</td>\n",
       "      <td>233300.0</td>\n",
       "      <td>...</td>\n",
       "      <td>308000</td>\n",
       "      <td>310000</td>\n",
       "      <td>312500</td>\n",
       "      <td>314100</td>\n",
       "      <td>315000</td>\n",
       "      <td>316600</td>\n",
       "      <td>318100</td>\n",
       "      <td>319600</td>\n",
       "      <td>321100</td>\n",
       "      <td>321800</td>\n",
       "    </tr>\n",
       "    <tr>\n",
       "      <th>2</th>\n",
       "      <td>77494</td>\n",
       "      <td>Katy</td>\n",
       "      <td>TX</td>\n",
       "      <td>Houston</td>\n",
       "      <td>Harris</td>\n",
       "      <td>210400.0</td>\n",
       "      <td>212200.0</td>\n",
       "      <td>212200.0</td>\n",
       "      <td>210700.0</td>\n",
       "      <td>208300.0</td>\n",
       "      <td>...</td>\n",
       "      <td>321000</td>\n",
       "      <td>320600</td>\n",
       "      <td>320200</td>\n",
       "      <td>320400</td>\n",
       "      <td>320800</td>\n",
       "      <td>321200</td>\n",
       "      <td>321200</td>\n",
       "      <td>323000</td>\n",
       "      <td>326900</td>\n",
       "      <td>329900</td>\n",
       "    </tr>\n",
       "    <tr>\n",
       "      <th>3</th>\n",
       "      <td>60614</td>\n",
       "      <td>Chicago</td>\n",
       "      <td>IL</td>\n",
       "      <td>Chicago</td>\n",
       "      <td>Cook</td>\n",
       "      <td>498100.0</td>\n",
       "      <td>500900.0</td>\n",
       "      <td>503100.0</td>\n",
       "      <td>504600.0</td>\n",
       "      <td>505500.0</td>\n",
       "      <td>...</td>\n",
       "      <td>1289800</td>\n",
       "      <td>1287700</td>\n",
       "      <td>1287400</td>\n",
       "      <td>1291500</td>\n",
       "      <td>1296600</td>\n",
       "      <td>1299000</td>\n",
       "      <td>1302700</td>\n",
       "      <td>1306400</td>\n",
       "      <td>1308500</td>\n",
       "      <td>1307000</td>\n",
       "    </tr>\n",
       "    <tr>\n",
       "      <th>4</th>\n",
       "      <td>79936</td>\n",
       "      <td>El Paso</td>\n",
       "      <td>TX</td>\n",
       "      <td>El Paso</td>\n",
       "      <td>El Paso</td>\n",
       "      <td>77300.0</td>\n",
       "      <td>77300.0</td>\n",
       "      <td>77300.0</td>\n",
       "      <td>77300.0</td>\n",
       "      <td>77400.0</td>\n",
       "      <td>...</td>\n",
       "      <td>119100</td>\n",
       "      <td>119400</td>\n",
       "      <td>120000</td>\n",
       "      <td>120300</td>\n",
       "      <td>120300</td>\n",
       "      <td>120300</td>\n",
       "      <td>120300</td>\n",
       "      <td>120500</td>\n",
       "      <td>121000</td>\n",
       "      <td>121500</td>\n",
       "    </tr>\n",
       "  </tbody>\n",
       "</table>\n",
       "<p>5 rows × 270 columns</p>\n",
       "</div>"
      ],
      "text/plain": [
       "   RegionName      City State              Metro CountyName   1996-04  \\\n",
       "0       60657   Chicago    IL            Chicago       Cook  334200.0   \n",
       "1       75070  McKinney    TX  Dallas-Fort Worth     Collin  235700.0   \n",
       "2       77494      Katy    TX            Houston     Harris  210400.0   \n",
       "3       60614   Chicago    IL            Chicago       Cook  498100.0   \n",
       "4       79936   El Paso    TX            El Paso    El Paso   77300.0   \n",
       "\n",
       "    1996-05   1996-06   1996-07   1996-08  ...  2017-07  2017-08  2017-09  \\\n",
       "0  335400.0  336500.0  337600.0  338500.0  ...  1005500  1007500  1007800   \n",
       "1  236900.0  236700.0  235400.0  233300.0  ...   308000   310000   312500   \n",
       "2  212200.0  212200.0  210700.0  208300.0  ...   321000   320600   320200   \n",
       "3  500900.0  503100.0  504600.0  505500.0  ...  1289800  1287700  1287400   \n",
       "4   77300.0   77300.0   77300.0   77400.0  ...   119100   119400   120000   \n",
       "\n",
       "   2017-10  2017-11  2017-12  2018-01  2018-02  2018-03  2018-04  \n",
       "0  1009600  1013300  1018700  1024400  1030700  1033800  1030600  \n",
       "1   314100   315000   316600   318100   319600   321100   321800  \n",
       "2   320400   320800   321200   321200   323000   326900   329900  \n",
       "3  1291500  1296600  1299000  1302700  1306400  1308500  1307000  \n",
       "4   120300   120300   120300   120300   120500   121000   121500  \n",
       "\n",
       "[5 rows x 270 columns]"
      ]
     },
     "execution_count": 242,
     "metadata": {},
     "output_type": "execute_result"
    }
   ],
   "source": [
    "#Make sure data was imported correctly\n",
    "\n",
    "df.head()"
   ]
  },
  {
   "cell_type": "markdown",
   "metadata": {},
   "source": [
    "# Step 2: Data Preprocessing"
   ]
  },
  {
   "cell_type": "code",
   "execution_count": 5,
   "metadata": {
    "ExecuteTime": {
     "end_time": "2021-06-12T23:43:32.374039Z",
     "start_time": "2021-06-12T23:43:32.371874Z"
    }
   },
   "outputs": [],
   "source": [
    "#Helpter function to pivot from wide to long format\n",
    "\n",
    "def melt_data(df):\n",
    "    melted = pd.melt(df, id_vars=['RegionName', 'City', 'State', 'Metro', 'CountyName'], var_name='time')\n",
    "    melted['time'] = pd.to_datetime(melted['time'], infer_datetime_format=True)\n",
    "    melted = melted.dropna(subset=['value'])\n",
    "    return melted#melted.groupby('time').aggregate({'value':'mean'})"
   ]
  },
  {
   "cell_type": "code",
   "execution_count": 6,
   "metadata": {
    "ExecuteTime": {
     "end_time": "2021-06-12T23:43:32.393642Z",
     "start_time": "2021-06-12T23:43:32.374887Z"
    }
   },
   "outputs": [],
   "source": [
    "# Drop columns that aren't included in the helper function\n",
    "\n",
    "df.drop(columns=['RegionID','SizeRank'], axis=1, inplace=True)"
   ]
  },
  {
   "cell_type": "code",
   "execution_count": 243,
   "metadata": {
    "ExecuteTime": {
     "end_time": "2021-06-13T22:52:47.697761Z",
     "start_time": "2021-06-13T22:52:46.018362Z"
    }
   },
   "outputs": [
    {
     "data": {
      "text/html": [
       "<div>\n",
       "<style scoped>\n",
       "    .dataframe tbody tr th:only-of-type {\n",
       "        vertical-align: middle;\n",
       "    }\n",
       "\n",
       "    .dataframe tbody tr th {\n",
       "        vertical-align: top;\n",
       "    }\n",
       "\n",
       "    .dataframe thead th {\n",
       "        text-align: right;\n",
       "    }\n",
       "</style>\n",
       "<table border=\"1\" class=\"dataframe\">\n",
       "  <thead>\n",
       "    <tr style=\"text-align: right;\">\n",
       "      <th></th>\n",
       "      <th>RegionName</th>\n",
       "      <th>City</th>\n",
       "      <th>State</th>\n",
       "      <th>Metro</th>\n",
       "      <th>CountyName</th>\n",
       "      <th>time</th>\n",
       "      <th>value</th>\n",
       "    </tr>\n",
       "  </thead>\n",
       "  <tbody>\n",
       "    <tr>\n",
       "      <th>0</th>\n",
       "      <td>60657</td>\n",
       "      <td>Chicago</td>\n",
       "      <td>IL</td>\n",
       "      <td>Chicago</td>\n",
       "      <td>Cook</td>\n",
       "      <td>1996-04-01</td>\n",
       "      <td>334200.0</td>\n",
       "    </tr>\n",
       "    <tr>\n",
       "      <th>1</th>\n",
       "      <td>75070</td>\n",
       "      <td>McKinney</td>\n",
       "      <td>TX</td>\n",
       "      <td>Dallas-Fort Worth</td>\n",
       "      <td>Collin</td>\n",
       "      <td>1996-04-01</td>\n",
       "      <td>235700.0</td>\n",
       "    </tr>\n",
       "    <tr>\n",
       "      <th>2</th>\n",
       "      <td>77494</td>\n",
       "      <td>Katy</td>\n",
       "      <td>TX</td>\n",
       "      <td>Houston</td>\n",
       "      <td>Harris</td>\n",
       "      <td>1996-04-01</td>\n",
       "      <td>210400.0</td>\n",
       "    </tr>\n",
       "    <tr>\n",
       "      <th>3</th>\n",
       "      <td>60614</td>\n",
       "      <td>Chicago</td>\n",
       "      <td>IL</td>\n",
       "      <td>Chicago</td>\n",
       "      <td>Cook</td>\n",
       "      <td>1996-04-01</td>\n",
       "      <td>498100.0</td>\n",
       "    </tr>\n",
       "    <tr>\n",
       "      <th>4</th>\n",
       "      <td>79936</td>\n",
       "      <td>El Paso</td>\n",
       "      <td>TX</td>\n",
       "      <td>El Paso</td>\n",
       "      <td>El Paso</td>\n",
       "      <td>1996-04-01</td>\n",
       "      <td>77300.0</td>\n",
       "    </tr>\n",
       "  </tbody>\n",
       "</table>\n",
       "</div>"
      ],
      "text/plain": [
       "   RegionName      City State              Metro CountyName       time  \\\n",
       "0       60657   Chicago    IL            Chicago       Cook 1996-04-01   \n",
       "1       75070  McKinney    TX  Dallas-Fort Worth     Collin 1996-04-01   \n",
       "2       77494      Katy    TX            Houston     Harris 1996-04-01   \n",
       "3       60614   Chicago    IL            Chicago       Cook 1996-04-01   \n",
       "4       79936   El Paso    TX            El Paso    El Paso 1996-04-01   \n",
       "\n",
       "      value  \n",
       "0  334200.0  \n",
       "1  235700.0  \n",
       "2  210400.0  \n",
       "3  498100.0  \n",
       "4   77300.0  "
      ]
     },
     "execution_count": 243,
     "metadata": {},
     "output_type": "execute_result"
    }
   ],
   "source": [
    "# Ensure data is melted\n",
    "\n",
    "df_melted = melt_data(df)\n",
    "df_melted.head(5)"
   ]
  },
  {
   "cell_type": "code",
   "execution_count": 8,
   "metadata": {
    "ExecuteTime": {
     "end_time": "2021-06-12T23:43:33.853589Z",
     "start_time": "2021-06-12T23:43:33.630640Z"
    }
   },
   "outputs": [],
   "source": [
    "# Set DataFrame to only show Texas values\n",
    "\n",
    "df_texas = df_melted[df_melted['State']=='TX']"
   ]
  },
  {
   "cell_type": "code",
   "execution_count": 9,
   "metadata": {
    "ExecuteTime": {
     "end_time": "2021-06-12T23:43:33.857088Z",
     "start_time": "2021-06-12T23:43:33.854698Z"
    }
   },
   "outputs": [],
   "source": [
    "# Set index\n",
    "\n",
    "df_texas.set_index('time', inplace=True)"
   ]
  },
  {
   "cell_type": "code",
   "execution_count": 10,
   "metadata": {
    "ExecuteTime": {
     "end_time": "2021-06-12T23:43:33.870436Z",
     "start_time": "2021-06-12T23:43:33.858056Z"
    }
   },
   "outputs": [],
   "source": [
    "# Set index as datetime object\n",
    "\n",
    "df_texas.index = pd.to_datetime(df_texas.index)"
   ]
  },
  {
   "cell_type": "markdown",
   "metadata": {},
   "source": [
    "# EDA and Visualization"
   ]
  },
  {
   "cell_type": "markdown",
   "metadata": {},
   "source": [
    "## Tech Bust Finder"
   ]
  },
  {
   "cell_type": "markdown",
   "metadata": {},
   "source": [
    "Classifying dotcom bust as 1999 to June 2001"
   ]
  },
  {
   "cell_type": "code",
   "execution_count": 35,
   "metadata": {
    "ExecuteTime": {
     "end_time": "2021-06-12T23:44:16.403926Z",
     "start_time": "2021-06-12T23:44:16.400366Z"
    }
   },
   "outputs": [],
   "source": [
    "df_77092 = harris_dict_full[77092].copy()"
   ]
  },
  {
   "cell_type": "code",
   "execution_count": 54,
   "metadata": {
    "ExecuteTime": {
     "end_time": "2021-06-12T23:47:04.969065Z",
     "start_time": "2021-06-12T23:47:04.953825Z"
    }
   },
   "outputs": [
    {
     "name": "stdout",
     "output_type": "stream",
     "text": [
      "1999-09-01 00:00:00\n"
     ]
    },
    {
     "data": {
      "text/plain": [
       "112500.0"
      ]
     },
     "execution_count": 54,
     "metadata": {},
     "output_type": "execute_result"
    }
   ],
   "source": [
    "print(df_77092['1999-01-01':'2001-06-01']['value'].idxmin())\n",
    "df_77092['1999-01-01':'2001-06-01']['value'].min()"
   ]
  },
  {
   "cell_type": "code",
   "execution_count": 55,
   "metadata": {
    "ExecuteTime": {
     "end_time": "2021-06-12T23:47:05.452380Z",
     "start_time": "2021-06-12T23:47:05.443133Z"
    }
   },
   "outputs": [
    {
     "data": {
      "text/plain": [
       "63100.0"
      ]
     },
     "execution_count": 55,
     "metadata": {},
     "output_type": "execute_result"
    }
   ],
   "source": [
    "# min_val_idx =harris_dict_full[77021]['1999-01-01':'2001-01-01']['value'].idxmin()\n",
    "min_value = harris_dict_full[77032]['1999-01-01':'2001-06-01']['value'].min()\n",
    "min_value"
   ]
  },
  {
   "cell_type": "code",
   "execution_count": 56,
   "metadata": {
    "ExecuteTime": {
     "end_time": "2021-06-12T23:47:07.945036Z",
     "start_time": "2021-06-12T23:47:07.784175Z"
    }
   },
   "outputs": [
    {
     "data": {
      "text/plain": [
       "<AxesSubplot:xlabel='time'>"
      ]
     },
     "execution_count": 56,
     "metadata": {},
     "output_type": "execute_result"
    },
    {
     "data": {
      "image/png": "[encoded data removed]",
      "text/plain": [
       "<Figure size 432x288 with 1 Axes>"
      ]
     },
     "metadata": {
      "needs_background": "light"
     },
     "output_type": "display_data"
    }
   ],
   "source": [
    "harris_dict_full[77032]['value']['1996-01-01':'2005-01-01'].plot()"
   ]
  },
  {
   "cell_type": "code",
   "execution_count": 57,
   "metadata": {
    "ExecuteTime": {
     "end_time": "2021-06-12T23:47:09.630282Z",
     "start_time": "2021-06-12T23:47:09.618619Z"
    }
   },
   "outputs": [
    {
     "data": {
      "text/plain": [
       "Timestamp('2001-06-01 00:00:00')"
      ]
     },
     "execution_count": 57,
     "metadata": {},
     "output_type": "execute_result"
    }
   ],
   "source": [
    "min_value_after=(harris_dict_full[77021]['2001-06-01':]['value']>=min_value).idxmin()\n",
    "min_value_after"
   ]
  },
  {
   "cell_type": "code",
   "execution_count": 58,
   "metadata": {
    "ExecuteTime": {
     "end_time": "2021-06-12T23:47:10.372401Z",
     "start_time": "2021-06-12T23:47:10.352631Z"
    }
   },
   "outputs": [
    {
     "ename": "NameError",
     "evalue": "name 'min_val_idx' is not defined",
     "output_type": "error",
     "traceback": [
      "\u001b[0;31m---------------------------------------------------------------------------\u001b[0m",
      "\u001b[0;31mNameError\u001b[0m                                 Traceback (most recent call last)",
      "\u001b[0;32m<ipython-input-58-30e7feb8c539>\u001b[0m in \u001b[0;36m<module>\u001b[0;34m\u001b[0m\n\u001b[1;32m      1\u001b[0m \u001b[0;31m# Took 212 days to recover\u001b[0m\u001b[0;34m\u001b[0m\u001b[0;34m\u001b[0m\u001b[0;34m\u001b[0m\u001b[0m\n\u001b[0;32m----> 2\u001b[0;31m \u001b[0mtd\u001b[0m \u001b[0;34m=\u001b[0m \u001b[0mmin_value_after\u001b[0m\u001b[0;34m-\u001b[0m\u001b[0mmin_val_idx\u001b[0m\u001b[0;34m\u001b[0m\u001b[0;34m\u001b[0m\u001b[0m\n\u001b[0m\u001b[1;32m      3\u001b[0m \u001b[0mtd\u001b[0m\u001b[0;34m.\u001b[0m\u001b[0mdays\u001b[0m\u001b[0;34m\u001b[0m\u001b[0;34m\u001b[0m\u001b[0m\n",
      "\u001b[0;31mNameError\u001b[0m: name 'min_val_idx' is not defined"
     ]
    }
   ],
   "source": [
    "# Took 212 days to recover\n",
    "td = min_value_after-min_val_idx\n",
    "td.days"
   ]
  },
  {
   "cell_type": "markdown",
   "metadata": {},
   "source": [
    "Fix to match housing bust boom graph"
   ]
  },
  {
   "cell_type": "code",
   "execution_count": 41,
   "metadata": {
    "ExecuteTime": {
     "end_time": "2021-06-12T23:44:49.713549Z",
     "start_time": "2021-06-12T23:44:25.613298Z"
    }
   },
   "outputs": [],
   "source": [
    "harris_recover_dotcom = {}\n",
    "for zip_ in harris_zips:\n",
    "    for zip_, vals in harris_dict_full.items():\n",
    "        idx_max_pre = harris_dict_full[zip_]['1999-01-01':'2001-06-01']['value'].idxmax()\n",
    "        val_max_pre = harris_dict_full[zip_]['2000-01-01':'2001-06-01']['value'].max()\n",
    "        idx_max_post=(harris_dict_full[zip_]['2001-06-01':]['value']>=val_max_pre).idxmax()\n",
    "        td = idx_max_post - idx_max_pre\n",
    "        days = td.days\n",
    "        harris_recover_dotcom[zip_]=days"
   ]
  },
  {
   "cell_type": "code",
   "execution_count": 42,
   "metadata": {
    "ExecuteTime": {
     "end_time": "2021-06-12T23:44:53.409086Z",
     "start_time": "2021-06-12T23:44:53.401887Z"
    }
   },
   "outputs": [],
   "source": [
    "test=pd.Series(data=harris_recover_dotcom, index=harris_recover_dotcom.keys()).sort_values()"
   ]
  },
  {
   "cell_type": "code",
   "execution_count": 47,
   "metadata": {
    "ExecuteTime": {
     "end_time": "2021-06-12T23:45:46.764246Z",
     "start_time": "2021-06-12T23:45:46.751116Z"
    }
   },
   "outputs": [
    {
     "data": {
      "text/plain": [
       "0       40\n",
       "912      3\n",
       "1461     3\n",
       "1279     2\n",
       "273      2\n",
       "        ..\n",
       "1339     1\n",
       "4536     1\n",
       "1644     1\n",
       "5814     1\n",
       "700      1\n",
       "Name: 0, Length: 65, dtype: int64"
      ]
     },
     "execution_count": 47,
     "metadata": {},
     "output_type": "execute_result"
    }
   ],
   "source": [
    "test =pd.DataFrame(test)\n",
    "test[0].value_counts()"
   ]
  },
  {
   "cell_type": "code",
   "execution_count": 59,
   "metadata": {
    "ExecuteTime": {
     "end_time": "2021-06-12T23:47:25.471181Z",
     "start_time": "2021-06-12T23:47:25.463948Z"
    }
   },
   "outputs": [],
   "source": [
    "harris_recover_dotcom_counts={}\n",
    "for k, v in harris_recover_dotcom.items():\n",
    "    if v in harris_recover_dotcom_counts.keys():\n",
    "        harris_recover_dotcom_counts[v] +=1\n",
    "    else:\n",
    "        harris_recover_dotcom_counts[v] = 1"
   ]
  },
  {
   "cell_type": "code",
   "execution_count": 69,
   "metadata": {
    "ExecuteTime": {
     "end_time": "2021-06-12T23:48:23.090131Z",
     "start_time": "2021-06-12T23:48:23.082899Z"
    }
   },
   "outputs": [],
   "source": [
    "dotcom_recovery = pd.Series(harris_recover_dotcom_counts).sort_index(ascending=True)"
   ]
  },
  {
   "cell_type": "code",
   "execution_count": 73,
   "metadata": {
    "ExecuteTime": {
     "end_time": "2021-06-12T23:49:08.831851Z",
     "start_time": "2021-06-12T23:49:08.288895Z"
    }
   },
   "outputs": [
    {
     "data": {
      "text/plain": [
       "<AxesSubplot:>"
      ]
     },
     "execution_count": 73,
     "metadata": {},
     "output_type": "execute_result"
    },
    {
     "data": {
      "image/png": "[encoded data removed]",
      "text/plain": [
       "<Figure size 864x360 with 1 Axes>"
      ]
     },
     "metadata": {
      "needs_background": "light"
     },
     "output_type": "display_data"
    }
   ],
   "source": [
    "dotcom_recovery.plot(kind='bar', figsize=(12,5))\n"
   ]
  },
  {
   "cell_type": "code",
   "execution_count": 165,
   "metadata": {
    "ExecuteTime": {
     "end_time": "2021-06-13T14:00:21.321288Z",
     "start_time": "2021-06-13T13:59:57.407677Z"
    }
   },
   "outputs": [],
   "source": [
    "\n",
    "harris_recover_housing = {}\n",
    "for zip_ in harris_zips:\n",
    "    for zip_, vals in harris_dict_full.items():\n",
    "        idx_max_pre = harris_dict_full[zip_]['2005-01-01':'2008-12-31']['value'].idxmax()\n",
    "        val_max_pre = harris_dict_full[zip_]['2005-01-01':'2008-12-31']['value'].max()\n",
    "        idx_max_post=(harris_dict_full[zip_]['2008-12-30':]['value']>=val_max_pre).idxmax()\n",
    "        td = idx_max_post - idx_max_pre\n",
    "        days = td.days\n",
    "        harris_recover_housing[zip_]=days"
   ]
  },
  {
   "cell_type": "markdown",
   "metadata": {},
   "source": [
    "## 2008 Housing Bubble Recovery Time"
   ]
  },
  {
   "cell_type": "markdown",
   "metadata": {
    "ExecuteTime": {
     "end_time": "2021-06-12T23:43:36.121276Z",
     "start_time": "2021-06-12T23:43:28.122Z"
    }
   },
   "source": [
    "Look into correlation of results between two different bust cycles as % change values"
   ]
  },
  {
   "cell_type": "code",
   "execution_count": 244,
   "metadata": {
    "ExecuteTime": {
     "end_time": "2021-06-13T23:00:54.927054Z",
     "start_time": "2021-06-13T23:00:54.901703Z"
    }
   },
   "outputs": [],
   "source": [
    "def df_maker(df, county):\n",
    "    \"\"\"\n",
    "    Takes a DataFrame and returns sliced version only including specified county\n",
    "    Parameters:\n",
    "    DataFrame, country\n",
    "    Returns:\n",
    "    DataFrame sliced to only include specified county\n",
    "    \"\"\"\n",
    "    df = df_texas[df_texas['CountyName']==county].copy()\n",
    "    return df"
   ]
  },
  {
   "cell_type": "code",
   "execution_count": 174,
   "metadata": {
    "ExecuteTime": {
     "end_time": "2021-06-13T14:07:41.050823Z",
     "start_time": "2021-06-13T14:07:41.042380Z"
    }
   },
   "outputs": [],
   "source": [
    "def county_dict_maker(df):\n",
    "    \"\"\"\n",
    "    Takes a DataFrame and returns a dictionary where keys are zip codes and values\n",
    "    are DataFrames with specified zip codes and median home values\n",
    "    Parameters:\n",
    "    DataFrame\n",
    "    Returns:\n",
    "    Dictionary with zip code keys and DataFrame values\n",
    "    \"\"\"\n",
    "    df.drop(columns=['City', 'State', 'Metro', 'CountyName'], axis=1, inplace=True)\n",
    "    zips=list(df['RegionName'].unique())\n",
    "    dict_full = {}\n",
    "    for zip_ in zips:\n",
    "        dict_full[zip_] = df[df['RegionName']==zip_]\n",
    "    return dict_full"
   ]
  },
  {
   "cell_type": "code",
   "execution_count": 245,
   "metadata": {
    "ExecuteTime": {
     "end_time": "2021-06-13T23:09:07.925907Z",
     "start_time": "2021-06-13T23:09:07.890002Z"
    }
   },
   "outputs": [],
   "source": [
    "# Try except because certain zip codes do not full into time constra\n",
    "def housing_bust_finder(df, dict_full):\n",
    "    \"\"\"\n",
    "    Takes a DataFrame and dictionary and returns a DataFrame where each zipcode specifies\n",
    "    the number of days it took to reach the max price between 2005 and 2008 along with a dictionary\n",
    "    showing the frequency of number of days to reach previous maximum value\n",
    "    Parameters:\n",
    "    DataFrame and dictionary\n",
    "    Returns:\n",
    "    DataFrame where each zipcode specifies the number of days until recovery and dictionary where\n",
    "    keys are frequency and values are days until recovery\n",
    "    \"\"\"\n",
    "    # Create list of unique zip codes in the region\n",
    "    zips=list(df['RegionName'].unique())\n",
    "    \n",
    "    # Create dictionary where keys is zip code and value is days until recovery\n",
    "    # Use try/except because certain zip codes will not correspond with necessary time frame\n",
    "    recover_housing_dict = {}\n",
    "    for zip_ in zips:\n",
    "        for zip_, vals in dict_full.items():\n",
    "            try:\n",
    "                idx_max_pre = dict_full[zip_]['2005-01-01':'2008-12-31']['value'].idxmax()\n",
    "                val_max_pre = dict_full[zip_]['2005-01-01':'2008-12-31']['value'].max()\n",
    "                idx_max_post=(dict_full[zip_]['2008-12-30':]['value']>=val_max_pre).idxmax()\n",
    "                td = idx_max_post - idx_max_pre\n",
    "                days = td.days\n",
    "                recover_housing_dict[zip_]=days\n",
    "            except ValueError:\n",
    "                pass\n",
    "    \n",
    "    # Create dictionary where key is number of days until recovery and value is frequency\n",
    "    recover_housing_counts={}\n",
    "    for k, v in recover_housing_dict.items():\n",
    "        if v in recover_housing_counts.keys():\n",
    "            recover_housing_counts[v] +=1\n",
    "        else:\n",
    "            recover_housing_counts[v] = 1\n",
    "    \n",
    "    # Swap keys and values and return the above dictionary in the form of a Pandas series\n",
    "    housing_recover=pd.Series(recover_housing_counts)\n",
    "    housing_recover=pd.Series(housing_recover.index.values, index=housing_recover)\n",
    "    df_housing_recover=pd.DataFrame(housing_recover)\n",
    "    df_housing_recover.rename(columns={0:'Days_Until_Recovery'}, inplace=True)\n",
    "    df_housing_recover.sort_values(by='Days_Until_Recovery', ascending=True, inplace=True)\n",
    "    return df_housing_recover, recover_housing_dict"
   ]
  },
  {
   "cell_type": "code",
   "execution_count": 373,
   "metadata": {
    "ExecuteTime": {
     "end_time": "2021-06-14T00:46:17.185051Z",
     "start_time": "2021-06-14T00:46:17.133410Z"
    }
   },
   "outputs": [
    {
     "data": {
      "text/plain": [
       "Harris        0.125698\n",
       "Dallas        0.071883\n",
       "Tarrant       0.061291\n",
       "Bexar         0.057135\n",
       "Travis        0.046747\n",
       "Denton        0.024932\n",
       "Collin        0.024261\n",
       "El Paso       0.021004\n",
       "Montgomery    0.020776\n",
       "McLennan      0.015857\n",
       "Name: CountyName, dtype: float64"
      ]
     },
     "execution_count": 373,
     "metadata": {},
     "output_type": "execute_result"
    }
   ],
   "source": [
    "df_texas['CountyName'].value_counts(1).nlargest(10)"
   ]
  },
  {
   "cell_type": "markdown",
   "metadata": {},
   "source": [
    "Create Travis county data"
   ]
  },
  {
   "cell_type": "markdown",
   "metadata": {
    "ExecuteTime": {
     "end_time": "2021-06-13T23:28:03.811441Z",
     "start_time": "2021-06-13T23:28:03.804146Z"
    }
   },
   "source": [
    "Create Harris county data"
   ]
  },
  {
   "cell_type": "code",
   "execution_count": 284,
   "metadata": {
    "ExecuteTime": {
     "end_time": "2021-06-13T23:29:29.626099Z",
     "start_time": "2021-06-13T23:29:04.303554Z"
    }
   },
   "outputs": [],
   "source": [
    "# Create Harris county DataFrame\n",
    "df_Harris = df_maker(df_texas, 'Harris')\n",
    "\n",
    "# Create Harris county dictionary\n",
    "Harris_dict_full = county_dict_maker(df_Harris)\n",
    "\n",
    "# Create Harris county recovery dataframe and dictionary\n",
    "df_Harris_days, dict_Harris_zips = housing_bust_finder(df_Harris,Harris_dict_full)"
   ]
  },
  {
   "cell_type": "code",
   "execution_count": null,
   "metadata": {},
   "outputs": [],
   "source": [
    "Create Dallas county data"
   ]
  },
  {
   "cell_type": "code",
   "execution_count": 346,
   "metadata": {
    "ExecuteTime": {
     "end_time": "2021-06-14T00:07:45.180319Z",
     "start_time": "2021-06-14T00:07:37.017703Z"
    }
   },
   "outputs": [],
   "source": [
    "# Create Dallas county DataFrame\n",
    "df_Dallas = df_maker(df_texas, 'Dallas')\n",
    "\n",
    "# Create Dallas county dictionary\n",
    "Dallas_dict_full = county_dict_maker(df_Dallas)\n",
    "\n",
    "# Create Dallas county recovery dataframe and dictionary\n",
    "df_Dallas_days, dict_Dallas_zips = housing_bust_finder(df_Dallas,Dallas_dict_full)"
   ]
  },
  {
   "cell_type": "code",
   "execution_count": 388,
   "metadata": {
    "ExecuteTime": {
     "end_time": "2021-06-14T00:55:12.072836Z",
     "start_time": "2021-06-14T00:55:08.702121Z"
    }
   },
   "outputs": [],
   "source": [
    "# Create Travis county DataFrame\n",
    "df_Travis = df_maker(df_texas, 'Travis')\n",
    "\n",
    "# Create Travis county dictionary\n",
    "travis_dict_full = county_dict_maker(df_Travis)\n",
    "\n",
    "# Create Travis county recovery dataframe and dictionary\n",
    "df_Travis_days, dict_Travis_zips = housing_bust_finder(df_travis,travis_dict_full)"
   ]
  },
  {
   "cell_type": "markdown",
   "metadata": {
    "ExecuteTime": {
     "end_time": "2021-06-13T23:31:41.507996Z",
     "start_time": "2021-06-13T23:31:41.463960Z"
    }
   },
   "source": [
    "Create Tarrant county data"
   ]
  },
  {
   "cell_type": "code",
   "execution_count": 291,
   "metadata": {
    "ExecuteTime": {
     "end_time": "2021-06-13T23:33:09.725138Z",
     "start_time": "2021-06-13T23:33:03.984615Z"
    }
   },
   "outputs": [],
   "source": [
    "# Create Tarrant county DataFrame\n",
    "df_Tarrant = df_maker(df_texas, 'Tarrant')\n",
    "\n",
    "# Create Tarrant county dictionary\n",
    "Tarrant_dict_full = county_dict_maker(df_Tarrant)\n",
    "\n",
    "# Create Tarrant county recovery dataframe and dictionary\n",
    "df_Tarrant_days, dict_Tarrant_zips = housing_bust_finder(df_Tarrant,Tarrant_dict_full)"
   ]
  },
  {
   "cell_type": "markdown",
   "metadata": {},
   "source": [
    "Create Bexar county data"
   ]
  },
  {
   "cell_type": "code",
   "execution_count": 294,
   "metadata": {
    "ExecuteTime": {
     "end_time": "2021-06-13T23:35:06.749565Z",
     "start_time": "2021-06-13T23:35:01.777681Z"
    }
   },
   "outputs": [],
   "source": [
    "# Create Bexar county DataFrame\n",
    "df_Bexar = df_maker(df_texas, 'Bexar')\n",
    "\n",
    "# Create Bexar county dictionary\n",
    "Bexar_dict_full = county_dict_maker(df_Bexar)\n",
    "\n",
    "# Create Bexar county recovery dataframe and dictionary\n",
    "df_Bexar_days, dict_Bexar_zips = housing_bust_finder(df_Bexar,Bexar_dict_full)"
   ]
  },
  {
   "cell_type": "code",
   "execution_count": null,
   "metadata": {},
   "outputs": [],
   "source": [
    "Create Denton county data"
   ]
  },
  {
   "cell_type": "code",
   "execution_count": 296,
   "metadata": {
    "ExecuteTime": {
     "end_time": "2021-06-13T23:41:15.844935Z",
     "start_time": "2021-06-13T23:41:14.825023Z"
    }
   },
   "outputs": [],
   "source": [
    "# Create Denton county DataFrame\n",
    "df_Denton = df_maker(df_texas, 'Denton')\n",
    "\n",
    "# Create Denton county dictionary\n",
    "Denton_dict_full = county_dict_maker(df_Denton)\n",
    "\n",
    "# Create Denton county recovery dataframe and dictionary\n",
    "df_Denton_days, dict_Denton_zips = housing_bust_finder(df_Denton,Denton_dict_full)"
   ]
  },
  {
   "cell_type": "markdown",
   "metadata": {
    "ExecuteTime": {
     "end_time": "2021-06-13T23:42:13.779227Z",
     "start_time": "2021-06-13T23:42:13.773634Z"
    }
   },
   "source": [
    "Create Collin county data"
   ]
  },
  {
   "cell_type": "code",
   "execution_count": 299,
   "metadata": {
    "ExecuteTime": {
     "end_time": "2021-06-13T23:42:20.129846Z",
     "start_time": "2021-06-13T23:42:19.159988Z"
    }
   },
   "outputs": [],
   "source": [
    "# Create Collin county DataFrame\n",
    "df_Collin = df_maker(df_texas, 'Collin')\n",
    "\n",
    "# Create Collin county dictionary\n",
    "Collin_dict_full = county_dict_maker(df_Collin)\n",
    "\n",
    "# Create Collin county recovery dataframe and dictionary\n",
    "df_Collin_days, dict_Collin_zips = housing_bust_finder(df_Collin,Collin_dict_full)"
   ]
  },
  {
   "cell_type": "code",
   "execution_count": null,
   "metadata": {},
   "outputs": [],
   "source": [
    "Create El Paso county data"
   ]
  },
  {
   "cell_type": "code",
   "execution_count": 302,
   "metadata": {
    "ExecuteTime": {
     "end_time": "2021-06-13T23:44:00.451369Z",
     "start_time": "2021-06-13T23:43:59.700148Z"
    }
   },
   "outputs": [],
   "source": [
    "# Create El Paso county DataFrame\n",
    "df_El_Paso = df_maker(df_texas, 'El Paso')\n",
    "\n",
    "# Create El Paso county dictionary\n",
    "El_Paso_dict_full = county_dict_maker(df_El_Paso)\n",
    "\n",
    "# Create El Paso county recovery dataframe and dictionary\n",
    "df_El_Paso_days, dict_El_Paso_zips = housing_bust_finder(df_El_Paso,El_Paso_dict_full)"
   ]
  },
  {
   "cell_type": "markdown",
   "metadata": {
    "ExecuteTime": {
     "end_time": "2021-06-13T23:44:29.291093Z",
     "start_time": "2021-06-13T23:44:29.284650Z"
    }
   },
   "source": [
    "Create Montgomery county data"
   ]
  },
  {
   "cell_type": "code",
   "execution_count": 305,
   "metadata": {
    "ExecuteTime": {
     "end_time": "2021-06-13T23:45:03.860985Z",
     "start_time": "2021-06-13T23:45:03.150000Z"
    }
   },
   "outputs": [],
   "source": [
    "# Create Montgomery county DataFrame\n",
    "df_Montgomery = df_maker(df_texas, 'Montgomery')\n",
    "\n",
    "# Create Montgomery county dictionary\n",
    "Montgomery_dict_full = county_dict_maker(df_Montgomery)\n",
    "\n",
    "# Create Montgomery county recovery dataframe and dictionary\n",
    "df_Montgomery_days, dict_Montgomery_zips = housing_bust_finder(df_Montgomery,Montgomery_dict_full)"
   ]
  },
  {
   "cell_type": "code",
   "execution_count": null,
   "metadata": {},
   "outputs": [],
   "source": [
    "Create McLennan county data"
   ]
  },
  {
   "cell_type": "code",
   "execution_count": 307,
   "metadata": {
    "ExecuteTime": {
     "end_time": "2021-06-13T23:46:11.845729Z",
     "start_time": "2021-06-13T23:46:11.387334Z"
    }
   },
   "outputs": [],
   "source": [
    "# Create McLennan county DataFrame\n",
    "df_McLennan = df_maker(df_texas, 'McLennan')\n",
    "\n",
    "# Create McLennan county dictionary\n",
    "McLennan_dict_full = county_dict_maker(df_McLennan)\n",
    "\n",
    "# Create McLennan county recovery dataframe and dictionary\n",
    "df_McLennan_days, dict_McLennan_zips = housing_bust_finder(df_McLennan,McLennan_dict_full)"
   ]
  },
  {
   "cell_type": "code",
   "execution_count": 362,
   "metadata": {
    "ExecuteTime": {
     "end_time": "2021-06-14T00:14:47.873355Z",
     "start_time": "2021-06-14T00:14:47.561404Z"
    }
   },
   "outputs": [
    {
     "data": {
      "image/png": "[encoded data removed]",
      "text/plain": [
       "<Figure size 1080x576 with 2 Axes>"
      ]
     },
     "metadata": {
      "needs_background": "light"
     },
     "output_type": "display_data"
    }
   ],
   "source": [
    "import seaborn as sns\n",
    "pair=sns.color_palette(\"Paired\")\n",
    "fig, axes = plt.subplots(figsize=(15,8), nrows=2)\n",
    "sns.kdeplot(data=df_Harris_days, ax=axes[0],label='Harris', palette=['orange'])\n",
    "sns.kdeplot(data=df_Dallas_days, ax=axes[0],label='Dallas', palette=['cyan'])\n",
    "sns.kdeplot(data=df_Tarrant_days, ax=axes[0],label='Tarrant', palette=['peru'])\n",
    "sns.kdeplot(data=df_Bexar_days, ax=axes[0],label='Bexar', palette=['magenta'])\n",
    "sns.kdeplot(data=df_travis_days, ax=axes[0],label='Travis', palette=['red'])\n",
    "sns.kdeplot(data=df_Denton_days, ax=axes[1],label='Denton', palette=['blue'])\n",
    "sns.kdeplot(data=df_Collin_days, ax=axes[1],label='Collin', palette=['black'])\n",
    "sns.kdeplot(data=df_El_Paso_days, ax=axes[1],label='El Paso', palette=['grey'])\n",
    "sns.kdeplot(data=df_Montgomery_days, ax=axes[1],label='Montgomery', palette=['lime'])\n",
    "sns.kdeplot(data=df_McLennan_days, ax=axes[1],label='McLennan', palette=['green'])\n",
    "axes[0].set_xlim(left=0)\n",
    "axes[1].set_xlim(left=0)\n",
    "axes[0].legend()\n",
    "axes[1].legend();"
   ]
  },
  {
   "cell_type": "code",
   "execution_count": 396,
   "metadata": {
    "ExecuteTime": {
     "end_time": "2021-06-14T01:00:05.436146Z",
     "start_time": "2021-06-14T01:00:05.407913Z"
    }
   },
   "outputs": [
    {
     "data": {
      "text/html": [
       "<div>\n",
       "<style scoped>\n",
       "    .dataframe tbody tr th:only-of-type {\n",
       "        vertical-align: middle;\n",
       "    }\n",
       "\n",
       "    .dataframe tbody tr th {\n",
       "        vertical-align: top;\n",
       "    }\n",
       "\n",
       "    .dataframe thead th {\n",
       "        text-align: right;\n",
       "    }\n",
       "</style>\n",
       "<table border=\"1\" class=\"dataframe\">\n",
       "  <thead>\n",
       "    <tr style=\"text-align: right;\">\n",
       "      <th></th>\n",
       "      <th>mean</th>\n",
       "      <th>median</th>\n",
       "      <th>std</th>\n",
       "      <th>max</th>\n",
       "    </tr>\n",
       "  </thead>\n",
       "  <tbody>\n",
       "    <tr>\n",
       "      <th>Travis</th>\n",
       "      <td>1879.512821</td>\n",
       "      <td>1947.0</td>\n",
       "      <td>790.199304</td>\n",
       "      <td>3835.0</td>\n",
       "    </tr>\n",
       "    <tr>\n",
       "      <th>Tarrant</th>\n",
       "      <td>2405.063830</td>\n",
       "      <td>2619.0</td>\n",
       "      <td>926.935681</td>\n",
       "      <td>3986.0</td>\n",
       "    </tr>\n",
       "    <tr>\n",
       "      <th>Bexar</th>\n",
       "      <td>2537.119048</td>\n",
       "      <td>2646.5</td>\n",
       "      <td>611.639189</td>\n",
       "      <td>3592.0</td>\n",
       "    </tr>\n",
       "    <tr>\n",
       "      <th>Harris</th>\n",
       "      <td>2432.412500</td>\n",
       "      <td>2662.5</td>\n",
       "      <td>846.344899</td>\n",
       "      <td>3622.0</td>\n",
       "    </tr>\n",
       "    <tr>\n",
       "      <th>Dallas</th>\n",
       "      <td>2767.155556</td>\n",
       "      <td>2953.0</td>\n",
       "      <td>835.392748</td>\n",
       "      <td>4079.0</td>\n",
       "    </tr>\n",
       "  </tbody>\n",
       "</table>\n",
       "</div>"
      ],
      "text/plain": [
       "                mean  median         std     max\n",
       "Travis   1879.512821  1947.0  790.199304  3835.0\n",
       "Tarrant  2405.063830  2619.0  926.935681  3986.0\n",
       "Bexar    2537.119048  2646.5  611.639189  3592.0\n",
       "Harris   2432.412500  2662.5  846.344899  3622.0\n",
       "Dallas   2767.155556  2953.0  835.392748  4079.0"
      ]
     },
     "execution_count": 396,
     "metadata": {},
     "output_type": "execute_result"
    }
   ],
   "source": [
    "big_counties_names = ['Harris','Dallas','Tarrant','Bexar','Travis']\n",
    "big_counties_df = [df_Harris_days, df_Dallas_days, df_Tarrant_days, df_Bexar_days, df_Travis_days]\n",
    "big_recovery_agg = {}\n",
    "for name, df in zip(big_counties_names, big_counties_df):\n",
    "    big_recovery_agg[name] = df['Days_Until_Recovery'].agg(['mean', 'median', 'std', 'max'])\n",
    "big_county_recovery = pd.DataFrame(big_recovery_agg).T\n",
    "big_county_recovery.sort_values(by=['median', 'mean', 'std', 'max'])"
   ]
  },
  {
   "cell_type": "markdown",
   "metadata": {},
   "source": [
    "- **Travis:** Selected due to lowest mean/median\n",
    "- Tarrant: Not selected due to high standard deviation\n",
    "- **Bexar:** Selected due to moderate mean/median and lowest standard deviation\n",
    "- **Harris:** Selected due to superior metrics to Dallas\n",
    "- Dallas: Not selected"
   ]
  },
  {
   "cell_type": "code",
   "execution_count": 399,
   "metadata": {
    "ExecuteTime": {
     "end_time": "2021-06-14T01:06:16.892234Z",
     "start_time": "2021-06-14T01:06:16.862440Z"
    }
   },
   "outputs": [
    {
     "data": {
      "text/html": [
       "<div>\n",
       "<style scoped>\n",
       "    .dataframe tbody tr th:only-of-type {\n",
       "        vertical-align: middle;\n",
       "    }\n",
       "\n",
       "    .dataframe tbody tr th {\n",
       "        vertical-align: top;\n",
       "    }\n",
       "\n",
       "    .dataframe thead th {\n",
       "        text-align: right;\n",
       "    }\n",
       "</style>\n",
       "<table border=\"1\" class=\"dataframe\">\n",
       "  <thead>\n",
       "    <tr style=\"text-align: right;\">\n",
       "      <th></th>\n",
       "      <th>mean</th>\n",
       "      <th>median</th>\n",
       "      <th>std</th>\n",
       "      <th>max</th>\n",
       "    </tr>\n",
       "  </thead>\n",
       "  <tbody>\n",
       "    <tr>\n",
       "      <th>El_Paso</th>\n",
       "      <td>1922.615385</td>\n",
       "      <td>1704.0</td>\n",
       "      <td>1416.997032</td>\n",
       "      <td>3623.0</td>\n",
       "    </tr>\n",
       "    <tr>\n",
       "      <th>Collin</th>\n",
       "      <td>1867.875000</td>\n",
       "      <td>2115.5</td>\n",
       "      <td>914.517058</td>\n",
       "      <td>3134.0</td>\n",
       "    </tr>\n",
       "    <tr>\n",
       "      <th>Montgomery</th>\n",
       "      <td>1749.888889</td>\n",
       "      <td>2176.5</td>\n",
       "      <td>931.835563</td>\n",
       "      <td>2800.0</td>\n",
       "    </tr>\n",
       "    <tr>\n",
       "      <th>Denton</th>\n",
       "      <td>2031.809524</td>\n",
       "      <td>2253.0</td>\n",
       "      <td>723.378782</td>\n",
       "      <td>2769.0</td>\n",
       "    </tr>\n",
       "    <tr>\n",
       "      <th>McLennan</th>\n",
       "      <td>2643.866667</td>\n",
       "      <td>3011.0</td>\n",
       "      <td>1165.708238</td>\n",
       "      <td>4473.0</td>\n",
       "    </tr>\n",
       "  </tbody>\n",
       "</table>\n",
       "</div>"
      ],
      "text/plain": [
       "                   mean  median          std     max\n",
       "El_Paso     1922.615385  1704.0  1416.997032  3623.0\n",
       "Collin      1867.875000  2115.5   914.517058  3134.0\n",
       "Montgomery  1749.888889  2176.5   931.835563  2800.0\n",
       "Denton      2031.809524  2253.0   723.378782  2769.0\n",
       "McLennan    2643.866667  3011.0  1165.708238  4473.0"
      ]
     },
     "execution_count": 399,
     "metadata": {},
     "output_type": "execute_result"
    }
   ],
   "source": [
    "small_counties_names = ['Denton','Collin','El_Paso','Montgomery','McLennan']\n",
    "small_counties_df = [df_Denton_days, df_Collin_days, df_El_Paso_days, df_Montgomery_days, df_McLennan_days]\n",
    "small_recovery_agg = {}\n",
    "for name, df in zip(small_counties_names, small_counties_df):\n",
    "    small_recovery_agg[name] = df['Days_Until_Recovery'].agg(['mean', 'median', 'std', 'max'])\n",
    "small_county_recovery = pd.DataFrame(small_recovery_agg).T\n",
    "small_county_recovery.sort_values(by=['median', 'mean', 'std', 'max'])"
   ]
  },
  {
   "cell_type": "markdown",
   "metadata": {},
   "source": [
    "- **El Paso:** Selected due to lowest mean/median, however high standard deviation\n",
    "- **Collin:** Selected due to low median and low standard deviation\n",
    "- Montgomery: Not selected due to high standard deviation\n",
    "- **Denton:** Selected due to similar median/mean as Montgomery but lower standard deviation\n",
    "- McLennan: Not selected"
   ]
  },
  {
   "cell_type": "markdown",
   "metadata": {},
   "source": [
    "## Top Growth Prospects\n",
    "- Based on recovery time further inspecting: Travis, Bexar, Harris, El Paso, Collin, and Denton county"
   ]
  },
  {
   "cell_type": "code",
   "execution_count": 461,
   "metadata": {
    "ExecuteTime": {
     "end_time": "2021-06-14T02:24:52.695299Z",
     "start_time": "2021-06-14T02:24:52.680052Z"
    }
   },
   "outputs": [],
   "source": [
    "def test_county_zip_perc(df_county, county_dict_full):\n",
    "    county_dict_annual = {}\n",
    "    county_zips = list(county_dict_full.keys())\n",
    "    for zip_ in county_zips:\n",
    "        county_dict_annual[zip_] = df_county[df_county['RegionName']==zip_].resample(rule='A').mean()\n",
    "        county_dict_annual[zip_]['2_Year_Pct_Change'] = county_dict_annual[zip_]['value'].pct_change(periods=2)\n",
    "        county_dict_annual[zip_]['5_Year_Pct_Change'] = county_dict_annual[zip_]['value'].pct_change(periods=5)\n",
    "        county_dict_annual[zip_]['10_Year_Pct_Change'] = county_dict_annual[zip_]['value'].pct_change(periods=10)\n",
    "        county_dict_annual[zip_]['Std'] = county_dict_annual[zip_]['value'].std()\n",
    "    \n",
    "    county_comparison = {}\n",
    "    county_zips = list(county_dict_annual.keys())\n",
    "    for zip_ in county_zips:\n",
    "        for zip_, vals in county_dict_annual.items():\n",
    "            county_comparison[zip_] = county_dict_annual[zip_].iloc[-1] \n",
    "    df = pd.DataFrame(county_comparison).T\n",
    "    df.drop(columns='RegionName', inplace=True)\n",
    "    df['Cumulative_Score'] = df['2_Year_Pct_Change']*(0.4)+df['5_Year_Pct_Change']*(0.35)+df['10_Year_Pct_Change']*(0.25)\n",
    "    df.sort_values(by='Cumulative_Score', inplace=True, ascending=False)\n",
    "    return df"
   ]
  },
  {
   "cell_type": "code",
   "execution_count": 462,
   "metadata": {
    "ExecuteTime": {
     "end_time": "2021-06-14T02:24:53.497967Z",
     "start_time": "2021-06-14T02:24:53.183005Z"
    }
   },
   "outputs": [
    {
     "data": {
      "text/html": [
       "<div>\n",
       "<style scoped>\n",
       "    .dataframe tbody tr th:only-of-type {\n",
       "        vertical-align: middle;\n",
       "    }\n",
       "\n",
       "    .dataframe tbody tr th {\n",
       "        vertical-align: top;\n",
       "    }\n",
       "\n",
       "    .dataframe thead th {\n",
       "        text-align: right;\n",
       "    }\n",
       "</style>\n",
       "<table border=\"1\" class=\"dataframe\">\n",
       "  <thead>\n",
       "    <tr style=\"text-align: right;\">\n",
       "      <th></th>\n",
       "      <th>value</th>\n",
       "      <th>2_Year_Pct_Change</th>\n",
       "      <th>5_Year_Pct_Change</th>\n",
       "      <th>10_Year_Pct_Change</th>\n",
       "      <th>Std</th>\n",
       "      <th>Cumulative_Score</th>\n",
       "    </tr>\n",
       "  </thead>\n",
       "  <tbody>\n",
       "    <tr>\n",
       "      <th>78721</th>\n",
       "      <td>296850.0</td>\n",
       "      <td>0.217097</td>\n",
       "      <td>0.952639</td>\n",
       "      <td>1.114567</td>\n",
       "      <td>58590.974917</td>\n",
       "      <td>0.698904</td>\n",
       "    </tr>\n",
       "    <tr>\n",
       "      <th>78758</th>\n",
       "      <td>262900.0</td>\n",
       "      <td>0.195272</td>\n",
       "      <td>0.764035</td>\n",
       "      <td>0.829188</td>\n",
       "      <td>39196.613605</td>\n",
       "      <td>0.552818</td>\n",
       "    </tr>\n",
       "    <tr>\n",
       "      <th>78744</th>\n",
       "      <td>193825.0</td>\n",
       "      <td>0.222292</td>\n",
       "      <td>0.708713</td>\n",
       "      <td>0.654267</td>\n",
       "      <td>28778.317066</td>\n",
       "      <td>0.500533</td>\n",
       "    </tr>\n",
       "    <tr>\n",
       "      <th>78702</th>\n",
       "      <td>415250.0</td>\n",
       "      <td>0.125771</td>\n",
       "      <td>0.660059</td>\n",
       "      <td>0.807662</td>\n",
       "      <td>87127.794362</td>\n",
       "      <td>0.483245</td>\n",
       "    </tr>\n",
       "    <tr>\n",
       "      <th>78741</th>\n",
       "      <td>245600.0</td>\n",
       "      <td>0.157444</td>\n",
       "      <td>0.695840</td>\n",
       "      <td>0.672645</td>\n",
       "      <td>39486.554672</td>\n",
       "      <td>0.474683</td>\n",
       "    </tr>\n",
       "    <tr>\n",
       "      <th>78753</th>\n",
       "      <td>230175.0</td>\n",
       "      <td>0.192617</td>\n",
       "      <td>0.650000</td>\n",
       "      <td>0.664517</td>\n",
       "      <td>32468.946745</td>\n",
       "      <td>0.470676</td>\n",
       "    </tr>\n",
       "    <tr>\n",
       "      <th>78745</th>\n",
       "      <td>293150.0</td>\n",
       "      <td>0.143182</td>\n",
       "      <td>0.574171</td>\n",
       "      <td>0.703700</td>\n",
       "      <td>46600.385600</td>\n",
       "      <td>0.434158</td>\n",
       "    </tr>\n",
       "    <tr>\n",
       "      <th>78723</th>\n",
       "      <td>360150.0</td>\n",
       "      <td>0.157232</td>\n",
       "      <td>0.530816</td>\n",
       "      <td>0.737966</td>\n",
       "      <td>69494.086191</td>\n",
       "      <td>0.433170</td>\n",
       "    </tr>\n",
       "    <tr>\n",
       "      <th>78727</th>\n",
       "      <td>314225.0</td>\n",
       "      <td>0.169318</td>\n",
       "      <td>0.566491</td>\n",
       "      <td>0.616522</td>\n",
       "      <td>44970.317150</td>\n",
       "      <td>0.420130</td>\n",
       "    </tr>\n",
       "    <tr>\n",
       "      <th>78724</th>\n",
       "      <td>188175.0</td>\n",
       "      <td>0.158535</td>\n",
       "      <td>0.643689</td>\n",
       "      <td>0.457591</td>\n",
       "      <td>24835.144817</td>\n",
       "      <td>0.403103</td>\n",
       "    </tr>\n",
       "    <tr>\n",
       "      <th>78752</th>\n",
       "      <td>301800.0</td>\n",
       "      <td>0.086850</td>\n",
       "      <td>0.575020</td>\n",
       "      <td>0.643791</td>\n",
       "      <td>59690.697393</td>\n",
       "      <td>0.396944</td>\n",
       "    </tr>\n",
       "    <tr>\n",
       "      <th>78652</th>\n",
       "      <td>308500.0</td>\n",
       "      <td>0.099462</td>\n",
       "      <td>0.523206</td>\n",
       "      <td>0.538270</td>\n",
       "      <td>47483.917064</td>\n",
       "      <td>0.357475</td>\n",
       "    </tr>\n",
       "    <tr>\n",
       "      <th>78725</th>\n",
       "      <td>187225.0</td>\n",
       "      <td>0.114932</td>\n",
       "      <td>0.569473</td>\n",
       "      <td>0.441763</td>\n",
       "      <td>21725.691128</td>\n",
       "      <td>0.355729</td>\n",
       "    </tr>\n",
       "    <tr>\n",
       "      <th>78703</th>\n",
       "      <td>881475.0</td>\n",
       "      <td>0.111722</td>\n",
       "      <td>0.468758</td>\n",
       "      <td>0.527422</td>\n",
       "      <td>140801.892678</td>\n",
       "      <td>0.340609</td>\n",
       "    </tr>\n",
       "    <tr>\n",
       "      <th>78645</th>\n",
       "      <td>271400.0</td>\n",
       "      <td>0.182571</td>\n",
       "      <td>0.450884</td>\n",
       "      <td>0.394297</td>\n",
       "      <td>33366.859581</td>\n",
       "      <td>0.329412</td>\n",
       "    </tr>\n",
       "    <tr>\n",
       "      <th>78736</th>\n",
       "      <td>336450.0</td>\n",
       "      <td>0.099689</td>\n",
       "      <td>0.459389</td>\n",
       "      <td>0.512022</td>\n",
       "      <td>47871.971402</td>\n",
       "      <td>0.328667</td>\n",
       "    </tr>\n",
       "    <tr>\n",
       "      <th>78617</th>\n",
       "      <td>185125.0</td>\n",
       "      <td>0.139640</td>\n",
       "      <td>0.514728</td>\n",
       "      <td>0.363218</td>\n",
       "      <td>21264.744471</td>\n",
       "      <td>0.326815</td>\n",
       "    </tr>\n",
       "    <tr>\n",
       "      <th>78728</th>\n",
       "      <td>263625.0</td>\n",
       "      <td>0.115126</td>\n",
       "      <td>0.458708</td>\n",
       "      <td>0.479170</td>\n",
       "      <td>36087.993051</td>\n",
       "      <td>0.326390</td>\n",
       "    </tr>\n",
       "    <tr>\n",
       "      <th>78757</th>\n",
       "      <td>426675.0</td>\n",
       "      <td>0.087162</td>\n",
       "      <td>0.433278</td>\n",
       "      <td>0.545924</td>\n",
       "      <td>74523.935476</td>\n",
       "      <td>0.322993</td>\n",
       "    </tr>\n",
       "    <tr>\n",
       "      <th>78722</th>\n",
       "      <td>411250.0</td>\n",
       "      <td>0.098058</td>\n",
       "      <td>0.442645</td>\n",
       "      <td>0.504848</td>\n",
       "      <td>88673.777805</td>\n",
       "      <td>0.320361</td>\n",
       "    </tr>\n",
       "    <tr>\n",
       "      <th>78748</th>\n",
       "      <td>279900.0</td>\n",
       "      <td>0.094250</td>\n",
       "      <td>0.448133</td>\n",
       "      <td>0.495325</td>\n",
       "      <td>35402.944711</td>\n",
       "      <td>0.318378</td>\n",
       "    </tr>\n",
       "    <tr>\n",
       "      <th>78747</th>\n",
       "      <td>247975.0</td>\n",
       "      <td>0.138719</td>\n",
       "      <td>0.442204</td>\n",
       "      <td>0.406618</td>\n",
       "      <td>28637.902633</td>\n",
       "      <td>0.311913</td>\n",
       "    </tr>\n",
       "    <tr>\n",
       "      <th>78749</th>\n",
       "      <td>353750.0</td>\n",
       "      <td>0.102855</td>\n",
       "      <td>0.397945</td>\n",
       "      <td>0.511644</td>\n",
       "      <td>47636.085916</td>\n",
       "      <td>0.308334</td>\n",
       "    </tr>\n",
       "    <tr>\n",
       "      <th>78704</th>\n",
       "      <td>545125.0</td>\n",
       "      <td>0.121945</td>\n",
       "      <td>0.367685</td>\n",
       "      <td>0.462049</td>\n",
       "      <td>87327.729205</td>\n",
       "      <td>0.292980</td>\n",
       "    </tr>\n",
       "    <tr>\n",
       "      <th>78751</th>\n",
       "      <td>439850.0</td>\n",
       "      <td>0.081089</td>\n",
       "      <td>0.439339</td>\n",
       "      <td>0.407295</td>\n",
       "      <td>84438.925723</td>\n",
       "      <td>0.288028</td>\n",
       "    </tr>\n",
       "    <tr>\n",
       "      <th>78660</th>\n",
       "      <td>241500.0</td>\n",
       "      <td>0.123343</td>\n",
       "      <td>0.403186</td>\n",
       "      <td>0.387599</td>\n",
       "      <td>27971.824719</td>\n",
       "      <td>0.287352</td>\n",
       "    </tr>\n",
       "    <tr>\n",
       "      <th>78750</th>\n",
       "      <td>443950.0</td>\n",
       "      <td>0.076830</td>\n",
       "      <td>0.411494</td>\n",
       "      <td>0.435067</td>\n",
       "      <td>54846.182401</td>\n",
       "      <td>0.283521</td>\n",
       "    </tr>\n",
       "    <tr>\n",
       "      <th>78759</th>\n",
       "      <td>448050.0</td>\n",
       "      <td>0.071143</td>\n",
       "      <td>0.406861</td>\n",
       "      <td>0.426457</td>\n",
       "      <td>60032.662296</td>\n",
       "      <td>0.277472</td>\n",
       "    </tr>\n",
       "    <tr>\n",
       "      <th>78746</th>\n",
       "      <td>917425.0</td>\n",
       "      <td>0.102906</td>\n",
       "      <td>0.384862</td>\n",
       "      <td>0.406393</td>\n",
       "      <td>122093.528232</td>\n",
       "      <td>0.277462</td>\n",
       "    </tr>\n",
       "    <tr>\n",
       "      <th>78754</th>\n",
       "      <td>237425.0</td>\n",
       "      <td>0.115675</td>\n",
       "      <td>0.412403</td>\n",
       "      <td>0.333037</td>\n",
       "      <td>29416.928072</td>\n",
       "      <td>0.273871</td>\n",
       "    </tr>\n",
       "    <tr>\n",
       "      <th>78653</th>\n",
       "      <td>196725.0</td>\n",
       "      <td>0.106647</td>\n",
       "      <td>0.406183</td>\n",
       "      <td>0.322817</td>\n",
       "      <td>22540.440485</td>\n",
       "      <td>0.265527</td>\n",
       "    </tr>\n",
       "    <tr>\n",
       "      <th>78717</th>\n",
       "      <td>360500.0</td>\n",
       "      <td>0.095467</td>\n",
       "      <td>0.348840</td>\n",
       "      <td>0.418407</td>\n",
       "      <td>42394.006229</td>\n",
       "      <td>0.264883</td>\n",
       "    </tr>\n",
       "    <tr>\n",
       "      <th>78737</th>\n",
       "      <td>444850.0</td>\n",
       "      <td>0.103755</td>\n",
       "      <td>0.362655</td>\n",
       "      <td>0.312306</td>\n",
       "      <td>55522.516558</td>\n",
       "      <td>0.246508</td>\n",
       "    </tr>\n",
       "    <tr>\n",
       "      <th>78733</th>\n",
       "      <td>600050.0</td>\n",
       "      <td>0.143170</td>\n",
       "      <td>0.312158</td>\n",
       "      <td>0.299865</td>\n",
       "      <td>56490.140594</td>\n",
       "      <td>0.241490</td>\n",
       "    </tr>\n",
       "    <tr>\n",
       "      <th>78730</th>\n",
       "      <td>674500.0</td>\n",
       "      <td>0.039011</td>\n",
       "      <td>0.407897</td>\n",
       "      <td>0.313492</td>\n",
       "      <td>68125.888927</td>\n",
       "      <td>0.236741</td>\n",
       "    </tr>\n",
       "    <tr>\n",
       "      <th>78756</th>\n",
       "      <td>481525.0</td>\n",
       "      <td>0.063536</td>\n",
       "      <td>0.312504</td>\n",
       "      <td>0.377984</td>\n",
       "      <td>79417.072127</td>\n",
       "      <td>0.229287</td>\n",
       "    </tr>\n",
       "    <tr>\n",
       "      <th>78739</th>\n",
       "      <td>450550.0</td>\n",
       "      <td>0.055070</td>\n",
       "      <td>0.287132</td>\n",
       "      <td>0.372025</td>\n",
       "      <td>48079.817914</td>\n",
       "      <td>0.215530</td>\n",
       "    </tr>\n",
       "    <tr>\n",
       "      <th>78726</th>\n",
       "      <td>440625.0</td>\n",
       "      <td>0.044032</td>\n",
       "      <td>0.323728</td>\n",
       "      <td>0.294370</td>\n",
       "      <td>48609.392256</td>\n",
       "      <td>0.204510</td>\n",
       "    </tr>\n",
       "    <tr>\n",
       "      <th>78734</th>\n",
       "      <td>397325.0</td>\n",
       "      <td>0.070116</td>\n",
       "      <td>0.297953</td>\n",
       "      <td>0.284387</td>\n",
       "      <td>48331.495450</td>\n",
       "      <td>0.203426</td>\n",
       "    </tr>\n",
       "    <tr>\n",
       "      <th>78669</th>\n",
       "      <td>382900.0</td>\n",
       "      <td>0.106248</td>\n",
       "      <td>0.298553</td>\n",
       "      <td>0.218198</td>\n",
       "      <td>49160.367343</td>\n",
       "      <td>0.201542</td>\n",
       "    </tr>\n",
       "    <tr>\n",
       "      <th>78731</th>\n",
       "      <td>591875.0</td>\n",
       "      <td>0.069928</td>\n",
       "      <td>0.277382</td>\n",
       "      <td>0.301778</td>\n",
       "      <td>69752.007459</td>\n",
       "      <td>0.200499</td>\n",
       "    </tr>\n",
       "    <tr>\n",
       "      <th>78735</th>\n",
       "      <td>477625.0</td>\n",
       "      <td>0.028607</td>\n",
       "      <td>0.226488</td>\n",
       "      <td>0.321048</td>\n",
       "      <td>131598.650937</td>\n",
       "      <td>0.170976</td>\n",
       "    </tr>\n",
       "    <tr>\n",
       "      <th>78732</th>\n",
       "      <td>468025.0</td>\n",
       "      <td>0.034005</td>\n",
       "      <td>0.203201</td>\n",
       "      <td>0.181484</td>\n",
       "      <td>56840.459871</td>\n",
       "      <td>0.130093</td>\n",
       "    </tr>\n",
       "    <tr>\n",
       "      <th>78705</th>\n",
       "      <td>496550.0</td>\n",
       "      <td>-0.010380</td>\n",
       "      <td>0.158179</td>\n",
       "      <td>0.198094</td>\n",
       "      <td>83843.498954</td>\n",
       "      <td>0.100734</td>\n",
       "    </tr>\n",
       "    <tr>\n",
       "      <th>78738</th>\n",
       "      <td>494500.0</td>\n",
       "      <td>0.033150</td>\n",
       "      <td>0.126082</td>\n",
       "      <td>0.052221</td>\n",
       "      <td>56946.876000</td>\n",
       "      <td>0.070444</td>\n",
       "    </tr>\n",
       "  </tbody>\n",
       "</table>\n",
       "</div>"
      ],
      "text/plain": [
       "          value  2_Year_Pct_Change  5_Year_Pct_Change  10_Year_Pct_Change  \\\n",
       "78721  296850.0           0.217097           0.952639            1.114567   \n",
       "78758  262900.0           0.195272           0.764035            0.829188   \n",
       "78744  193825.0           0.222292           0.708713            0.654267   \n",
       "78702  415250.0           0.125771           0.660059            0.807662   \n",
       "78741  245600.0           0.157444           0.695840            0.672645   \n",
       "78753  230175.0           0.192617           0.650000            0.664517   \n",
       "78745  293150.0           0.143182           0.574171            0.703700   \n",
       "78723  360150.0           0.157232           0.530816            0.737966   \n",
       "78727  314225.0           0.169318           0.566491            0.616522   \n",
       "78724  188175.0           0.158535           0.643689            0.457591   \n",
       "78752  301800.0           0.086850           0.575020            0.643791   \n",
       "78652  308500.0           0.099462           0.523206            0.538270   \n",
       "78725  187225.0           0.114932           0.569473            0.441763   \n",
       "78703  881475.0           0.111722           0.468758            0.527422   \n",
       "78645  271400.0           0.182571           0.450884            0.394297   \n",
       "78736  336450.0           0.099689           0.459389            0.512022   \n",
       "78617  185125.0           0.139640           0.514728            0.363218   \n",
       "78728  263625.0           0.115126           0.458708            0.479170   \n",
       "78757  426675.0           0.087162           0.433278            0.545924   \n",
       "78722  411250.0           0.098058           0.442645            0.504848   \n",
       "78748  279900.0           0.094250           0.448133            0.495325   \n",
       "78747  247975.0           0.138719           0.442204            0.406618   \n",
       "78749  353750.0           0.102855           0.397945            0.511644   \n",
       "78704  545125.0           0.121945           0.367685            0.462049   \n",
       "78751  439850.0           0.081089           0.439339            0.407295   \n",
       "78660  241500.0           0.123343           0.403186            0.387599   \n",
       "78750  443950.0           0.076830           0.411494            0.435067   \n",
       "78759  448050.0           0.071143           0.406861            0.426457   \n",
       "78746  917425.0           0.102906           0.384862            0.406393   \n",
       "78754  237425.0           0.115675           0.412403            0.333037   \n",
       "78653  196725.0           0.106647           0.406183            0.322817   \n",
       "78717  360500.0           0.095467           0.348840            0.418407   \n",
       "78737  444850.0           0.103755           0.362655            0.312306   \n",
       "78733  600050.0           0.143170           0.312158            0.299865   \n",
       "78730  674500.0           0.039011           0.407897            0.313492   \n",
       "78756  481525.0           0.063536           0.312504            0.377984   \n",
       "78739  450550.0           0.055070           0.287132            0.372025   \n",
       "78726  440625.0           0.044032           0.323728            0.294370   \n",
       "78734  397325.0           0.070116           0.297953            0.284387   \n",
       "78669  382900.0           0.106248           0.298553            0.218198   \n",
       "78731  591875.0           0.069928           0.277382            0.301778   \n",
       "78735  477625.0           0.028607           0.226488            0.321048   \n",
       "78732  468025.0           0.034005           0.203201            0.181484   \n",
       "78705  496550.0          -0.010380           0.158179            0.198094   \n",
       "78738  494500.0           0.033150           0.126082            0.052221   \n",
       "\n",
       "                 Std  Cumulative_Score  \n",
       "78721   58590.974917          0.698904  \n",
       "78758   39196.613605          0.552818  \n",
       "78744   28778.317066          0.500533  \n",
       "78702   87127.794362          0.483245  \n",
       "78741   39486.554672          0.474683  \n",
       "78753   32468.946745          0.470676  \n",
       "78745   46600.385600          0.434158  \n",
       "78723   69494.086191          0.433170  \n",
       "78727   44970.317150          0.420130  \n",
       "78724   24835.144817          0.403103  \n",
       "78752   59690.697393          0.396944  \n",
       "78652   47483.917064          0.357475  \n",
       "78725   21725.691128          0.355729  \n",
       "78703  140801.892678          0.340609  \n",
       "78645   33366.859581          0.329412  \n",
       "78736   47871.971402          0.328667  \n",
       "78617   21264.744471          0.326815  \n",
       "78728   36087.993051          0.326390  \n",
       "78757   74523.935476          0.322993  \n",
       "78722   88673.777805          0.320361  \n",
       "78748   35402.944711          0.318378  \n",
       "78747   28637.902633          0.311913  \n",
       "78749   47636.085916          0.308334  \n",
       "78704   87327.729205          0.292980  \n",
       "78751   84438.925723          0.288028  \n",
       "78660   27971.824719          0.287352  \n",
       "78750   54846.182401          0.283521  \n",
       "78759   60032.662296          0.277472  \n",
       "78746  122093.528232          0.277462  \n",
       "78754   29416.928072          0.273871  \n",
       "78653   22540.440485          0.265527  \n",
       "78717   42394.006229          0.264883  \n",
       "78737   55522.516558          0.246508  \n",
       "78733   56490.140594          0.241490  \n",
       "78730   68125.888927          0.236741  \n",
       "78756   79417.072127          0.229287  \n",
       "78739   48079.817914          0.215530  \n",
       "78726   48609.392256          0.204510  \n",
       "78734   48331.495450          0.203426  \n",
       "78669   49160.367343          0.201542  \n",
       "78731   69752.007459          0.200499  \n",
       "78735  131598.650937          0.170976  \n",
       "78732   56840.459871          0.130093  \n",
       "78705   83843.498954          0.100734  \n",
       "78738   56946.876000          0.070444  "
      ]
     },
     "execution_count": 462,
     "metadata": {},
     "output_type": "execute_result"
    }
   ],
   "source": [
    "test_county_zip_perc(df_travis, travis_dict_full)"
   ]
  },
  {
   "cell_type": "code",
   "execution_count": 454,
   "metadata": {
    "ExecuteTime": {
     "end_time": "2021-06-14T02:22:22.827506Z",
     "start_time": "2021-06-14T02:22:22.359431Z"
    }
   },
   "outputs": [
    {
     "data": {
      "text/html": [
       "<div>\n",
       "<style scoped>\n",
       "    .dataframe tbody tr th:only-of-type {\n",
       "        vertical-align: middle;\n",
       "    }\n",
       "\n",
       "    .dataframe tbody tr th {\n",
       "        vertical-align: top;\n",
       "    }\n",
       "\n",
       "    .dataframe thead th {\n",
       "        text-align: right;\n",
       "    }\n",
       "</style>\n",
       "<table border=\"1\" class=\"dataframe\">\n",
       "  <thead>\n",
       "    <tr style=\"text-align: right;\">\n",
       "      <th></th>\n",
       "      <th>value</th>\n",
       "      <th>2_Year_Pct_Change</th>\n",
       "      <th>5_Year_Pct_Change</th>\n",
       "      <th>10_Year_Pct_Change</th>\n",
       "      <th>Std</th>\n",
       "    </tr>\n",
       "  </thead>\n",
       "  <tbody>\n",
       "    <tr>\n",
       "      <th>76063</th>\n",
       "      <td>265150.0</td>\n",
       "      <td>0.130623</td>\n",
       "      <td>0.451949</td>\n",
       "      <td>0.445484</td>\n",
       "      <td>30634.090877</td>\n",
       "    </tr>\n",
       "    <tr>\n",
       "      <th>76244</th>\n",
       "      <td>251000.0</td>\n",
       "      <td>0.123671</td>\n",
       "      <td>0.440735</td>\n",
       "      <td>0.404392</td>\n",
       "      <td>26760.612068</td>\n",
       "    </tr>\n",
       "    <tr>\n",
       "      <th>76116</th>\n",
       "      <td>185675.0</td>\n",
       "      <td>0.207708</td>\n",
       "      <td>0.550954</td>\n",
       "      <td>0.531130</td>\n",
       "      <td>24900.431531</td>\n",
       "    </tr>\n",
       "    <tr>\n",
       "      <th>76179</th>\n",
       "      <td>200575.0</td>\n",
       "      <td>0.152068</td>\n",
       "      <td>0.451339</td>\n",
       "      <td>0.381926</td>\n",
       "      <td>21731.712765</td>\n",
       "    </tr>\n",
       "    <tr>\n",
       "      <th>76137</th>\n",
       "      <td>199475.0</td>\n",
       "      <td>0.180325</td>\n",
       "      <td>0.515288</td>\n",
       "      <td>0.474316</td>\n",
       "      <td>20927.374450</td>\n",
       "    </tr>\n",
       "    <tr>\n",
       "      <th>76051</th>\n",
       "      <td>339050.0</td>\n",
       "      <td>0.103559</td>\n",
       "      <td>0.432202</td>\n",
       "      <td>0.575877</td>\n",
       "      <td>45362.693837</td>\n",
       "    </tr>\n",
       "    <tr>\n",
       "      <th>76133</th>\n",
       "      <td>161750.0</td>\n",
       "      <td>0.267633</td>\n",
       "      <td>0.732572</td>\n",
       "      <td>0.535480</td>\n",
       "      <td>20470.581444</td>\n",
       "    </tr>\n",
       "    <tr>\n",
       "      <th>76010</th>\n",
       "      <td>131000.0</td>\n",
       "      <td>0.376774</td>\n",
       "      <td>0.760161</td>\n",
       "      <td>0.633247</td>\n",
       "      <td>17624.458304</td>\n",
       "    </tr>\n",
       "    <tr>\n",
       "      <th>76112</th>\n",
       "      <td>144025.0</td>\n",
       "      <td>0.316198</td>\n",
       "      <td>0.795823</td>\n",
       "      <td>0.542161</td>\n",
       "      <td>18705.279078</td>\n",
       "    </tr>\n",
       "    <tr>\n",
       "      <th>76017</th>\n",
       "      <td>196950.0</td>\n",
       "      <td>0.149961</td>\n",
       "      <td>0.489788</td>\n",
       "      <td>0.441625</td>\n",
       "      <td>22812.705753</td>\n",
       "    </tr>\n",
       "    <tr>\n",
       "      <th>76039</th>\n",
       "      <td>228825.0</td>\n",
       "      <td>0.195013</td>\n",
       "      <td>0.510479</td>\n",
       "      <td>0.556986</td>\n",
       "      <td>28046.856285</td>\n",
       "    </tr>\n",
       "    <tr>\n",
       "      <th>76108</th>\n",
       "      <td>162425.0</td>\n",
       "      <td>0.224002</td>\n",
       "      <td>0.622492</td>\n",
       "      <td>0.489454</td>\n",
       "      <td>19762.910792</td>\n",
       "    </tr>\n",
       "    <tr>\n",
       "      <th>76021</th>\n",
       "      <td>256550.0</td>\n",
       "      <td>0.179947</td>\n",
       "      <td>0.463630</td>\n",
       "      <td>0.537071</td>\n",
       "      <td>33196.590268</td>\n",
       "    </tr>\n",
       "    <tr>\n",
       "      <th>76107</th>\n",
       "      <td>280625.0</td>\n",
       "      <td>0.165386</td>\n",
       "      <td>0.528112</td>\n",
       "      <td>0.666172</td>\n",
       "      <td>40099.152423</td>\n",
       "    </tr>\n",
       "    <tr>\n",
       "      <th>76119</th>\n",
       "      <td>93800.0</td>\n",
       "      <td>0.353698</td>\n",
       "      <td>0.643692</td>\n",
       "      <td>0.452762</td>\n",
       "      <td>12442.036316</td>\n",
       "    </tr>\n",
       "    <tr>\n",
       "      <th>76180</th>\n",
       "      <td>200975.0</td>\n",
       "      <td>0.228766</td>\n",
       "      <td>0.648011</td>\n",
       "      <td>0.598846</td>\n",
       "      <td>25519.398496</td>\n",
       "    </tr>\n",
       "    <tr>\n",
       "      <th>76248</th>\n",
       "      <td>385200.0</td>\n",
       "      <td>0.093179</td>\n",
       "      <td>0.401449</td>\n",
       "      <td>0.425127</td>\n",
       "      <td>48784.959790</td>\n",
       "    </tr>\n",
       "    <tr>\n",
       "      <th>76006</th>\n",
       "      <td>276725.0</td>\n",
       "      <td>0.142115</td>\n",
       "      <td>0.417709</td>\n",
       "      <td>0.393554</td>\n",
       "      <td>30215.104984</td>\n",
       "    </tr>\n",
       "    <tr>\n",
       "      <th>76013</th>\n",
       "      <td>197425.0</td>\n",
       "      <td>0.191401</td>\n",
       "      <td>0.539076</td>\n",
       "      <td>0.446160</td>\n",
       "      <td>24333.519303</td>\n",
       "    </tr>\n",
       "    <tr>\n",
       "      <th>76132</th>\n",
       "      <td>316000.0</td>\n",
       "      <td>0.166482</td>\n",
       "      <td>0.428033</td>\n",
       "      <td>0.473422</td>\n",
       "      <td>30216.426579</td>\n",
       "    </tr>\n",
       "    <tr>\n",
       "      <th>76131</th>\n",
       "      <td>199575.0</td>\n",
       "      <td>0.155617</td>\n",
       "      <td>0.479703</td>\n",
       "      <td>0.390444</td>\n",
       "      <td>20093.482418</td>\n",
       "    </tr>\n",
       "    <tr>\n",
       "      <th>76053</th>\n",
       "      <td>186175.0</td>\n",
       "      <td>0.219154</td>\n",
       "      <td>0.623619</td>\n",
       "      <td>0.514131</td>\n",
       "      <td>24327.485717</td>\n",
       "    </tr>\n",
       "    <tr>\n",
       "      <th>76182</th>\n",
       "      <td>257225.0</td>\n",
       "      <td>0.158541</td>\n",
       "      <td>0.491880</td>\n",
       "      <td>0.565581</td>\n",
       "      <td>33719.325462</td>\n",
       "    </tr>\n",
       "    <tr>\n",
       "      <th>76117</th>\n",
       "      <td>133550.0</td>\n",
       "      <td>0.371033</td>\n",
       "      <td>0.795228</td>\n",
       "      <td>0.591302</td>\n",
       "      <td>17740.420066</td>\n",
       "    </tr>\n",
       "    <tr>\n",
       "      <th>76040</th>\n",
       "      <td>215800.0</td>\n",
       "      <td>0.209359</td>\n",
       "      <td>0.507071</td>\n",
       "      <td>0.521325</td>\n",
       "      <td>23927.128525</td>\n",
       "    </tr>\n",
       "    <tr>\n",
       "      <th>76016</th>\n",
       "      <td>214000.0</td>\n",
       "      <td>0.150177</td>\n",
       "      <td>0.463915</td>\n",
       "      <td>0.443670</td>\n",
       "      <td>24668.794864</td>\n",
       "    </tr>\n",
       "    <tr>\n",
       "      <th>76014</th>\n",
       "      <td>151100.0</td>\n",
       "      <td>0.302961</td>\n",
       "      <td>0.782190</td>\n",
       "      <td>0.564317</td>\n",
       "      <td>19162.721035</td>\n",
       "    </tr>\n",
       "    <tr>\n",
       "      <th>76020</th>\n",
       "      <td>176075.0</td>\n",
       "      <td>0.193931</td>\n",
       "      <td>0.421966</td>\n",
       "      <td>0.392172</td>\n",
       "      <td>22525.398598</td>\n",
       "    </tr>\n",
       "    <tr>\n",
       "      <th>76012</th>\n",
       "      <td>222925.0</td>\n",
       "      <td>0.171337</td>\n",
       "      <td>0.455995</td>\n",
       "      <td>0.482461</td>\n",
       "      <td>25198.847419</td>\n",
       "    </tr>\n",
       "    <tr>\n",
       "      <th>76001</th>\n",
       "      <td>214875.0</td>\n",
       "      <td>0.172525</td>\n",
       "      <td>0.511962</td>\n",
       "      <td>0.478922</td>\n",
       "      <td>23104.126313</td>\n",
       "    </tr>\n",
       "    <tr>\n",
       "      <th>76109</th>\n",
       "      <td>432250.0</td>\n",
       "      <td>0.112995</td>\n",
       "      <td>0.424883</td>\n",
       "      <td>0.540815</td>\n",
       "      <td>56215.605889</td>\n",
       "    </tr>\n",
       "    <tr>\n",
       "      <th>76011</th>\n",
       "      <td>155525.0</td>\n",
       "      <td>0.251962</td>\n",
       "      <td>0.678026</td>\n",
       "      <td>0.536302</td>\n",
       "      <td>20188.915893</td>\n",
       "    </tr>\n",
       "    <tr>\n",
       "      <th>76123</th>\n",
       "      <td>184475.0</td>\n",
       "      <td>0.210135</td>\n",
       "      <td>0.507251</td>\n",
       "      <td>0.355022</td>\n",
       "      <td>16614.780204</td>\n",
       "    </tr>\n",
       "    <tr>\n",
       "      <th>76140</th>\n",
       "      <td>138800.0</td>\n",
       "      <td>0.301148</td>\n",
       "      <td>0.756221</td>\n",
       "      <td>0.513907</td>\n",
       "      <td>15725.416584</td>\n",
       "    </tr>\n",
       "    <tr>\n",
       "      <th>76092</th>\n",
       "      <td>649625.0</td>\n",
       "      <td>0.086375</td>\n",
       "      <td>0.389746</td>\n",
       "      <td>0.345072</td>\n",
       "      <td>70007.539836</td>\n",
       "    </tr>\n",
       "    <tr>\n",
       "      <th>76036</th>\n",
       "      <td>189225.0</td>\n",
       "      <td>0.180259</td>\n",
       "      <td>0.384911</td>\n",
       "      <td>0.354429</td>\n",
       "      <td>18467.603034</td>\n",
       "    </tr>\n",
       "    <tr>\n",
       "      <th>76002</th>\n",
       "      <td>221125.0</td>\n",
       "      <td>0.200299</td>\n",
       "      <td>0.524387</td>\n",
       "      <td>0.430535</td>\n",
       "      <td>22957.808824</td>\n",
       "    </tr>\n",
       "    <tr>\n",
       "      <th>76114</th>\n",
       "      <td>132225.0</td>\n",
       "      <td>0.487345</td>\n",
       "      <td>0.854922</td>\n",
       "      <td>0.634089</td>\n",
       "      <td>17366.702078</td>\n",
       "    </tr>\n",
       "    <tr>\n",
       "      <th>76126</th>\n",
       "      <td>203600.0</td>\n",
       "      <td>0.128916</td>\n",
       "      <td>0.424025</td>\n",
       "      <td>0.460807</td>\n",
       "      <td>24786.792103</td>\n",
       "    </tr>\n",
       "    <tr>\n",
       "      <th>76034</th>\n",
       "      <td>491875.0</td>\n",
       "      <td>0.059314</td>\n",
       "      <td>0.246410</td>\n",
       "      <td>0.255183</td>\n",
       "      <td>59724.779287</td>\n",
       "    </tr>\n",
       "    <tr>\n",
       "      <th>76134</th>\n",
       "      <td>144775.0</td>\n",
       "      <td>0.263307</td>\n",
       "      <td>0.716869</td>\n",
       "      <td>0.516895</td>\n",
       "      <td>17628.780839</td>\n",
       "    </tr>\n",
       "    <tr>\n",
       "      <th>76018</th>\n",
       "      <td>173750.0</td>\n",
       "      <td>0.216382</td>\n",
       "      <td>0.536138</td>\n",
       "      <td>0.422723</td>\n",
       "      <td>19980.773103</td>\n",
       "    </tr>\n",
       "    <tr>\n",
       "      <th>76148</th>\n",
       "      <td>160600.0</td>\n",
       "      <td>0.234910</td>\n",
       "      <td>0.705185</td>\n",
       "      <td>0.611641</td>\n",
       "      <td>20929.745883</td>\n",
       "    </tr>\n",
       "    <tr>\n",
       "      <th>76135</th>\n",
       "      <td>174000.0</td>\n",
       "      <td>0.235503</td>\n",
       "      <td>0.567215</td>\n",
       "      <td>0.458610</td>\n",
       "      <td>21442.445873</td>\n",
       "    </tr>\n",
       "    <tr>\n",
       "      <th>76120</th>\n",
       "      <td>185700.0</td>\n",
       "      <td>0.163169</td>\n",
       "      <td>0.444480</td>\n",
       "      <td>0.274828</td>\n",
       "      <td>20737.468070</td>\n",
       "    </tr>\n",
       "    <tr>\n",
       "      <th>76105</th>\n",
       "      <td>77825.0</td>\n",
       "      <td>0.277565</td>\n",
       "      <td>0.398682</td>\n",
       "      <td>0.329584</td>\n",
       "      <td>10277.541441</td>\n",
       "    </tr>\n",
       "    <tr>\n",
       "      <th>76015</th>\n",
       "      <td>177100.0</td>\n",
       "      <td>0.276090</td>\n",
       "      <td>0.589291</td>\n",
       "      <td>0.503502</td>\n",
       "      <td>22509.955917</td>\n",
       "    </tr>\n",
       "    <tr>\n",
       "      <th>76052</th>\n",
       "      <td>260525.0</td>\n",
       "      <td>0.100694</td>\n",
       "      <td>0.394673</td>\n",
       "      <td>0.344645</td>\n",
       "      <td>26023.299246</td>\n",
       "    </tr>\n",
       "    <tr>\n",
       "      <th>76111</th>\n",
       "      <td>121100.0</td>\n",
       "      <td>0.385187</td>\n",
       "      <td>0.780446</td>\n",
       "      <td>0.544807</td>\n",
       "      <td>16351.038766</td>\n",
       "    </tr>\n",
       "    <tr>\n",
       "      <th>76177</th>\n",
       "      <td>250375.0</td>\n",
       "      <td>0.107160</td>\n",
       "      <td>0.385392</td>\n",
       "      <td>0.439626</td>\n",
       "      <td>27023.889179</td>\n",
       "    </tr>\n",
       "    <tr>\n",
       "      <th>76104</th>\n",
       "      <td>78925.0</td>\n",
       "      <td>0.293322</td>\n",
       "      <td>0.275040</td>\n",
       "      <td>0.380009</td>\n",
       "      <td>10238.819882</td>\n",
       "    </tr>\n",
       "    <tr>\n",
       "      <th>76022</th>\n",
       "      <td>189975.0</td>\n",
       "      <td>0.185307</td>\n",
       "      <td>0.570366</td>\n",
       "      <td>0.481961</td>\n",
       "      <td>24554.803631</td>\n",
       "    </tr>\n",
       "    <tr>\n",
       "      <th>76118</th>\n",
       "      <td>194975.0</td>\n",
       "      <td>0.241088</td>\n",
       "      <td>0.565226</td>\n",
       "      <td>0.493013</td>\n",
       "      <td>24923.169293</td>\n",
       "    </tr>\n",
       "    <tr>\n",
       "      <th>76247</th>\n",
       "      <td>213500.0</td>\n",
       "      <td>0.186551</td>\n",
       "      <td>0.463080</td>\n",
       "      <td>0.408234</td>\n",
       "      <td>21055.758779</td>\n",
       "    </tr>\n",
       "    <tr>\n",
       "      <th>76103</th>\n",
       "      <td>124200.0</td>\n",
       "      <td>0.380383</td>\n",
       "      <td>0.895460</td>\n",
       "      <td>0.602064</td>\n",
       "      <td>15915.323066</td>\n",
       "    </tr>\n",
       "    <tr>\n",
       "      <th>76054</th>\n",
       "      <td>272825.0</td>\n",
       "      <td>0.180337</td>\n",
       "      <td>0.523665</td>\n",
       "      <td>0.554189</td>\n",
       "      <td>37447.092361</td>\n",
       "    </tr>\n",
       "    <tr>\n",
       "      <th>76164</th>\n",
       "      <td>101675.0</td>\n",
       "      <td>0.346837</td>\n",
       "      <td>0.746743</td>\n",
       "      <td>0.495954</td>\n",
       "      <td>14328.369979</td>\n",
       "    </tr>\n",
       "    <tr>\n",
       "      <th>76060</th>\n",
       "      <td>240825.0</td>\n",
       "      <td>0.175043</td>\n",
       "      <td>0.446035</td>\n",
       "      <td>0.463611</td>\n",
       "      <td>27393.580473</td>\n",
       "    </tr>\n",
       "    <tr>\n",
       "      <th>76005</th>\n",
       "      <td>373925.0</td>\n",
       "      <td>-0.012261</td>\n",
       "      <td>0.222377</td>\n",
       "      <td>0.394029</td>\n",
       "      <td>61827.096977</td>\n",
       "    </tr>\n",
       "  </tbody>\n",
       "</table>\n",
       "</div>"
      ],
      "text/plain": [
       "          value  2_Year_Pct_Change  5_Year_Pct_Change  10_Year_Pct_Change  \\\n",
       "76063  265150.0           0.130623           0.451949            0.445484   \n",
       "76244  251000.0           0.123671           0.440735            0.404392   \n",
       "76116  185675.0           0.207708           0.550954            0.531130   \n",
       "76179  200575.0           0.152068           0.451339            0.381926   \n",
       "76137  199475.0           0.180325           0.515288            0.474316   \n",
       "76051  339050.0           0.103559           0.432202            0.575877   \n",
       "76133  161750.0           0.267633           0.732572            0.535480   \n",
       "76010  131000.0           0.376774           0.760161            0.633247   \n",
       "76112  144025.0           0.316198           0.795823            0.542161   \n",
       "76017  196950.0           0.149961           0.489788            0.441625   \n",
       "76039  228825.0           0.195013           0.510479            0.556986   \n",
       "76108  162425.0           0.224002           0.622492            0.489454   \n",
       "76021  256550.0           0.179947           0.463630            0.537071   \n",
       "76107  280625.0           0.165386           0.528112            0.666172   \n",
       "76119   93800.0           0.353698           0.643692            0.452762   \n",
       "76180  200975.0           0.228766           0.648011            0.598846   \n",
       "76248  385200.0           0.093179           0.401449            0.425127   \n",
       "76006  276725.0           0.142115           0.417709            0.393554   \n",
       "76013  197425.0           0.191401           0.539076            0.446160   \n",
       "76132  316000.0           0.166482           0.428033            0.473422   \n",
       "76131  199575.0           0.155617           0.479703            0.390444   \n",
       "76053  186175.0           0.219154           0.623619            0.514131   \n",
       "76182  257225.0           0.158541           0.491880            0.565581   \n",
       "76117  133550.0           0.371033           0.795228            0.591302   \n",
       "76040  215800.0           0.209359           0.507071            0.521325   \n",
       "76016  214000.0           0.150177           0.463915            0.443670   \n",
       "76014  151100.0           0.302961           0.782190            0.564317   \n",
       "76020  176075.0           0.193931           0.421966            0.392172   \n",
       "76012  222925.0           0.171337           0.455995            0.482461   \n",
       "76001  214875.0           0.172525           0.511962            0.478922   \n",
       "76109  432250.0           0.112995           0.424883            0.540815   \n",
       "76011  155525.0           0.251962           0.678026            0.536302   \n",
       "76123  184475.0           0.210135           0.507251            0.355022   \n",
       "76140  138800.0           0.301148           0.756221            0.513907   \n",
       "76092  649625.0           0.086375           0.389746            0.345072   \n",
       "76036  189225.0           0.180259           0.384911            0.354429   \n",
       "76002  221125.0           0.200299           0.524387            0.430535   \n",
       "76114  132225.0           0.487345           0.854922            0.634089   \n",
       "76126  203600.0           0.128916           0.424025            0.460807   \n",
       "76034  491875.0           0.059314           0.246410            0.255183   \n",
       "76134  144775.0           0.263307           0.716869            0.516895   \n",
       "76018  173750.0           0.216382           0.536138            0.422723   \n",
       "76148  160600.0           0.234910           0.705185            0.611641   \n",
       "76135  174000.0           0.235503           0.567215            0.458610   \n",
       "76120  185700.0           0.163169           0.444480            0.274828   \n",
       "76105   77825.0           0.277565           0.398682            0.329584   \n",
       "76015  177100.0           0.276090           0.589291            0.503502   \n",
       "76052  260525.0           0.100694           0.394673            0.344645   \n",
       "76111  121100.0           0.385187           0.780446            0.544807   \n",
       "76177  250375.0           0.107160           0.385392            0.439626   \n",
       "76104   78925.0           0.293322           0.275040            0.380009   \n",
       "76022  189975.0           0.185307           0.570366            0.481961   \n",
       "76118  194975.0           0.241088           0.565226            0.493013   \n",
       "76247  213500.0           0.186551           0.463080            0.408234   \n",
       "76103  124200.0           0.380383           0.895460            0.602064   \n",
       "76054  272825.0           0.180337           0.523665            0.554189   \n",
       "76164  101675.0           0.346837           0.746743            0.495954   \n",
       "76060  240825.0           0.175043           0.446035            0.463611   \n",
       "76005  373925.0          -0.012261           0.222377            0.394029   \n",
       "\n",
       "                Std  \n",
       "76063  30634.090877  \n",
       "76244  26760.612068  \n",
       "76116  24900.431531  \n",
       "76179  21731.712765  \n",
       "76137  20927.374450  \n",
       "76051  45362.693837  \n",
       "76133  20470.581444  \n",
       "76010  17624.458304  \n",
       "76112  18705.279078  \n",
       "76017  22812.705753  \n",
       "76039  28046.856285  \n",
       "76108  19762.910792  \n",
       "76021  33196.590268  \n",
       "76107  40099.152423  \n",
       "76119  12442.036316  \n",
       "76180  25519.398496  \n",
       "76248  48784.959790  \n",
       "76006  30215.104984  \n",
       "76013  24333.519303  \n",
       "76132  30216.426579  \n",
       "76131  20093.482418  \n",
       "76053  24327.485717  \n",
       "76182  33719.325462  \n",
       "76117  17740.420066  \n",
       "76040  23927.128525  \n",
       "76016  24668.794864  \n",
       "76014  19162.721035  \n",
       "76020  22525.398598  \n",
       "76012  25198.847419  \n",
       "76001  23104.126313  \n",
       "76109  56215.605889  \n",
       "76011  20188.915893  \n",
       "76123  16614.780204  \n",
       "76140  15725.416584  \n",
       "76092  70007.539836  \n",
       "76036  18467.603034  \n",
       "76002  22957.808824  \n",
       "76114  17366.702078  \n",
       "76126  24786.792103  \n",
       "76034  59724.779287  \n",
       "76134  17628.780839  \n",
       "76018  19980.773103  \n",
       "76148  20929.745883  \n",
       "76135  21442.445873  \n",
       "76120  20737.468070  \n",
       "76105  10277.541441  \n",
       "76015  22509.955917  \n",
       "76052  26023.299246  \n",
       "76111  16351.038766  \n",
       "76177  27023.889179  \n",
       "76104  10238.819882  \n",
       "76022  24554.803631  \n",
       "76118  24923.169293  \n",
       "76247  21055.758779  \n",
       "76103  15915.323066  \n",
       "76054  37447.092361  \n",
       "76164  14328.369979  \n",
       "76060  27393.580473  \n",
       "76005  61827.096977  "
      ]
     },
     "execution_count": 454,
     "metadata": {},
     "output_type": "execute_result"
    }
   ],
   "source": [
    "test_county_zip_perc(df_Tarrant, Tarrant_dict_full)"
   ]
  },
  {
   "cell_type": "code",
   "execution_count": null,
   "metadata": {},
   "outputs": [],
   "source": []
  },
  {
   "cell_type": "code",
   "execution_count": null,
   "metadata": {},
   "outputs": [],
   "source": []
  },
  {
   "cell_type": "code",
   "execution_count": null,
   "metadata": {},
   "outputs": [],
   "source": []
  },
  {
   "cell_type": "code",
   "execution_count": null,
   "metadata": {},
   "outputs": [],
   "source": []
  },
  {
   "cell_type": "code",
   "execution_count": null,
   "metadata": {},
   "outputs": [],
   "source": []
  },
  {
   "cell_type": "code",
   "execution_count": null,
   "metadata": {},
   "outputs": [],
   "source": []
  },
  {
   "cell_type": "code",
   "execution_count": null,
   "metadata": {},
   "outputs": [],
   "source": []
  },
  {
   "cell_type": "code",
   "execution_count": null,
   "metadata": {},
   "outputs": [],
   "source": []
  },
  {
   "cell_type": "code",
   "execution_count": null,
   "metadata": {},
   "outputs": [],
   "source": []
  },
  {
   "cell_type": "code",
   "execution_count": null,
   "metadata": {
    "ExecuteTime": {
     "end_time": "2021-06-12T23:43:36.129503Z",
     "start_time": "2021-06-12T23:43:28.139Z"
    }
   },
   "outputs": [],
   "source": [
    "import seaborn as sns\n",
    "fig, ax = plt.subplots(figsize=(12,5))\n",
    "sns.barplot(data=df_77092,x=df_77092.index.year, \n",
    "            y=df_77092['value'], ax=ax)\n",
    "# ax1 = ax.twinx()\n",
    "# sns.lineplot(data=df_77092, x=df_77092.index,\n",
    "#              y=df_77092['value'],sort=False,ax=ax1)\n",
    "ax.plot(df_77092['value'])\n",
    "# sns.lineplot(data=harris_dict_annual[77092], x=harris_dict_annual[77092].index\n",
    "#              y=harris_dict_annual[77092]['value'],sort=False,ax=ax1)"
   ]
  },
  {
   "cell_type": "code",
   "execution_count": null,
   "metadata": {
    "ExecuteTime": {
     "end_time": "2021-06-12T23:43:36.130028Z",
     "start_time": "2021-06-12T23:43:28.140Z"
    }
   },
   "outputs": [],
   "source": [
    "harris_dict_annual[77092].index"
   ]
  },
  {
   "cell_type": "code",
   "execution_count": null,
   "metadata": {},
   "outputs": [],
   "source": []
  },
  {
   "cell_type": "code",
   "execution_count": null,
   "metadata": {},
   "outputs": [],
   "source": []
  },
  {
   "cell_type": "code",
   "execution_count": null,
   "metadata": {
    "ExecuteTime": {
     "end_time": "2021-06-12T23:43:36.130613Z",
     "start_time": "2021-06-12T23:43:28.143Z"
    }
   },
   "outputs": [],
   "source": [
    "harris_dict_annual[77547]['test'] = harris_dict_annual[77547]['value'].pct_change(periods=1)"
   ]
  },
  {
   "cell_type": "code",
   "execution_count": null,
   "metadata": {
    "ExecuteTime": {
     "end_time": "2021-06-12T23:43:36.131190Z",
     "start_time": "2021-06-12T23:43:28.144Z"
    }
   },
   "outputs": [],
   "source": [
    "harris_dict_annual[77547]"
   ]
  },
  {
   "cell_type": "code",
   "execution_count": null,
   "metadata": {},
   "outputs": [],
   "source": []
  },
  {
   "cell_type": "code",
   "execution_count": null,
   "metadata": {},
   "outputs": [],
   "source": []
  },
  {
   "cell_type": "code",
   "execution_count": null,
   "metadata": {
    "ExecuteTime": {
     "end_time": "2021-06-12T23:43:36.141356Z",
     "start_time": "2021-06-12T23:43:28.162Z"
    }
   },
   "outputs": [],
   "source": [
    "ax =df_yearly['test']['2010-01-01':].plot(figsize=(12,5))\n",
    "from matplotlib import dates\n",
    "\n",
    "# ax.xaxis.set_minor_locator(dates.MonthLocator())\n",
    "# ax.xaxis.set_minor_formatter(dates.DateFormatter('\\n\\n%b'))\n",
    "ax.xaxis.set_minor_locator(dates.MonthLocator())\n",
    "# ax.xaxis.set_minor_formatter(dates.DateFormatter('\\n\\n%b'))\n",
    "ax.xaxis.set_minor_formatter(dates.DateFormatter(fmt=\"%Q\"))"
   ]
  },
  {
   "cell_type": "code",
   "execution_count": null,
   "metadata": {
    "ExecuteTime": {
     "end_time": "2021-06-12T23:43:36.142172Z",
     "start_time": "2021-06-12T23:43:28.163Z"
    }
   },
   "outputs": [],
   "source": [
    "df_austinlong.columns"
   ]
  },
  {
   "cell_type": "code",
   "execution_count": null,
   "metadata": {
    "ExecuteTime": {
     "end_time": "2021-06-12T23:43:36.143062Z",
     "start_time": "2021-06-12T23:43:28.165Z"
    }
   },
   "outputs": [],
   "source": [
    "df_austinlong['RegionName'].value_counts(1)"
   ]
  },
  {
   "cell_type": "code",
   "execution_count": null,
   "metadata": {
    "ExecuteTime": {
     "end_time": "2021-06-12T23:43:36.144461Z",
     "start_time": "2021-06-12T23:43:28.165Z"
    }
   },
   "outputs": [],
   "source": [
    "regions = list(df_austinlong['RegionName'].values)"
   ]
  },
  {
   "cell_type": "code",
   "execution_count": null,
   "metadata": {
    "ExecuteTime": {
     "end_time": "2021-06-12T23:43:36.145937Z",
     "start_time": "2021-06-12T23:43:28.166Z"
    }
   },
   "outputs": [],
   "source": [
    "df_austinlong.columns"
   ]
  },
  {
   "cell_type": "code",
   "execution_count": null,
   "metadata": {
    "ExecuteTime": {
     "end_time": "2021-06-12T23:43:36.147180Z",
     "start_time": "2021-06-12T23:43:28.167Z"
    }
   },
   "outputs": [],
   "source": [
    "df_austinlong"
   ]
  },
  {
   "cell_type": "code",
   "execution_count": null,
   "metadata": {
    "ExecuteTime": {
     "end_time": "2021-06-12T23:43:36.149258Z",
     "start_time": "2021-06-12T23:43:28.168Z"
    }
   },
   "outputs": [],
   "source": [
    "df_austinlong.index = pd.to_datetime(df_austinlong.index)"
   ]
  },
  {
   "cell_type": "code",
   "execution_count": null,
   "metadata": {
    "ExecuteTime": {
     "end_time": "2021-06-12T23:43:36.150363Z",
     "start_time": "2021-06-12T23:43:28.169Z"
    }
   },
   "outputs": [],
   "source": [
    "df_austinlong.sort_index()"
   ]
  },
  {
   "cell_type": "code",
   "execution_count": null,
   "metadata": {
    "ExecuteTime": {
     "end_time": "2021-06-12T23:43:36.151082Z",
     "start_time": "2021-06-12T23:43:28.170Z"
    }
   },
   "outputs": [],
   "source": [
    "some_dict = {}\n",
    "for i in regions:\n",
    "    some_dict[i] = df_austinlong[df_austinlong['RegionName']==i]"
   ]
  },
  {
   "cell_type": "code",
   "execution_count": null,
   "metadata": {
    "ExecuteTime": {
     "end_time": "2021-06-12T23:43:36.151623Z",
     "start_time": "2021-06-12T23:43:28.171Z"
    }
   },
   "outputs": [],
   "source": [
    "some_dict.keys()"
   ]
  },
  {
   "cell_type": "code",
   "execution_count": null,
   "metadata": {
    "ExecuteTime": {
     "end_time": "2021-06-12T23:43:36.152156Z",
     "start_time": "2021-06-12T23:43:28.172Z"
    }
   },
   "outputs": [],
   "source": [
    "for k, v in some_dict.items():\n",
    "    some_dict[k].drop(columns=['RegionName', 'City', 'State', 'Metro', 'CountyName'], axis=1,inplace=True)\n",
    "    some_dict[k].sort_index(inplace=True)"
   ]
  },
  {
   "cell_type": "code",
   "execution_count": null,
   "metadata": {
    "ExecuteTime": {
     "end_time": "2021-06-12T23:43:36.152771Z",
     "start_time": "2021-06-12T23:43:28.173Z"
    }
   },
   "outputs": [],
   "source": [
    "\n",
    "plt.plot(some_dict[78746])\n",
    "plt.plot(some_dict[78747])"
   ]
  },
  {
   "cell_type": "code",
   "execution_count": 163,
   "metadata": {
    "ExecuteTime": {
     "end_time": "2021-06-13T13:53:24.191752Z",
     "start_time": "2021-06-13T13:53:23.817183Z"
    }
   },
   "outputs": [
    {
     "ename": "NameError",
     "evalue": "name 'some_dict' is not defined",
     "output_type": "error",
     "traceback": [
      "\u001b[0;31m---------------------------------------------------------------------------\u001b[0m",
      "\u001b[0;31mNameError\u001b[0m                                 Traceback (most recent call last)",
      "\u001b[0;32m<ipython-input-163-68fe65342baf>\u001b[0m in \u001b[0;36m<module>\u001b[0;34m\u001b[0m\n\u001b[1;32m      1\u001b[0m \u001b[0mget_ipython\u001b[0m\u001b[0;34m(\u001b[0m\u001b[0;34m)\u001b[0m\u001b[0;34m.\u001b[0m\u001b[0mrun_line_magic\u001b[0m\u001b[0;34m(\u001b[0m\u001b[0;34m'matplotlib'\u001b[0m\u001b[0;34m,\u001b[0m \u001b[0;34m'inline'\u001b[0m\u001b[0;34m)\u001b[0m\u001b[0;34m\u001b[0m\u001b[0;34m\u001b[0m\u001b[0m\n\u001b[1;32m      2\u001b[0m \u001b[0mfig\u001b[0m\u001b[0;34m,\u001b[0m \u001b[0max\u001b[0m \u001b[0;34m=\u001b[0m \u001b[0mplt\u001b[0m\u001b[0;34m.\u001b[0m\u001b[0msubplots\u001b[0m\u001b[0;34m(\u001b[0m\u001b[0mfigsize\u001b[0m\u001b[0;34m=\u001b[0m\u001b[0;34m(\u001b[0m\u001b[0;36m12\u001b[0m\u001b[0;34m,\u001b[0m\u001b[0;36m5\u001b[0m\u001b[0;34m)\u001b[0m\u001b[0;34m)\u001b[0m\u001b[0;34m\u001b[0m\u001b[0;34m\u001b[0m\u001b[0m\n\u001b[0;32m----> 3\u001b[0;31m \u001b[0max\u001b[0m\u001b[0;34m.\u001b[0m\u001b[0mplot\u001b[0m\u001b[0;34m(\u001b[0m\u001b[0msome_dict\u001b[0m\u001b[0;34m[\u001b[0m\u001b[0;36m78746\u001b[0m\u001b[0;34m]\u001b[0m\u001b[0;34m,\u001b[0m \u001b[0mlabel\u001b[0m\u001b[0;34m=\u001b[0m\u001b[0;34m'78747'\u001b[0m\u001b[0;34m)\u001b[0m\u001b[0;34m\u001b[0m\u001b[0;34m\u001b[0m\u001b[0m\n\u001b[0m\u001b[1;32m      4\u001b[0m \u001b[0max\u001b[0m\u001b[0;34m.\u001b[0m\u001b[0mplot\u001b[0m\u001b[0;34m(\u001b[0m\u001b[0msome_dict\u001b[0m\u001b[0;34m[\u001b[0m\u001b[0;36m78747\u001b[0m\u001b[0;34m]\u001b[0m\u001b[0;34m)\u001b[0m\u001b[0;34m\u001b[0m\u001b[0;34m\u001b[0m\u001b[0m\n\u001b[1;32m      5\u001b[0m \u001b[0max\u001b[0m\u001b[0;34m.\u001b[0m\u001b[0mlegend\u001b[0m\u001b[0;34m(\u001b[0m\u001b[0;34m)\u001b[0m\u001b[0;34m\u001b[0m\u001b[0;34m\u001b[0m\u001b[0m\n",
      "\u001b[0;31mNameError\u001b[0m: name 'some_dict' is not defined"
     ]
    },
    {
     "data": {
      "image/png": "[encoded data removed]",
      "text/plain": [
       "<Figure size 864x360 with 1 Axes>"
      ]
     },
     "metadata": {
      "needs_background": "light"
     },
     "output_type": "display_data"
    }
   ],
   "source": [
    "%matplotlib inline\n",
    "fig, ax = plt.subplots(figsize=(12,5))\n",
    "ax.plot(some_dict[78746], label='78747')\n",
    "ax.plot(some_dict[78747])\n",
    "ax.legend()"
   ]
  },
  {
   "cell_type": "code",
   "execution_count": null,
   "metadata": {},
   "outputs": [],
   "source": []
  },
  {
   "cell_type": "code",
   "execution_count": null,
   "metadata": {},
   "outputs": [],
   "source": []
  },
  {
   "cell_type": "code",
   "execution_count": null,
   "metadata": {},
   "outputs": [],
   "source": []
  },
  {
   "cell_type": "code",
   "execution_count": 11,
   "metadata": {
    "ExecuteTime": {
     "end_time": "2021-06-12T23:43:33.890840Z",
     "start_time": "2021-06-12T23:43:33.871373Z"
    }
   },
   "outputs": [],
   "source": [
    "df_harris = df_texas[df_texas['CountyName']=='Harris'].copy()"
   ]
  },
  {
   "cell_type": "code",
   "execution_count": 12,
   "metadata": {
    "ExecuteTime": {
     "end_time": "2021-06-12T23:43:33.894969Z",
     "start_time": "2021-06-12T23:43:33.891886Z"
    },
    "scrolled": true
   },
   "outputs": [
    {
     "data": {
      "text/plain": [
       "121"
      ]
     },
     "execution_count": 12,
     "metadata": {},
     "output_type": "execute_result"
    }
   ],
   "source": [
    "df_harris['RegionName'].nunique()"
   ]
  },
  {
   "cell_type": "code",
   "execution_count": 13,
   "metadata": {
    "ExecuteTime": {
     "end_time": "2021-06-12T23:43:33.898849Z",
     "start_time": "2021-06-12T23:43:33.896778Z"
    }
   },
   "outputs": [],
   "source": [
    "## Figure out how to make a dataframe that shows each RegionName 2/5/10 yr growth pct changes and then\n",
    "## narrow it down. Narrow it down based on top short/mid/long term prospects and recovery speed/std/interest rate\n",
    "## correlation"
   ]
  },
  {
   "cell_type": "code",
   "execution_count": 14,
   "metadata": {
    "ExecuteTime": {
     "end_time": "2021-06-12T23:43:33.902599Z",
     "start_time": "2021-06-12T23:43:33.899913Z"
    }
   },
   "outputs": [],
   "source": [
    "df_harris.drop(columns=['City', 'State', 'Metro', 'CountyName'], axis=1, inplace=True)"
   ]
  },
  {
   "cell_type": "code",
   "execution_count": 15,
   "metadata": {
    "ExecuteTime": {
     "end_time": "2021-06-12T23:43:33.909541Z",
     "start_time": "2021-06-12T23:43:33.903532Z"
    }
   },
   "outputs": [
    {
     "data": {
      "text/html": [
       "<div>\n",
       "<style scoped>\n",
       "    .dataframe tbody tr th:only-of-type {\n",
       "        vertical-align: middle;\n",
       "    }\n",
       "\n",
       "    .dataframe tbody tr th {\n",
       "        vertical-align: top;\n",
       "    }\n",
       "\n",
       "    .dataframe thead th {\n",
       "        text-align: right;\n",
       "    }\n",
       "</style>\n",
       "<table border=\"1\" class=\"dataframe\">\n",
       "  <thead>\n",
       "    <tr style=\"text-align: right;\">\n",
       "      <th></th>\n",
       "      <th>RegionName</th>\n",
       "      <th>value</th>\n",
       "    </tr>\n",
       "    <tr>\n",
       "      <th>time</th>\n",
       "      <th></th>\n",
       "      <th></th>\n",
       "    </tr>\n",
       "  </thead>\n",
       "  <tbody>\n",
       "    <tr>\n",
       "      <th>1996-04-01</th>\n",
       "      <td>77494</td>\n",
       "      <td>210400.0</td>\n",
       "    </tr>\n",
       "    <tr>\n",
       "      <th>1996-04-01</th>\n",
       "      <td>77084</td>\n",
       "      <td>95000.0</td>\n",
       "    </tr>\n",
       "    <tr>\n",
       "      <th>1996-04-01</th>\n",
       "      <td>77449</td>\n",
       "      <td>95400.0</td>\n",
       "    </tr>\n",
       "    <tr>\n",
       "      <th>1996-04-01</th>\n",
       "      <td>77429</td>\n",
       "      <td>149600.0</td>\n",
       "    </tr>\n",
       "    <tr>\n",
       "      <th>1996-04-01</th>\n",
       "      <td>77036</td>\n",
       "      <td>120400.0</td>\n",
       "    </tr>\n",
       "    <tr>\n",
       "      <th>...</th>\n",
       "      <td>...</td>\n",
       "      <td>...</td>\n",
       "    </tr>\n",
       "    <tr>\n",
       "      <th>2018-04-01</th>\n",
       "      <td>77562</td>\n",
       "      <td>148400.0</td>\n",
       "    </tr>\n",
       "    <tr>\n",
       "      <th>2018-04-01</th>\n",
       "      <td>77032</td>\n",
       "      <td>119200.0</td>\n",
       "    </tr>\n",
       "    <tr>\n",
       "      <th>2018-04-01</th>\n",
       "      <td>77094</td>\n",
       "      <td>373900.0</td>\n",
       "    </tr>\n",
       "    <tr>\n",
       "      <th>2018-04-01</th>\n",
       "      <td>77547</td>\n",
       "      <td>83300.0</td>\n",
       "    </tr>\n",
       "    <tr>\n",
       "      <th>2018-04-01</th>\n",
       "      <td>77050</td>\n",
       "      <td>115200.0</td>\n",
       "    </tr>\n",
       "  </tbody>\n",
       "</table>\n",
       "<p>32065 rows × 2 columns</p>\n",
       "</div>"
      ],
      "text/plain": [
       "            RegionName     value\n",
       "time                            \n",
       "1996-04-01       77494  210400.0\n",
       "1996-04-01       77084   95000.0\n",
       "1996-04-01       77449   95400.0\n",
       "1996-04-01       77429  149600.0\n",
       "1996-04-01       77036  120400.0\n",
       "...                ...       ...\n",
       "2018-04-01       77562  148400.0\n",
       "2018-04-01       77032  119200.0\n",
       "2018-04-01       77094  373900.0\n",
       "2018-04-01       77547   83300.0\n",
       "2018-04-01       77050  115200.0\n",
       "\n",
       "[32065 rows x 2 columns]"
      ]
     },
     "execution_count": 15,
     "metadata": {},
     "output_type": "execute_result"
    }
   ],
   "source": [
    "df_harris"
   ]
  },
  {
   "cell_type": "code",
   "execution_count": 16,
   "metadata": {
    "ExecuteTime": {
     "end_time": "2021-06-12T23:43:33.913374Z",
     "start_time": "2021-06-12T23:43:33.910480Z"
    }
   },
   "outputs": [],
   "source": [
    "harris_zips=list(df_harris['RegionName'].unique())"
   ]
  },
  {
   "cell_type": "code",
   "execution_count": 17,
   "metadata": {
    "ExecuteTime": {
     "end_time": "2021-06-12T23:43:33.917068Z",
     "start_time": "2021-06-12T23:43:33.914546Z"
    }
   },
   "outputs": [
    {
     "data": {
      "text/plain": [
       "121"
      ]
     },
     "execution_count": 17,
     "metadata": {},
     "output_type": "execute_result"
    }
   ],
   "source": [
    "len(harris_zips)"
   ]
  },
  {
   "cell_type": "code",
   "execution_count": 18,
   "metadata": {
    "ExecuteTime": {
     "end_time": "2021-06-12T23:43:33.950843Z",
     "start_time": "2021-06-12T23:43:33.917998Z"
    }
   },
   "outputs": [],
   "source": [
    "harris_dict_full = {}\n",
    "for zip_ in harris_zips:\n",
    "    harris_dict_full[zip_] = df_harris[df_harris['RegionName']==zip_]"
   ]
  },
  {
   "cell_type": "code",
   "execution_count": 19,
   "metadata": {
    "ExecuteTime": {
     "end_time": "2021-06-12T23:43:34.471496Z",
     "start_time": "2021-06-12T23:43:33.951821Z"
    }
   },
   "outputs": [],
   "source": [
    "harris_dict_annual = {}\n",
    "for zip_ in harris_zips:\n",
    "    harris_dict_annual[zip_] = df_harris[df_harris['RegionName']==zip_].resample(rule='A').mean()\n",
    "    harris_dict_annual[zip_]['year_2'] = harris_dict_annual[zip_]['value'].pct_change(periods=2)\n",
    "    harris_dict_annual[zip_]['year_5'] = harris_dict_annual[zip_]['value'].pct_change(periods=5)\n",
    "    harris_dict_annual[zip_]['year_10'] = harris_dict_annual[zip_]['value'].pct_change(periods=10)\n",
    "    harris_dict_annual[zip_]['std'] = harris_dict_annual[zip_]['value'].std()"
   ]
  },
  {
   "cell_type": "code",
   "execution_count": 410,
   "metadata": {
    "ExecuteTime": {
     "end_time": "2021-06-14T01:55:25.570482Z",
     "start_time": "2021-06-14T01:55:25.542574Z"
    }
   },
   "outputs": [
    {
     "data": {
      "text/html": [
       "<div>\n",
       "<style scoped>\n",
       "    .dataframe tbody tr th:only-of-type {\n",
       "        vertical-align: middle;\n",
       "    }\n",
       "\n",
       "    .dataframe tbody tr th {\n",
       "        vertical-align: top;\n",
       "    }\n",
       "\n",
       "    .dataframe thead th {\n",
       "        text-align: right;\n",
       "    }\n",
       "</style>\n",
       "<table border=\"1\" class=\"dataframe\">\n",
       "  <thead>\n",
       "    <tr style=\"text-align: right;\">\n",
       "      <th></th>\n",
       "      <th>RegionName</th>\n",
       "      <th>value</th>\n",
       "    </tr>\n",
       "    <tr>\n",
       "      <th>time</th>\n",
       "      <th></th>\n",
       "      <th></th>\n",
       "    </tr>\n",
       "  </thead>\n",
       "  <tbody>\n",
       "    <tr>\n",
       "      <th>1996-04-01</th>\n",
       "      <td>77494</td>\n",
       "      <td>210400.0</td>\n",
       "    </tr>\n",
       "    <tr>\n",
       "      <th>1996-04-01</th>\n",
       "      <td>77084</td>\n",
       "      <td>95000.0</td>\n",
       "    </tr>\n",
       "    <tr>\n",
       "      <th>1996-04-01</th>\n",
       "      <td>77449</td>\n",
       "      <td>95400.0</td>\n",
       "    </tr>\n",
       "    <tr>\n",
       "      <th>1996-04-01</th>\n",
       "      <td>77429</td>\n",
       "      <td>149600.0</td>\n",
       "    </tr>\n",
       "    <tr>\n",
       "      <th>1996-04-01</th>\n",
       "      <td>77036</td>\n",
       "      <td>120400.0</td>\n",
       "    </tr>\n",
       "    <tr>\n",
       "      <th>...</th>\n",
       "      <td>...</td>\n",
       "      <td>...</td>\n",
       "    </tr>\n",
       "    <tr>\n",
       "      <th>2018-04-01</th>\n",
       "      <td>77562</td>\n",
       "      <td>148400.0</td>\n",
       "    </tr>\n",
       "    <tr>\n",
       "      <th>2018-04-01</th>\n",
       "      <td>77032</td>\n",
       "      <td>119200.0</td>\n",
       "    </tr>\n",
       "    <tr>\n",
       "      <th>2018-04-01</th>\n",
       "      <td>77094</td>\n",
       "      <td>373900.0</td>\n",
       "    </tr>\n",
       "    <tr>\n",
       "      <th>2018-04-01</th>\n",
       "      <td>77547</td>\n",
       "      <td>83300.0</td>\n",
       "    </tr>\n",
       "    <tr>\n",
       "      <th>2018-04-01</th>\n",
       "      <td>77050</td>\n",
       "      <td>115200.0</td>\n",
       "    </tr>\n",
       "  </tbody>\n",
       "</table>\n",
       "<p>32065 rows × 2 columns</p>\n",
       "</div>"
      ],
      "text/plain": [
       "            RegionName     value\n",
       "time                            \n",
       "1996-04-01       77494  210400.0\n",
       "1996-04-01       77084   95000.0\n",
       "1996-04-01       77449   95400.0\n",
       "1996-04-01       77429  149600.0\n",
       "1996-04-01       77036  120400.0\n",
       "...                ...       ...\n",
       "2018-04-01       77562  148400.0\n",
       "2018-04-01       77032  119200.0\n",
       "2018-04-01       77094  373900.0\n",
       "2018-04-01       77547   83300.0\n",
       "2018-04-01       77050  115200.0\n",
       "\n",
       "[32065 rows x 2 columns]"
      ]
     },
     "execution_count": 410,
     "metadata": {},
     "output_type": "execute_result"
    }
   ],
   "source": [
    "df_harris"
   ]
  },
  {
   "cell_type": "code",
   "execution_count": 424,
   "metadata": {
    "ExecuteTime": {
     "end_time": "2021-06-14T01:59:45.535122Z",
     "start_time": "2021-06-14T01:59:45.507856Z"
    }
   },
   "outputs": [
    {
     "data": {
      "text/html": [
       "<div>\n",
       "<style scoped>\n",
       "    .dataframe tbody tr th:only-of-type {\n",
       "        vertical-align: middle;\n",
       "    }\n",
       "\n",
       "    .dataframe tbody tr th {\n",
       "        vertical-align: top;\n",
       "    }\n",
       "\n",
       "    .dataframe thead th {\n",
       "        text-align: right;\n",
       "    }\n",
       "</style>\n",
       "<table border=\"1\" class=\"dataframe\">\n",
       "  <thead>\n",
       "    <tr style=\"text-align: right;\">\n",
       "      <th></th>\n",
       "      <th>RegionName</th>\n",
       "      <th>value</th>\n",
       "      <th>year_2</th>\n",
       "      <th>year_5</th>\n",
       "      <th>year_10</th>\n",
       "      <th>std</th>\n",
       "    </tr>\n",
       "    <tr>\n",
       "      <th>time</th>\n",
       "      <th></th>\n",
       "      <th></th>\n",
       "      <th></th>\n",
       "      <th></th>\n",
       "      <th></th>\n",
       "      <th></th>\n",
       "    </tr>\n",
       "  </thead>\n",
       "  <tbody>\n",
       "    <tr>\n",
       "      <th>1996-12-31</th>\n",
       "      <td>77494</td>\n",
       "      <td>206655.555556</td>\n",
       "      <td>NaN</td>\n",
       "      <td>NaN</td>\n",
       "      <td>NaN</td>\n",
       "      <td>39115.814995</td>\n",
       "    </tr>\n",
       "    <tr>\n",
       "      <th>1997-12-31</th>\n",
       "      <td>77494</td>\n",
       "      <td>200100.000000</td>\n",
       "      <td>NaN</td>\n",
       "      <td>NaN</td>\n",
       "      <td>NaN</td>\n",
       "      <td>39115.814995</td>\n",
       "    </tr>\n",
       "    <tr>\n",
       "      <th>1998-12-31</th>\n",
       "      <td>77494</td>\n",
       "      <td>240391.666667</td>\n",
       "      <td>0.163248</td>\n",
       "      <td>NaN</td>\n",
       "      <td>NaN</td>\n",
       "      <td>39115.814995</td>\n",
       "    </tr>\n",
       "    <tr>\n",
       "      <th>1999-12-31</th>\n",
       "      <td>77494</td>\n",
       "      <td>301125.000000</td>\n",
       "      <td>0.504873</td>\n",
       "      <td>NaN</td>\n",
       "      <td>NaN</td>\n",
       "      <td>39115.814995</td>\n",
       "    </tr>\n",
       "    <tr>\n",
       "      <th>2000-12-31</th>\n",
       "      <td>77494</td>\n",
       "      <td>319941.666667</td>\n",
       "      <td>0.330918</td>\n",
       "      <td>NaN</td>\n",
       "      <td>NaN</td>\n",
       "      <td>39115.814995</td>\n",
       "    </tr>\n",
       "    <tr>\n",
       "      <th>2001-12-31</th>\n",
       "      <td>77494</td>\n",
       "      <td>290216.666667</td>\n",
       "      <td>-0.036225</td>\n",
       "      <td>0.404350</td>\n",
       "      <td>NaN</td>\n",
       "      <td>39115.814995</td>\n",
       "    </tr>\n",
       "    <tr>\n",
       "      <th>2002-12-31</th>\n",
       "      <td>77494</td>\n",
       "      <td>238033.333333</td>\n",
       "      <td>-0.256010</td>\n",
       "      <td>0.189572</td>\n",
       "      <td>NaN</td>\n",
       "      <td>39115.814995</td>\n",
       "    </tr>\n",
       "    <tr>\n",
       "      <th>2003-12-31</th>\n",
       "      <td>77494</td>\n",
       "      <td>221733.333333</td>\n",
       "      <td>-0.235973</td>\n",
       "      <td>-0.077616</td>\n",
       "      <td>NaN</td>\n",
       "      <td>39115.814995</td>\n",
       "    </tr>\n",
       "    <tr>\n",
       "      <th>2004-12-31</th>\n",
       "      <td>77494</td>\n",
       "      <td>232491.666667</td>\n",
       "      <td>-0.023281</td>\n",
       "      <td>-0.227923</td>\n",
       "      <td>NaN</td>\n",
       "      <td>39115.814995</td>\n",
       "    </tr>\n",
       "    <tr>\n",
       "      <th>2005-12-31</th>\n",
       "      <td>77494</td>\n",
       "      <td>238216.666667</td>\n",
       "      <td>0.074339</td>\n",
       "      <td>-0.255437</td>\n",
       "      <td>NaN</td>\n",
       "      <td>39115.814995</td>\n",
       "    </tr>\n",
       "    <tr>\n",
       "      <th>2006-12-31</th>\n",
       "      <td>77494</td>\n",
       "      <td>232033.333333</td>\n",
       "      <td>-0.001971</td>\n",
       "      <td>-0.200482</td>\n",
       "      <td>0.122802</td>\n",
       "      <td>39115.814995</td>\n",
       "    </tr>\n",
       "    <tr>\n",
       "      <th>2007-12-31</th>\n",
       "      <td>77494</td>\n",
       "      <td>247991.666667</td>\n",
       "      <td>0.041034</td>\n",
       "      <td>0.041836</td>\n",
       "      <td>0.239339</td>\n",
       "      <td>39115.814995</td>\n",
       "    </tr>\n",
       "    <tr>\n",
       "      <th>2008-12-31</th>\n",
       "      <td>77494</td>\n",
       "      <td>249125.000000</td>\n",
       "      <td>0.073660</td>\n",
       "      <td>0.123534</td>\n",
       "      <td>0.036330</td>\n",
       "      <td>39115.814995</td>\n",
       "    </tr>\n",
       "    <tr>\n",
       "      <th>2009-12-31</th>\n",
       "      <td>77494</td>\n",
       "      <td>247100.000000</td>\n",
       "      <td>-0.003596</td>\n",
       "      <td>0.062834</td>\n",
       "      <td>-0.179411</td>\n",
       "      <td>39115.814995</td>\n",
       "    </tr>\n",
       "    <tr>\n",
       "      <th>2010-12-31</th>\n",
       "      <td>77494</td>\n",
       "      <td>249825.000000</td>\n",
       "      <td>0.002810</td>\n",
       "      <td>0.048730</td>\n",
       "      <td>-0.219155</td>\n",
       "      <td>39115.814995</td>\n",
       "    </tr>\n",
       "    <tr>\n",
       "      <th>2011-12-31</th>\n",
       "      <td>77494</td>\n",
       "      <td>248608.333333</td>\n",
       "      <td>0.006104</td>\n",
       "      <td>0.071434</td>\n",
       "      <td>-0.143370</td>\n",
       "      <td>39115.814995</td>\n",
       "    </tr>\n",
       "    <tr>\n",
       "      <th>2012-12-31</th>\n",
       "      <td>77494</td>\n",
       "      <td>252891.666667</td>\n",
       "      <td>0.012275</td>\n",
       "      <td>0.019759</td>\n",
       "      <td>0.062421</td>\n",
       "      <td>39115.814995</td>\n",
       "    </tr>\n",
       "    <tr>\n",
       "      <th>2013-12-31</th>\n",
       "      <td>77494</td>\n",
       "      <td>263858.333333</td>\n",
       "      <td>0.061341</td>\n",
       "      <td>0.059140</td>\n",
       "      <td>0.189980</td>\n",
       "      <td>39115.814995</td>\n",
       "    </tr>\n",
       "    <tr>\n",
       "      <th>2014-12-31</th>\n",
       "      <td>77494</td>\n",
       "      <td>289808.333333</td>\n",
       "      <td>0.145978</td>\n",
       "      <td>0.172838</td>\n",
       "      <td>0.246532</td>\n",
       "      <td>39115.814995</td>\n",
       "    </tr>\n",
       "    <tr>\n",
       "      <th>2015-12-31</th>\n",
       "      <td>77494</td>\n",
       "      <td>313058.333333</td>\n",
       "      <td>0.186464</td>\n",
       "      <td>0.253111</td>\n",
       "      <td>0.314175</td>\n",
       "      <td>39115.814995</td>\n",
       "    </tr>\n",
       "    <tr>\n",
       "      <th>2016-12-31</th>\n",
       "      <td>77494</td>\n",
       "      <td>327333.333333</td>\n",
       "      <td>0.129482</td>\n",
       "      <td>0.316663</td>\n",
       "      <td>0.410717</td>\n",
       "      <td>39115.814995</td>\n",
       "    </tr>\n",
       "    <tr>\n",
       "      <th>2017-12-31</th>\n",
       "      <td>77494</td>\n",
       "      <td>320983.333333</td>\n",
       "      <td>0.025315</td>\n",
       "      <td>0.269252</td>\n",
       "      <td>0.294331</td>\n",
       "      <td>39115.814995</td>\n",
       "    </tr>\n",
       "    <tr>\n",
       "      <th>2018-12-31</th>\n",
       "      <td>77494</td>\n",
       "      <td>325250.000000</td>\n",
       "      <td>-0.006365</td>\n",
       "      <td>0.232669</td>\n",
       "      <td>0.305569</td>\n",
       "      <td>39115.814995</td>\n",
       "    </tr>\n",
       "  </tbody>\n",
       "</table>\n",
       "</div>"
      ],
      "text/plain": [
       "            RegionName          value    year_2    year_5   year_10  \\\n",
       "time                                                                  \n",
       "1996-12-31       77494  206655.555556       NaN       NaN       NaN   \n",
       "1997-12-31       77494  200100.000000       NaN       NaN       NaN   \n",
       "1998-12-31       77494  240391.666667  0.163248       NaN       NaN   \n",
       "1999-12-31       77494  301125.000000  0.504873       NaN       NaN   \n",
       "2000-12-31       77494  319941.666667  0.330918       NaN       NaN   \n",
       "2001-12-31       77494  290216.666667 -0.036225  0.404350       NaN   \n",
       "2002-12-31       77494  238033.333333 -0.256010  0.189572       NaN   \n",
       "2003-12-31       77494  221733.333333 -0.235973 -0.077616       NaN   \n",
       "2004-12-31       77494  232491.666667 -0.023281 -0.227923       NaN   \n",
       "2005-12-31       77494  238216.666667  0.074339 -0.255437       NaN   \n",
       "2006-12-31       77494  232033.333333 -0.001971 -0.200482  0.122802   \n",
       "2007-12-31       77494  247991.666667  0.041034  0.041836  0.239339   \n",
       "2008-12-31       77494  249125.000000  0.073660  0.123534  0.036330   \n",
       "2009-12-31       77494  247100.000000 -0.003596  0.062834 -0.179411   \n",
       "2010-12-31       77494  249825.000000  0.002810  0.048730 -0.219155   \n",
       "2011-12-31       77494  248608.333333  0.006104  0.071434 -0.143370   \n",
       "2012-12-31       77494  252891.666667  0.012275  0.019759  0.062421   \n",
       "2013-12-31       77494  263858.333333  0.061341  0.059140  0.189980   \n",
       "2014-12-31       77494  289808.333333  0.145978  0.172838  0.246532   \n",
       "2015-12-31       77494  313058.333333  0.186464  0.253111  0.314175   \n",
       "2016-12-31       77494  327333.333333  0.129482  0.316663  0.410717   \n",
       "2017-12-31       77494  320983.333333  0.025315  0.269252  0.294331   \n",
       "2018-12-31       77494  325250.000000 -0.006365  0.232669  0.305569   \n",
       "\n",
       "                     std  \n",
       "time                      \n",
       "1996-12-31  39115.814995  \n",
       "1997-12-31  39115.814995  \n",
       "1998-12-31  39115.814995  \n",
       "1999-12-31  39115.814995  \n",
       "2000-12-31  39115.814995  \n",
       "2001-12-31  39115.814995  \n",
       "2002-12-31  39115.814995  \n",
       "2003-12-31  39115.814995  \n",
       "2004-12-31  39115.814995  \n",
       "2005-12-31  39115.814995  \n",
       "2006-12-31  39115.814995  \n",
       "2007-12-31  39115.814995  \n",
       "2008-12-31  39115.814995  \n",
       "2009-12-31  39115.814995  \n",
       "2010-12-31  39115.814995  \n",
       "2011-12-31  39115.814995  \n",
       "2012-12-31  39115.814995  \n",
       "2013-12-31  39115.814995  \n",
       "2014-12-31  39115.814995  \n",
       "2015-12-31  39115.814995  \n",
       "2016-12-31  39115.814995  \n",
       "2017-12-31  39115.814995  \n",
       "2018-12-31  39115.814995  "
      ]
     },
     "execution_count": 424,
     "metadata": {},
     "output_type": "execute_result"
    }
   ],
   "source": [
    "harris_dict_annual[77494]"
   ]
  },
  {
   "cell_type": "code",
   "execution_count": 20,
   "metadata": {
    "ExecuteTime": {
     "end_time": "2021-06-12T23:43:34.477570Z",
     "start_time": "2021-06-12T23:43:34.472482Z"
    }
   },
   "outputs": [
    {
     "data": {
      "text/html": [
       "<div>\n",
       "<style scoped>\n",
       "    .dataframe tbody tr th:only-of-type {\n",
       "        vertical-align: middle;\n",
       "    }\n",
       "\n",
       "    .dataframe tbody tr th {\n",
       "        vertical-align: top;\n",
       "    }\n",
       "\n",
       "    .dataframe thead th {\n",
       "        text-align: right;\n",
       "    }\n",
       "</style>\n",
       "<table border=\"1\" class=\"dataframe\">\n",
       "  <thead>\n",
       "    <tr style=\"text-align: right;\">\n",
       "      <th></th>\n",
       "      <th>RegionName</th>\n",
       "      <th>value</th>\n",
       "      <th>year_2</th>\n",
       "      <th>year_5</th>\n",
       "      <th>year_10</th>\n",
       "      <th>std</th>\n",
       "    </tr>\n",
       "    <tr>\n",
       "      <th>time</th>\n",
       "      <th></th>\n",
       "      <th></th>\n",
       "      <th></th>\n",
       "      <th></th>\n",
       "      <th></th>\n",
       "      <th></th>\n",
       "    </tr>\n",
       "  </thead>\n",
       "  <tbody>\n",
       "    <tr>\n",
       "      <th>2017-12-31</th>\n",
       "      <td>77547</td>\n",
       "      <td>83766.666667</td>\n",
       "      <td>0.228400</td>\n",
       "      <td>0.321414</td>\n",
       "      <td>0.071185</td>\n",
       "      <td>12179.944151</td>\n",
       "    </tr>\n",
       "    <tr>\n",
       "      <th>2018-12-31</th>\n",
       "      <td>77547</td>\n",
       "      <td>81450.000000</td>\n",
       "      <td>0.008669</td>\n",
       "      <td>0.215218</td>\n",
       "      <td>0.097462</td>\n",
       "      <td>12179.944151</td>\n",
       "    </tr>\n",
       "  </tbody>\n",
       "</table>\n",
       "</div>"
      ],
      "text/plain": [
       "            RegionName         value    year_2    year_5   year_10  \\\n",
       "time                                                                 \n",
       "2017-12-31       77547  83766.666667  0.228400  0.321414  0.071185   \n",
       "2018-12-31       77547  81450.000000  0.008669  0.215218  0.097462   \n",
       "\n",
       "                     std  \n",
       "time                      \n",
       "2017-12-31  12179.944151  \n",
       "2018-12-31  12179.944151  "
      ]
     },
     "execution_count": 20,
     "metadata": {},
     "output_type": "execute_result"
    }
   ],
   "source": [
    "harris_dict_annual[77547].tail(2)"
   ]
  },
  {
   "cell_type": "code",
   "execution_count": 401,
   "metadata": {
    "ExecuteTime": {
     "end_time": "2021-06-14T01:35:15.146479Z",
     "start_time": "2021-06-14T01:35:14.194274Z"
    }
   },
   "outputs": [
    {
     "data": {
      "text/plain": [
       "{77494: RegionName     77494.000000\n",
       " value         325250.000000\n",
       " year_2            -0.006365\n",
       " year_5             0.232669\n",
       " year_10            0.305569\n",
       " std            39115.814995\n",
       " Name: 2018-12-31 00:00:00, dtype: float64,\n",
       " 77084: RegionName     77084.000000\n",
       " value         163375.000000\n",
       " year_2             0.063928\n",
       " year_5             0.388161\n",
       " year_10            0.285658\n",
       " std            18822.480776\n",
       " Name: 2018-12-31 00:00:00, dtype: float64,\n",
       " 77449: RegionName     77449.000000\n",
       " value         174775.000000\n",
       " year_2             0.062139\n",
       " year_5             0.427900\n",
       " year_10            0.324387\n",
       " std            20470.135333\n",
       " Name: 2018-12-31 00:00:00, dtype: float64,\n",
       " 77429: RegionName     77429.000000\n",
       " value         242725.000000\n",
       " year_2             0.048979\n",
       " year_5             0.343001\n",
       " year_10            0.334754\n",
       " std            27602.534181\n",
       " Name: 2018-12-31 00:00:00, dtype: float64,\n",
       " 77036: RegionName     77036.000000\n",
       " value         183100.000000\n",
       " year_2             0.122223\n",
       " year_5             0.435047\n",
       " year_10            0.398422\n",
       " std            18745.650645\n",
       " Name: 2018-12-31 00:00:00, dtype: float64,\n",
       " 77433: RegionName     77433.000000\n",
       " value         251025.000000\n",
       " year_2             0.023374\n",
       " year_5             0.270691\n",
       " year_10            0.295613\n",
       " std            30200.352382\n",
       " Name: 2018-12-31 00:00:00, dtype: float64,\n",
       " 77077: RegionName     77077.000000\n",
       " value         312900.000000\n",
       " year_2             0.013742\n",
       " year_5             0.307655\n",
       " year_10            0.492191\n",
       " std            41970.595386\n",
       " Name: 2018-12-31 00:00:00, dtype: float64,\n",
       " 77379: RegionName     77379.000000\n",
       " value         244575.000000\n",
       " year_2             0.022578\n",
       " year_5             0.320718\n",
       " year_10            0.310223\n",
       " std            25911.568199\n",
       " Name: 2018-12-31 00:00:00, dtype: float64,\n",
       " 77095: RegionName     77095.000000\n",
       " value         216050.000000\n",
       " year_2             0.053774\n",
       " year_5             0.322553\n",
       " year_10            0.326206\n",
       " std            24623.575362\n",
       " Name: 2018-12-31 00:00:00, dtype: float64,\n",
       " 77082: RegionName     77082.000000\n",
       " value         172000.000000\n",
       " year_2             0.143554\n",
       " year_5             0.457421\n",
       " year_10            0.281749\n",
       " std            19773.146074\n",
       " Name: 2018-12-31 00:00:00, dtype: float64,\n",
       " 77057: RegionName     77057.000000\n",
       " value         554650.000000\n",
       " year_2            -0.051056\n",
       " year_5             0.213256\n",
       " year_10            0.145734\n",
       " std            55363.410606\n",
       " Name: 2018-12-31 00:00:00, dtype: float64,\n",
       " 77007: RegionName     77007.000000\n",
       " value         408125.000000\n",
       " year_2             0.016184\n",
       " year_5             0.260780\n",
       " year_10            0.284354\n",
       " std            46185.204663\n",
       " Name: 2018-12-31 00:00:00, dtype: float64,\n",
       " 77521: RegionName     77521.000000\n",
       " value         170425.000000\n",
       " year_2             0.139839\n",
       " year_5             0.361041\n",
       " year_10            0.271591\n",
       " std            19192.310340\n",
       " Name: 2018-12-31 00:00:00, dtype: float64,\n",
       " 77346: RegionName     77346.000000\n",
       " value         210175.000000\n",
       " year_2             0.073143\n",
       " year_5             0.331486\n",
       " year_10            0.279150\n",
       " std            22890.572855\n",
       " Name: 2018-12-31 00:00:00, dtype: float64,\n",
       " 77070: RegionName     77070.000000\n",
       " value         196375.000000\n",
       " year_2             0.057011\n",
       " year_5             0.347418\n",
       " year_10            0.284056\n",
       " std            21721.209024\n",
       " Name: 2018-12-31 00:00:00, dtype: float64,\n",
       " 77375: RegionName     77375.000000\n",
       " value         202875.000000\n",
       " year_2             0.060599\n",
       " year_5             0.374802\n",
       " year_10            0.341396\n",
       " std            21461.188524\n",
       " Name: 2018-12-31 00:00:00, dtype: float64,\n",
       " 77373: RegionName     77373.000000\n",
       " value         150700.000000\n",
       " year_2             0.112177\n",
       " year_5             0.468453\n",
       " year_10            0.255397\n",
       " std            17731.999144\n",
       " Name: 2018-12-31 00:00:00, dtype: float64,\n",
       " 77081: RegionName     77081.000000\n",
       " value         386200.000000\n",
       " year_2             0.105825\n",
       " year_5             0.359700\n",
       " year_10            0.456946\n",
       " std            44194.463768\n",
       " Name: 2018-12-31 00:00:00, dtype: float64,\n",
       " 77063: RegionName     77063.000000\n",
       " value         345225.000000\n",
       " year_2             0.006389\n",
       " year_5             0.303105\n",
       " year_10            0.403401\n",
       " std            40145.351476\n",
       " Name: 2018-12-31 00:00:00, dtype: float64,\n",
       " 77386: RegionName     77386.000000\n",
       " value         221725.000000\n",
       " year_2             0.079742\n",
       " year_5             0.269842\n",
       " year_10            0.284742\n",
       " std            27438.242328\n",
       " Name: 2018-12-31 00:00:00, dtype: float64,\n",
       " 77042: RegionName     77042.000000\n",
       " value         387250.000000\n",
       " year_2             0.031910\n",
       " year_5             0.349029\n",
       " year_10            0.463438\n",
       " std            49843.151983\n",
       " Name: 2018-12-31 00:00:00, dtype: float64,\n",
       " 77072: RegionName     77072.000000\n",
       " value         128550.000000\n",
       " year_2             0.150078\n",
       " year_5             0.550819\n",
       " year_10            0.277198\n",
       " std            16859.101387\n",
       " Name: 2018-12-31 00:00:00, dtype: float64,\n",
       " 77015: RegionName     77015.000000\n",
       " value         132225.000000\n",
       " year_2             0.160887\n",
       " year_5             0.517067\n",
       " year_10            0.283426\n",
       " std            16965.486613\n",
       " Name: 2018-12-31 00:00:00, dtype: float64,\n",
       " 77396: RegionName     77396.000000\n",
       " value         171000.000000\n",
       " year_2             0.112075\n",
       " year_5             0.425693\n",
       " year_10            0.276040\n",
       " std            20078.921827\n",
       " Name: 2018-12-31 00:00:00, dtype: float64,\n",
       " 77008: RegionName     77008.000000\n",
       " value         432925.000000\n",
       " year_2             0.055143\n",
       " year_5             0.370233\n",
       " year_10            0.433566\n",
       " std            56499.229649\n",
       " Name: 2018-12-31 00:00:00, dtype: float64,\n",
       " 77040: RegionName     77040.000000\n",
       " value         174425.000000\n",
       " year_2             0.146778\n",
       " year_5             0.442522\n",
       " year_10            0.316912\n",
       " std            19902.206264\n",
       " Name: 2018-12-31 00:00:00, dtype: float64,\n",
       " 77089: RegionName     77089.000000\n",
       " value         176900.000000\n",
       " year_2             0.158734\n",
       " year_5             0.460173\n",
       " year_10            0.344055\n",
       " std            22574.831175\n",
       " Name: 2018-12-31 00:00:00, dtype: float64,\n",
       " 77339: RegionName     77339.000000\n",
       " value         204850.000000\n",
       " year_2             0.092339\n",
       " year_5             0.371763\n",
       " year_10            0.375217\n",
       " std            24385.065386\n",
       " Name: 2018-12-31 00:00:00, dtype: float64,\n",
       " 77088: RegionName     77088.000000\n",
       " value         129100.000000\n",
       " year_2             0.110378\n",
       " year_5             0.499855\n",
       " year_10            0.262798\n",
       " std            15989.250858\n",
       " Name: 2018-12-31 00:00:00, dtype: float64,\n",
       " 77099: RegionName     77099.000000\n",
       " value         135975.000000\n",
       " year_2             0.119981\n",
       " year_5             0.554444\n",
       " year_10            0.223897\n",
       " std            17859.453454\n",
       " Name: 2018-12-31 00:00:00, dtype: float64,\n",
       " 77090: RegionName     77090.000000\n",
       " value         178200.000000\n",
       " year_2             0.087635\n",
       " year_5             0.408974\n",
       " year_10            0.265026\n",
       " std            19168.032788\n",
       " Name: 2018-12-31 00:00:00, dtype: float64,\n",
       " 77388: RegionName     77388.000000\n",
       " value         197400.000000\n",
       " year_2             0.057122\n",
       " year_5             0.340198\n",
       " year_10            0.321801\n",
       " std            20473.533458\n",
       " Name: 2018-12-31 00:00:00, dtype: float64,\n",
       " 77024: RegionName    7.702400e+04\n",
       " value         1.054550e+06\n",
       " year_2        5.129973e-02\n",
       " year_5        2.651311e-01\n",
       " year_10       3.309144e-01\n",
       " std           1.145175e+05\n",
       " Name: 2018-12-31 00:00:00, dtype: float64,\n",
       " 77064: RegionName     77064.000000\n",
       " value         173775.000000\n",
       " year_2             0.098625\n",
       " year_5             0.364725\n",
       " year_10            0.295942\n",
       " std            19013.321588\n",
       " Name: 2018-12-31 00:00:00, dtype: float64,\n",
       " 77004: RegionName     77004.000000\n",
       " value         302575.000000\n",
       " year_2             0.137108\n",
       " year_5             0.517681\n",
       " year_10            0.473639\n",
       " std            40291.570504\n",
       " Name: 2018-12-31 00:00:00, dtype: float64,\n",
       " 77080: RegionName     77080.000000\n",
       " value         252625.000000\n",
       " year_2             0.107276\n",
       " year_5             0.616455\n",
       " year_10            0.751705\n",
       " std            39144.524657\n",
       " Name: 2018-12-31 00:00:00, dtype: float64,\n",
       " 77055: RegionName     77055.000000\n",
       " value         454475.000000\n",
       " year_2             0.078403\n",
       " year_5             0.365371\n",
       " year_10            0.441977\n",
       " std            62202.256085\n",
       " Name: 2018-12-31 00:00:00, dtype: float64,\n",
       " 77044: RegionName     77044.000000\n",
       " value         191125.000000\n",
       " year_2             0.096791\n",
       " year_5             0.388738\n",
       " year_10            0.260026\n",
       " std            20286.559514\n",
       " Name: 2018-12-31 00:00:00, dtype: float64,\n",
       " 77060: RegionName     77060.000000\n",
       " value         122125.000000\n",
       " year_2             0.198969\n",
       " year_5             0.509735\n",
       " year_10            0.219827\n",
       " std            16999.593783\n",
       " Name: 2018-12-31 00:00:00, dtype: float64,\n",
       " 77338: RegionName     77338.000000\n",
       " value         149125.000000\n",
       " year_2             0.104698\n",
       " year_5             0.426692\n",
       " year_10            0.234734\n",
       " std            16914.285352\n",
       " Name: 2018-12-31 00:00:00, dtype: float64,\n",
       " 77096: RegionName     77096.000000\n",
       " value         364250.000000\n",
       " year_2             0.002086\n",
       " year_5             0.289495\n",
       " year_10            0.440862\n",
       " std            49879.126698\n",
       " Name: 2018-12-31 00:00:00, dtype: float64,\n",
       " 77065: RegionName     77065.000000\n",
       " value         183300.000000\n",
       " year_2             0.069688\n",
       " year_5             0.356605\n",
       " year_10            0.304008\n",
       " std            21001.291113\n",
       " Name: 2018-12-31 00:00:00, dtype: float64,\n",
       " 77035: RegionName     77035.000000\n",
       " value         263200.000000\n",
       " year_2             0.036220\n",
       " year_5             0.421486\n",
       " year_10            0.646115\n",
       " std            43326.582195\n",
       " Name: 2018-12-31 00:00:00, dtype: float64,\n",
       " 77054: RegionName     77054.000000\n",
       " value         273675.000000\n",
       " year_2            -0.023113\n",
       " year_5             0.244119\n",
       " year_10            0.248565\n",
       " std            28073.759730\n",
       " Name: 2018-12-31 00:00:00, dtype: float64,\n",
       " 77092: RegionName     77092.000000\n",
       " value         247900.000000\n",
       " year_2             0.179587\n",
       " year_5             0.678402\n",
       " year_10            0.762113\n",
       " std            38380.115364\n",
       " Name: 2018-12-31 00:00:00, dtype: float64,\n",
       " 77074: RegionName     77074.000000\n",
       " value         172800.000000\n",
       " year_2             0.211569\n",
       " year_5             0.528640\n",
       " year_10            0.428985\n",
       " std            23877.208002\n",
       " Name: 2018-12-31 00:00:00, dtype: float64,\n",
       " 77006: RegionName     77006.000000\n",
       " value         489300.000000\n",
       " year_2             0.042709\n",
       " year_5             0.248347\n",
       " year_10            0.370077\n",
       " std            57360.201974\n",
       " Name: 2018-12-31 00:00:00, dtype: float64,\n",
       " 77056: RegionName     77056.000000\n",
       " value         875350.000000\n",
       " year_2             0.048752\n",
       " year_5             0.224066\n",
       " year_10            0.248538\n",
       " std            81617.817085\n",
       " Name: 2018-12-31 00:00:00, dtype: float64,\n",
       " 77520: RegionName     77520.000000\n",
       " value         113450.000000\n",
       " year_2             0.270081\n",
       " year_5             0.511323\n",
       " year_10            0.356246\n",
       " std            15298.476731\n",
       " Name: 2018-12-31 00:00:00, dtype: float64,\n",
       " 77377: RegionName     77377.000000\n",
       " value         262800.000000\n",
       " year_2             0.041652\n",
       " year_5             0.303679\n",
       " year_10            0.335422\n",
       " std            30928.254834\n",
       " Name: 2018-12-31 00:00:00, dtype: float64,\n",
       " 77571: RegionName     77571.000000\n",
       " value         173375.000000\n",
       " year_2             0.184188\n",
       " year_5             0.434630\n",
       " year_10            0.354404\n",
       " std            22876.092597\n",
       " Name: 2018-12-31 00:00:00, dtype: float64,\n",
       " 77073: RegionName     77073.000000\n",
       " value         151375.000000\n",
       " year_2             0.070671\n",
       " year_5             0.388868\n",
       " year_10            0.165021\n",
       " std            16770.705596\n",
       " Name: 2018-12-31 00:00:00, dtype: float64,\n",
       " 77079: RegionName     77079.000000\n",
       " value         483375.000000\n",
       " year_2             0.012198\n",
       " year_5             0.149866\n",
       " year_10            0.298058\n",
       " std            64928.909455\n",
       " Name: 2018-12-31 00:00:00, dtype: float64,\n",
       " 77025: RegionName     77025.000000\n",
       " value         456675.000000\n",
       " year_2             0.036288\n",
       " year_5             0.283516\n",
       " year_10            0.364907\n",
       " std            69152.831733\n",
       " Name: 2018-12-31 00:00:00, dtype: float64,\n",
       " 77034: RegionName     77034.000000\n",
       " value         141925.000000\n",
       " year_2             0.143711\n",
       " year_5             0.515483\n",
       " year_10            0.278700\n",
       " std            18617.164078\n",
       " Name: 2018-12-31 00:00:00, dtype: float64,\n",
       " 77093: RegionName    77093.000000\n",
       " value         99100.000000\n",
       " year_2            0.217694\n",
       " year_5            0.420110\n",
       " year_10           0.242763\n",
       " std           14177.397821\n",
       " Name: 2018-12-31 00:00:00, dtype: float64,\n",
       " 77019: RegionName     77019.000000\n",
       " value         584175.000000\n",
       " year_2             0.008386\n",
       " year_5             0.259337\n",
       " year_10            0.257801\n",
       " std            61010.399266\n",
       " Name: 2018-12-31 00:00:00, dtype: float64,\n",
       " 77075: RegionName     77075.000000\n",
       " value         166250.000000\n",
       " year_2             0.186229\n",
       " year_5             0.474283\n",
       " year_10            0.288760\n",
       " std            21161.555441\n",
       " Name: 2018-12-31 00:00:00, dtype: float64,\n",
       " 77598: RegionName     77598.000000\n",
       " value         176975.000000\n",
       " year_2             0.168152\n",
       " year_5             0.452997\n",
       " year_10            0.399657\n",
       " std            22945.222696\n",
       " Name: 2018-12-31 00:00:00, dtype: float64,\n",
       " 77536: RegionName     77536.000000\n",
       " value         184925.000000\n",
       " year_2             0.132714\n",
       " year_5             0.385812\n",
       " year_10            0.331753\n",
       " std            24079.180186\n",
       " Name: 2018-12-31 00:00:00, dtype: float64,\n",
       " 77502: RegionName     77502.000000\n",
       " value         135300.000000\n",
       " year_2             0.159963\n",
       " year_5             0.521649\n",
       " year_10            0.367242\n",
       " std            18381.448974\n",
       " Name: 2018-12-31 00:00:00, dtype: float64,\n",
       " 77018: RegionName     77018.000000\n",
       " value         396775.000000\n",
       " year_2             0.094803\n",
       " year_5             0.470990\n",
       " year_10            0.621917\n",
       " std            59683.920198\n",
       " Name: 2018-12-31 00:00:00, dtype: float64,\n",
       " 77532: RegionName     77532.000000\n",
       " value         184200.000000\n",
       " year_2             0.140498\n",
       " year_5             0.450203\n",
       " year_10            0.379087\n",
       " std            24185.988193\n",
       " Name: 2018-12-31 00:00:00, dtype: float64,\n",
       " 77041: RegionName     77041.000000\n",
       " value         181875.000000\n",
       " year_2             0.056338\n",
       " year_5             0.374543\n",
       " year_10            0.322647\n",
       " std            20061.917312\n",
       " Name: 2018-12-31 00:00:00, dtype: float64,\n",
       " 77014: RegionName     77014.000000\n",
       " value         155750.000000\n",
       " year_2             0.083981\n",
       " year_5             0.382294\n",
       " year_10            0.149164\n",
       " std            16863.442741\n",
       " Name: 2018-12-31 00:00:00, dtype: float64,\n",
       " 77027: RegionName     77027.000000\n",
       " value         795550.000000\n",
       " year_2             0.050150\n",
       " year_5             0.278488\n",
       " year_10            0.312717\n",
       " std            81666.736586\n",
       " Name: 2018-12-31 00:00:00, dtype: float64,\n",
       " 77506: RegionName     77506.000000\n",
       " value         106625.000000\n",
       " year_2             0.250122\n",
       " year_5             0.545103\n",
       " year_10            0.364363\n",
       " std            14145.357186\n",
       " Name: 2018-12-31 00:00:00, dtype: float64,\n",
       " 77493: RegionName     77493.000000\n",
       " value         213225.000000\n",
       " year_2             0.058539\n",
       " year_5             0.367484\n",
       " year_10            0.366827\n",
       " std            27583.409624\n",
       " Name: 2018-12-31 00:00:00, dtype: float64,\n",
       " 77087: RegionName     77087.000000\n",
       " value         128050.000000\n",
       " year_2             0.364048\n",
       " year_5             0.577456\n",
       " year_10            0.391470\n",
       " std            18023.531817\n",
       " Name: 2018-12-31 00:00:00, dtype: float64,\n",
       " 77021: RegionName     77021.000000\n",
       " value         121825.000000\n",
       " year_2             0.345761\n",
       " year_5             0.671889\n",
       " year_10            0.429032\n",
       " std            17555.780514\n",
       " Name: 2018-12-31 00:00:00, dtype: float64,\n",
       " 77049: RegionName     77049.000000\n",
       " value         159625.000000\n",
       " year_2             0.102827\n",
       " year_5             0.373808\n",
       " year_10            0.248696\n",
       " std            18675.294230\n",
       " Name: 2018-12-31 00:00:00, dtype: float64,\n",
       " 77586: RegionName     77586.000000\n",
       " value         258975.000000\n",
       " year_2             0.080375\n",
       " year_5             0.375515\n",
       " year_10            0.353764\n",
       " std            31381.763738\n",
       " Name: 2018-12-31 00:00:00, dtype: float64,\n",
       " 77047: RegionName     77047.000000\n",
       " value         156525.000000\n",
       " year_2             0.094262\n",
       " year_5             0.404546\n",
       " year_10            0.195608\n",
       " std            19993.965699\n",
       " Name: 2018-12-31 00:00:00, dtype: float64,\n",
       " 77091: RegionName     77091.000000\n",
       " value         127825.000000\n",
       " year_2             0.187689\n",
       " year_5             0.385136\n",
       " year_10            0.261120\n",
       " std            16831.729655\n",
       " Name: 2018-12-31 00:00:00, dtype: float64,\n",
       " 77017: RegionName     77017.000000\n",
       " value         118475.000000\n",
       " year_2             0.245030\n",
       " year_5             0.465217\n",
       " year_10            0.275067\n",
       " std            16097.672980\n",
       " Name: 2018-12-31 00:00:00, dtype: float64,\n",
       " 77067: RegionName     77067.000000\n",
       " value         132125.000000\n",
       " year_2             0.115293\n",
       " year_5             0.569957\n",
       " year_10            0.291439\n",
       " std            17046.251622\n",
       " Name: 2018-12-31 00:00:00, dtype: float64,\n",
       " 77066: RegionName     77066.000000\n",
       " value         154150.000000\n",
       " year_2             0.079671\n",
       " year_5             0.381272\n",
       " year_10            0.219220\n",
       " std            16998.779209\n",
       " Name: 2018-12-31 00:00:00, dtype: float64,\n",
       " 77005: RegionName     77005.000000\n",
       " value         995125.000000\n",
       " year_2             0.093854\n",
       " year_5             0.352041\n",
       " year_10            0.440801\n",
       " std           111968.043136\n",
       " Name: 2018-12-31 00:00:00, dtype: float64,\n",
       " 77530: RegionName     77530.000000\n",
       " value         139275.000000\n",
       " year_2             0.223589\n",
       " year_5             0.640298\n",
       " year_10            0.414678\n",
       " std            18319.085909\n",
       " Name: 2018-12-31 00:00:00, dtype: float64,\n",
       " 77071: RegionName     77071.000000\n",
       " value         162275.000000\n",
       " year_2             0.153887\n",
       " year_5             0.492641\n",
       " year_10            0.301236\n",
       " std            19520.544508\n",
       " Name: 2018-12-31 00:00:00, dtype: float64,\n",
       " 77016: RegionName    77016.000000\n",
       " value         98525.000000\n",
       " year_2            0.295813\n",
       " year_5            0.510927\n",
       " year_10           0.345510\n",
       " std           13768.180076\n",
       " Name: 2018-12-31 00:00:00, dtype: float64,\n",
       " 77062: RegionName     77062.000000\n",
       " value         220725.000000\n",
       " year_2             0.116653\n",
       " year_5             0.369545\n",
       " year_10            0.392733\n",
       " std            26920.224425\n",
       " Name: 2018-12-31 00:00:00, dtype: float64,\n",
       " 77045: RegionName     77045.000000\n",
       " value         117725.000000\n",
       " year_2             0.234446\n",
       " year_5             0.510263\n",
       " year_10            0.310726\n",
       " std            15804.985469\n",
       " Name: 2018-12-31 00:00:00, dtype: float64,\n",
       " 77058: RegionName     77058.000000\n",
       " value         221150.000000\n",
       " year_2             0.127933\n",
       " year_5             0.380175\n",
       " year_10            0.342880\n",
       " std            25306.021223\n",
       " Name: 2018-12-31 00:00:00, dtype: float64,\n",
       " 77098: RegionName     77098.000000\n",
       " value         609975.000000\n",
       " year_2             0.080175\n",
       " year_5             0.329235\n",
       " year_10            0.406201\n",
       " std            62790.502383\n",
       " Name: 2018-12-31 00:00:00, dtype: float64,\n",
       " 77043: RegionName     77043.000000\n",
       " value         302400.000000\n",
       " year_2             0.124268\n",
       " year_5             0.643106\n",
       " year_10            0.811682\n",
       " std            47755.796635\n",
       " Name: 2018-12-31 00:00:00, dtype: float64,\n",
       " 77033: RegionName    77033.000000\n",
       " value         87725.000000\n",
       " year_2            0.145983\n",
       " year_5            0.475196\n",
       " year_10           0.162819\n",
       " std           13485.864665\n",
       " Name: 2018-12-31 00:00:00, dtype: float64,\n",
       " 77345: RegionName     77345.000000\n",
       " value         295675.000000\n",
       " year_2             0.047410\n",
       " year_5             0.250388\n",
       " year_10            0.349087\n",
       " std            35327.336468\n",
       " Name: 2018-12-31 00:00:00, dtype: float64,\n",
       " 77061: RegionName     77061.000000\n",
       " value         162800.000000\n",
       " year_2             0.187454\n",
       " year_5             0.497241\n",
       " year_10            0.310086\n",
       " std            22259.071093\n",
       " Name: 2018-12-31 00:00:00, dtype: float64,\n",
       " 77504: RegionName     77504.000000\n",
       " value         175550.000000\n",
       " year_2             0.124060\n",
       " year_5             0.332616\n",
       " year_10            0.318438\n",
       " std            22219.703182\n",
       " Name: 2018-12-31 00:00:00, dtype: float64,\n",
       " 77053: RegionName     77053.000000\n",
       " value         119000.000000\n",
       " year_2             0.245856\n",
       " year_5             0.468380\n",
       " year_10            0.333333\n",
       " std            16998.307795\n",
       " Name: 2018-12-31 00:00:00, dtype: float64,\n",
       " 77020: RegionName     77020.000000\n",
       " value         100500.000000\n",
       " year_2             0.300550\n",
       " year_5             0.501868\n",
       " year_10            0.413005\n",
       " std            12807.817599\n",
       " Name: 2018-12-31 00:00:00, dtype: float64,\n",
       " 77503: RegionName     77503.000000\n",
       " value         128400.000000\n",
       " year_2             0.143705\n",
       " year_5             0.498978\n",
       " year_10            0.325990\n",
       " std            17269.688828\n",
       " Name: 2018-12-31 00:00:00, dtype: float64,\n",
       " 77038: RegionName     77038.000000\n",
       " value         128150.000000\n",
       " year_2             0.108724\n",
       " year_5             0.533353\n",
       " year_10            0.284604\n",
       " std            16283.057748\n",
       " Name: 2018-12-31 00:00:00, dtype: float64,\n",
       " 77505: RegionName     77505.000000\n",
       " value         211950.000000\n",
       " year_2             0.087155\n",
       " year_5             0.338139\n",
       " year_10            0.347854\n",
       " std            25117.612094\n",
       " Name: 2018-12-31 00:00:00, dtype: float64,\n",
       " 77069: RegionName     77069.000000\n",
       " value         263175.000000\n",
       " year_2             0.024426\n",
       " year_5             0.261474\n",
       " year_10            0.266431\n",
       " std            28907.295645\n",
       " Name: 2018-12-31 00:00:00, dtype: float64,\n",
       " 77523: RegionName     77523.000000\n",
       " value         253900.000000\n",
       " year_2             0.114574\n",
       " year_5             0.312145\n",
       " year_10            0.353893\n",
       " std            36489.889972\n",
       " Name: 2018-12-31 00:00:00, dtype: float64,\n",
       " 77086: RegionName     77086.000000\n",
       " value         135500.000000\n",
       " year_2             0.122308\n",
       " year_5             0.543280\n",
       " year_10            0.293659\n",
       " std            17552.062841\n",
       " Name: 2018-12-31 00:00:00, dtype: float64,\n",
       " 77039: RegionName     77039.000000\n",
       " value         120600.000000\n",
       " year_2             0.275853\n",
       " year_5             0.520328\n",
       " year_10            0.263378\n",
       " std            16677.544605\n",
       " Name: 2018-12-31 00:00:00, dtype: float64,\n",
       " 77030: RegionName     77030.000000\n",
       " value         768050.000000\n",
       " year_2             0.068839\n",
       " year_5             0.281472\n",
       " year_10            0.477232\n",
       " std            93676.589351\n",
       " Name: 2018-12-31 00:00:00, dtype: float64,\n",
       " 77051: RegionName    77051.000000\n",
       " value         97625.000000\n",
       " year_2            0.215123\n",
       " year_5            0.612970\n",
       " year_10           0.297199\n",
       " std           15343.066214\n",
       " Name: 2018-12-31 00:00:00, dtype: float64,\n",
       " 77031: RegionName     77031.000000\n",
       " value         166450.000000\n",
       " year_2             0.091416\n",
       " year_5             0.413688\n",
       " year_10            0.284749\n",
       " std            20708.804072\n",
       " Name: 2018-12-31 00:00:00, dtype: float64,\n",
       " 77028: RegionName    77028.000000\n",
       " value         79175.000000\n",
       " year_2            0.079536\n",
       " year_5            0.249145\n",
       " year_10           0.172818\n",
       " std           12383.352095\n",
       " Name: 2018-12-31 00:00:00, dtype: float64,\n",
       " 77401: RegionName     77401.000000\n",
       " value         798975.000000\n",
       " year_2             0.046235\n",
       " year_5             0.258757\n",
       " year_10            0.343398\n",
       " std            75794.168744\n",
       " Name: 2018-12-31 00:00:00, dtype: float64,\n",
       " 77048: RegionName     77048.000000\n",
       " value         117825.000000\n",
       " year_2             0.214273\n",
       " year_5             0.493504\n",
       " year_10            0.423580\n",
       " std            16293.996317\n",
       " Name: 2018-12-31 00:00:00, dtype: float64,\n",
       " 77013: RegionName     77013.000000\n",
       " value         117700.000000\n",
       " year_2             0.117405\n",
       " year_5             0.511396\n",
       " year_10            0.232138\n",
       " std            16293.687531\n",
       " Name: 2018-12-31 00:00:00, dtype: float64,\n",
       " 77029: RegionName    77029.000000\n",
       " value         88775.000000\n",
       " year_2            0.147211\n",
       " year_5            0.373872\n",
       " year_10           0.187361\n",
       " std           12092.550933\n",
       " Name: 2018-12-31 00:00:00, dtype: float64,\n",
       " 77059: RegionName     77059.000000\n",
       " value         300275.000000\n",
       " year_2             0.047989\n",
       " year_5             0.321245\n",
       " year_10            0.245265\n",
       " std            33729.762264\n",
       " Name: 2018-12-31 00:00:00, dtype: float64,\n",
       " 77002: RegionName     77002.000000\n",
       " value         421650.000000\n",
       " year_2             0.108293\n",
       " year_5             0.367329\n",
       " year_10            0.301556\n",
       " std            45684.245845\n",
       " Name: 2018-12-31 00:00:00, dtype: float64,\n",
       " 77447: RegionName     77447.000000\n",
       " value         202125.000000\n",
       " year_2             0.109459\n",
       " year_5             0.390609\n",
       " year_10            0.421913\n",
       " std            28615.644963\n",
       " Name: 2018-12-31 00:00:00, dtype: float64,\n",
       " 77587: RegionName     77587.000000\n",
       " value         122575.000000\n",
       " year_2             0.198387\n",
       " year_5             0.572819\n",
       " year_10            0.360433\n",
       " std            15259.460328\n",
       " Name: 2018-12-31 00:00:00, dtype: float64,\n",
       " 77037: RegionName     77037.000000\n",
       " value         116850.000000\n",
       " year_2             0.086892\n",
       " year_5             0.416507\n",
       " year_10            0.226342\n",
       " std            16991.116876\n",
       " Name: 2018-12-31 00:00:00, dtype: float64,\n",
       " 77085: RegionName     77085.000000\n",
       " value         145175.000000\n",
       " year_2             0.159545\n",
       " year_5             0.516320\n",
       " year_10            0.296012\n",
       " std            17191.972830\n",
       " Name: 2018-12-31 00:00:00, dtype: float64,\n",
       " 77003: RegionName     77003.000000\n",
       " value         296475.000000\n",
       " year_2             0.033885\n",
       " year_5             0.443579\n",
       " year_10            0.486836\n",
       " std            35708.611959\n",
       " Name: 2018-12-31 00:00:00, dtype: float64,\n",
       " 77078: RegionName    77078.000000\n",
       " value         98000.000000\n",
       " year_2            0.189320\n",
       " year_5            0.452390\n",
       " year_10           0.312500\n",
       " std           13693.110243\n",
       " Name: 2018-12-31 00:00:00, dtype: float64,\n",
       " 77068: RegionName     77068.000000\n",
       " value         209575.000000\n",
       " year_2             0.058682\n",
       " year_5             0.347388\n",
       " year_10            0.281608\n",
       " std            21513.752403\n",
       " Name: 2018-12-31 00:00:00, dtype: float64,\n",
       " 77562: RegionName     77562.000000\n",
       " value         146550.000000\n",
       " year_2             0.170527\n",
       " year_5             0.438763\n",
       " year_10            0.379402\n",
       " std            20322.795707\n",
       " Name: 2018-12-31 00:00:00, dtype: float64,\n",
       " 77032: RegionName     77032.000000\n",
       " value         117750.000000\n",
       " year_2             0.251439\n",
       " year_5             0.477879\n",
       " year_10            0.310032\n",
       " std            14580.264800\n",
       " Name: 2018-12-31 00:00:00, dtype: float64,\n",
       " 77094: RegionName     77094.000000\n",
       " value         373425.000000\n",
       " year_2            -0.037234\n",
       " year_5             0.234599\n",
       " year_10            0.431341\n",
       " std            49965.352986\n",
       " Name: 2018-12-31 00:00:00, dtype: float64,\n",
       " 77547: RegionName    77547.000000\n",
       " value         81450.000000\n",
       " year_2            0.008669\n",
       " year_5            0.215218\n",
       " year_10           0.097462\n",
       " std           12179.944151\n",
       " Name: 2018-12-31 00:00:00, dtype: float64,\n",
       " 77050: RegionName     77050.000000\n",
       " value         114600.000000\n",
       " year_2             0.233031\n",
       " year_5             0.568967\n",
       " year_10            0.266298\n",
       " std            15679.185563\n",
       " Name: 2018-12-31 00:00:00, dtype: float64}"
      ]
     },
     "execution_count": 401,
     "metadata": {},
     "output_type": "execute_result"
    }
   ],
   "source": [
    "harris_comparison = {}\n",
    "for zip_ in harris_zips:\n",
    "    for zip_, vals in harris_dict_annual.items():\n",
    "        harris_comparison[zip_] = harris_dict_annual[zip_].iloc[-1] \n",
    "harris_comparison"
   ]
  },
  {
   "cell_type": "code",
   "execution_count": 402,
   "metadata": {
    "ExecuteTime": {
     "end_time": "2021-06-14T01:35:21.593150Z",
     "start_time": "2021-06-14T01:35:21.561797Z"
    }
   },
   "outputs": [],
   "source": [
    "df_harris_pct = pd.DataFrame(harris_comparison).T"
   ]
  },
  {
   "cell_type": "code",
   "execution_count": 403,
   "metadata": {
    "ExecuteTime": {
     "end_time": "2021-06-14T01:35:22.867133Z",
     "start_time": "2021-06-14T01:35:22.813038Z"
    }
   },
   "outputs": [],
   "source": [
    "df_harris_pct.drop(columns=['RegionName'], axis=1, inplace=True)"
   ]
  },
  {
   "cell_type": "code",
   "execution_count": 404,
   "metadata": {
    "ExecuteTime": {
     "end_time": "2021-06-14T01:35:23.705420Z",
     "start_time": "2021-06-14T01:35:23.681092Z"
    }
   },
   "outputs": [
    {
     "data": {
      "text/html": [
       "<div>\n",
       "<style scoped>\n",
       "    .dataframe tbody tr th:only-of-type {\n",
       "        vertical-align: middle;\n",
       "    }\n",
       "\n",
       "    .dataframe tbody tr th {\n",
       "        vertical-align: top;\n",
       "    }\n",
       "\n",
       "    .dataframe thead th {\n",
       "        text-align: right;\n",
       "    }\n",
       "</style>\n",
       "<table border=\"1\" class=\"dataframe\">\n",
       "  <thead>\n",
       "    <tr style=\"text-align: right;\">\n",
       "      <th></th>\n",
       "      <th>value</th>\n",
       "      <th>year_2</th>\n",
       "      <th>year_5</th>\n",
       "      <th>year_10</th>\n",
       "      <th>std</th>\n",
       "    </tr>\n",
       "  </thead>\n",
       "  <tbody>\n",
       "    <tr>\n",
       "      <th>77087</th>\n",
       "      <td>128050.0</td>\n",
       "      <td>0.364048</td>\n",
       "      <td>0.577456</td>\n",
       "      <td>0.391470</td>\n",
       "      <td>18023.531817</td>\n",
       "    </tr>\n",
       "    <tr>\n",
       "      <th>77021</th>\n",
       "      <td>121825.0</td>\n",
       "      <td>0.345761</td>\n",
       "      <td>0.671889</td>\n",
       "      <td>0.429032</td>\n",
       "      <td>17555.780514</td>\n",
       "    </tr>\n",
       "    <tr>\n",
       "      <th>77020</th>\n",
       "      <td>100500.0</td>\n",
       "      <td>0.300550</td>\n",
       "      <td>0.501868</td>\n",
       "      <td>0.413005</td>\n",
       "      <td>12807.817599</td>\n",
       "    </tr>\n",
       "    <tr>\n",
       "      <th>77016</th>\n",
       "      <td>98525.0</td>\n",
       "      <td>0.295813</td>\n",
       "      <td>0.510927</td>\n",
       "      <td>0.345510</td>\n",
       "      <td>13768.180076</td>\n",
       "    </tr>\n",
       "    <tr>\n",
       "      <th>77039</th>\n",
       "      <td>120600.0</td>\n",
       "      <td>0.275853</td>\n",
       "      <td>0.520328</td>\n",
       "      <td>0.263378</td>\n",
       "      <td>16677.544605</td>\n",
       "    </tr>\n",
       "    <tr>\n",
       "      <th>...</th>\n",
       "      <td>...</td>\n",
       "      <td>...</td>\n",
       "      <td>...</td>\n",
       "      <td>...</td>\n",
       "      <td>...</td>\n",
       "    </tr>\n",
       "    <tr>\n",
       "      <th>77096</th>\n",
       "      <td>364250.0</td>\n",
       "      <td>0.002086</td>\n",
       "      <td>0.289495</td>\n",
       "      <td>0.440862</td>\n",
       "      <td>49879.126698</td>\n",
       "    </tr>\n",
       "    <tr>\n",
       "      <th>77494</th>\n",
       "      <td>325250.0</td>\n",
       "      <td>-0.006365</td>\n",
       "      <td>0.232669</td>\n",
       "      <td>0.305569</td>\n",
       "      <td>39115.814995</td>\n",
       "    </tr>\n",
       "    <tr>\n",
       "      <th>77054</th>\n",
       "      <td>273675.0</td>\n",
       "      <td>-0.023113</td>\n",
       "      <td>0.244119</td>\n",
       "      <td>0.248565</td>\n",
       "      <td>28073.759730</td>\n",
       "    </tr>\n",
       "    <tr>\n",
       "      <th>77094</th>\n",
       "      <td>373425.0</td>\n",
       "      <td>-0.037234</td>\n",
       "      <td>0.234599</td>\n",
       "      <td>0.431341</td>\n",
       "      <td>49965.352986</td>\n",
       "    </tr>\n",
       "    <tr>\n",
       "      <th>77057</th>\n",
       "      <td>554650.0</td>\n",
       "      <td>-0.051056</td>\n",
       "      <td>0.213256</td>\n",
       "      <td>0.145734</td>\n",
       "      <td>55363.410606</td>\n",
       "    </tr>\n",
       "  </tbody>\n",
       "</table>\n",
       "<p>121 rows × 5 columns</p>\n",
       "</div>"
      ],
      "text/plain": [
       "          value    year_2    year_5   year_10           std\n",
       "77087  128050.0  0.364048  0.577456  0.391470  18023.531817\n",
       "77021  121825.0  0.345761  0.671889  0.429032  17555.780514\n",
       "77020  100500.0  0.300550  0.501868  0.413005  12807.817599\n",
       "77016   98525.0  0.295813  0.510927  0.345510  13768.180076\n",
       "77039  120600.0  0.275853  0.520328  0.263378  16677.544605\n",
       "...         ...       ...       ...       ...           ...\n",
       "77096  364250.0  0.002086  0.289495  0.440862  49879.126698\n",
       "77494  325250.0 -0.006365  0.232669  0.305569  39115.814995\n",
       "77054  273675.0 -0.023113  0.244119  0.248565  28073.759730\n",
       "77094  373425.0 -0.037234  0.234599  0.431341  49965.352986\n",
       "77057  554650.0 -0.051056  0.213256  0.145734  55363.410606\n",
       "\n",
       "[121 rows x 5 columns]"
      ]
     },
     "execution_count": 404,
     "metadata": {},
     "output_type": "execute_result"
    }
   ],
   "source": [
    "df_harris_pct.sort_values('year_2', ascending=False)"
   ]
  },
  {
   "cell_type": "code",
   "execution_count": 25,
   "metadata": {
    "ExecuteTime": {
     "end_time": "2021-06-12T23:43:35.459505Z",
     "start_time": "2021-06-12T23:43:35.457240Z"
    }
   },
   "outputs": [],
   "source": [
    "# Formula for assessing growth rate ranking as follows: 40% - 2, 35% - 5, 25% - 10"
   ]
  },
  {
   "cell_type": "code",
   "execution_count": 26,
   "metadata": {
    "ExecuteTime": {
     "end_time": "2021-06-12T23:43:35.463756Z",
     "start_time": "2021-06-12T23:43:35.460473Z"
    }
   },
   "outputs": [],
   "source": [
    "df_harris_pct['total'] = df_harris_pct['year_2']*(0.4)+df_harris_pct['year_5']*(0.35)+df_harris_pct['year_10']*(0.25)"
   ]
  },
  {
   "cell_type": "code",
   "execution_count": 27,
   "metadata": {
    "ExecuteTime": {
     "end_time": "2021-06-12T23:43:35.468263Z",
     "start_time": "2021-06-12T23:43:35.464785Z"
    }
   },
   "outputs": [],
   "source": [
    "harris_top10 = list(df_harris_pct.sort_values(by='total', ascending=False).nlargest(columns='total',n=10).index)"
   ]
  },
  {
   "cell_type": "code",
   "execution_count": 28,
   "metadata": {
    "ExecuteTime": {
     "end_time": "2021-06-12T23:43:36.026899Z",
     "start_time": "2021-06-12T23:43:35.469194Z"
    }
   },
   "outputs": [
    {
     "data": {
      "text/plain": [
       "<AxesSubplot:xlabel='time'>"
      ]
     },
     "execution_count": 28,
     "metadata": {},
     "output_type": "execute_result"
    },
    {
     "data": {
      "image/png": "[encoded data removed]",
      "text/plain": [
       "<Figure size 432x288 with 1 Axes>"
      ]
     },
     "metadata": {
      "needs_background": "light"
     },
     "output_type": "display_data"
    }
   ],
   "source": [
    "harris_dict_full[77494]['value'].plot()"
   ]
  },
  {
   "cell_type": "code",
   "execution_count": 32,
   "metadata": {
    "ExecuteTime": {
     "end_time": "2021-06-12T23:44:06.583821Z",
     "start_time": "2021-06-12T23:44:06.467443Z"
    }
   },
   "outputs": [
    {
     "data": {
      "text/plain": [
       "[<matplotlib.lines.Line2D at 0x7f9ce9cba940>,\n",
       " <matplotlib.lines.Line2D at 0x7f9cfabb3f40>]"
      ]
     },
     "execution_count": 32,
     "metadata": {},
     "output_type": "execute_result"
    },
    {
     "data": {
      "image/png": "[encoded data removed]",
      "text/plain": [
       "<Figure size 864x360 with 1 Axes>"
      ]
     },
     "metadata": {
      "needs_background": "light"
     },
     "output_type": "display_data"
    }
   ],
   "source": [
    "import matplotlib.pyplot as plt\n",
    "fig, ax = plt.subplots(figsize=(12,5))\n",
    "ax.plot(harris_dict_full[77494])"
   ]
  },
  {
   "cell_type": "markdown",
   "metadata": {},
   "source": [
    "Housing prices seem very resiliant through 2008"
   ]
  },
  {
   "cell_type": "code",
   "execution_count": 33,
   "metadata": {
    "ExecuteTime": {
     "end_time": "2021-06-12T23:44:09.827559Z",
     "start_time": "2021-06-12T23:44:09.818886Z"
    }
   },
   "outputs": [
    {
     "data": {
      "text/plain": [
       "[77092, 77021, 77043, 77080, 77087, 77530, 77020, 77016, 77506, 77074]"
      ]
     },
     "execution_count": 33,
     "metadata": {},
     "output_type": "execute_result"
    }
   ],
   "source": [
    "harris_top10"
   ]
  },
  {
   "cell_type": "code",
   "execution_count": 34,
   "metadata": {
    "ExecuteTime": {
     "end_time": "2021-06-12T23:44:12.126779Z",
     "start_time": "2021-06-12T23:44:11.914708Z"
    }
   },
   "outputs": [
    {
     "data": {
      "image/png": "[encoded data removed]",
      "text/plain": [
       "<Figure size 864x504 with 1 Axes>"
      ]
     },
     "metadata": {
      "needs_background": "light"
     },
     "output_type": "display_data"
    }
   ],
   "source": [
    "import matplotlib.pyplot as plt\n",
    "fig, ax = plt.subplots(figsize=(12,7))\n",
    "for code in harris_top10:\n",
    "    ax.plot(harris_dict_full[code]['value'], label=code)\n",
    "    ax.legend()"
   ]
  },
  {
   "cell_type": "markdown",
   "metadata": {},
   "source": [
    "- Measure how quick each zip recovered from tech boom\n",
    "- Measure how quick each zip recovered from 08 bust"
   ]
  },
  {
   "cell_type": "code",
   "execution_count": null,
   "metadata": {},
   "outputs": [],
   "source": []
  },
  {
   "cell_type": "code",
   "execution_count": null,
   "metadata": {},
   "outputs": [],
   "source": []
  },
  {
   "cell_type": "code",
   "execution_count": null,
   "metadata": {},
   "outputs": [],
   "source": []
  },
  {
   "cell_type": "code",
   "execution_count": null,
   "metadata": {},
   "outputs": [],
   "source": []
  },
  {
   "cell_type": "code",
   "execution_count": null,
   "metadata": {},
   "outputs": [],
   "source": []
  },
  {
   "cell_type": "code",
   "execution_count": null,
   "metadata": {},
   "outputs": [],
   "source": []
  },
  {
   "cell_type": "code",
   "execution_count": null,
   "metadata": {},
   "outputs": [],
   "source": []
  },
  {
   "cell_type": "code",
   "execution_count": null,
   "metadata": {},
   "outputs": [],
   "source": []
  },
  {
   "cell_type": "code",
   "execution_count": null,
   "metadata": {
    "ExecuteTime": {
     "end_time": "2021-06-12T23:43:36.160183Z",
     "start_time": "2021-06-12T23:43:28.192Z"
    }
   },
   "outputs": [],
   "source": [
    "font = {'family' : 'normal',\n",
    "        'weight' : 'bold',\n",
    "        'size'   : 22}\n",
    "\n",
    "matplotlib.rc('font', **font)\n",
    "\n",
    "# NOTE: if you visualizations are too cluttered to read, try calling 'plt.gcf().autofmt_xdate()'!"
   ]
  },
  {
   "cell_type": "code",
   "execution_count": null,
   "metadata": {},
   "outputs": [],
   "source": []
  },
  {
   "cell_type": "code",
   "execution_count": null,
   "metadata": {},
   "outputs": [],
   "source": []
  },
  {
   "cell_type": "code",
   "execution_count": null,
   "metadata": {},
   "outputs": [],
   "source": []
  },
  {
   "cell_type": "markdown",
   "metadata": {},
   "source": [
    "# Step 4: Reshape from Wide to Long Format"
   ]
  },
  {
   "cell_type": "code",
   "execution_count": null,
   "metadata": {
    "ExecuteTime": {
     "end_time": "2021-06-12T23:43:36.160883Z",
     "start_time": "2021-06-12T23:43:28.195Z"
    }
   },
   "outputs": [],
   "source": [
    "def melt_data(df):\n",
    "    melted = pd.melt(df, id_vars=['RegionName', 'City', 'State', 'Metro', 'CountyName'], var_name='time')\n",
    "    melted['time'] = pd.to_datetime(melted['time'], infer_datetime_format=True)\n",
    "    melted = melted.dropna(subset=['value'])\n",
    "    return melted.groupby('time').aggregate({'value':'mean'})"
   ]
  },
  {
   "cell_type": "code",
   "execution_count": null,
   "metadata": {},
   "outputs": [],
   "source": []
  },
  {
   "cell_type": "code",
   "execution_count": null,
   "metadata": {},
   "outputs": [],
   "source": []
  },
  {
   "cell_type": "code",
   "execution_count": null,
   "metadata": {},
   "outputs": [],
   "source": []
  },
  {
   "cell_type": "code",
   "execution_count": null,
   "metadata": {},
   "outputs": [],
   "source": []
  },
  {
   "cell_type": "markdown",
   "metadata": {},
   "source": [
    "# Step 5: ARIMA Modeling"
   ]
  },
  {
   "cell_type": "code",
   "execution_count": null,
   "metadata": {},
   "outputs": [],
   "source": []
  },
  {
   "cell_type": "code",
   "execution_count": null,
   "metadata": {},
   "outputs": [],
   "source": []
  },
  {
   "cell_type": "code",
   "execution_count": null,
   "metadata": {},
   "outputs": [],
   "source": []
  },
  {
   "cell_type": "code",
   "execution_count": null,
   "metadata": {},
   "outputs": [],
   "source": []
  },
  {
   "cell_type": "code",
   "execution_count": null,
   "metadata": {},
   "outputs": [],
   "source": []
  },
  {
   "cell_type": "code",
   "execution_count": null,
   "metadata": {},
   "outputs": [],
   "source": []
  },
  {
   "cell_type": "markdown",
   "metadata": {},
   "source": [
    "# Step 6: Interpreting Results"
   ]
  },
  {
   "cell_type": "code",
   "execution_count": null,
   "metadata": {},
   "outputs": [],
   "source": []
  },
  {
   "cell_type": "code",
   "execution_count": null,
   "metadata": {},
   "outputs": [],
   "source": []
  },
  {
   "cell_type": "code",
   "execution_count": null,
   "metadata": {},
   "outputs": [],
   "source": []
  }
 ],
 "metadata": {
  "kernelspec": {
   "display_name": "learn-env",
   "language": "python",
   "name": "learn-env"
  },
  "language_info": {
   "codemirror_mode": {
    "name": "ipython",
    "version": 3
   },
   "file_extension": ".py",
   "mimetype": "text/x-python",
   "name": "python",
   "nbconvert_exporter": "python",
   "pygments_lexer": "ipython3",
   "version": "3.8.5"
  },
  "toc": {
   "base_numbering": 1,
   "nav_menu": {},
   "number_sections": true,
   "sideBar": true,
   "skip_h1_title": false,
   "title_cell": "Table of Contents",
   "title_sidebar": "Contents",
   "toc_cell": false,
   "toc_position": {},
   "toc_section_display": true,
   "toc_window_display": true
  }
 },
 "nbformat": 4,
 "nbformat_minor": 2
}

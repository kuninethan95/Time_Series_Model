{
 "cells": [
  {
   "cell_type": "markdown",
   "metadata": {},
   "source": [
    "# Mod 4 Project - Starter Notebook\n",
    "\n",
    "This notebook has been provided to you so that you can make use of the following starter code to help with the trickier parts of preprocessing the Zillow dataset. \n",
    "\n",
    "The notebook contains a rough outline the general order you'll likely want to take in this project. You'll notice that most of the areas are left blank. This is so that it's more obvious exactly when you should make use of the starter code provided for preprocessing. \n",
    "\n",
    "**_NOTE:_** The number of empty cells are not meant to infer how much or how little code should be involved in any given step--we've just provided a few for your convenience. Add, delete, and change things around in this notebook as needed!\n",
    "\n",
    "# Some Notes Before Starting\n",
    "\n",
    "This project will be one of the more challenging projects you complete in this program. This is because working with Time Series data is a bit different than working with regular datasets. In order to make this a bit less frustrating and help you understand what you need to do (and when you need to do it), we'll quickly review the dataset formats that you'll encounter in this project. \n",
    "\n",
    "## Wide Format vs Long Format\n",
    "\n",
    "If you take a look at the format of the data in `zillow_data.csv`, you'll notice that the actual Time Series values are stored as separate columns. Here's a sample: \n",
    "\n",
    "<img src='https://raw.githubusercontent.com/learn-co-students/dsc-mod-4-project-seattle-ds-102819/master/images/df_head.png'>\n",
    "\n",
    "You'll notice that the first seven columns look like any other dataset you're used to working with. However, column 8 refers to the median housing sales values for April 1996, column 9 for May 1996, and so on. This This is called **_Wide Format_**, and it makes the dataframe intuitive and easy to read. However, there are problems with this format when it comes to actually learning from the data, because the data only makes sense if you know the name of the column that the data can be found it. Since column names are metadata, our algorithms will miss out on what dates each value is for. This means that before we pass this data to our ARIMA model, we'll need to reshape our dataset to **_Long Format_**. Reshaped into long format, the dataframe above would now look like:\n",
    "\n",
    "<img src='https://raw.githubusercontent.com/learn-co-students/dsc-mod-4-project-seattle-ds-102819/master/images/melted1.png'>\n",
    "\n",
    "There are now many more rows in this dataset--one for each unique time and zipcode combination in the data! Once our dataset is in this format, we'll be able to train an ARIMA model on it. The method used to convert from Wide to Long is `pd.melt()`, and it is common to refer to our dataset as 'melted' after the transition to denote that it is in long format. \n",
    "\n",
    "# Helper Functions Provided\n",
    "\n",
    "Melting a dataset can be tricky if you've never done it before, so you'll see that we have provided a sample function, `melt_data()`, to help you with this step below. Also provided is:\n",
    "\n",
    "* `get_datetimes()`, a function to deal with converting the column values for datetimes as a pandas series of datetime objects\n",
    "* Some good parameters for matplotlib to help make your visualizations more readable. \n",
    "\n",
    "Good luck!\n",
    "\n",
    "\n",
    "# Step 1: Load the Data/Filtering for Chosen Zipcodes"
   ]
  },
  {
   "cell_type": "code",
   "execution_count": 1,
   "metadata": {
    "ExecuteTime": {
     "end_time": "2021-06-12T16:06:11.000517Z",
     "start_time": "2021-06-12T16:06:10.324634Z"
    }
   },
   "outputs": [],
   "source": [
    "import pandas as pd\n",
    "import numpy as np"
   ]
  },
  {
   "cell_type": "code",
   "execution_count": 2,
   "metadata": {
    "ExecuteTime": {
     "end_time": "2021-06-12T16:06:11.308351Z",
     "start_time": "2021-06-12T16:06:11.001764Z"
    }
   },
   "outputs": [],
   "source": [
    "df = pd.read_csv('zillow_data.csv')"
   ]
  },
  {
   "cell_type": "code",
   "execution_count": 3,
   "metadata": {
    "ExecuteTime": {
     "end_time": "2021-06-12T16:06:11.341034Z",
     "start_time": "2021-06-12T16:06:11.311985Z"
    }
   },
   "outputs": [
    {
     "data": {
      "text/html": [
       "<div>\n",
       "<style scoped>\n",
       "    .dataframe tbody tr th:only-of-type {\n",
       "        vertical-align: middle;\n",
       "    }\n",
       "\n",
       "    .dataframe tbody tr th {\n",
       "        vertical-align: top;\n",
       "    }\n",
       "\n",
       "    .dataframe thead th {\n",
       "        text-align: right;\n",
       "    }\n",
       "</style>\n",
       "<table border=\"1\" class=\"dataframe\">\n",
       "  <thead>\n",
       "    <tr style=\"text-align: right;\">\n",
       "      <th></th>\n",
       "      <th>RegionID</th>\n",
       "      <th>RegionName</th>\n",
       "      <th>City</th>\n",
       "      <th>State</th>\n",
       "      <th>Metro</th>\n",
       "      <th>CountyName</th>\n",
       "      <th>SizeRank</th>\n",
       "      <th>1996-04</th>\n",
       "      <th>1996-05</th>\n",
       "      <th>1996-06</th>\n",
       "      <th>...</th>\n",
       "      <th>2017-07</th>\n",
       "      <th>2017-08</th>\n",
       "      <th>2017-09</th>\n",
       "      <th>2017-10</th>\n",
       "      <th>2017-11</th>\n",
       "      <th>2017-12</th>\n",
       "      <th>2018-01</th>\n",
       "      <th>2018-02</th>\n",
       "      <th>2018-03</th>\n",
       "      <th>2018-04</th>\n",
       "    </tr>\n",
       "  </thead>\n",
       "  <tbody>\n",
       "    <tr>\n",
       "      <th>0</th>\n",
       "      <td>84654</td>\n",
       "      <td>60657</td>\n",
       "      <td>Chicago</td>\n",
       "      <td>IL</td>\n",
       "      <td>Chicago</td>\n",
       "      <td>Cook</td>\n",
       "      <td>1</td>\n",
       "      <td>334200.0</td>\n",
       "      <td>335400.0</td>\n",
       "      <td>336500.0</td>\n",
       "      <td>...</td>\n",
       "      <td>1005500</td>\n",
       "      <td>1007500</td>\n",
       "      <td>1007800</td>\n",
       "      <td>1009600</td>\n",
       "      <td>1013300</td>\n",
       "      <td>1018700</td>\n",
       "      <td>1024400</td>\n",
       "      <td>1030700</td>\n",
       "      <td>1033800</td>\n",
       "      <td>1030600</td>\n",
       "    </tr>\n",
       "    <tr>\n",
       "      <th>1</th>\n",
       "      <td>90668</td>\n",
       "      <td>75070</td>\n",
       "      <td>McKinney</td>\n",
       "      <td>TX</td>\n",
       "      <td>Dallas-Fort Worth</td>\n",
       "      <td>Collin</td>\n",
       "      <td>2</td>\n",
       "      <td>235700.0</td>\n",
       "      <td>236900.0</td>\n",
       "      <td>236700.0</td>\n",
       "      <td>...</td>\n",
       "      <td>308000</td>\n",
       "      <td>310000</td>\n",
       "      <td>312500</td>\n",
       "      <td>314100</td>\n",
       "      <td>315000</td>\n",
       "      <td>316600</td>\n",
       "      <td>318100</td>\n",
       "      <td>319600</td>\n",
       "      <td>321100</td>\n",
       "      <td>321800</td>\n",
       "    </tr>\n",
       "    <tr>\n",
       "      <th>2</th>\n",
       "      <td>91982</td>\n",
       "      <td>77494</td>\n",
       "      <td>Katy</td>\n",
       "      <td>TX</td>\n",
       "      <td>Houston</td>\n",
       "      <td>Harris</td>\n",
       "      <td>3</td>\n",
       "      <td>210400.0</td>\n",
       "      <td>212200.0</td>\n",
       "      <td>212200.0</td>\n",
       "      <td>...</td>\n",
       "      <td>321000</td>\n",
       "      <td>320600</td>\n",
       "      <td>320200</td>\n",
       "      <td>320400</td>\n",
       "      <td>320800</td>\n",
       "      <td>321200</td>\n",
       "      <td>321200</td>\n",
       "      <td>323000</td>\n",
       "      <td>326900</td>\n",
       "      <td>329900</td>\n",
       "    </tr>\n",
       "    <tr>\n",
       "      <th>3</th>\n",
       "      <td>84616</td>\n",
       "      <td>60614</td>\n",
       "      <td>Chicago</td>\n",
       "      <td>IL</td>\n",
       "      <td>Chicago</td>\n",
       "      <td>Cook</td>\n",
       "      <td>4</td>\n",
       "      <td>498100.0</td>\n",
       "      <td>500900.0</td>\n",
       "      <td>503100.0</td>\n",
       "      <td>...</td>\n",
       "      <td>1289800</td>\n",
       "      <td>1287700</td>\n",
       "      <td>1287400</td>\n",
       "      <td>1291500</td>\n",
       "      <td>1296600</td>\n",
       "      <td>1299000</td>\n",
       "      <td>1302700</td>\n",
       "      <td>1306400</td>\n",
       "      <td>1308500</td>\n",
       "      <td>1307000</td>\n",
       "    </tr>\n",
       "    <tr>\n",
       "      <th>4</th>\n",
       "      <td>93144</td>\n",
       "      <td>79936</td>\n",
       "      <td>El Paso</td>\n",
       "      <td>TX</td>\n",
       "      <td>El Paso</td>\n",
       "      <td>El Paso</td>\n",
       "      <td>5</td>\n",
       "      <td>77300.0</td>\n",
       "      <td>77300.0</td>\n",
       "      <td>77300.0</td>\n",
       "      <td>...</td>\n",
       "      <td>119100</td>\n",
       "      <td>119400</td>\n",
       "      <td>120000</td>\n",
       "      <td>120300</td>\n",
       "      <td>120300</td>\n",
       "      <td>120300</td>\n",
       "      <td>120300</td>\n",
       "      <td>120500</td>\n",
       "      <td>121000</td>\n",
       "      <td>121500</td>\n",
       "    </tr>\n",
       "    <tr>\n",
       "      <th>...</th>\n",
       "      <td>...</td>\n",
       "      <td>...</td>\n",
       "      <td>...</td>\n",
       "      <td>...</td>\n",
       "      <td>...</td>\n",
       "      <td>...</td>\n",
       "      <td>...</td>\n",
       "      <td>...</td>\n",
       "      <td>...</td>\n",
       "      <td>...</td>\n",
       "      <td>...</td>\n",
       "      <td>...</td>\n",
       "      <td>...</td>\n",
       "      <td>...</td>\n",
       "      <td>...</td>\n",
       "      <td>...</td>\n",
       "      <td>...</td>\n",
       "      <td>...</td>\n",
       "      <td>...</td>\n",
       "      <td>...</td>\n",
       "      <td>...</td>\n",
       "    </tr>\n",
       "    <tr>\n",
       "      <th>14718</th>\n",
       "      <td>58333</td>\n",
       "      <td>1338</td>\n",
       "      <td>Ashfield</td>\n",
       "      <td>MA</td>\n",
       "      <td>Greenfield Town</td>\n",
       "      <td>Franklin</td>\n",
       "      <td>14719</td>\n",
       "      <td>94600.0</td>\n",
       "      <td>94300.0</td>\n",
       "      <td>94000.0</td>\n",
       "      <td>...</td>\n",
       "      <td>216800</td>\n",
       "      <td>217700</td>\n",
       "      <td>218600</td>\n",
       "      <td>218500</td>\n",
       "      <td>218100</td>\n",
       "      <td>216400</td>\n",
       "      <td>213100</td>\n",
       "      <td>209800</td>\n",
       "      <td>209200</td>\n",
       "      <td>209300</td>\n",
       "    </tr>\n",
       "    <tr>\n",
       "      <th>14719</th>\n",
       "      <td>59107</td>\n",
       "      <td>3293</td>\n",
       "      <td>Woodstock</td>\n",
       "      <td>NH</td>\n",
       "      <td>Claremont</td>\n",
       "      <td>Grafton</td>\n",
       "      <td>14720</td>\n",
       "      <td>92700.0</td>\n",
       "      <td>92500.0</td>\n",
       "      <td>92400.0</td>\n",
       "      <td>...</td>\n",
       "      <td>202100</td>\n",
       "      <td>208400</td>\n",
       "      <td>212200</td>\n",
       "      <td>215200</td>\n",
       "      <td>214300</td>\n",
       "      <td>213100</td>\n",
       "      <td>213700</td>\n",
       "      <td>218300</td>\n",
       "      <td>222700</td>\n",
       "      <td>225800</td>\n",
       "    </tr>\n",
       "    <tr>\n",
       "      <th>14720</th>\n",
       "      <td>75672</td>\n",
       "      <td>40404</td>\n",
       "      <td>Berea</td>\n",
       "      <td>KY</td>\n",
       "      <td>Richmond</td>\n",
       "      <td>Madison</td>\n",
       "      <td>14721</td>\n",
       "      <td>57100.0</td>\n",
       "      <td>57300.0</td>\n",
       "      <td>57500.0</td>\n",
       "      <td>...</td>\n",
       "      <td>121800</td>\n",
       "      <td>122800</td>\n",
       "      <td>124600</td>\n",
       "      <td>126700</td>\n",
       "      <td>128800</td>\n",
       "      <td>130600</td>\n",
       "      <td>131700</td>\n",
       "      <td>132500</td>\n",
       "      <td>133000</td>\n",
       "      <td>133400</td>\n",
       "    </tr>\n",
       "    <tr>\n",
       "      <th>14721</th>\n",
       "      <td>93733</td>\n",
       "      <td>81225</td>\n",
       "      <td>Mount Crested Butte</td>\n",
       "      <td>CO</td>\n",
       "      <td>NaN</td>\n",
       "      <td>Gunnison</td>\n",
       "      <td>14722</td>\n",
       "      <td>191100.0</td>\n",
       "      <td>192400.0</td>\n",
       "      <td>193700.0</td>\n",
       "      <td>...</td>\n",
       "      <td>662800</td>\n",
       "      <td>671200</td>\n",
       "      <td>682400</td>\n",
       "      <td>695600</td>\n",
       "      <td>695500</td>\n",
       "      <td>694700</td>\n",
       "      <td>706400</td>\n",
       "      <td>705300</td>\n",
       "      <td>681500</td>\n",
       "      <td>664400</td>\n",
       "    </tr>\n",
       "    <tr>\n",
       "      <th>14722</th>\n",
       "      <td>95851</td>\n",
       "      <td>89155</td>\n",
       "      <td>Mesquite</td>\n",
       "      <td>NV</td>\n",
       "      <td>Las Vegas</td>\n",
       "      <td>Clark</td>\n",
       "      <td>14723</td>\n",
       "      <td>176400.0</td>\n",
       "      <td>176300.0</td>\n",
       "      <td>176100.0</td>\n",
       "      <td>...</td>\n",
       "      <td>333800</td>\n",
       "      <td>336400</td>\n",
       "      <td>339700</td>\n",
       "      <td>343800</td>\n",
       "      <td>346800</td>\n",
       "      <td>348900</td>\n",
       "      <td>350400</td>\n",
       "      <td>353000</td>\n",
       "      <td>356000</td>\n",
       "      <td>357200</td>\n",
       "    </tr>\n",
       "  </tbody>\n",
       "</table>\n",
       "<p>14723 rows × 272 columns</p>\n",
       "</div>"
      ],
      "text/plain": [
       "       RegionID  RegionName                 City State              Metro  \\\n",
       "0         84654       60657              Chicago    IL            Chicago   \n",
       "1         90668       75070             McKinney    TX  Dallas-Fort Worth   \n",
       "2         91982       77494                 Katy    TX            Houston   \n",
       "3         84616       60614              Chicago    IL            Chicago   \n",
       "4         93144       79936              El Paso    TX            El Paso   \n",
       "...         ...         ...                  ...   ...                ...   \n",
       "14718     58333        1338             Ashfield    MA    Greenfield Town   \n",
       "14719     59107        3293            Woodstock    NH          Claremont   \n",
       "14720     75672       40404                Berea    KY           Richmond   \n",
       "14721     93733       81225  Mount Crested Butte    CO                NaN   \n",
       "14722     95851       89155             Mesquite    NV          Las Vegas   \n",
       "\n",
       "      CountyName  SizeRank   1996-04   1996-05   1996-06  ...  2017-07  \\\n",
       "0           Cook         1  334200.0  335400.0  336500.0  ...  1005500   \n",
       "1         Collin         2  235700.0  236900.0  236700.0  ...   308000   \n",
       "2         Harris         3  210400.0  212200.0  212200.0  ...   321000   \n",
       "3           Cook         4  498100.0  500900.0  503100.0  ...  1289800   \n",
       "4        El Paso         5   77300.0   77300.0   77300.0  ...   119100   \n",
       "...          ...       ...       ...       ...       ...  ...      ...   \n",
       "14718   Franklin     14719   94600.0   94300.0   94000.0  ...   216800   \n",
       "14719    Grafton     14720   92700.0   92500.0   92400.0  ...   202100   \n",
       "14720    Madison     14721   57100.0   57300.0   57500.0  ...   121800   \n",
       "14721   Gunnison     14722  191100.0  192400.0  193700.0  ...   662800   \n",
       "14722      Clark     14723  176400.0  176300.0  176100.0  ...   333800   \n",
       "\n",
       "       2017-08  2017-09  2017-10  2017-11  2017-12  2018-01  2018-02  2018-03  \\\n",
       "0      1007500  1007800  1009600  1013300  1018700  1024400  1030700  1033800   \n",
       "1       310000   312500   314100   315000   316600   318100   319600   321100   \n",
       "2       320600   320200   320400   320800   321200   321200   323000   326900   \n",
       "3      1287700  1287400  1291500  1296600  1299000  1302700  1306400  1308500   \n",
       "4       119400   120000   120300   120300   120300   120300   120500   121000   \n",
       "...        ...      ...      ...      ...      ...      ...      ...      ...   \n",
       "14718   217700   218600   218500   218100   216400   213100   209800   209200   \n",
       "14719   208400   212200   215200   214300   213100   213700   218300   222700   \n",
       "14720   122800   124600   126700   128800   130600   131700   132500   133000   \n",
       "14721   671200   682400   695600   695500   694700   706400   705300   681500   \n",
       "14722   336400   339700   343800   346800   348900   350400   353000   356000   \n",
       "\n",
       "       2018-04  \n",
       "0      1030600  \n",
       "1       321800  \n",
       "2       329900  \n",
       "3      1307000  \n",
       "4       121500  \n",
       "...        ...  \n",
       "14718   209300  \n",
       "14719   225800  \n",
       "14720   133400  \n",
       "14721   664400  \n",
       "14722   357200  \n",
       "\n",
       "[14723 rows x 272 columns]"
      ]
     },
     "execution_count": 3,
     "metadata": {},
     "output_type": "execute_result"
    }
   ],
   "source": [
    "df"
   ]
  },
  {
   "cell_type": "markdown",
   "metadata": {},
   "source": [
    "# Step 2: Data Preprocessing"
   ]
  },
  {
   "cell_type": "code",
   "execution_count": 4,
   "metadata": {
    "ExecuteTime": {
     "end_time": "2021-06-12T16:06:11.346237Z",
     "start_time": "2021-06-12T16:06:11.342978Z"
    }
   },
   "outputs": [],
   "source": [
    "def get_datetimes(df):\n",
    "    return pd.to_datetime(df.columns.values[1:], format='%Y-%m')"
   ]
  },
  {
   "cell_type": "code",
   "execution_count": 5,
   "metadata": {
    "ExecuteTime": {
     "end_time": "2021-06-12T16:06:11.354121Z",
     "start_time": "2021-06-12T16:06:11.349568Z"
    }
   },
   "outputs": [],
   "source": [
    "def melt_data(df):\n",
    "    melted = pd.melt(df, id_vars=['RegionName', 'City', 'State', 'Metro', 'CountyName'], var_name='time')\n",
    "    melted['time'] = pd.to_datetime(melted['time'], infer_datetime_format=True)\n",
    "    melted = melted.dropna(subset=['value'])\n",
    "    return melted#melted.groupby('time').aggregate({'value':'mean'})"
   ]
  },
  {
   "cell_type": "code",
   "execution_count": 6,
   "metadata": {
    "ExecuteTime": {
     "end_time": "2021-06-12T16:06:11.365725Z",
     "start_time": "2021-06-12T16:06:11.355300Z"
    }
   },
   "outputs": [],
   "source": [
    "df.drop(columns=['RegionID','SizeRank'], axis=1, inplace=True)"
   ]
  },
  {
   "cell_type": "code",
   "execution_count": 7,
   "metadata": {
    "ExecuteTime": {
     "end_time": "2021-06-12T16:06:12.606687Z",
     "start_time": "2021-06-12T16:06:11.367891Z"
    }
   },
   "outputs": [],
   "source": [
    "df_melted = melt_data(df)"
   ]
  },
  {
   "cell_type": "code",
   "execution_count": 8,
   "metadata": {
    "ExecuteTime": {
     "end_time": "2021-06-12T16:06:12.838406Z",
     "start_time": "2021-06-12T16:06:12.608275Z"
    }
   },
   "outputs": [],
   "source": [
    "df_texas = df_melted[df_melted['State']=='TX']"
   ]
  },
  {
   "cell_type": "code",
   "execution_count": 9,
   "metadata": {
    "ExecuteTime": {
     "end_time": "2021-06-12T16:06:12.842140Z",
     "start_time": "2021-06-12T16:06:12.839424Z"
    }
   },
   "outputs": [],
   "source": [
    "df_texas.set_index('time', inplace=True)"
   ]
  },
  {
   "cell_type": "code",
   "execution_count": 10,
   "metadata": {
    "ExecuteTime": {
     "end_time": "2021-06-12T16:06:12.854330Z",
     "start_time": "2021-06-12T16:06:12.843053Z"
    }
   },
   "outputs": [],
   "source": [
    "df_texas.index = pd.to_datetime(df_texas.index)"
   ]
  },
  {
   "cell_type": "markdown",
   "metadata": {},
   "source": [
    "## Organize Travis County"
   ]
  },
  {
   "cell_type": "code",
   "execution_count": 11,
   "metadata": {
    "ExecuteTime": {
     "end_time": "2021-06-12T16:06:12.874413Z",
     "start_time": "2021-06-12T16:06:12.855338Z"
    }
   },
   "outputs": [],
   "source": [
    "df_harris = df_texas[df_texas['CountyName']=='Harris'].copy()"
   ]
  },
  {
   "cell_type": "code",
   "execution_count": 12,
   "metadata": {
    "ExecuteTime": {
     "end_time": "2021-06-12T16:06:12.879357Z",
     "start_time": "2021-06-12T16:06:12.875400Z"
    }
   },
   "outputs": [
    {
     "data": {
      "text/plain": [
       "121"
      ]
     },
     "execution_count": 12,
     "metadata": {},
     "output_type": "execute_result"
    }
   ],
   "source": [
    "df_harris['RegionName'].nunique()"
   ]
  },
  {
   "cell_type": "code",
   "execution_count": 13,
   "metadata": {
    "ExecuteTime": {
     "end_time": "2021-06-12T16:06:12.882053Z",
     "start_time": "2021-06-12T16:06:12.880495Z"
    }
   },
   "outputs": [],
   "source": [
    "## Figure out how to make a dataframe that shows each RegionName 2/5/10 yr growth pct changes and then\n",
    "## narrow it down. Narrow it down based on top short/mid/long term prospects and recovery speed/std/interest rate\n",
    "## correlation"
   ]
  },
  {
   "cell_type": "code",
   "execution_count": 14,
   "metadata": {
    "ExecuteTime": {
     "end_time": "2021-06-12T16:06:12.886114Z",
     "start_time": "2021-06-12T16:06:12.883131Z"
    }
   },
   "outputs": [],
   "source": [
    "df_harris.drop(columns=['City', 'State', 'Metro', 'CountyName'], axis=1, inplace=True)"
   ]
  },
  {
   "cell_type": "code",
   "execution_count": 15,
   "metadata": {
    "ExecuteTime": {
     "end_time": "2021-06-12T16:06:12.892977Z",
     "start_time": "2021-06-12T16:06:12.887199Z"
    }
   },
   "outputs": [
    {
     "data": {
      "text/html": [
       "<div>\n",
       "<style scoped>\n",
       "    .dataframe tbody tr th:only-of-type {\n",
       "        vertical-align: middle;\n",
       "    }\n",
       "\n",
       "    .dataframe tbody tr th {\n",
       "        vertical-align: top;\n",
       "    }\n",
       "\n",
       "    .dataframe thead th {\n",
       "        text-align: right;\n",
       "    }\n",
       "</style>\n",
       "<table border=\"1\" class=\"dataframe\">\n",
       "  <thead>\n",
       "    <tr style=\"text-align: right;\">\n",
       "      <th></th>\n",
       "      <th>RegionName</th>\n",
       "      <th>value</th>\n",
       "    </tr>\n",
       "    <tr>\n",
       "      <th>time</th>\n",
       "      <th></th>\n",
       "      <th></th>\n",
       "    </tr>\n",
       "  </thead>\n",
       "  <tbody>\n",
       "    <tr>\n",
       "      <th>1996-04-01</th>\n",
       "      <td>77494</td>\n",
       "      <td>210400.0</td>\n",
       "    </tr>\n",
       "    <tr>\n",
       "      <th>1996-04-01</th>\n",
       "      <td>77084</td>\n",
       "      <td>95000.0</td>\n",
       "    </tr>\n",
       "    <tr>\n",
       "      <th>1996-04-01</th>\n",
       "      <td>77449</td>\n",
       "      <td>95400.0</td>\n",
       "    </tr>\n",
       "    <tr>\n",
       "      <th>1996-04-01</th>\n",
       "      <td>77429</td>\n",
       "      <td>149600.0</td>\n",
       "    </tr>\n",
       "    <tr>\n",
       "      <th>1996-04-01</th>\n",
       "      <td>77036</td>\n",
       "      <td>120400.0</td>\n",
       "    </tr>\n",
       "    <tr>\n",
       "      <th>...</th>\n",
       "      <td>...</td>\n",
       "      <td>...</td>\n",
       "    </tr>\n",
       "    <tr>\n",
       "      <th>2018-04-01</th>\n",
       "      <td>77562</td>\n",
       "      <td>148400.0</td>\n",
       "    </tr>\n",
       "    <tr>\n",
       "      <th>2018-04-01</th>\n",
       "      <td>77032</td>\n",
       "      <td>119200.0</td>\n",
       "    </tr>\n",
       "    <tr>\n",
       "      <th>2018-04-01</th>\n",
       "      <td>77094</td>\n",
       "      <td>373900.0</td>\n",
       "    </tr>\n",
       "    <tr>\n",
       "      <th>2018-04-01</th>\n",
       "      <td>77547</td>\n",
       "      <td>83300.0</td>\n",
       "    </tr>\n",
       "    <tr>\n",
       "      <th>2018-04-01</th>\n",
       "      <td>77050</td>\n",
       "      <td>115200.0</td>\n",
       "    </tr>\n",
       "  </tbody>\n",
       "</table>\n",
       "<p>32065 rows × 2 columns</p>\n",
       "</div>"
      ],
      "text/plain": [
       "            RegionName     value\n",
       "time                            \n",
       "1996-04-01       77494  210400.0\n",
       "1996-04-01       77084   95000.0\n",
       "1996-04-01       77449   95400.0\n",
       "1996-04-01       77429  149600.0\n",
       "1996-04-01       77036  120400.0\n",
       "...                ...       ...\n",
       "2018-04-01       77562  148400.0\n",
       "2018-04-01       77032  119200.0\n",
       "2018-04-01       77094  373900.0\n",
       "2018-04-01       77547   83300.0\n",
       "2018-04-01       77050  115200.0\n",
       "\n",
       "[32065 rows x 2 columns]"
      ]
     },
     "execution_count": 15,
     "metadata": {},
     "output_type": "execute_result"
    }
   ],
   "source": [
    "df_harris"
   ]
  },
  {
   "cell_type": "code",
   "execution_count": 16,
   "metadata": {
    "ExecuteTime": {
     "end_time": "2021-06-12T16:06:12.896126Z",
     "start_time": "2021-06-12T16:06:12.894136Z"
    }
   },
   "outputs": [],
   "source": [
    "harris_zips=list(df_harris['RegionName'].unique())"
   ]
  },
  {
   "cell_type": "code",
   "execution_count": 17,
   "metadata": {
    "ExecuteTime": {
     "end_time": "2021-06-12T16:06:12.899077Z",
     "start_time": "2021-06-12T16:06:12.897043Z"
    }
   },
   "outputs": [
    {
     "data": {
      "text/plain": [
       "121"
      ]
     },
     "execution_count": 17,
     "metadata": {},
     "output_type": "execute_result"
    }
   ],
   "source": [
    "len(harris_zips)"
   ]
  },
  {
   "cell_type": "code",
   "execution_count": 46,
   "metadata": {
    "ExecuteTime": {
     "end_time": "2021-06-12T16:21:06.924794Z",
     "start_time": "2021-06-12T16:21:06.827119Z"
    }
   },
   "outputs": [],
   "source": [
    "harris_dict_full = {}\n",
    "for zip_ in harris_zips:\n",
    "    harris_dict_full[zip_] = df_harris[df_harris['RegionName']==zip_]"
   ]
  },
  {
   "cell_type": "code",
   "execution_count": 33,
   "metadata": {
    "ExecuteTime": {
     "end_time": "2021-06-12T16:12:15.450152Z",
     "start_time": "2021-06-12T16:12:15.015629Z"
    }
   },
   "outputs": [],
   "source": [
    "harris_dict_annual = {}\n",
    "for zip_ in harris_zips:\n",
    "    harris_dict_annual[zip_] = df_harris[df_harris['RegionName']==zip_].resample(rule='A').mean()\n",
    "    harris_dict_annual[zip_]['year_2'] = harris_dict_annual[zip_]['value'].pct_change(periods=2)\n",
    "    harris_dict_annual[zip_]['year_5'] = harris_dict_annual[zip_]['value'].pct_change(periods=5)\n",
    "    harris_dict_annual[zip_]['year_10'] = harris_dict_annual[zip_]['value'].pct_change(periods=10)\n",
    "    harris_dict_annual[zip_]['std'] = harris_dict_annual[zip_]['value'].std()"
   ]
  },
  {
   "cell_type": "code",
   "execution_count": 34,
   "metadata": {
    "ExecuteTime": {
     "end_time": "2021-06-12T16:12:15.992161Z",
     "start_time": "2021-06-12T16:12:15.972839Z"
    }
   },
   "outputs": [
    {
     "data": {
      "text/html": [
       "<div>\n",
       "<style scoped>\n",
       "    .dataframe tbody tr th:only-of-type {\n",
       "        vertical-align: middle;\n",
       "    }\n",
       "\n",
       "    .dataframe tbody tr th {\n",
       "        vertical-align: top;\n",
       "    }\n",
       "\n",
       "    .dataframe thead th {\n",
       "        text-align: right;\n",
       "    }\n",
       "</style>\n",
       "<table border=\"1\" class=\"dataframe\">\n",
       "  <thead>\n",
       "    <tr style=\"text-align: right;\">\n",
       "      <th></th>\n",
       "      <th>RegionName</th>\n",
       "      <th>value</th>\n",
       "      <th>year_2</th>\n",
       "      <th>year_5</th>\n",
       "      <th>year_10</th>\n",
       "      <th>std</th>\n",
       "    </tr>\n",
       "    <tr>\n",
       "      <th>time</th>\n",
       "      <th></th>\n",
       "      <th></th>\n",
       "      <th></th>\n",
       "      <th></th>\n",
       "      <th></th>\n",
       "      <th></th>\n",
       "    </tr>\n",
       "  </thead>\n",
       "  <tbody>\n",
       "    <tr>\n",
       "      <th>2017-12-31</th>\n",
       "      <td>77547</td>\n",
       "      <td>83766.666667</td>\n",
       "      <td>0.228400</td>\n",
       "      <td>0.321414</td>\n",
       "      <td>0.071185</td>\n",
       "      <td>12179.944151</td>\n",
       "    </tr>\n",
       "    <tr>\n",
       "      <th>2018-12-31</th>\n",
       "      <td>77547</td>\n",
       "      <td>81450.000000</td>\n",
       "      <td>0.008669</td>\n",
       "      <td>0.215218</td>\n",
       "      <td>0.097462</td>\n",
       "      <td>12179.944151</td>\n",
       "    </tr>\n",
       "  </tbody>\n",
       "</table>\n",
       "</div>"
      ],
      "text/plain": [
       "            RegionName         value    year_2    year_5   year_10  \\\n",
       "time                                                                 \n",
       "2017-12-31       77547  83766.666667  0.228400  0.321414  0.071185   \n",
       "2018-12-31       77547  81450.000000  0.008669  0.215218  0.097462   \n",
       "\n",
       "                     std  \n",
       "time                      \n",
       "2017-12-31  12179.944151  \n",
       "2018-12-31  12179.944151  "
      ]
     },
     "execution_count": 34,
     "metadata": {},
     "output_type": "execute_result"
    }
   ],
   "source": [
    "harris_dict_annual[77547].tail(2)"
   ]
  },
  {
   "cell_type": "code",
   "execution_count": 35,
   "metadata": {
    "ExecuteTime": {
     "end_time": "2021-06-12T16:12:23.538815Z",
     "start_time": "2021-06-12T16:12:22.629955Z"
    }
   },
   "outputs": [],
   "source": [
    "harris_comparison = {}\n",
    "for zip_ in harris_zips:\n",
    "    for zip_, vals in harris_dict_annual.items():\n",
    "        harris_comparison[zip_] = harris_dict_annual[zip_].iloc[-1]   "
   ]
  },
  {
   "cell_type": "code",
   "execution_count": 36,
   "metadata": {
    "ExecuteTime": {
     "end_time": "2021-06-12T16:12:23.546174Z",
     "start_time": "2021-06-12T16:12:23.539864Z"
    }
   },
   "outputs": [],
   "source": [
    "df_harris_pct = pd.DataFrame(harris_comparison).T"
   ]
  },
  {
   "cell_type": "code",
   "execution_count": 37,
   "metadata": {
    "ExecuteTime": {
     "end_time": "2021-06-12T16:12:25.132794Z",
     "start_time": "2021-06-12T16:12:25.124718Z"
    }
   },
   "outputs": [],
   "source": [
    "df_harris_pct.drop(columns=['RegionName'], axis=1, inplace=True)"
   ]
  },
  {
   "cell_type": "code",
   "execution_count": 38,
   "metadata": {
    "ExecuteTime": {
     "end_time": "2021-06-12T16:12:25.970624Z",
     "start_time": "2021-06-12T16:12:25.946144Z"
    }
   },
   "outputs": [
    {
     "data": {
      "text/html": [
       "<div>\n",
       "<style scoped>\n",
       "    .dataframe tbody tr th:only-of-type {\n",
       "        vertical-align: middle;\n",
       "    }\n",
       "\n",
       "    .dataframe tbody tr th {\n",
       "        vertical-align: top;\n",
       "    }\n",
       "\n",
       "    .dataframe thead th {\n",
       "        text-align: right;\n",
       "    }\n",
       "</style>\n",
       "<table border=\"1\" class=\"dataframe\">\n",
       "  <thead>\n",
       "    <tr style=\"text-align: right;\">\n",
       "      <th></th>\n",
       "      <th>value</th>\n",
       "      <th>year_2</th>\n",
       "      <th>year_5</th>\n",
       "      <th>year_10</th>\n",
       "      <th>std</th>\n",
       "    </tr>\n",
       "  </thead>\n",
       "  <tbody>\n",
       "    <tr>\n",
       "      <th>77087</th>\n",
       "      <td>128050.0</td>\n",
       "      <td>0.364048</td>\n",
       "      <td>0.577456</td>\n",
       "      <td>0.391470</td>\n",
       "      <td>18023.531817</td>\n",
       "    </tr>\n",
       "    <tr>\n",
       "      <th>77021</th>\n",
       "      <td>121825.0</td>\n",
       "      <td>0.345761</td>\n",
       "      <td>0.671889</td>\n",
       "      <td>0.429032</td>\n",
       "      <td>17555.780514</td>\n",
       "    </tr>\n",
       "    <tr>\n",
       "      <th>77020</th>\n",
       "      <td>100500.0</td>\n",
       "      <td>0.300550</td>\n",
       "      <td>0.501868</td>\n",
       "      <td>0.413005</td>\n",
       "      <td>12807.817599</td>\n",
       "    </tr>\n",
       "    <tr>\n",
       "      <th>77016</th>\n",
       "      <td>98525.0</td>\n",
       "      <td>0.295813</td>\n",
       "      <td>0.510927</td>\n",
       "      <td>0.345510</td>\n",
       "      <td>13768.180076</td>\n",
       "    </tr>\n",
       "    <tr>\n",
       "      <th>77039</th>\n",
       "      <td>120600.0</td>\n",
       "      <td>0.275853</td>\n",
       "      <td>0.520328</td>\n",
       "      <td>0.263378</td>\n",
       "      <td>16677.544605</td>\n",
       "    </tr>\n",
       "    <tr>\n",
       "      <th>...</th>\n",
       "      <td>...</td>\n",
       "      <td>...</td>\n",
       "      <td>...</td>\n",
       "      <td>...</td>\n",
       "      <td>...</td>\n",
       "    </tr>\n",
       "    <tr>\n",
       "      <th>77096</th>\n",
       "      <td>364250.0</td>\n",
       "      <td>0.002086</td>\n",
       "      <td>0.289495</td>\n",
       "      <td>0.440862</td>\n",
       "      <td>49879.126698</td>\n",
       "    </tr>\n",
       "    <tr>\n",
       "      <th>77494</th>\n",
       "      <td>325250.0</td>\n",
       "      <td>-0.006365</td>\n",
       "      <td>0.232669</td>\n",
       "      <td>0.305569</td>\n",
       "      <td>39115.814995</td>\n",
       "    </tr>\n",
       "    <tr>\n",
       "      <th>77054</th>\n",
       "      <td>273675.0</td>\n",
       "      <td>-0.023113</td>\n",
       "      <td>0.244119</td>\n",
       "      <td>0.248565</td>\n",
       "      <td>28073.759730</td>\n",
       "    </tr>\n",
       "    <tr>\n",
       "      <th>77094</th>\n",
       "      <td>373425.0</td>\n",
       "      <td>-0.037234</td>\n",
       "      <td>0.234599</td>\n",
       "      <td>0.431341</td>\n",
       "      <td>49965.352986</td>\n",
       "    </tr>\n",
       "    <tr>\n",
       "      <th>77057</th>\n",
       "      <td>554650.0</td>\n",
       "      <td>-0.051056</td>\n",
       "      <td>0.213256</td>\n",
       "      <td>0.145734</td>\n",
       "      <td>55363.410606</td>\n",
       "    </tr>\n",
       "  </tbody>\n",
       "</table>\n",
       "<p>121 rows × 5 columns</p>\n",
       "</div>"
      ],
      "text/plain": [
       "          value    year_2    year_5   year_10           std\n",
       "77087  128050.0  0.364048  0.577456  0.391470  18023.531817\n",
       "77021  121825.0  0.345761  0.671889  0.429032  17555.780514\n",
       "77020  100500.0  0.300550  0.501868  0.413005  12807.817599\n",
       "77016   98525.0  0.295813  0.510927  0.345510  13768.180076\n",
       "77039  120600.0  0.275853  0.520328  0.263378  16677.544605\n",
       "...         ...       ...       ...       ...           ...\n",
       "77096  364250.0  0.002086  0.289495  0.440862  49879.126698\n",
       "77494  325250.0 -0.006365  0.232669  0.305569  39115.814995\n",
       "77054  273675.0 -0.023113  0.244119  0.248565  28073.759730\n",
       "77094  373425.0 -0.037234  0.234599  0.431341  49965.352986\n",
       "77057  554650.0 -0.051056  0.213256  0.145734  55363.410606\n",
       "\n",
       "[121 rows x 5 columns]"
      ]
     },
     "execution_count": 38,
     "metadata": {},
     "output_type": "execute_result"
    }
   ],
   "source": [
    "df_harris_pct.sort_values('year_2', ascending=False)"
   ]
  },
  {
   "cell_type": "code",
   "execution_count": 25,
   "metadata": {
    "ExecuteTime": {
     "end_time": "2021-06-12T16:07:10.308494Z",
     "start_time": "2021-06-12T16:07:10.304623Z"
    }
   },
   "outputs": [],
   "source": [
    "# Formula for assessing growth rate ranking as follows: 40% - 2, 35% - 5, 25% - 10"
   ]
  },
  {
   "cell_type": "code",
   "execution_count": 40,
   "metadata": {
    "ExecuteTime": {
     "end_time": "2021-06-12T16:13:02.605914Z",
     "start_time": "2021-06-12T16:13:02.599976Z"
    }
   },
   "outputs": [],
   "source": [
    "df_harris_pct['total'] = df_harris_pct['year_2']*(0.4)+df_harris_pct['year_5']*(0.35)+df_harris_pct['year_10']*(0.25)"
   ]
  },
  {
   "cell_type": "code",
   "execution_count": 56,
   "metadata": {
    "ExecuteTime": {
     "end_time": "2021-06-12T16:29:34.694077Z",
     "start_time": "2021-06-12T16:29:34.684245Z"
    }
   },
   "outputs": [],
   "source": [
    "harris_top10 = list(df_harris_pct.sort_values(by='total', ascending=False).nlargest(columns='total',n=10).index)"
   ]
  },
  {
   "cell_type": "code",
   "execution_count": 47,
   "metadata": {
    "ExecuteTime": {
     "end_time": "2021-06-12T16:21:19.326417Z",
     "start_time": "2021-06-12T16:21:19.189626Z"
    }
   },
   "outputs": [
    {
     "data": {
      "text/plain": [
       "<AxesSubplot:xlabel='time'>"
      ]
     },
     "execution_count": 47,
     "metadata": {},
     "output_type": "execute_result"
    },
    {
     "data": {
      "image/png": "[encoded data removed]",
      "text/plain": [
       "<Figure size 432x288 with 1 Axes>"
      ]
     },
     "metadata": {
      "needs_background": "light"
     },
     "output_type": "display_data"
    }
   ],
   "source": [
    "harris_dict_full[77494]['value'].plot()"
   ]
  },
  {
   "cell_type": "code",
   "execution_count": 136,
   "metadata": {
    "ExecuteTime": {
     "end_time": "2021-06-12T17:19:41.381278Z",
     "start_time": "2021-06-12T17:19:41.264771Z"
    }
   },
   "outputs": [
    {
     "data": {
      "text/plain": [
       "[<matplotlib.lines.Line2D at 0x7fbb8a2c88e0>,\n",
       " <matplotlib.lines.Line2D at 0x7fbb481522b0>]"
      ]
     },
     "execution_count": 136,
     "metadata": {},
     "output_type": "execute_result"
    },
    {
     "data": {
      "image/png": "[encoded data removed]",
      "text/plain": [
       "<Figure size 864x360 with 1 Axes>"
      ]
     },
     "metadata": {
      "needs_background": "light"
     },
     "output_type": "display_data"
    }
   ],
   "source": [
    "fig, ax = plt.subplots(figsize=(12,5))\n",
    "ax.plot(harris_dict_full[77494], label=code)"
   ]
  },
  {
   "cell_type": "markdown",
   "metadata": {},
   "source": [
    "Housing prices seem very resiliant through 2008"
   ]
  },
  {
   "cell_type": "code",
   "execution_count": 58,
   "metadata": {
    "ExecuteTime": {
     "end_time": "2021-06-12T16:29:38.848131Z",
     "start_time": "2021-06-12T16:29:38.842512Z"
    }
   },
   "outputs": [
    {
     "data": {
      "text/plain": [
       "[77092, 77021, 77043, 77080, 77087, 77530, 77020, 77016, 77506, 77074]"
      ]
     },
     "execution_count": 58,
     "metadata": {},
     "output_type": "execute_result"
    }
   ],
   "source": [
    "harris_top10"
   ]
  },
  {
   "cell_type": "code",
   "execution_count": 137,
   "metadata": {
    "ExecuteTime": {
     "end_time": "2021-06-12T17:20:57.657824Z",
     "start_time": "2021-06-12T17:20:57.455035Z"
    }
   },
   "outputs": [
    {
     "data": {
      "image/png": "[encoded data removed]",
      "text/plain": [
       "<Figure size 864x504 with 1 Axes>"
      ]
     },
     "metadata": {
      "needs_background": "light"
     },
     "output_type": "display_data"
    }
   ],
   "source": [
    "import matplotlib.pyplot as plt\n",
    "fig, ax = plt.subplots(figsize=(12,7))\n",
    "for code in harris_top10:\n",
    "    ax.plot(harris_dict_full[code]['value'], label=code)\n",
    "    ax.legend()"
   ]
  },
  {
   "cell_type": "markdown",
   "metadata": {},
   "source": [
    "- Measure how quick each zip recovered from tech boom\n",
    "- Measure how quick each zip recovered from 08 bust"
   ]
  },
  {
   "cell_type": "markdown",
   "metadata": {},
   "source": [
    "## Housing Bust Finder"
   ]
  },
  {
   "cell_type": "markdown",
   "metadata": {},
   "source": [
    "Classifying dotcom bust as 1999 to June 2001"
   ]
  },
  {
   "cell_type": "code",
   "execution_count": 144,
   "metadata": {
    "ExecuteTime": {
     "end_time": "2021-06-12T18:56:45.883977Z",
     "start_time": "2021-06-12T18:56:45.839062Z"
    }
   },
   "outputs": [],
   "source": [
    "df_77092 = harris_dict_full[77092].copy()"
   ]
  },
  {
   "cell_type": "code",
   "execution_count": 160,
   "metadata": {
    "ExecuteTime": {
     "end_time": "2021-06-12T19:01:29.490166Z",
     "start_time": "2021-06-12T19:01:29.467057Z"
    }
   },
   "outputs": [
    {
     "name": "stdout",
     "output_type": "stream",
     "text": [
      "1999-09-01 00:00:00\n"
     ]
    },
    {
     "data": {
      "text/plain": [
       "112500.0"
      ]
     },
     "execution_count": 160,
     "metadata": {},
     "output_type": "execute_result"
    }
   ],
   "source": [
    "print(df_77092['1999-01-01':'2001-06-01']['value'].idxmin())\n",
    "df_77092['1999-01-01':'2001-06-01']['value'].min()"
   ]
  },
  {
   "cell_type": "code",
   "execution_count": 253,
   "metadata": {
    "ExecuteTime": {
     "end_time": "2021-06-12T19:49:30.727030Z",
     "start_time": "2021-06-12T19:49:30.709495Z"
    }
   },
   "outputs": [
    {
     "data": {
      "text/plain": [
       "63100.0"
      ]
     },
     "execution_count": 253,
     "metadata": {},
     "output_type": "execute_result"
    }
   ],
   "source": [
    "# min_val_idx =harris_dict_full[77021]['1999-01-01':'2001-01-01']['value'].idxmin()\n",
    "min_value = harris_dict_full[77032]['1999-01-01':'2001-06-01']['value'].min()\n",
    "min_value"
   ]
  },
  {
   "cell_type": "code",
   "execution_count": 256,
   "metadata": {
    "ExecuteTime": {
     "end_time": "2021-06-12T19:51:07.505622Z",
     "start_time": "2021-06-12T19:51:07.365919Z"
    }
   },
   "outputs": [
    {
     "data": {
      "text/plain": [
       "<AxesSubplot:xlabel='time'>"
      ]
     },
     "execution_count": 256,
     "metadata": {},
     "output_type": "execute_result"
    },
    {
     "data": {
      "image/png": "[encoded data removed]",
      "text/plain": [
       "<Figure size 432x288 with 1 Axes>"
      ]
     },
     "metadata": {
      "needs_background": "light"
     },
     "output_type": "display_data"
    }
   ],
   "source": [
    "harris_dict_full[77032]['value']['2000-01-01':'2002-01-01'].plot()"
   ]
  },
  {
   "cell_type": "code",
   "execution_count": 190,
   "metadata": {
    "ExecuteTime": {
     "end_time": "2021-06-12T19:17:53.821243Z",
     "start_time": "2021-06-12T19:17:53.802089Z"
    }
   },
   "outputs": [
    {
     "data": {
      "text/plain": [
       "Timestamp('2001-06-01 00:00:00')"
      ]
     },
     "execution_count": 190,
     "metadata": {},
     "output_type": "execute_result"
    }
   ],
   "source": [
    "min_value_after=(harris_dict_full[77021]['2001-06-01':]['value']>=min_value).idxmin()\n",
    "min_value_after"
   ]
  },
  {
   "cell_type": "code",
   "execution_count": 199,
   "metadata": {
    "ExecuteTime": {
     "end_time": "2021-06-12T19:23:11.438616Z",
     "start_time": "2021-06-12T19:23:11.430584Z"
    }
   },
   "outputs": [
    {
     "data": {
      "text/plain": [
       "212"
      ]
     },
     "execution_count": 199,
     "metadata": {},
     "output_type": "execute_result"
    }
   ],
   "source": [
    "# Took 212 days to recover\n",
    "td = min_value_after-min_val_idx\n",
    "td.days"
   ]
  },
  {
   "cell_type": "markdown",
   "metadata": {},
   "source": [
    "Fix to match housing bust boom graph"
   ]
  },
  {
   "cell_type": "code",
   "execution_count": 374,
   "metadata": {
    "ExecuteTime": {
     "end_time": "2021-06-12T21:04:05.527009Z",
     "start_time": "2021-06-12T21:03:41.599740Z"
    }
   },
   "outputs": [],
   "source": [
    "harris_recover_dotcom = {}\n",
    "for zip_ in harris_zips:\n",
    "    for zip_, vals in harris_dict_full.items():\n",
    "        idx_max_pre = harris_dict_full[zip_]['1999-01-01':'2001-06-01']['value'].idxmax()\n",
    "        val_max_pre = harris_dict_full[zip_]['2000-01-01':'2001-06-01']['value'].max()\n",
    "        idx_max_post=(harris_dict_full[zip_]['2001-07-01':]['value']>=val_max_pre).idxmax()\n",
    "        td = idx_max_post - idx_max_pre\n",
    "        days = td.days\n",
    "        harris_recover_dotcom[zip_]=days"
   ]
  },
  {
   "cell_type": "code",
   "execution_count": 375,
   "metadata": {
    "ExecuteTime": {
     "end_time": "2021-06-12T21:04:07.627841Z",
     "start_time": "2021-06-12T21:04:07.619750Z"
    }
   },
   "outputs": [],
   "source": [
    "test=pd.Series(data=harris_recover_dotcom, index=harris_recover_dotcom.keys()).sort_values()"
   ]
  },
  {
   "cell_type": "code",
   "execution_count": 376,
   "metadata": {
    "ExecuteTime": {
     "end_time": "2021-06-12T21:04:08.132114Z",
     "start_time": "2021-06-12T21:04:08.119883Z"
    }
   },
   "outputs": [
    {
     "data": {
      "text/html": [
       "<div>\n",
       "<style scoped>\n",
       "    .dataframe tbody tr th:only-of-type {\n",
       "        vertical-align: middle;\n",
       "    }\n",
       "\n",
       "    .dataframe tbody tr th {\n",
       "        vertical-align: top;\n",
       "    }\n",
       "\n",
       "    .dataframe thead th {\n",
       "        text-align: right;\n",
       "    }\n",
       "</style>\n",
       "<table border=\"1\" class=\"dataframe\">\n",
       "  <thead>\n",
       "    <tr style=\"text-align: right;\">\n",
       "      <th></th>\n",
       "      <th>0</th>\n",
       "    </tr>\n",
       "  </thead>\n",
       "  <tbody>\n",
       "    <tr>\n",
       "      <th>77502</th>\n",
       "      <td>30</td>\n",
       "    </tr>\n",
       "    <tr>\n",
       "      <th>77074</th>\n",
       "      <td>30</td>\n",
       "    </tr>\n",
       "    <tr>\n",
       "      <th>77073</th>\n",
       "      <td>30</td>\n",
       "    </tr>\n",
       "    <tr>\n",
       "      <th>77034</th>\n",
       "      <td>30</td>\n",
       "    </tr>\n",
       "    <tr>\n",
       "      <th>77598</th>\n",
       "      <td>30</td>\n",
       "    </tr>\n",
       "    <tr>\n",
       "      <th>...</th>\n",
       "      <td>...</td>\n",
       "    </tr>\n",
       "    <tr>\n",
       "      <th>77054</th>\n",
       "      <td>2282</td>\n",
       "    </tr>\n",
       "    <tr>\n",
       "      <th>77008</th>\n",
       "      <td>2341</td>\n",
       "    </tr>\n",
       "    <tr>\n",
       "      <th>77018</th>\n",
       "      <td>4472</td>\n",
       "    </tr>\n",
       "    <tr>\n",
       "      <th>77003</th>\n",
       "      <td>4536</td>\n",
       "    </tr>\n",
       "    <tr>\n",
       "      <th>77494</th>\n",
       "      <td>5814</td>\n",
       "    </tr>\n",
       "  </tbody>\n",
       "</table>\n",
       "<p>121 rows × 1 columns</p>\n",
       "</div>"
      ],
      "text/plain": [
       "          0\n",
       "77502    30\n",
       "77074    30\n",
       "77073    30\n",
       "77034    30\n",
       "77598    30\n",
       "...     ...\n",
       "77054  2282\n",
       "77008  2341\n",
       "77018  4472\n",
       "77003  4536\n",
       "77494  5814\n",
       "\n",
       "[121 rows x 1 columns]"
      ]
     },
     "execution_count": 376,
     "metadata": {},
     "output_type": "execute_result"
    }
   ],
   "source": [
    "pd.DataFrame(test)"
   ]
  },
  {
   "cell_type": "code",
   "execution_count": 377,
   "metadata": {
    "ExecuteTime": {
     "end_time": "2021-06-12T21:04:09.542486Z",
     "start_time": "2021-06-12T21:04:09.535175Z"
    }
   },
   "outputs": [],
   "source": [
    "harris_recover_dotcom_counts={}\n",
    "for k, v in harris_recover_dotcom.items():\n",
    "    if v in harris_recover_dotcom_counts.keys():\n",
    "        harris_recover_dotcom_counts[v] +=1\n",
    "    else:\n",
    "        harris_recover_dotcom_counts[v] = 1"
   ]
  },
  {
   "cell_type": "code",
   "execution_count": 378,
   "metadata": {
    "ExecuteTime": {
     "end_time": "2021-06-12T21:04:10.144372Z",
     "start_time": "2021-06-12T21:04:10.136904Z"
    }
   },
   "outputs": [],
   "source": [
    "dotcom_recovery = pd.Series(harris_recover_dotcom_counts).sort_values(ascending=False)"
   ]
  },
  {
   "cell_type": "code",
   "execution_count": 379,
   "metadata": {
    "ExecuteTime": {
     "end_time": "2021-06-12T21:04:11.327462Z",
     "start_time": "2021-06-12T21:04:10.791734Z"
    }
   },
   "outputs": [
    {
     "data": {
      "text/plain": [
       "<AxesSubplot:>"
      ]
     },
     "execution_count": 379,
     "metadata": {},
     "output_type": "execute_result"
    },
    {
     "data": {
      "image/png": "[encoded data removed]",
      "text/plain": [
       "<Figure size 432x288 with 1 Axes>"
      ]
     },
     "metadata": {
      "needs_background": "light"
     },
     "output_type": "display_data"
    }
   ],
   "source": [
    "dotcom_recovery.plot(kind='bar')"
   ]
  },
  {
   "cell_type": "code",
   "execution_count": 383,
   "metadata": {
    "ExecuteTime": {
     "end_time": "2021-06-12T21:05:58.284571Z",
     "start_time": "2021-06-12T21:05:34.253967Z"
    }
   },
   "outputs": [],
   "source": [
    "harris_recover_housing = {}\n",
    "for zip_ in harris_zips:\n",
    "    for zip_, vals in harris_dict_full.items():\n",
    "        idx_max_pre = harris_dict_full[zip_]['2005-01-01':'2008-12-31']['value'].idxmax()\n",
    "        val_max_pre = harris_dict_full[zip_]['2005-01-01':'2008-12-31']['value'].max()\n",
    "        idx_max_post=(harris_dict_full[zip_]['2008-12-30':]['value']>=val_max_pre).idxmax()\n",
    "        td = idx_max_post - idx_max_pre\n",
    "        days = td.days\n",
    "        harris_recover_housing[zip_]=days"
   ]
  },
  {
   "cell_type": "code",
   "execution_count": 384,
   "metadata": {
    "ExecuteTime": {
     "end_time": "2021-06-12T21:05:58.289203Z",
     "start_time": "2021-06-12T21:05:58.285574Z"
    }
   },
   "outputs": [
    {
     "data": {
      "text/plain": [
       "{77494: 1797,\n",
       " 77084: 2526,\n",
       " 77449: 2526,\n",
       " 77429: 2312,\n",
       " 77036: 2496,\n",
       " 77433: 2039,\n",
       " 77077: 1155,\n",
       " 77379: 2162,\n",
       " 77095: 2100,\n",
       " 77082: 2861,\n",
       " 77057: 2435,\n",
       " 77007: 2070,\n",
       " 77521: 2708,\n",
       " 77346: 2192,\n",
       " 77070: 2373,\n",
       " 77375: 2434,\n",
       " 77373: 2738,\n",
       " 77081: 1947,\n",
       " 77063: 2557,\n",
       " 77386: 1978,\n",
       " 77042: 2069,\n",
       " 77072: 3135,\n",
       " 77015: 2983,\n",
       " 77396: 3073,\n",
       " 77008: 2039,\n",
       " 77040: 2740,\n",
       " 77089: 2739,\n",
       " 77339: 2162,\n",
       " 77088: 2952,\n",
       " 77099: 2953,\n",
       " 77090: 2677,\n",
       " 77388: 2343,\n",
       " 77024: 1978,\n",
       " 77064: 2680,\n",
       " 77004: 2983,\n",
       " 77080: 670,\n",
       " 77055: 1827,\n",
       " 77044: 3134,\n",
       " 77060: 3622,\n",
       " 77338: 2769,\n",
       " 77096: 640,\n",
       " 77065: 2557,\n",
       " 77035: 31,\n",
       " 77054: 2070,\n",
       " 77092: 2039,\n",
       " 77074: 2738,\n",
       " 77006: 31,\n",
       " 77056: 2100,\n",
       " 77520: 3135,\n",
       " 77377: 2039,\n",
       " 77571: 2677,\n",
       " 77073: 2983,\n",
       " 77079: 1613,\n",
       " 77025: 1978,\n",
       " 77034: 2922,\n",
       " 77093: 3258,\n",
       " 77019: 2223,\n",
       " 77075: 3043,\n",
       " 77598: 731,\n",
       " 77536: 2557,\n",
       " 77502: 2738,\n",
       " 77018: 31,\n",
       " 77532: 2527,\n",
       " 77041: 2618,\n",
       " 77014: 3074,\n",
       " 77027: 701,\n",
       " 77506: 3105,\n",
       " 77493: 2101,\n",
       " 77087: 3288,\n",
       " 77021: 31,\n",
       " 77049: 2708,\n",
       " 77586: 2557,\n",
       " 77047: 3014,\n",
       " 77091: 3257,\n",
       " 77017: 3349,\n",
       " 77067: 3318,\n",
       " 77066: 2769,\n",
       " 77005: 1978,\n",
       " 77530: 2739,\n",
       " 77071: 3257,\n",
       " 77016: 3226,\n",
       " 77062: 548,\n",
       " 77045: 3226,\n",
       " 77058: 2496,\n",
       " 77098: 2131,\n",
       " 77043: 1127,\n",
       " 77033: 3104,\n",
       " 77345: 672,\n",
       " 77061: 2800,\n",
       " 77504: 2434,\n",
       " 77053: 3196,\n",
       " 77020: 3379,\n",
       " 77503: 2830,\n",
       " 77038: 3318,\n",
       " 77505: 700,\n",
       " 77069: 2284,\n",
       " 77523: 1889,\n",
       " 77086: 2648,\n",
       " 77039: 3318,\n",
       " 77030: 517,\n",
       " 77051: 3014,\n",
       " 77031: 3075,\n",
       " 77028: 3410,\n",
       " 77401: 670,\n",
       " 77048: 3227,\n",
       " 77013: 3044,\n",
       " 77029: 3165,\n",
       " 77059: 2343,\n",
       " 77002: 2312,\n",
       " 77447: 2981,\n",
       " 77587: 3349,\n",
       " 77037: 3166,\n",
       " 77085: 2983,\n",
       " 77003: 2161,\n",
       " 77078: 3319,\n",
       " 77068: 2374,\n",
       " 77562: 2557,\n",
       " 77032: 3227,\n",
       " 77094: 731,\n",
       " 77547: 3561,\n",
       " 77050: 3074}"
      ]
     },
     "execution_count": 384,
     "metadata": {},
     "output_type": "execute_result"
    }
   ],
   "source": [
    "harris_recover_housing"
   ]
  },
  {
   "cell_type": "code",
   "execution_count": null,
   "metadata": {},
   "outputs": [],
   "source": [
    "# Verification of ^ Results"
   ]
  },
  {
   "cell_type": "code",
   "execution_count": null,
   "metadata": {},
   "outputs": [],
   "source": [
    "# Look into correlation of results between two different bust cycles as % change values"
   ]
  },
  {
   "cell_type": "code",
   "execution_count": 385,
   "metadata": {
    "ExecuteTime": {
     "end_time": "2021-06-12T21:06:31.320420Z",
     "start_time": "2021-06-12T21:06:31.181658Z"
    }
   },
   "outputs": [
    {
     "data": {
      "text/plain": [
       "<AxesSubplot:xlabel='time'>"
      ]
     },
     "execution_count": 385,
     "metadata": {},
     "output_type": "execute_result"
    },
    {
     "data": {
      "image/png": "[encoded data removed]",
      "text/plain": [
       "<Figure size 432x288 with 1 Axes>"
      ]
     },
     "metadata": {
      "needs_background": "light"
     },
     "output_type": "display_data"
    }
   ],
   "source": [
    "harris_dict_full[77521].plot()"
   ]
  },
  {
   "cell_type": "code",
   "execution_count": 364,
   "metadata": {
    "ExecuteTime": {
     "end_time": "2021-06-12T21:01:22.938753Z",
     "start_time": "2021-06-12T21:01:22.916587Z"
    }
   },
   "outputs": [
    {
     "name": "stdout",
     "output_type": "stream",
     "text": [
      "2007-11-01 00:00:00\n",
      "137400.0\n",
      "2014-10-01 00:00:00\n",
      "2526 days 00:00:00\n"
     ]
    },
    {
     "data": {
      "text/plain": [
       "2526"
      ]
     },
     "execution_count": 364,
     "metadata": {},
     "output_type": "execute_result"
    }
   ],
   "source": [
    "idx_max_pre = harris_dict_full[77449]['2005-01-01':'2008-12-31']['value'].idxmax()\n",
    "print(idx_max_pre)\n",
    "val_max_pre = harris_dict_full[77449]['2005-01-01':'2008-12-31']['value'].max()\n",
    "print(val_max_pre)\n",
    "idx_max_post=(harris_dict_full[77449]['2008-12-31':]['value']>=val_max_pre).idxmax()\n",
    "print(idx_max_post)\n",
    "td = idx_max_post - idx_max_pre\n",
    "print(td)\n",
    "days = td.days\n",
    "days"
   ]
  },
  {
   "cell_type": "code",
   "execution_count": 361,
   "metadata": {
    "ExecuteTime": {
     "end_time": "2021-06-12T21:00:11.369767Z",
     "start_time": "2021-06-12T21:00:11.358950Z"
    }
   },
   "outputs": [
    {
     "data": {
      "text/plain": [
       "Timestamp('2014-10-01 00:00:00')"
      ]
     },
     "execution_count": 361,
     "metadata": {},
     "output_type": "execute_result"
    }
   ],
   "source": [
    "(harris_dict_full[77449]['2008-12-31':]['value']>=137400.0).idxmax()"
   ]
  },
  {
   "cell_type": "code",
   "execution_count": 363,
   "metadata": {
    "ExecuteTime": {
     "end_time": "2021-06-12T21:01:08.849457Z",
     "start_time": "2021-06-12T21:01:08.827401Z"
    }
   },
   "outputs": [
    {
     "data": {
      "text/html": [
       "<div>\n",
       "<style scoped>\n",
       "    .dataframe tbody tr th:only-of-type {\n",
       "        vertical-align: middle;\n",
       "    }\n",
       "\n",
       "    .dataframe tbody tr th {\n",
       "        vertical-align: top;\n",
       "    }\n",
       "\n",
       "    .dataframe thead th {\n",
       "        text-align: right;\n",
       "    }\n",
       "</style>\n",
       "<table border=\"1\" class=\"dataframe\">\n",
       "  <thead>\n",
       "    <tr style=\"text-align: right;\">\n",
       "      <th></th>\n",
       "      <th>RegionName</th>\n",
       "      <th>value</th>\n",
       "    </tr>\n",
       "    <tr>\n",
       "      <th>time</th>\n",
       "      <th></th>\n",
       "      <th></th>\n",
       "    </tr>\n",
       "  </thead>\n",
       "  <tbody>\n",
       "    <tr>\n",
       "      <th>2014-01-01</th>\n",
       "      <td>77449</td>\n",
       "      <td>128300.0</td>\n",
       "    </tr>\n",
       "    <tr>\n",
       "      <th>2014-02-01</th>\n",
       "      <td>77449</td>\n",
       "      <td>129100.0</td>\n",
       "    </tr>\n",
       "    <tr>\n",
       "      <th>2014-03-01</th>\n",
       "      <td>77449</td>\n",
       "      <td>130000.0</td>\n",
       "    </tr>\n",
       "    <tr>\n",
       "      <th>2014-04-01</th>\n",
       "      <td>77449</td>\n",
       "      <td>131200.0</td>\n",
       "    </tr>\n",
       "    <tr>\n",
       "      <th>2014-05-01</th>\n",
       "      <td>77449</td>\n",
       "      <td>132500.0</td>\n",
       "    </tr>\n",
       "    <tr>\n",
       "      <th>2014-06-01</th>\n",
       "      <td>77449</td>\n",
       "      <td>133600.0</td>\n",
       "    </tr>\n",
       "    <tr>\n",
       "      <th>2014-07-01</th>\n",
       "      <td>77449</td>\n",
       "      <td>134500.0</td>\n",
       "    </tr>\n",
       "    <tr>\n",
       "      <th>2014-08-01</th>\n",
       "      <td>77449</td>\n",
       "      <td>135400.0</td>\n",
       "    </tr>\n",
       "    <tr>\n",
       "      <th>2014-09-01</th>\n",
       "      <td>77449</td>\n",
       "      <td>136500.0</td>\n",
       "    </tr>\n",
       "    <tr>\n",
       "      <th>2014-10-01</th>\n",
       "      <td>77449</td>\n",
       "      <td>137700.0</td>\n",
       "    </tr>\n",
       "    <tr>\n",
       "      <th>2014-11-01</th>\n",
       "      <td>77449</td>\n",
       "      <td>138900.0</td>\n",
       "    </tr>\n",
       "    <tr>\n",
       "      <th>2014-12-01</th>\n",
       "      <td>77449</td>\n",
       "      <td>140100.0</td>\n",
       "    </tr>\n",
       "    <tr>\n",
       "      <th>2015-01-01</th>\n",
       "      <td>77449</td>\n",
       "      <td>141000.0</td>\n",
       "    </tr>\n",
       "    <tr>\n",
       "      <th>2015-02-01</th>\n",
       "      <td>77449</td>\n",
       "      <td>142000.0</td>\n",
       "    </tr>\n",
       "    <tr>\n",
       "      <th>2015-03-01</th>\n",
       "      <td>77449</td>\n",
       "      <td>143200.0</td>\n",
       "    </tr>\n",
       "    <tr>\n",
       "      <th>2015-04-01</th>\n",
       "      <td>77449</td>\n",
       "      <td>144600.0</td>\n",
       "    </tr>\n",
       "    <tr>\n",
       "      <th>2015-05-01</th>\n",
       "      <td>77449</td>\n",
       "      <td>146000.0</td>\n",
       "    </tr>\n",
       "    <tr>\n",
       "      <th>2015-06-01</th>\n",
       "      <td>77449</td>\n",
       "      <td>147100.0</td>\n",
       "    </tr>\n",
       "    <tr>\n",
       "      <th>2015-07-01</th>\n",
       "      <td>77449</td>\n",
       "      <td>148400.0</td>\n",
       "    </tr>\n",
       "    <tr>\n",
       "      <th>2015-08-01</th>\n",
       "      <td>77449</td>\n",
       "      <td>149700.0</td>\n",
       "    </tr>\n",
       "    <tr>\n",
       "      <th>2015-09-01</th>\n",
       "      <td>77449</td>\n",
       "      <td>151200.0</td>\n",
       "    </tr>\n",
       "    <tr>\n",
       "      <th>2015-10-01</th>\n",
       "      <td>77449</td>\n",
       "      <td>152300.0</td>\n",
       "    </tr>\n",
       "    <tr>\n",
       "      <th>2015-11-01</th>\n",
       "      <td>77449</td>\n",
       "      <td>153100.0</td>\n",
       "    </tr>\n",
       "    <tr>\n",
       "      <th>2015-12-01</th>\n",
       "      <td>77449</td>\n",
       "      <td>154200.0</td>\n",
       "    </tr>\n",
       "  </tbody>\n",
       "</table>\n",
       "</div>"
      ],
      "text/plain": [
       "            RegionName     value\n",
       "time                            \n",
       "2014-01-01       77449  128300.0\n",
       "2014-02-01       77449  129100.0\n",
       "2014-03-01       77449  130000.0\n",
       "2014-04-01       77449  131200.0\n",
       "2014-05-01       77449  132500.0\n",
       "2014-06-01       77449  133600.0\n",
       "2014-07-01       77449  134500.0\n",
       "2014-08-01       77449  135400.0\n",
       "2014-09-01       77449  136500.0\n",
       "2014-10-01       77449  137700.0\n",
       "2014-11-01       77449  138900.0\n",
       "2014-12-01       77449  140100.0\n",
       "2015-01-01       77449  141000.0\n",
       "2015-02-01       77449  142000.0\n",
       "2015-03-01       77449  143200.0\n",
       "2015-04-01       77449  144600.0\n",
       "2015-05-01       77449  146000.0\n",
       "2015-06-01       77449  147100.0\n",
       "2015-07-01       77449  148400.0\n",
       "2015-08-01       77449  149700.0\n",
       "2015-09-01       77449  151200.0\n",
       "2015-10-01       77449  152300.0\n",
       "2015-11-01       77449  153100.0\n",
       "2015-12-01       77449  154200.0"
      ]
     },
     "execution_count": 363,
     "metadata": {},
     "output_type": "execute_result"
    }
   ],
   "source": [
    "harris_dict_full[77449]['2013-12-31':'2015-12-31']"
   ]
  },
  {
   "cell_type": "code",
   "execution_count": 331,
   "metadata": {
    "ExecuteTime": {
     "end_time": "2021-06-12T20:45:31.345742Z",
     "start_time": "2021-06-12T20:45:31.335508Z"
    }
   },
   "outputs": [],
   "source": [
    "housing_recover=pd.Series(harris_recover_housing).sort_values()"
   ]
  },
  {
   "cell_type": "code",
   "execution_count": 333,
   "metadata": {
    "ExecuteTime": {
     "end_time": "2021-06-12T20:46:27.506092Z",
     "start_time": "2021-06-12T20:46:27.497339Z"
    }
   },
   "outputs": [],
   "source": [
    "harris_recover_housing_counts={}\n",
    "for k, v in harris_recover_housing.items():\n",
    "    if v in harris_recover_housing_counts.keys():\n",
    "        harris_recover_housing_counts[v] +=1\n",
    "    else:\n",
    "        harris_recover_housing_counts[v] = 1"
   ]
  },
  {
   "cell_type": "code",
   "execution_count": 335,
   "metadata": {
    "ExecuteTime": {
     "end_time": "2021-06-12T20:46:57.887229Z",
     "start_time": "2021-06-12T20:46:57.868502Z"
    }
   },
   "outputs": [
    {
     "ename": "AttributeError",
     "evalue": "'dict' object has no attribute 'plot'",
     "output_type": "error",
     "traceback": [
      "\u001b[0;31m---------------------------------------------------------------------------\u001b[0m",
      "\u001b[0;31mAttributeError\u001b[0m                            Traceback (most recent call last)",
      "\u001b[0;32m<ipython-input-335-763bc41bb011>\u001b[0m in \u001b[0;36m<module>\u001b[0;34m\u001b[0m\n\u001b[0;32m----> 1\u001b[0;31m \u001b[0mharris_recover_housing_counts\u001b[0m\u001b[0;34m.\u001b[0m\u001b[0mplot\u001b[0m\u001b[0;34m(\u001b[0m\u001b[0mkind\u001b[0m\u001b[0;34m=\u001b[0m\u001b[0;34m'kde'\u001b[0m\u001b[0;34m)\u001b[0m\u001b[0;34m\u001b[0m\u001b[0;34m\u001b[0m\u001b[0m\n\u001b[0m",
      "\u001b[0;31mAttributeError\u001b[0m: 'dict' object has no attribute 'plot'"
     ]
    }
   ],
   "source": [
    "harris_recover_housing_counts.plot(kind='kde')"
   ]
  },
  {
   "cell_type": "code",
   "execution_count": 344,
   "metadata": {
    "ExecuteTime": {
     "end_time": "2021-06-12T20:48:24.630306Z",
     "start_time": "2021-06-12T20:48:24.622374Z"
    }
   },
   "outputs": [],
   "source": [
    "housing_recover=pd.Series(harris_recover_housing_counts).sort_values().T"
   ]
  },
  {
   "cell_type": "code",
   "execution_count": 345,
   "metadata": {
    "ExecuteTime": {
     "end_time": "2021-06-12T20:48:27.150313Z",
     "start_time": "2021-06-12T20:48:27.142663Z"
    }
   },
   "outputs": [
    {
     "data": {
      "text/plain": [
       "1065     1\n",
       "455      1\n",
       "851      1\n",
       "580      1\n",
       "700      1\n",
       "243      1\n",
       "1461     1\n",
       "731      1\n",
       "245      1\n",
       "214      1\n",
       "915      2\n",
       "1096     2\n",
       "550      2\n",
       "611      2\n",
       "762      2\n",
       "641      2\n",
       "792      2\n",
       "823      3\n",
       "519      7\n",
       "488      7\n",
       "366     10\n",
       "458     14\n",
       "397     20\n",
       "427     36\n",
       "dtype: int64"
      ]
     },
     "execution_count": 345,
     "metadata": {},
     "output_type": "execute_result"
    }
   ],
   "source": [
    "housing_recover"
   ]
  },
  {
   "cell_type": "code",
   "execution_count": 348,
   "metadata": {
    "ExecuteTime": {
     "end_time": "2021-06-12T20:53:25.917401Z",
     "start_time": "2021-06-12T20:53:25.908357Z"
    }
   },
   "outputs": [],
   "source": [
    "housing_recover=pd.Series(housing_recover.index.values, index=housing_recover )"
   ]
  },
  {
   "cell_type": "code",
   "execution_count": 349,
   "metadata": {
    "ExecuteTime": {
     "end_time": "2021-06-12T20:53:36.906678Z",
     "start_time": "2021-06-12T20:53:36.899025Z"
    }
   },
   "outputs": [
    {
     "data": {
      "text/plain": [
       "1     1065\n",
       "1      455\n",
       "1      851\n",
       "1      580\n",
       "1      700\n",
       "1      243\n",
       "1     1461\n",
       "1      731\n",
       "1      245\n",
       "1      214\n",
       "2      915\n",
       "2     1096\n",
       "2      550\n",
       "2      611\n",
       "2      762\n",
       "2      641\n",
       "2      792\n",
       "3      823\n",
       "7      519\n",
       "7      488\n",
       "10     366\n",
       "14     458\n",
       "20     397\n",
       "36     427\n",
       "dtype: int64"
      ]
     },
     "execution_count": 349,
     "metadata": {},
     "output_type": "execute_result"
    }
   ],
   "source": [
    "housing_recover"
   ]
  },
  {
   "cell_type": "code",
   "execution_count": 247,
   "metadata": {
    "ExecuteTime": {
     "end_time": "2021-06-12T19:47:15.405900Z",
     "start_time": "2021-06-12T19:47:15.388021Z"
    }
   },
   "outputs": [
    {
     "data": {
      "text/plain": [
       "517 days    0.644628\n",
       "151 days    0.231405\n",
       "182 days    0.024793\n",
       "486 days    0.024793\n",
       "273 days    0.016529\n",
       "365 days    0.008264\n",
       "304 days    0.008264\n",
       "335 days    0.008264\n",
       "426 days    0.008264\n",
       "457 days    0.008264\n",
       "212 days    0.008264\n",
       "243 days    0.008264\n",
       "Name: value, dtype: float64"
      ]
     },
     "execution_count": 247,
     "metadata": {},
     "output_type": "execute_result"
    }
   ],
   "source": [
    "df_dotcom_recovery['value'].value_counts(1)"
   ]
  },
  {
   "cell_type": "markdown",
   "metadata": {},
   "source": [
    "882 days in the difference between the beginning time and start time"
   ]
  },
  {
   "cell_type": "code",
   "execution_count": 218,
   "metadata": {
    "ExecuteTime": {
     "end_time": "2021-06-12T19:37:11.923231Z",
     "start_time": "2021-06-12T19:37:11.898612Z"
    }
   },
   "outputs": [
    {
     "ename": "AttributeError",
     "evalue": "'DataFrame' object has no attribute 'days'",
     "output_type": "error",
     "traceback": [
      "\u001b[0;31m---------------------------------------------------------------------------\u001b[0m",
      "\u001b[0;31mAttributeError\u001b[0m                            Traceback (most recent call last)",
      "\u001b[0;32m<ipython-input-218-a0020c3a5a53>\u001b[0m in \u001b[0;36m<module>\u001b[0;34m\u001b[0m\n\u001b[0;32m----> 1\u001b[0;31m \u001b[0mdf_77092\u001b[0m\u001b[0;34m[\u001b[0m\u001b[0;34m'1999-01-01'\u001b[0m\u001b[0;34m:\u001b[0m\u001b[0;34m'2001-06-01'\u001b[0m\u001b[0;34m]\u001b[0m\u001b[0;34m.\u001b[0m\u001b[0mdays\u001b[0m\u001b[0;34m\u001b[0m\u001b[0;34m\u001b[0m\u001b[0m\n\u001b[0m",
      "\u001b[0;32m~/opt/anaconda3/envs/learn-env/lib/python3.8/site-packages/pandas/core/generic.py\u001b[0m in \u001b[0;36m__getattr__\u001b[0;34m(self, name)\u001b[0m\n\u001b[1;32m   5137\u001b[0m             \u001b[0;32mif\u001b[0m \u001b[0mself\u001b[0m\u001b[0;34m.\u001b[0m\u001b[0m_info_axis\u001b[0m\u001b[0;34m.\u001b[0m\u001b[0m_can_hold_identifiers_and_holds_name\u001b[0m\u001b[0;34m(\u001b[0m\u001b[0mname\u001b[0m\u001b[0;34m)\u001b[0m\u001b[0;34m:\u001b[0m\u001b[0;34m\u001b[0m\u001b[0;34m\u001b[0m\u001b[0m\n\u001b[1;32m   5138\u001b[0m                 \u001b[0;32mreturn\u001b[0m \u001b[0mself\u001b[0m\u001b[0;34m[\u001b[0m\u001b[0mname\u001b[0m\u001b[0;34m]\u001b[0m\u001b[0;34m\u001b[0m\u001b[0;34m\u001b[0m\u001b[0m\n\u001b[0;32m-> 5139\u001b[0;31m             \u001b[0;32mreturn\u001b[0m \u001b[0mobject\u001b[0m\u001b[0;34m.\u001b[0m\u001b[0m__getattribute__\u001b[0m\u001b[0;34m(\u001b[0m\u001b[0mself\u001b[0m\u001b[0;34m,\u001b[0m \u001b[0mname\u001b[0m\u001b[0;34m)\u001b[0m\u001b[0;34m\u001b[0m\u001b[0;34m\u001b[0m\u001b[0m\n\u001b[0m\u001b[1;32m   5140\u001b[0m \u001b[0;34m\u001b[0m\u001b[0m\n\u001b[1;32m   5141\u001b[0m     \u001b[0;32mdef\u001b[0m \u001b[0m__setattr__\u001b[0m\u001b[0;34m(\u001b[0m\u001b[0mself\u001b[0m\u001b[0;34m,\u001b[0m \u001b[0mname\u001b[0m\u001b[0;34m:\u001b[0m \u001b[0mstr\u001b[0m\u001b[0;34m,\u001b[0m \u001b[0mvalue\u001b[0m\u001b[0;34m)\u001b[0m \u001b[0;34m->\u001b[0m \u001b[0;32mNone\u001b[0m\u001b[0;34m:\u001b[0m\u001b[0;34m\u001b[0m\u001b[0;34m\u001b[0m\u001b[0m\n",
      "\u001b[0;31mAttributeError\u001b[0m: 'DataFrame' object has no attribute 'days'"
     ]
    }
   ],
   "source": [
    "df_77092['1999-01-01':'2001-06-01'].days"
   ]
  },
  {
   "cell_type": "code",
   "execution_count": null,
   "metadata": {},
   "outputs": [],
   "source": []
  },
  {
   "cell_type": "code",
   "execution_count": 143,
   "metadata": {
    "ExecuteTime": {
     "end_time": "2021-06-12T17:23:25.878576Z",
     "start_time": "2021-06-12T17:23:25.690255Z"
    }
   },
   "outputs": [
    {
     "data": {
      "text/plain": [
       "[<matplotlib.lines.Line2D at 0x7fbb7a6eafd0>]"
      ]
     },
     "execution_count": 143,
     "metadata": {},
     "output_type": "execute_result"
    },
    {
     "data": {
      "image/png": "[encoded data removed]",
      "text/plain": [
       "<Figure size 864x360 with 1 Axes>"
      ]
     },
     "metadata": {
      "needs_background": "light"
     },
     "output_type": "display_data"
    }
   ],
   "source": [
    "import seaborn as sns\n",
    "fig, ax = plt.subplots(figsize=(12,5))\n",
    "sns.barplot(data=df_77092,x=df_77092.index.year, \n",
    "            y=df_77092['value'], ax=ax)\n",
    "# ax1 = ax.twinx()\n",
    "# sns.lineplot(data=df_77092, x=df_77092.index,\n",
    "#              y=df_77092['value'],sort=False,ax=ax1)\n",
    "ax.plot(df_77092['value'])\n",
    "# sns.lineplot(data=harris_dict_annual[77092], x=harris_dict_annual[77092].index\n",
    "#              y=harris_dict_annual[77092]['value'],sort=False,ax=ax1)"
   ]
  },
  {
   "cell_type": "code",
   "execution_count": 88,
   "metadata": {
    "ExecuteTime": {
     "end_time": "2021-06-12T16:59:52.793618Z",
     "start_time": "2021-06-12T16:59:52.790932Z"
    }
   },
   "outputs": [
    {
     "data": {
      "text/plain": [
       "DatetimeIndex(['1996-12-31', '1997-12-31', '1998-12-31', '1999-12-31',\n",
       "               '2000-12-31', '2001-12-31', '2002-12-31', '2003-12-31',\n",
       "               '2004-12-31', '2005-12-31', '2006-12-31', '2007-12-31',\n",
       "               '2008-12-31', '2009-12-31', '2010-12-31', '2011-12-31',\n",
       "               '2012-12-31', '2013-12-31', '2014-12-31', '2015-12-31',\n",
       "               '2016-12-31', '2017-12-31', '2018-12-31'],\n",
       "              dtype='datetime64[ns]', name='time', freq='A-DEC')"
      ]
     },
     "execution_count": 88,
     "metadata": {},
     "output_type": "execute_result"
    }
   ],
   "source": [
    "harris_dict_annual[77092].index"
   ]
  },
  {
   "cell_type": "code",
   "execution_count": null,
   "metadata": {},
   "outputs": [],
   "source": []
  },
  {
   "cell_type": "code",
   "execution_count": null,
   "metadata": {},
   "outputs": [],
   "source": []
  },
  {
   "cell_type": "code",
   "execution_count": null,
   "metadata": {
    "ExecuteTime": {
     "end_time": "2021-06-12T16:06:12.992352Z",
     "start_time": "2021-06-12T16:06:10.356Z"
    }
   },
   "outputs": [],
   "source": [
    "harris_dict_annual[77547]['test'] = harris_dict_annual[77547]['value'].pct_change(periods=1)"
   ]
  },
  {
   "cell_type": "code",
   "execution_count": null,
   "metadata": {
    "ExecuteTime": {
     "end_time": "2021-06-12T16:06:12.993073Z",
     "start_time": "2021-06-12T16:06:10.357Z"
    }
   },
   "outputs": [],
   "source": [
    "harris_dict_annual[77547]"
   ]
  },
  {
   "cell_type": "code",
   "execution_count": null,
   "metadata": {},
   "outputs": [],
   "source": []
  },
  {
   "cell_type": "code",
   "execution_count": null,
   "metadata": {},
   "outputs": [],
   "source": []
  },
  {
   "cell_type": "code",
   "execution_count": null,
   "metadata": {
    "ExecuteTime": {
     "end_time": "2021-06-12T16:06:12.994171Z",
     "start_time": "2021-06-12T16:06:10.359Z"
    }
   },
   "outputs": [],
   "source": [
    "(393616.666667-268775.000000)/(268775.000000)"
   ]
  },
  {
   "cell_type": "code",
   "execution_count": null,
   "metadata": {},
   "outputs": [],
   "source": []
  },
  {
   "cell_type": "code",
   "execution_count": null,
   "metadata": {
    "ExecuteTime": {
     "end_time": "2021-06-12T16:06:12.994951Z",
     "start_time": "2021-06-12T16:06:10.360Z"
    }
   },
   "outputs": [],
   "source": [
    "df_78722['time'] = pd.to_datetime(df_78722['time'])"
   ]
  },
  {
   "cell_type": "code",
   "execution_count": null,
   "metadata": {
    "ExecuteTime": {
     "end_time": "2021-06-12T16:06:12.995719Z",
     "start_time": "2021-06-12T16:06:10.362Z"
    }
   },
   "outputs": [],
   "source": [
    "df_78722.set_index('time', inplace=True)"
   ]
  },
  {
   "cell_type": "code",
   "execution_count": null,
   "metadata": {
    "ExecuteTime": {
     "end_time": "2021-06-12T16:06:12.996275Z",
     "start_time": "2021-06-12T16:06:10.363Z"
    }
   },
   "outputs": [],
   "source": [
    "df_78722.columns"
   ]
  },
  {
   "cell_type": "code",
   "execution_count": null,
   "metadata": {
    "ExecuteTime": {
     "end_time": "2021-06-12T16:06:12.996790Z",
     "start_time": "2021-06-12T16:06:10.364Z"
    }
   },
   "outputs": [],
   "source": [
    "df_78722.drop(columns=['RegionName', 'City', 'State', 'Metro', 'CountyName'], axis=1, inplace=True)"
   ]
  },
  {
   "cell_type": "code",
   "execution_count": null,
   "metadata": {
    "ExecuteTime": {
     "end_time": "2021-06-12T16:06:12.997581Z",
     "start_time": "2021-06-12T16:06:10.365Z"
    }
   },
   "outputs": [],
   "source": [
    "df_78722['2012-01-01':].plot()"
   ]
  },
  {
   "cell_type": "code",
   "execution_count": null,
   "metadata": {
    "ExecuteTime": {
     "end_time": "2021-06-12T16:06:12.998200Z",
     "start_time": "2021-06-12T16:06:10.366Z"
    }
   },
   "outputs": [],
   "source": [
    "df_78722['pct_change']=df_78722.pct_change(periods=1)"
   ]
  },
  {
   "cell_type": "code",
   "execution_count": null,
   "metadata": {
    "ExecuteTime": {
     "end_time": "2021-06-12T16:06:12.998800Z",
     "start_time": "2021-06-12T16:06:10.367Z"
    }
   },
   "outputs": [],
   "source": [
    "df_78722"
   ]
  },
  {
   "cell_type": "code",
   "execution_count": null,
   "metadata": {
    "ExecuteTime": {
     "end_time": "2021-06-12T16:06:12.999656Z",
     "start_time": "2021-06-12T16:06:10.367Z"
    }
   },
   "outputs": [],
   "source": [
    "df_yearly = df_78722.resample(rule='A').mean()"
   ]
  },
  {
   "cell_type": "code",
   "execution_count": null,
   "metadata": {
    "ExecuteTime": {
     "end_time": "2021-06-12T16:06:13.000357Z",
     "start_time": "2021-06-12T16:06:10.371Z"
    }
   },
   "outputs": [],
   "source": [
    "df_yearly.drop('pct_change', axis=1, inplace=True)"
   ]
  },
  {
   "cell_type": "code",
   "execution_count": null,
   "metadata": {
    "ExecuteTime": {
     "end_time": "2021-06-12T16:06:13.001452Z",
     "start_time": "2021-06-12T16:06:10.372Z"
    }
   },
   "outputs": [],
   "source": [
    "df_yearly.head(5)"
   ]
  },
  {
   "cell_type": "code",
   "execution_count": null,
   "metadata": {
    "ExecuteTime": {
     "end_time": "2021-06-12T16:06:13.002085Z",
     "start_time": "2021-06-12T16:06:10.372Z"
    }
   },
   "outputs": [],
   "source": [
    "df_yearly.freq = 'Y'"
   ]
  },
  {
   "cell_type": "code",
   "execution_count": null,
   "metadata": {
    "ExecuteTime": {
     "end_time": "2021-06-12T16:06:13.002982Z",
     "start_time": "2021-06-12T16:06:10.373Z"
    }
   },
   "outputs": [],
   "source": [
    "df_yearly['test'] = df_yearly.pct_change(periods=1)"
   ]
  },
  {
   "cell_type": "code",
   "execution_count": null,
   "metadata": {
    "ExecuteTime": {
     "end_time": "2021-06-12T16:06:13.003533Z",
     "start_time": "2021-06-12T16:06:10.375Z"
    }
   },
   "outputs": [],
   "source": [
    "df_yearly.head(5)"
   ]
  },
  {
   "cell_type": "code",
   "execution_count": null,
   "metadata": {
    "ExecuteTime": {
     "end_time": "2021-06-12T16:06:13.004048Z",
     "start_time": "2021-06-12T16:06:10.376Z"
    }
   },
   "outputs": [],
   "source": [
    "df_yearly['test']=df_yearly['test'].map(lambda x: x*100)"
   ]
  },
  {
   "cell_type": "code",
   "execution_count": null,
   "metadata": {
    "ExecuteTime": {
     "end_time": "2021-06-12T16:06:13.004598Z",
     "start_time": "2021-06-12T16:06:10.377Z"
    }
   },
   "outputs": [],
   "source": [
    "df_yearly"
   ]
  },
  {
   "cell_type": "code",
   "execution_count": null,
   "metadata": {
    "ExecuteTime": {
     "end_time": "2021-06-12T16:06:13.005612Z",
     "start_time": "2021-06-12T16:06:10.378Z"
    }
   },
   "outputs": [],
   "source": [
    "ax =df_yearly['test']['2010-01-01':].plot(figsize=(12,5))\n",
    "from matplotlib import dates\n",
    "\n",
    "# ax.xaxis.set_minor_locator(dates.MonthLocator())\n",
    "# ax.xaxis.set_minor_formatter(dates.DateFormatter('\\n\\n%b'))\n",
    "ax.xaxis.set_minor_locator(dates.MonthLocator())\n",
    "# ax.xaxis.set_minor_formatter(dates.DateFormatter('\\n\\n%b'))\n",
    "ax.xaxis.set_minor_formatter(dates.DateFormatter(fmt=\"%Q\"))"
   ]
  },
  {
   "cell_type": "code",
   "execution_count": null,
   "metadata": {
    "ExecuteTime": {
     "end_time": "2021-06-12T16:06:13.006171Z",
     "start_time": "2021-06-12T16:06:10.378Z"
    }
   },
   "outputs": [],
   "source": [
    "df_austinlong.columns"
   ]
  },
  {
   "cell_type": "code",
   "execution_count": null,
   "metadata": {
    "ExecuteTime": {
     "end_time": "2021-06-12T16:06:13.006822Z",
     "start_time": "2021-06-12T16:06:10.379Z"
    }
   },
   "outputs": [],
   "source": [
    "df_austinlong['RegionName'].value_counts(1)"
   ]
  },
  {
   "cell_type": "code",
   "execution_count": null,
   "metadata": {
    "ExecuteTime": {
     "end_time": "2021-06-12T16:06:13.007407Z",
     "start_time": "2021-06-12T16:06:10.380Z"
    }
   },
   "outputs": [],
   "source": [
    "regions = list(df_austinlong['RegionName'].values)"
   ]
  },
  {
   "cell_type": "code",
   "execution_count": null,
   "metadata": {
    "ExecuteTime": {
     "end_time": "2021-06-12T16:06:13.007902Z",
     "start_time": "2021-06-12T16:06:10.381Z"
    }
   },
   "outputs": [],
   "source": [
    "df_austinlong.columns"
   ]
  },
  {
   "cell_type": "code",
   "execution_count": null,
   "metadata": {
    "ExecuteTime": {
     "end_time": "2021-06-12T16:06:13.008367Z",
     "start_time": "2021-06-12T16:06:10.382Z"
    }
   },
   "outputs": [],
   "source": [
    "df_austinlong"
   ]
  },
  {
   "cell_type": "code",
   "execution_count": null,
   "metadata": {
    "ExecuteTime": {
     "end_time": "2021-06-12T16:06:13.008846Z",
     "start_time": "2021-06-12T16:06:10.382Z"
    }
   },
   "outputs": [],
   "source": [
    "df_austinlong.index = pd.to_datetime(df_austinlong.index)"
   ]
  },
  {
   "cell_type": "code",
   "execution_count": null,
   "metadata": {
    "ExecuteTime": {
     "end_time": "2021-06-12T16:06:13.009375Z",
     "start_time": "2021-06-12T16:06:10.383Z"
    }
   },
   "outputs": [],
   "source": [
    "df_austinlong.sort_index()"
   ]
  },
  {
   "cell_type": "code",
   "execution_count": null,
   "metadata": {
    "ExecuteTime": {
     "end_time": "2021-06-12T16:06:13.009885Z",
     "start_time": "2021-06-12T16:06:10.384Z"
    }
   },
   "outputs": [],
   "source": [
    "some_dict = {}\n",
    "for i in regions:\n",
    "    some_dict[i] = df_austinlong[df_austinlong['RegionName']==i]"
   ]
  },
  {
   "cell_type": "code",
   "execution_count": null,
   "metadata": {
    "ExecuteTime": {
     "end_time": "2021-06-12T16:06:13.010445Z",
     "start_time": "2021-06-12T16:06:10.385Z"
    }
   },
   "outputs": [],
   "source": [
    "some_dict.keys()"
   ]
  },
  {
   "cell_type": "code",
   "execution_count": null,
   "metadata": {
    "ExecuteTime": {
     "end_time": "2021-06-12T16:06:13.010958Z",
     "start_time": "2021-06-12T16:06:10.386Z"
    }
   },
   "outputs": [],
   "source": [
    "for k, v in some_dict.items():\n",
    "    some_dict[k].drop(columns=['RegionName', 'City', 'State', 'Metro', 'CountyName'], axis=1,inplace=True)\n",
    "    some_dict[k].sort_index(inplace=True)"
   ]
  },
  {
   "cell_type": "code",
   "execution_count": null,
   "metadata": {
    "ExecuteTime": {
     "end_time": "2021-06-12T16:06:13.011479Z",
     "start_time": "2021-06-12T16:06:10.387Z"
    }
   },
   "outputs": [],
   "source": [
    "\n",
    "plt.plot(some_dict[78746])\n",
    "plt.plot(some_dict[78747])"
   ]
  },
  {
   "cell_type": "code",
   "execution_count": null,
   "metadata": {
    "ExecuteTime": {
     "end_time": "2021-06-12T16:06:13.011934Z",
     "start_time": "2021-06-12T16:06:10.388Z"
    }
   },
   "outputs": [],
   "source": [
    "%matplotlib inline\n",
    "fig, ax = plt.subplots(figsize=(12,5))\n",
    "ax.plot(some_dict[78746], label='78747')\n",
    "ax.plot(some_dict[78747])\n",
    "ax.legend()"
   ]
  },
  {
   "cell_type": "code",
   "execution_count": null,
   "metadata": {},
   "outputs": [],
   "source": []
  },
  {
   "cell_type": "code",
   "execution_count": null,
   "metadata": {},
   "outputs": [],
   "source": []
  },
  {
   "cell_type": "code",
   "execution_count": null,
   "metadata": {},
   "outputs": [],
   "source": []
  },
  {
   "cell_type": "code",
   "execution_count": null,
   "metadata": {
    "ExecuteTime": {
     "end_time": "2021-06-12T16:06:13.012493Z",
     "start_time": "2021-06-12T16:06:10.390Z"
    },
    "scrolled": true
   },
   "outputs": [],
   "source": [
    "df_78722=df_austinlong.loc[df_austinlong['RegionName']==78722]"
   ]
  },
  {
   "cell_type": "code",
   "execution_count": null,
   "metadata": {
    "ExecuteTime": {
     "end_time": "2021-06-12T16:06:13.013063Z",
     "start_time": "2021-06-12T16:06:10.391Z"
    }
   },
   "outputs": [],
   "source": [
    "df_78722 = df_78722.sort_index()"
   ]
  },
  {
   "cell_type": "code",
   "execution_count": null,
   "metadata": {
    "ExecuteTime": {
     "end_time": "2021-06-12T16:06:13.013689Z",
     "start_time": "2021-06-12T16:06:10.391Z"
    }
   },
   "outputs": [],
   "source": [
    "df_78722.drop(columns='pct_change', axis=1, inplace=True)"
   ]
  },
  {
   "cell_type": "code",
   "execution_count": null,
   "metadata": {
    "ExecuteTime": {
     "end_time": "2021-06-12T16:06:13.014432Z",
     "start_time": "2021-06-12T16:06:10.392Z"
    }
   },
   "outputs": [],
   "source": [
    "df_78722_annual =df_78722.resample('Y').mean()"
   ]
  },
  {
   "cell_type": "code",
   "execution_count": null,
   "metadata": {
    "ExecuteTime": {
     "end_time": "2021-06-12T16:06:13.015118Z",
     "start_time": "2021-06-12T16:06:10.393Z"
    }
   },
   "outputs": [],
   "source": [
    "df_78722_annual['year_5'] = df_78722_annual.pct_change(periods=5)"
   ]
  },
  {
   "cell_type": "code",
   "execution_count": null,
   "metadata": {
    "ExecuteTime": {
     "end_time": "2021-06-12T16:06:13.016421Z",
     "start_time": "2021-06-12T16:06:10.394Z"
    }
   },
   "outputs": [],
   "source": [
    "df_78722_annual['year_2'] = df_78722_annual['value'].pct_change(periods=2)"
   ]
  },
  {
   "cell_type": "code",
   "execution_count": null,
   "metadata": {
    "ExecuteTime": {
     "end_time": "2021-06-12T16:06:13.017795Z",
     "start_time": "2021-06-12T16:06:10.395Z"
    }
   },
   "outputs": [],
   "source": [
    "df_78722_annual['year_10'] = df_78722_annual['value'].pct_change(periods=10)"
   ]
  },
  {
   "cell_type": "code",
   "execution_count": null,
   "metadata": {
    "ExecuteTime": {
     "end_time": "2021-06-12T16:06:13.018383Z",
     "start_time": "2021-06-12T16:06:10.395Z"
    }
   },
   "outputs": [],
   "source": [
    "df_78722_annual.drop(columns='test', axis=1, inplace=True)"
   ]
  },
  {
   "cell_type": "code",
   "execution_count": null,
   "metadata": {
    "ExecuteTime": {
     "end_time": "2021-06-12T16:06:13.018992Z",
     "start_time": "2021-06-12T16:06:10.396Z"
    }
   },
   "outputs": [],
   "source": [
    "df_78722_annual.iloc[-1:,:]"
   ]
  },
  {
   "cell_type": "code",
   "execution_count": null,
   "metadata": {
    "ExecuteTime": {
     "end_time": "2021-06-12T14:03:00.290470Z",
     "start_time": "2021-06-12T14:03:00.268076Z"
    }
   },
   "outputs": [],
   "source": []
  },
  {
   "cell_type": "code",
   "execution_count": null,
   "metadata": {
    "ExecuteTime": {
     "end_time": "2021-06-12T16:06:13.019652Z",
     "start_time": "2021-06-12T16:06:10.398Z"
    }
   },
   "outputs": [],
   "source": [
    "some_dict[78702].drop('RegionName', axis=1, inplace=True)"
   ]
  },
  {
   "cell_type": "code",
   "execution_count": null,
   "metadata": {
    "ExecuteTime": {
     "end_time": "2021-06-12T16:06:13.020136Z",
     "start_time": "2021-06-12T16:06:10.399Z"
    }
   },
   "outputs": [],
   "source": [
    "some_dict[78703].columns"
   ]
  },
  {
   "cell_type": "code",
   "execution_count": null,
   "metadata": {},
   "outputs": [],
   "source": []
  },
  {
   "cell_type": "code",
   "execution_count": null,
   "metadata": {},
   "outputs": [],
   "source": []
  },
  {
   "cell_type": "code",
   "execution_count": null,
   "metadata": {},
   "outputs": [],
   "source": []
  },
  {
   "cell_type": "code",
   "execution_count": null,
   "metadata": {},
   "outputs": [],
   "source": []
  },
  {
   "cell_type": "code",
   "execution_count": null,
   "metadata": {},
   "outputs": [],
   "source": []
  },
  {
   "cell_type": "code",
   "execution_count": null,
   "metadata": {},
   "outputs": [],
   "source": []
  },
  {
   "cell_type": "code",
   "execution_count": null,
   "metadata": {},
   "outputs": [],
   "source": []
  },
  {
   "cell_type": "code",
   "execution_count": null,
   "metadata": {},
   "outputs": [],
   "source": []
  },
  {
   "cell_type": "markdown",
   "metadata": {},
   "source": [
    "# Step 3: EDA and Visualization"
   ]
  },
  {
   "cell_type": "code",
   "execution_count": null,
   "metadata": {
    "ExecuteTime": {
     "end_time": "2021-06-12T16:06:13.020636Z",
     "start_time": "2021-06-12T16:06:10.404Z"
    }
   },
   "outputs": [],
   "source": [
    "font = {'family' : 'normal',\n",
    "        'weight' : 'bold',\n",
    "        'size'   : 22}\n",
    "\n",
    "matplotlib.rc('font', **font)\n",
    "\n",
    "# NOTE: if you visualizations are too cluttered to read, try calling 'plt.gcf().autofmt_xdate()'!"
   ]
  },
  {
   "cell_type": "code",
   "execution_count": null,
   "metadata": {},
   "outputs": [],
   "source": []
  },
  {
   "cell_type": "code",
   "execution_count": null,
   "metadata": {},
   "outputs": [],
   "source": []
  },
  {
   "cell_type": "code",
   "execution_count": null,
   "metadata": {},
   "outputs": [],
   "source": []
  },
  {
   "cell_type": "markdown",
   "metadata": {},
   "source": [
    "# Step 4: Reshape from Wide to Long Format"
   ]
  },
  {
   "cell_type": "code",
   "execution_count": null,
   "metadata": {
    "ExecuteTime": {
     "end_time": "2021-06-12T16:06:13.021432Z",
     "start_time": "2021-06-12T16:06:10.406Z"
    }
   },
   "outputs": [],
   "source": [
    "def melt_data(df):\n",
    "    melted = pd.melt(df, id_vars=['RegionName', 'City', 'State', 'Metro', 'CountyName'], var_name='time')\n",
    "    melted['time'] = pd.to_datetime(melted['time'], infer_datetime_format=True)\n",
    "    melted = melted.dropna(subset=['value'])\n",
    "    return melted.groupby('time').aggregate({'value':'mean'})"
   ]
  },
  {
   "cell_type": "code",
   "execution_count": null,
   "metadata": {},
   "outputs": [],
   "source": []
  },
  {
   "cell_type": "code",
   "execution_count": null,
   "metadata": {},
   "outputs": [],
   "source": []
  },
  {
   "cell_type": "code",
   "execution_count": null,
   "metadata": {},
   "outputs": [],
   "source": []
  },
  {
   "cell_type": "code",
   "execution_count": null,
   "metadata": {},
   "outputs": [],
   "source": []
  },
  {
   "cell_type": "markdown",
   "metadata": {},
   "source": [
    "# Step 5: ARIMA Modeling"
   ]
  },
  {
   "cell_type": "code",
   "execution_count": null,
   "metadata": {},
   "outputs": [],
   "source": []
  },
  {
   "cell_type": "code",
   "execution_count": null,
   "metadata": {},
   "outputs": [],
   "source": []
  },
  {
   "cell_type": "code",
   "execution_count": null,
   "metadata": {},
   "outputs": [],
   "source": []
  },
  {
   "cell_type": "code",
   "execution_count": null,
   "metadata": {},
   "outputs": [],
   "source": []
  },
  {
   "cell_type": "code",
   "execution_count": null,
   "metadata": {},
   "outputs": [],
   "source": []
  },
  {
   "cell_type": "code",
   "execution_count": null,
   "metadata": {},
   "outputs": [],
   "source": []
  },
  {
   "cell_type": "markdown",
   "metadata": {},
   "source": [
    "# Step 6: Interpreting Results"
   ]
  },
  {
   "cell_type": "code",
   "execution_count": null,
   "metadata": {},
   "outputs": [],
   "source": []
  },
  {
   "cell_type": "code",
   "execution_count": null,
   "metadata": {},
   "outputs": [],
   "source": []
  },
  {
   "cell_type": "code",
   "execution_count": null,
   "metadata": {},
   "outputs": [],
   "source": []
  }
 ],
 "metadata": {
  "kernelspec": {
   "display_name": "Python 3",
   "language": "python",
   "name": "python3"
  },
  "language_info": {
   "codemirror_mode": {
    "name": "ipython",
    "version": 3
   },
   "file_extension": ".py",
   "mimetype": "text/x-python",
   "name": "python",
   "nbconvert_exporter": "python",
   "pygments_lexer": "ipython3",
   "version": "3.8.5"
  },
  "toc": {
   "base_numbering": 1,
   "nav_menu": {},
   "number_sections": true,
   "sideBar": true,
   "skip_h1_title": false,
   "title_cell": "Table of Contents",
   "title_sidebar": "Contents",
   "toc_cell": false,
   "toc_position": {},
   "toc_section_display": true,
   "toc_window_display": true
  }
 },
 "nbformat": 4,
 "nbformat_minor": 2
}
